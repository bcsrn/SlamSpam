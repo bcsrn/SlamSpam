{
  "nbformat": 4,
  "nbformat_minor": 0,
  "metadata": {
    "colab": {
      "name": "SlamSpam.ipynb",
      "version": "0.3.2",
      "provenance": [],
      "collapsed_sections": [
        "b9qq32KY0Id2",
        "57bvUqxd0UXn",
        "Y-FfQvZ30hCs",
        "uY7capNR0paI",
        "bipAuvHk0_3n",
        "5s348T4L1HL-",
        "cStPE7Bm1K33",
        "SKl16vnt1PYv",
        "MXeisotQ1XHA",
        "0z6WU4ir1m4P",
        "lRdkFZdj6UX6",
        "8qykEFFG6N5n",
        "66Mb2rA0oaGj",
        "P-Z2CFbYsPqi",
        "1Vsp9Buh52rC"
      ],
      "include_colab_link": true
    },
    "kernelspec": {
      "name": "python3",
      "display_name": "Python 3"
    }
  },
  "cells": [
    {
      "cell_type": "markdown",
      "metadata": {
        "id": "view-in-github",
        "colab_type": "text"
      },
      "source": [
        "<a href=\"https://colab.research.google.com/github/bcsrn/SlamSpam/blob/master/SlamSpam.ipynb\" target=\"_parent\"><img src=\"https://colab.research.google.com/assets/colab-badge.svg\" alt=\"Open In Colab\"/></a>"
      ]
    },
    {
      "metadata": {
        "id": "b9qq32KY0Id2",
        "colab_type": "text"
      },
      "cell_type": "markdown",
      "source": [
        "#*Loading data*\n",
        "\n",
        "---\n",
        "\n"
      ]
    },
    {
      "metadata": {
        "id": "42TFhKdz9lCg",
        "colab_type": "code",
        "colab": {}
      },
      "cell_type": "code",
      "source": [
        "from google.colab import drive\n",
        "import numpy as np\n",
        "import os\n",
        "import pandas as pd\n"
      ],
      "execution_count": 0,
      "outputs": []
    },
    {
      "metadata": {
        "id": "SXD2NXdS9yci",
        "colab_type": "code",
        "outputId": "6b4b0046-ddfb-4ba9-baab-e9f5f88c2467",
        "colab": {
          "base_uri": "https://localhost:8080/",
          "height": 129
        }
      },
      "cell_type": "code",
      "source": [
        "#mounting the google drive\n",
        "drive.mount('/content/gdrive')"
      ],
      "execution_count": 2,
      "outputs": [
        {
          "output_type": "stream",
          "text": [
            "Go to this URL in a browser: https://accounts.google.com/o/oauth2/auth?client_id=947318989803-6bn6qk8qdgf4n4g3pfee6491hc0brc4i.apps.googleusercontent.com&redirect_uri=urn%3Aietf%3Awg%3Aoauth%3A2.0%3Aoob&scope=email%20https%3A%2F%2Fwww.googleapis.com%2Fauth%2Fdocs.test%20https%3A%2F%2Fwww.googleapis.com%2Fauth%2Fdrive%20https%3A%2F%2Fwww.googleapis.com%2Fauth%2Fdrive.photos.readonly%20https%3A%2F%2Fwww.googleapis.com%2Fauth%2Fpeopleapi.readonly&response_type=code\n",
            "\n",
            "Enter your authorization code:\n",
            "··········\n",
            "Mounted at /content/gdrive\n"
          ],
          "name": "stdout"
        }
      ]
    },
    {
      "metadata": {
        "id": "NtFRXq3L913n",
        "colab_type": "code",
        "colab": {}
      },
      "cell_type": "code",
      "source": [
        "path = '/content/gdrive/My Drive/IR/Project/Data'"
      ],
      "execution_count": 0,
      "outputs": []
    },
    {
      "metadata": {
        "id": "bAxWHIDV_0Y0",
        "colab_type": "code",
        "colab": {}
      },
      "cell_type": "code",
      "source": [
        "## reading the data\n",
        "import pandas as pd \n",
        "import gzip \n",
        "\n",
        "def parse(path):  \n",
        "  g = gzip.open(path, 'rb') \n",
        "  for l in g: \n",
        "    yield eval(l) \n",
        "    \n",
        "def getDF(path): \n",
        "  i = 0 \n",
        "  df = {} \n",
        "  for d in parse(path): \n",
        "    df[i] = d \n",
        "    i += 1 \n",
        "  return pd.DataFrame.from_dict(df, orient='index') \n",
        "    \n",
        "df = getDF(path + '/Reviews_Electronics.json.gz')\n"
      ],
      "execution_count": 0,
      "outputs": []
    },
    {
      "metadata": {
        "id": "zi4eKu0IENBe",
        "colab_type": "code",
        "outputId": "868e0cf8-fd44-4d9e-80cc-e6f6b635b7cf",
        "colab": {
          "base_uri": "https://localhost:8080/",
          "height": 72
        }
      },
      "cell_type": "code",
      "source": [
        "#getting subset of dataset - focussed on 2 products\n",
        "#asin - product number\n",
        "df_1 = df.loc[df['asin'] == 'B007WTAJTO']\n",
        "df_2 = df.loc[df['asin'] == 'B0019EHU8G']\n",
        "df_new = df_1.append(df_2)\n",
        "print(df_new.shape)\n",
        "uniq_users = np.unique(df_new['reviewerID'])\n",
        "print(len(uniq_users))\n",
        "uniq_asins = np.unique(df_new['asin'])\n",
        "print(len(uniq_asins))"
      ],
      "execution_count": 5,
      "outputs": [
        {
          "output_type": "stream",
          "text": [
            "(8350, 9)\n",
            "8240\n",
            "2\n"
          ],
          "name": "stdout"
        }
      ]
    },
    {
      "metadata": {
        "id": "42MV0NhyK1-Q",
        "colab_type": "text"
      },
      "cell_type": "markdown",
      "source": [
        "#* Labeling Data*\n",
        "\n",
        "---\n",
        "\n"
      ]
    },
    {
      "metadata": {
        "id": "57bvUqxd0UXn",
        "colab_type": "text"
      },
      "cell_type": "markdown",
      "source": [
        "## TF-IDF on reviewText and Summary "
      ]
    },
    {
      "metadata": {
        "id": "7zfprtk3ERr1",
        "colab_type": "code",
        "outputId": "72b297cd-77b8-458a-d440-de3340177aa6",
        "colab": {
          "base_uri": "https://localhost:8080/",
          "height": 35
        }
      },
      "cell_type": "code",
      "source": [
        "#Tfidf on reviewText column\n",
        "from sklearn.feature_extraction.text import TfidfVectorizer\n",
        "\n",
        "textvector = list(df_new[\"reviewText\"])\n",
        "\n",
        "print(\"Length of tectvector:\", len(textvector))\n",
        "\n",
        "vectorizer = TfidfVectorizer(stop_words = 'english', min_df = 3)\n",
        "X = vectorizer.fit_transform(textvector)\n",
        "  \n"
      ],
      "execution_count": 8,
      "outputs": [
        {
          "output_type": "stream",
          "text": [
            "Length of tectvector: 8350\n"
          ],
          "name": "stdout"
        }
      ]
    },
    {
      "metadata": {
        "id": "oiJWP96MwXvi",
        "colab_type": "code",
        "colab": {}
      },
      "cell_type": "code",
      "source": [
        "#tfidf on the summary column\n",
        "from sklearn.feature_extraction.text import TfidfVectorizer\n",
        "\n",
        "summary_vector = list(df_new[\"summary\"])\n",
        "\n",
        "vectorizer_s = TfidfVectorizer(stop_words = 'english', min_df = 3)\n",
        "S = vectorizer_s.fit_transform(summary_vector)\n",
        "  "
      ],
      "execution_count": 0,
      "outputs": []
    },
    {
      "metadata": {
        "id": "K-mq6_nnwl0A",
        "colab_type": "code",
        "outputId": "63688a4a-4024-4a44-90c5-3f411f1b7225",
        "colab": {
          "base_uri": "https://localhost:8080/",
          "height": 35
        }
      },
      "cell_type": "code",
      "source": [
        "S.shape"
      ],
      "execution_count": 10,
      "outputs": [
        {
          "output_type": "execute_result",
          "data": {
            "text/plain": [
              "(8350, 724)"
            ]
          },
          "metadata": {
            "tags": []
          },
          "execution_count": 10
        }
      ]
    },
    {
      "metadata": {
        "id": "kK7IVo5XHkox",
        "colab_type": "code",
        "colab": {}
      },
      "cell_type": "code",
      "source": [
        "from sklearn.metrics.pairwise import cosine_similarity\n",
        "\n",
        "cosine = cosine_similarity(X)\n"
      ],
      "execution_count": 0,
      "outputs": []
    },
    {
      "metadata": {
        "id": "-6wE15VEH-YM",
        "colab_type": "text"
      },
      "cell_type": "markdown",
      "source": [
        "## Review Centric Features"
      ]
    },
    {
      "metadata": {
        "id": "Y-FfQvZ30hCs",
        "colab_type": "text"
      },
      "cell_type": "markdown",
      "source": [
        "### Feature - 7 : Duplicate reviews from different users\n"
      ]
    },
    {
      "metadata": {
        "id": "KACi1E50Kbao",
        "colab_type": "code",
        "outputId": "8f57a740-f953-432a-d8af-12185be3e4c5",
        "colab": {
          "base_uri": "https://localhost:8080/",
          "height": 74
        }
      },
      "cell_type": "code",
      "source": [
        "### Feature - 7 : Duplicate reviews from different users\n",
        "threshold = 0.9\n",
        "list_sim = {}\n",
        "for i,row in enumerate(cosine):\n",
        "  for j, element in enumerate(row):\n",
        "    if element >= threshold and i!=j:\n",
        "      reviewerID_1 = df_new.iloc[i]['reviewerID']\n",
        "      asin_reviewer_1 = df_new.iloc[i]['asin']\n",
        "      reviewerID_2 = df_new.iloc[j]['reviewerID']\n",
        "      asin_reviewer_2 = df_new.iloc[j]['asin']\n",
        "      key1 = (reviewerID_1, asin_reviewer_1)\n",
        "      key2 = (reviewerID_2, asin_reviewer_2)\n",
        "      if key1 not in list_sim.keys():\n",
        "        list_sim[key1] = 1\n",
        "      if key2 not in list_sim.keys():\n",
        "        list_sim[key2] = 1\n",
        "\n",
        "print(len(list_sim))\n",
        "print(list_sim)\n"
      ],
      "execution_count": 12,
      "outputs": [
        {
          "output_type": "stream",
          "text": [
            "16\n",
            "{('A3SBTW3WS4IQSN', 'B007WTAJTO'): 1, ('A2J22M1W2FG6P4', 'B007WTAJTO'): 1, ('A32Z0YUCFNLLD4', 'B007WTAJTO'): 1, ('A27IGO4RPYZDZL', 'B007WTAJTO'): 1, ('A3LKJ0Y9WPTD49', 'B007WTAJTO'): 1, ('A3JJZXOOLQYDT5', 'B007WTAJTO'): 1, ('A1987KVD4EHEM5', 'B007WTAJTO'): 1, ('A5J913IU0UZOE', 'B007WTAJTO'): 1, ('A1LRDKHATAJTHV', 'B007WTAJTO'): 1, ('A1NRQMXLY5LZU2', 'B007WTAJTO'): 1, ('A1AREEVFZXVBHH', 'B007WTAJTO'): 1, ('AFV74RK4V98TX', 'B0019EHU8G'): 1, ('A2VGCA4A5201P', 'B007WTAJTO'): 1, ('AQXXPOAMKIXH2', 'B0019EHU8G'): 1, ('A2EDQED6Q3QPYE', 'B007WTAJTO'): 1, ('A28NZHIXAM7Z95', 'B0019EHU8G'): 1}\n"
          ],
          "name": "stdout"
        }
      ]
    },
    {
      "metadata": {
        "id": "75TiqMttOjyt",
        "colab_type": "code",
        "outputId": "05dab9f1-e05c-444e-d5f9-7aa49e894295",
        "colab": {
          "base_uri": "https://localhost:8080/",
          "height": 311
        }
      },
      "cell_type": "code",
      "source": [
        "\n",
        "feature_7 = [0 for _ in range(8350)]\n",
        "df_new['feature_7'] = feature_7\n",
        "for t in list_sim.keys():\n",
        "  print(t)\n",
        "  df_new.loc[(df_new.reviewerID == t[0]) & (df_new.asin == t[1]), 'feature_7' ] = 1\n",
        "\n"
      ],
      "execution_count": 13,
      "outputs": [
        {
          "output_type": "stream",
          "text": [
            "('A3SBTW3WS4IQSN', 'B007WTAJTO')\n",
            "('A2J22M1W2FG6P4', 'B007WTAJTO')\n",
            "('A32Z0YUCFNLLD4', 'B007WTAJTO')\n",
            "('A27IGO4RPYZDZL', 'B007WTAJTO')\n",
            "('A3LKJ0Y9WPTD49', 'B007WTAJTO')\n",
            "('A3JJZXOOLQYDT5', 'B007WTAJTO')\n",
            "('A1987KVD4EHEM5', 'B007WTAJTO')\n",
            "('A5J913IU0UZOE', 'B007WTAJTO')\n",
            "('A1LRDKHATAJTHV', 'B007WTAJTO')\n",
            "('A1NRQMXLY5LZU2', 'B007WTAJTO')\n",
            "('A1AREEVFZXVBHH', 'B007WTAJTO')\n",
            "('AFV74RK4V98TX', 'B0019EHU8G')\n",
            "('A2VGCA4A5201P', 'B007WTAJTO')\n",
            "('AQXXPOAMKIXH2', 'B0019EHU8G')\n",
            "('A2EDQED6Q3QPYE', 'B007WTAJTO')\n",
            "('A28NZHIXAM7Z95', 'B0019EHU8G')\n"
          ],
          "name": "stdout"
        }
      ]
    },
    {
      "metadata": {
        "id": "uY7capNR0paI",
        "colab_type": "text"
      },
      "cell_type": "markdown",
      "source": [
        "### Feature - 8 : Duplicate reviews from same users on different products\n"
      ]
    },
    {
      "metadata": {
        "id": "ty2Nv0FnWXdK",
        "colab_type": "code",
        "outputId": "9cfd9c90-fb6a-4b9b-808c-21fe01970743",
        "colab": {
          "base_uri": "https://localhost:8080/",
          "height": 54
        }
      },
      "cell_type": "code",
      "source": [
        "### Feature - 8 : Duplicate reviews from same users on different products\n",
        "threshold = 0.9\n",
        "list_sim = {}\n",
        "for i,row in enumerate(cosine):\n",
        "  for j, element in enumerate(row):\n",
        "    if element >= threshold and i!=j:\n",
        "      reviewerID_1 = df_new.iloc[i]['reviewerID']\n",
        "      asin_reviewer_1 = df_new.iloc[i]['asin']\n",
        "      reviewerID_2 = df_new.iloc[j]['reviewerID']\n",
        "      asin_reviewer_2 = df_new.iloc[j]['asin']\n",
        "      \n",
        "      if asin_reviewer_1 != asin_reviewer_2 and reviewerID_1 == reviewerID_2:\n",
        "        key1 = (reviewerID_1, asin_reviewer_1)\n",
        "        key2 = (reviewerID_2, asin_reviewer_2)\n",
        "        if key1 not in list_sim.keys():\n",
        "          list_sim[key1] = 1\n",
        "        if key2 not in list_sim.keys():\n",
        "          list_sim[key2] = 1\n",
        "\n",
        "print(len(list_sim))\n",
        "print(list_sim)"
      ],
      "execution_count": 14,
      "outputs": [
        {
          "output_type": "stream",
          "text": [
            "0\n",
            "{}\n"
          ],
          "name": "stdout"
        }
      ]
    },
    {
      "metadata": {
        "id": "JkEmQY26Yk4m",
        "colab_type": "code",
        "outputId": "fc99ac88-d20d-455f-d03d-2d17b8674552",
        "colab": {
          "base_uri": "https://localhost:8080/",
          "height": 345
        }
      },
      "cell_type": "code",
      "source": [
        "feature_8 = [0 for _ in range(8350)]\n",
        "df_new['feature_8'] = feature_8\n",
        "df_new.head()\n"
      ],
      "execution_count": 15,
      "outputs": [
        {
          "output_type": "execute_result",
          "data": {
            "text/html": [
              "<div>\n",
              "<style scoped>\n",
              "    .dataframe tbody tr th:only-of-type {\n",
              "        vertical-align: middle;\n",
              "    }\n",
              "\n",
              "    .dataframe tbody tr th {\n",
              "        vertical-align: top;\n",
              "    }\n",
              "\n",
              "    .dataframe thead th {\n",
              "        text-align: right;\n",
              "    }\n",
              "</style>\n",
              "<table border=\"1\" class=\"dataframe\">\n",
              "  <thead>\n",
              "    <tr style=\"text-align: right;\">\n",
              "      <th></th>\n",
              "      <th>reviewerID</th>\n",
              "      <th>asin</th>\n",
              "      <th>reviewerName</th>\n",
              "      <th>helpful</th>\n",
              "      <th>reviewText</th>\n",
              "      <th>overall</th>\n",
              "      <th>summary</th>\n",
              "      <th>unixReviewTime</th>\n",
              "      <th>reviewTime</th>\n",
              "      <th>feature_7</th>\n",
              "      <th>feature_8</th>\n",
              "    </tr>\n",
              "  </thead>\n",
              "  <tbody>\n",
              "    <tr>\n",
              "      <th>1336614</th>\n",
              "      <td>A3SBTW3WS4IQSN</td>\n",
              "      <td>B007WTAJTO</td>\n",
              "      <td>NaN</td>\n",
              "      <td>[0, 0]</td>\n",
              "      <td>No issues.</td>\n",
              "      <td>4.0</td>\n",
              "      <td>Four Stars</td>\n",
              "      <td>1406073600</td>\n",
              "      <td>07 23, 2014</td>\n",
              "      <td>1</td>\n",
              "      <td>0</td>\n",
              "    </tr>\n",
              "    <tr>\n",
              "      <th>1336615</th>\n",
              "      <td>A18K1ODH1I2MVB</td>\n",
              "      <td>B007WTAJTO</td>\n",
              "      <td>0mie</td>\n",
              "      <td>[0, 0]</td>\n",
              "      <td>Purchased this for my device, it worked as adv...</td>\n",
              "      <td>5.0</td>\n",
              "      <td>MOAR SPACE!!!</td>\n",
              "      <td>1382659200</td>\n",
              "      <td>10 25, 2013</td>\n",
              "      <td>0</td>\n",
              "      <td>0</td>\n",
              "    </tr>\n",
              "    <tr>\n",
              "      <th>1336616</th>\n",
              "      <td>A2FII3I2MBMUIA</td>\n",
              "      <td>B007WTAJTO</td>\n",
              "      <td>1K3</td>\n",
              "      <td>[0, 0]</td>\n",
              "      <td>it works as expected. I should have sprung for...</td>\n",
              "      <td>4.0</td>\n",
              "      <td>nothing to really say....</td>\n",
              "      <td>1356220800</td>\n",
              "      <td>12 23, 2012</td>\n",
              "      <td>0</td>\n",
              "      <td>0</td>\n",
              "    </tr>\n",
              "    <tr>\n",
              "      <th>1336617</th>\n",
              "      <td>A3H99DFEG68SR</td>\n",
              "      <td>B007WTAJTO</td>\n",
              "      <td>1m2</td>\n",
              "      <td>[0, 0]</td>\n",
              "      <td>This think has worked out great.Had a diff. br...</td>\n",
              "      <td>5.0</td>\n",
              "      <td>Great buy at this price!!!  *** UPDATE</td>\n",
              "      <td>1384992000</td>\n",
              "      <td>11 21, 2013</td>\n",
              "      <td>0</td>\n",
              "      <td>0</td>\n",
              "    </tr>\n",
              "    <tr>\n",
              "      <th>1336618</th>\n",
              "      <td>A375ZM4U047O79</td>\n",
              "      <td>B007WTAJTO</td>\n",
              "      <td>2&amp;amp;1/2Men</td>\n",
              "      <td>[0, 0]</td>\n",
              "      <td>Bought it with Retail Packaging, arrived legit...</td>\n",
              "      <td>5.0</td>\n",
              "      <td>best deal around</td>\n",
              "      <td>1373673600</td>\n",
              "      <td>07 13, 2013</td>\n",
              "      <td>0</td>\n",
              "      <td>0</td>\n",
              "    </tr>\n",
              "  </tbody>\n",
              "</table>\n",
              "</div>"
            ],
            "text/plain": [
              "             reviewerID        asin  reviewerName helpful  \\\n",
              "1336614  A3SBTW3WS4IQSN  B007WTAJTO           NaN  [0, 0]   \n",
              "1336615  A18K1ODH1I2MVB  B007WTAJTO          0mie  [0, 0]   \n",
              "1336616  A2FII3I2MBMUIA  B007WTAJTO           1K3  [0, 0]   \n",
              "1336617   A3H99DFEG68SR  B007WTAJTO           1m2  [0, 0]   \n",
              "1336618  A375ZM4U047O79  B007WTAJTO  2&amp;1/2Men  [0, 0]   \n",
              "\n",
              "                                                reviewText  overall  \\\n",
              "1336614                                         No issues.      4.0   \n",
              "1336615  Purchased this for my device, it worked as adv...      5.0   \n",
              "1336616  it works as expected. I should have sprung for...      4.0   \n",
              "1336617  This think has worked out great.Had a diff. br...      5.0   \n",
              "1336618  Bought it with Retail Packaging, arrived legit...      5.0   \n",
              "\n",
              "                                        summary  unixReviewTime   reviewTime  \\\n",
              "1336614                              Four Stars      1406073600  07 23, 2014   \n",
              "1336615                           MOAR SPACE!!!      1382659200  10 25, 2013   \n",
              "1336616               nothing to really say....      1356220800  12 23, 2012   \n",
              "1336617  Great buy at this price!!!  *** UPDATE      1384992000  11 21, 2013   \n",
              "1336618                        best deal around      1373673600  07 13, 2013   \n",
              "\n",
              "         feature_7  feature_8  \n",
              "1336614          1          0  \n",
              "1336615          0          0  \n",
              "1336616          0          0  \n",
              "1336617          0          0  \n",
              "1336618          0          0  "
            ]
          },
          "metadata": {
            "tags": []
          },
          "execution_count": 15
        }
      ]
    },
    {
      "metadata": {
        "id": "bipAuvHk0_3n",
        "colab_type": "text"
      },
      "cell_type": "markdown",
      "source": [
        "### Feature - 9 : Different Reviews from same user-ids for same product\n"
      ]
    },
    {
      "metadata": {
        "id": "72ay3oPwZs6o",
        "colab_type": "code",
        "outputId": "f91879e0-2bce-4cda-8f4d-88cc5a94a5f3",
        "colab": {
          "base_uri": "https://localhost:8080/",
          "height": 54
        }
      },
      "cell_type": "code",
      "source": [
        "### Feature - 9 : Different Reviews from same user-ids for same product\n",
        "threshold = 0.9\n",
        "list_sim = {}\n",
        "for i,row in enumerate(cosine):\n",
        "  for j, element in enumerate(row):\n",
        "    if element >= threshold and i!=j:\n",
        "      reviewerID_1 = df_new.iloc[i]['reviewerID']\n",
        "      asin_reviewer_1 = df_new.iloc[i]['asin']\n",
        "      reviewerID_2 = df_new.iloc[j]['reviewerID']\n",
        "      asin_reviewer_2 = df_new.iloc[j]['asin']\n",
        "      \n",
        "      if asin_reviewer_1 == asin_reviewer_2 and reviewerID_1 == reviewerID_2:\n",
        "        key1 = (reviewerID_1, asin_reviewer_1)\n",
        "        key2 = (reviewerID_2, asin_reviewer_2)\n",
        "        if key1 not in list_sim.keys():\n",
        "          list_sim[key1] = 1\n",
        "        if key2 not in list_sim.keys():\n",
        "          list_sim[key2] = 1\n",
        "\n",
        "print(len(list_sim))\n",
        "print(list_sim)"
      ],
      "execution_count": 16,
      "outputs": [
        {
          "output_type": "stream",
          "text": [
            "0\n",
            "{}\n"
          ],
          "name": "stdout"
        }
      ]
    },
    {
      "metadata": {
        "id": "EIt8tFYxaGXK",
        "colab_type": "code",
        "outputId": "fea7d620-2c88-4db7-c1dd-469cf3a757bd",
        "colab": {
          "base_uri": "https://localhost:8080/",
          "height": 484
        }
      },
      "cell_type": "code",
      "source": [
        "feature_9 = [0 for _ in range(8350)]\n",
        "df_new['feature_9'] = feature_9\n",
        "df_new.head()"
      ],
      "execution_count": 17,
      "outputs": [
        {
          "output_type": "execute_result",
          "data": {
            "text/html": [
              "<div>\n",
              "<style scoped>\n",
              "    .dataframe tbody tr th:only-of-type {\n",
              "        vertical-align: middle;\n",
              "    }\n",
              "\n",
              "    .dataframe tbody tr th {\n",
              "        vertical-align: top;\n",
              "    }\n",
              "\n",
              "    .dataframe thead th {\n",
              "        text-align: right;\n",
              "    }\n",
              "</style>\n",
              "<table border=\"1\" class=\"dataframe\">\n",
              "  <thead>\n",
              "    <tr style=\"text-align: right;\">\n",
              "      <th></th>\n",
              "      <th>reviewerID</th>\n",
              "      <th>asin</th>\n",
              "      <th>reviewerName</th>\n",
              "      <th>helpful</th>\n",
              "      <th>reviewText</th>\n",
              "      <th>overall</th>\n",
              "      <th>summary</th>\n",
              "      <th>unixReviewTime</th>\n",
              "      <th>reviewTime</th>\n",
              "      <th>feature_7</th>\n",
              "      <th>feature_8</th>\n",
              "      <th>feature_9</th>\n",
              "    </tr>\n",
              "  </thead>\n",
              "  <tbody>\n",
              "    <tr>\n",
              "      <th>1336614</th>\n",
              "      <td>A3SBTW3WS4IQSN</td>\n",
              "      <td>B007WTAJTO</td>\n",
              "      <td>NaN</td>\n",
              "      <td>[0, 0]</td>\n",
              "      <td>No issues.</td>\n",
              "      <td>4.0</td>\n",
              "      <td>Four Stars</td>\n",
              "      <td>1406073600</td>\n",
              "      <td>07 23, 2014</td>\n",
              "      <td>1</td>\n",
              "      <td>0</td>\n",
              "      <td>0</td>\n",
              "    </tr>\n",
              "    <tr>\n",
              "      <th>1336615</th>\n",
              "      <td>A18K1ODH1I2MVB</td>\n",
              "      <td>B007WTAJTO</td>\n",
              "      <td>0mie</td>\n",
              "      <td>[0, 0]</td>\n",
              "      <td>Purchased this for my device, it worked as adv...</td>\n",
              "      <td>5.0</td>\n",
              "      <td>MOAR SPACE!!!</td>\n",
              "      <td>1382659200</td>\n",
              "      <td>10 25, 2013</td>\n",
              "      <td>0</td>\n",
              "      <td>0</td>\n",
              "      <td>0</td>\n",
              "    </tr>\n",
              "    <tr>\n",
              "      <th>1336616</th>\n",
              "      <td>A2FII3I2MBMUIA</td>\n",
              "      <td>B007WTAJTO</td>\n",
              "      <td>1K3</td>\n",
              "      <td>[0, 0]</td>\n",
              "      <td>it works as expected. I should have sprung for...</td>\n",
              "      <td>4.0</td>\n",
              "      <td>nothing to really say....</td>\n",
              "      <td>1356220800</td>\n",
              "      <td>12 23, 2012</td>\n",
              "      <td>0</td>\n",
              "      <td>0</td>\n",
              "      <td>0</td>\n",
              "    </tr>\n",
              "    <tr>\n",
              "      <th>1336617</th>\n",
              "      <td>A3H99DFEG68SR</td>\n",
              "      <td>B007WTAJTO</td>\n",
              "      <td>1m2</td>\n",
              "      <td>[0, 0]</td>\n",
              "      <td>This think has worked out great.Had a diff. br...</td>\n",
              "      <td>5.0</td>\n",
              "      <td>Great buy at this price!!!  *** UPDATE</td>\n",
              "      <td>1384992000</td>\n",
              "      <td>11 21, 2013</td>\n",
              "      <td>0</td>\n",
              "      <td>0</td>\n",
              "      <td>0</td>\n",
              "    </tr>\n",
              "    <tr>\n",
              "      <th>1336618</th>\n",
              "      <td>A375ZM4U047O79</td>\n",
              "      <td>B007WTAJTO</td>\n",
              "      <td>2&amp;amp;1/2Men</td>\n",
              "      <td>[0, 0]</td>\n",
              "      <td>Bought it with Retail Packaging, arrived legit...</td>\n",
              "      <td>5.0</td>\n",
              "      <td>best deal around</td>\n",
              "      <td>1373673600</td>\n",
              "      <td>07 13, 2013</td>\n",
              "      <td>0</td>\n",
              "      <td>0</td>\n",
              "      <td>0</td>\n",
              "    </tr>\n",
              "  </tbody>\n",
              "</table>\n",
              "</div>"
            ],
            "text/plain": [
              "             reviewerID        asin  reviewerName helpful  \\\n",
              "1336614  A3SBTW3WS4IQSN  B007WTAJTO           NaN  [0, 0]   \n",
              "1336615  A18K1ODH1I2MVB  B007WTAJTO          0mie  [0, 0]   \n",
              "1336616  A2FII3I2MBMUIA  B007WTAJTO           1K3  [0, 0]   \n",
              "1336617   A3H99DFEG68SR  B007WTAJTO           1m2  [0, 0]   \n",
              "1336618  A375ZM4U047O79  B007WTAJTO  2&amp;1/2Men  [0, 0]   \n",
              "\n",
              "                                                reviewText  overall  \\\n",
              "1336614                                         No issues.      4.0   \n",
              "1336615  Purchased this for my device, it worked as adv...      5.0   \n",
              "1336616  it works as expected. I should have sprung for...      4.0   \n",
              "1336617  This think has worked out great.Had a diff. br...      5.0   \n",
              "1336618  Bought it with Retail Packaging, arrived legit...      5.0   \n",
              "\n",
              "                                        summary  unixReviewTime   reviewTime  \\\n",
              "1336614                              Four Stars      1406073600  07 23, 2014   \n",
              "1336615                           MOAR SPACE!!!      1382659200  10 25, 2013   \n",
              "1336616               nothing to really say....      1356220800  12 23, 2012   \n",
              "1336617  Great buy at this price!!!  *** UPDATE      1384992000  11 21, 2013   \n",
              "1336618                        best deal around      1373673600  07 13, 2013   \n",
              "\n",
              "         feature_7  feature_8  feature_9  \n",
              "1336614          1          0          0  \n",
              "1336615          0          0          0  \n",
              "1336616          0          0          0  \n",
              "1336617          0          0          0  \n",
              "1336618          0          0          0  "
            ]
          },
          "metadata": {
            "tags": []
          },
          "execution_count": 17
        }
      ]
    },
    {
      "metadata": {
        "id": "V5Wgi6dPU3YR",
        "colab_type": "code",
        "outputId": "8cbcf4b3-6d63-41ae-c641-0352bd2ce49a",
        "colab": {
          "base_uri": "https://localhost:8080/",
          "height": 143
        }
      },
      "cell_type": "code",
      "source": [
        "df_new.groupby('feature_7').count()"
      ],
      "execution_count": 18,
      "outputs": [
        {
          "output_type": "execute_result",
          "data": {
            "text/html": [
              "<div>\n",
              "<style scoped>\n",
              "    .dataframe tbody tr th:only-of-type {\n",
              "        vertical-align: middle;\n",
              "    }\n",
              "\n",
              "    .dataframe tbody tr th {\n",
              "        vertical-align: top;\n",
              "    }\n",
              "\n",
              "    .dataframe thead th {\n",
              "        text-align: right;\n",
              "    }\n",
              "</style>\n",
              "<table border=\"1\" class=\"dataframe\">\n",
              "  <thead>\n",
              "    <tr style=\"text-align: right;\">\n",
              "      <th></th>\n",
              "      <th>reviewerID</th>\n",
              "      <th>asin</th>\n",
              "      <th>reviewerName</th>\n",
              "      <th>helpful</th>\n",
              "      <th>reviewText</th>\n",
              "      <th>overall</th>\n",
              "      <th>summary</th>\n",
              "      <th>unixReviewTime</th>\n",
              "      <th>reviewTime</th>\n",
              "      <th>feature_8</th>\n",
              "      <th>feature_9</th>\n",
              "    </tr>\n",
              "    <tr>\n",
              "      <th>feature_7</th>\n",
              "      <th></th>\n",
              "      <th></th>\n",
              "      <th></th>\n",
              "      <th></th>\n",
              "      <th></th>\n",
              "      <th></th>\n",
              "      <th></th>\n",
              "      <th></th>\n",
              "      <th></th>\n",
              "      <th></th>\n",
              "      <th></th>\n",
              "    </tr>\n",
              "  </thead>\n",
              "  <tbody>\n",
              "    <tr>\n",
              "      <th>0</th>\n",
              "      <td>8334</td>\n",
              "      <td>8334</td>\n",
              "      <td>8333</td>\n",
              "      <td>8334</td>\n",
              "      <td>8334</td>\n",
              "      <td>8334</td>\n",
              "      <td>8334</td>\n",
              "      <td>8334</td>\n",
              "      <td>8334</td>\n",
              "      <td>8334</td>\n",
              "      <td>8334</td>\n",
              "    </tr>\n",
              "    <tr>\n",
              "      <th>1</th>\n",
              "      <td>16</td>\n",
              "      <td>16</td>\n",
              "      <td>15</td>\n",
              "      <td>16</td>\n",
              "      <td>16</td>\n",
              "      <td>16</td>\n",
              "      <td>16</td>\n",
              "      <td>16</td>\n",
              "      <td>16</td>\n",
              "      <td>16</td>\n",
              "      <td>16</td>\n",
              "    </tr>\n",
              "  </tbody>\n",
              "</table>\n",
              "</div>"
            ],
            "text/plain": [
              "           reviewerID  asin  reviewerName  helpful  reviewText  overall  \\\n",
              "feature_7                                                                 \n",
              "0                8334  8334          8333     8334        8334     8334   \n",
              "1                  16    16            15       16          16       16   \n",
              "\n",
              "           summary  unixReviewTime  reviewTime  feature_8  feature_9  \n",
              "feature_7                                                             \n",
              "0             8334            8334        8334       8334       8334  \n",
              "1               16              16          16         16         16  "
            ]
          },
          "metadata": {
            "tags": []
          },
          "execution_count": 18
        }
      ]
    },
    {
      "metadata": {
        "id": "5s348T4L1HL-",
        "colab_type": "text"
      },
      "cell_type": "markdown",
      "source": [
        "## Data Centric Features"
      ]
    },
    {
      "metadata": {
        "id": "NCrFl2TGMYuQ",
        "colab_type": "code",
        "colab": {}
      },
      "cell_type": "code",
      "source": [
        "### DATA CENTRIC FEATURES"
      ],
      "execution_count": 0,
      "outputs": []
    },
    {
      "metadata": {
        "id": "MMMK7wTwa4U0",
        "colab_type": "code",
        "outputId": "1194d396-1a24-47c7-c50e-d89483dc1ca1",
        "colab": {
          "base_uri": "https://localhost:8080/",
          "height": 35
        }
      },
      "cell_type": "code",
      "source": [
        "product_info = {}\n",
        "\n",
        "product_info['B007WTAJTO'] = {'brand': ['SanDisk', 'brand'] , 'competitors' : ['Micron', 'Seagate', 'SK Hynix', 'Lexar', 'PNY', 'Samsung', 'Toshiba', 'Spansion',\n",
        "                                                                    'Western Digital', 'NetApp'], 'website': ['Amazon']}\n",
        "product_info['B0019EHU8G'] = {'brand': ['Mediabridge', 'brand'] , 'competitors' : ['Menadool', 'Minisuit', 'Qualitycables', 'SpartanFive', 'BlueRigger', '4XEM', 'Aaratek', 'Cartooni',\n",
        "                                                                    'Cablesolutionsinc', 'Multi-Tech'], 'website': ['Amazon']}\n",
        "\n",
        "print(len(vectorizer.get_feature_names()))"
      ],
      "execution_count": 20,
      "outputs": [
        {
          "output_type": "stream",
          "text": [
            "4259\n"
          ],
          "name": "stdout"
        }
      ]
    },
    {
      "metadata": {
        "id": "Gs9bLIBM7GU0",
        "colab_type": "code",
        "colab": {}
      },
      "cell_type": "code",
      "source": [
        "\n",
        "feature_names = vectorizer.get_feature_names()\n",
        "feature_names = [f.lower() for f in feature_names]"
      ],
      "execution_count": 0,
      "outputs": []
    },
    {
      "metadata": {
        "id": "OPAgjzyUHx7O",
        "colab_type": "code",
        "colab": {}
      },
      "cell_type": "code",
      "source": [
        "#Converting Matrix X to a Dictionary\n",
        "user_review = {}\n",
        "\n",
        "for i,x in enumerate(X):\n",
        "  reviewerID = df_new.iloc[i]['reviewerID']\n",
        "  \n",
        "  asin = df_new.iloc[i]['asin']\n",
        "  if reviewerID not in user_review.keys():\n",
        "    user_review[reviewerID] = {}\n",
        "  user_review[reviewerID][asin] = x\n",
        "  \n"
      ],
      "execution_count": 0,
      "outputs": []
    },
    {
      "metadata": {
        "id": "cStPE7Bm1K33",
        "colab_type": "text"
      },
      "cell_type": "markdown",
      "source": [
        "### Feature - 1: Reviews about the brand only\n"
      ]
    },
    {
      "metadata": {
        "id": "iLghOIb1-n4Y",
        "colab_type": "code",
        "colab": {}
      },
      "cell_type": "code",
      "source": [
        "### Feature - 1: Reviews about the brand only\n",
        "\n",
        "feature_1 = [0 for _ in range(8350)]\n",
        "df_new['feature_1'] = feature_1\n",
        "pd.options.display.max_colwidth = 500\n",
        "threshold = 0.3\n",
        "  \n",
        "import scipy.sparse\n",
        "c = 1\n",
        "for user in user_review:\n",
        "  for product in user_review[user]:\n",
        "    brand = []\n",
        "    brands = product_info[product]['brand']\n",
        "    brands = [x.lower() for x in brands]\n",
        "    for brand in brands:\n",
        "      if brand in feature_names:\n",
        "        index = feature_names.index(brand)\n",
        "      tfidf_row = user_review[user][product]\n",
        "      rows,cols = tfidf_row.nonzero()\n",
        "      for row,col in zip(rows,cols):\n",
        "        #print(row,col)\n",
        "        if index == col:\n",
        "          if tfidf_row[row,index] >= threshold:\n",
        "            #print(\"Hurray!\", c)\n",
        "\n",
        "            #print(df_new[(df_new['reviewerID'] == user) & (df_new['asin'] == product)]['reviewText'])\n",
        "            df_new.loc[(df_new.reviewerID == user) & (df_new.asin == product), 'feature_1' ] = 1\n",
        "    #c += 1\n",
        "    \n",
        "    \n"
      ],
      "execution_count": 0,
      "outputs": []
    },
    {
      "metadata": {
        "id": "Hhwbk71KSLZK",
        "colab_type": "code",
        "outputId": "7f5a931e-7e28-45e3-a46b-ed9d46ecc448",
        "colab": {
          "base_uri": "https://localhost:8080/",
          "height": 143
        }
      },
      "cell_type": "code",
      "source": [
        "df_new.groupby('feature_1').count()"
      ],
      "execution_count": 24,
      "outputs": [
        {
          "output_type": "execute_result",
          "data": {
            "text/html": [
              "<div>\n",
              "<style scoped>\n",
              "    .dataframe tbody tr th:only-of-type {\n",
              "        vertical-align: middle;\n",
              "    }\n",
              "\n",
              "    .dataframe tbody tr th {\n",
              "        vertical-align: top;\n",
              "    }\n",
              "\n",
              "    .dataframe thead th {\n",
              "        text-align: right;\n",
              "    }\n",
              "</style>\n",
              "<table border=\"1\" class=\"dataframe\">\n",
              "  <thead>\n",
              "    <tr style=\"text-align: right;\">\n",
              "      <th></th>\n",
              "      <th>reviewerID</th>\n",
              "      <th>asin</th>\n",
              "      <th>reviewerName</th>\n",
              "      <th>helpful</th>\n",
              "      <th>reviewText</th>\n",
              "      <th>overall</th>\n",
              "      <th>summary</th>\n",
              "      <th>unixReviewTime</th>\n",
              "      <th>reviewTime</th>\n",
              "      <th>feature_7</th>\n",
              "      <th>feature_8</th>\n",
              "      <th>feature_9</th>\n",
              "    </tr>\n",
              "    <tr>\n",
              "      <th>feature_1</th>\n",
              "      <th></th>\n",
              "      <th></th>\n",
              "      <th></th>\n",
              "      <th></th>\n",
              "      <th></th>\n",
              "      <th></th>\n",
              "      <th></th>\n",
              "      <th></th>\n",
              "      <th></th>\n",
              "      <th></th>\n",
              "      <th></th>\n",
              "      <th></th>\n",
              "    </tr>\n",
              "  </thead>\n",
              "  <tbody>\n",
              "    <tr>\n",
              "      <th>0</th>\n",
              "      <td>8229</td>\n",
              "      <td>8229</td>\n",
              "      <td>8227</td>\n",
              "      <td>8229</td>\n",
              "      <td>8229</td>\n",
              "      <td>8229</td>\n",
              "      <td>8229</td>\n",
              "      <td>8229</td>\n",
              "      <td>8229</td>\n",
              "      <td>8229</td>\n",
              "      <td>8229</td>\n",
              "      <td>8229</td>\n",
              "    </tr>\n",
              "    <tr>\n",
              "      <th>1</th>\n",
              "      <td>121</td>\n",
              "      <td>121</td>\n",
              "      <td>121</td>\n",
              "      <td>121</td>\n",
              "      <td>121</td>\n",
              "      <td>121</td>\n",
              "      <td>121</td>\n",
              "      <td>121</td>\n",
              "      <td>121</td>\n",
              "      <td>121</td>\n",
              "      <td>121</td>\n",
              "      <td>121</td>\n",
              "    </tr>\n",
              "  </tbody>\n",
              "</table>\n",
              "</div>"
            ],
            "text/plain": [
              "           reviewerID  asin  reviewerName  helpful  reviewText  overall  \\\n",
              "feature_1                                                                 \n",
              "0                8229  8229          8227     8229        8229     8229   \n",
              "1                 121   121           121      121         121      121   \n",
              "\n",
              "           summary  unixReviewTime  reviewTime  feature_7  feature_8  \\\n",
              "feature_1                                                              \n",
              "0             8229            8229        8229       8229       8229   \n",
              "1              121             121         121        121        121   \n",
              "\n",
              "           feature_9  \n",
              "feature_1             \n",
              "0               8229  \n",
              "1                121  "
            ]
          },
          "metadata": {
            "tags": []
          },
          "execution_count": 24
        }
      ]
    },
    {
      "metadata": {
        "id": "SKl16vnt1PYv",
        "colab_type": "text"
      },
      "cell_type": "markdown",
      "source": [
        "### Feature - 2: Reviews about the competitors only\n"
      ]
    },
    {
      "metadata": {
        "id": "YrYeaIhlV8Mf",
        "colab_type": "code",
        "colab": {}
      },
      "cell_type": "code",
      "source": [
        "### Feature - 2: Reviews about the competitors only\n",
        "\n",
        "feature_2 = [0 for _ in range(8350)]\n",
        "df_new['feature_2'] = feature_1\n",
        "\n",
        "threshold = 0.25\n",
        "  \n",
        "import scipy.sparse\n",
        "c = 1\n",
        "for user in user_review:\n",
        "  for product in user_review[user]:\n",
        "    competitors = []\n",
        "    competitors = product_info[product]['competitors']\n",
        "    competitors = [x.lower() for x in competitors]\n",
        "    for com in competitors:\n",
        "      if com in feature_names:\n",
        "        index = feature_names.index(com)\n",
        "      tfidf_row = user_review[user][product]\n",
        "      rows,cols = tfidf_row.nonzero()\n",
        "      for row,col in zip(rows,cols):\n",
        "        #print(row,col)\n",
        "        if index == col:\n",
        "          if tfidf_row[row,index] >= threshold:\n",
        "            #print(\"Hurray!\", c)\n",
        "\n",
        "            #print(df_new[(df_new['reviewerID'] == user) & (df_new['asin'] == product)]['reviewText'])\n",
        "            df_new.loc[(df_new.reviewerID == user) & (df_new.asin == product), 'feature_2' ] = 1\n",
        "      #c += 1"
      ],
      "execution_count": 0,
      "outputs": []
    },
    {
      "metadata": {
        "id": "A4R74IanWwI7",
        "colab_type": "code",
        "outputId": "c85bd6da-41a1-4091-bcf3-7a797e338ee7",
        "colab": {
          "base_uri": "https://localhost:8080/",
          "height": 143
        }
      },
      "cell_type": "code",
      "source": [
        "df_new.groupby('feature_2').count()"
      ],
      "execution_count": 26,
      "outputs": [
        {
          "output_type": "execute_result",
          "data": {
            "text/html": [
              "<div>\n",
              "<style scoped>\n",
              "    .dataframe tbody tr th:only-of-type {\n",
              "        vertical-align: middle;\n",
              "    }\n",
              "\n",
              "    .dataframe tbody tr th {\n",
              "        vertical-align: top;\n",
              "    }\n",
              "\n",
              "    .dataframe thead th {\n",
              "        text-align: right;\n",
              "    }\n",
              "</style>\n",
              "<table border=\"1\" class=\"dataframe\">\n",
              "  <thead>\n",
              "    <tr style=\"text-align: right;\">\n",
              "      <th></th>\n",
              "      <th>reviewerID</th>\n",
              "      <th>asin</th>\n",
              "      <th>reviewerName</th>\n",
              "      <th>helpful</th>\n",
              "      <th>reviewText</th>\n",
              "      <th>overall</th>\n",
              "      <th>summary</th>\n",
              "      <th>unixReviewTime</th>\n",
              "      <th>reviewTime</th>\n",
              "      <th>feature_7</th>\n",
              "      <th>feature_8</th>\n",
              "      <th>feature_9</th>\n",
              "      <th>feature_1</th>\n",
              "    </tr>\n",
              "    <tr>\n",
              "      <th>feature_2</th>\n",
              "      <th></th>\n",
              "      <th></th>\n",
              "      <th></th>\n",
              "      <th></th>\n",
              "      <th></th>\n",
              "      <th></th>\n",
              "      <th></th>\n",
              "      <th></th>\n",
              "      <th></th>\n",
              "      <th></th>\n",
              "      <th></th>\n",
              "      <th></th>\n",
              "      <th></th>\n",
              "    </tr>\n",
              "  </thead>\n",
              "  <tbody>\n",
              "    <tr>\n",
              "      <th>0</th>\n",
              "      <td>8269</td>\n",
              "      <td>8269</td>\n",
              "      <td>8267</td>\n",
              "      <td>8269</td>\n",
              "      <td>8269</td>\n",
              "      <td>8269</td>\n",
              "      <td>8269</td>\n",
              "      <td>8269</td>\n",
              "      <td>8269</td>\n",
              "      <td>8269</td>\n",
              "      <td>8269</td>\n",
              "      <td>8269</td>\n",
              "      <td>8269</td>\n",
              "    </tr>\n",
              "    <tr>\n",
              "      <th>1</th>\n",
              "      <td>81</td>\n",
              "      <td>81</td>\n",
              "      <td>81</td>\n",
              "      <td>81</td>\n",
              "      <td>81</td>\n",
              "      <td>81</td>\n",
              "      <td>81</td>\n",
              "      <td>81</td>\n",
              "      <td>81</td>\n",
              "      <td>81</td>\n",
              "      <td>81</td>\n",
              "      <td>81</td>\n",
              "      <td>81</td>\n",
              "    </tr>\n",
              "  </tbody>\n",
              "</table>\n",
              "</div>"
            ],
            "text/plain": [
              "           reviewerID  asin  reviewerName  helpful  reviewText  overall  \\\n",
              "feature_2                                                                 \n",
              "0                8269  8269          8267     8269        8269     8269   \n",
              "1                  81    81            81       81          81       81   \n",
              "\n",
              "           summary  unixReviewTime  reviewTime  feature_7  feature_8  \\\n",
              "feature_2                                                              \n",
              "0             8269            8269        8269       8269       8269   \n",
              "1               81              81          81         81         81   \n",
              "\n",
              "           feature_9  feature_1  \n",
              "feature_2                        \n",
              "0               8269       8269  \n",
              "1                 81         81  "
            ]
          },
          "metadata": {
            "tags": []
          },
          "execution_count": 26
        }
      ]
    },
    {
      "metadata": {
        "id": "MXeisotQ1XHA",
        "colab_type": "text"
      },
      "cell_type": "markdown",
      "source": [
        "### Feature - 3: Reviews about the seller website only\n"
      ]
    },
    {
      "metadata": {
        "id": "4HW076OiZF8K",
        "colab_type": "code",
        "colab": {}
      },
      "cell_type": "code",
      "source": [
        "### Feature - 3: Reviews about the seller website only\n",
        "\n",
        "feature_3 = [0 for _ in range(8350)]\n",
        "df_new['feature_3'] = feature_3\n",
        "pd.options.display.max_colwidth = 1000\n",
        "threshold = 0.3\n",
        "  \n",
        "import scipy.sparse\n",
        "c = 1\n",
        "for user in user_review:\n",
        "  for product in user_review[user]:\n",
        "    website = []\n",
        "    website = product_info[product]['website']\n",
        "    website = [x.lower() for x in website]\n",
        "    #print(website)\n",
        "    for web in website:\n",
        "      if web in feature_names:\n",
        "        index = feature_names.index(web)\n",
        "      tfidf_row = user_review[user][product]\n",
        "      rows,cols = tfidf_row.nonzero()\n",
        "      for row,col in zip(rows,cols):\n",
        "        #print(row,col)\n",
        "        if index == col:\n",
        "          if tfidf_row[row,index] >= threshold:\n",
        "            #print(\"Hurray!\", c)\n",
        "\n",
        "            #print(df_new[(df_new['reviewerID'] == user) & (df_new['asin'] == product)]['reviewText'])\n",
        "            df_new.loc[(df_new.reviewerID == user) & (df_new.asin == product), 'feature_3' ] = 1\n",
        "      c += 1\n"
      ],
      "execution_count": 0,
      "outputs": []
    },
    {
      "metadata": {
        "id": "EP-VbBIbxiBQ",
        "colab_type": "code",
        "outputId": "3a26b7a8-0049-41e2-c828-8a86b946e4ee",
        "colab": {
          "base_uri": "https://localhost:8080/",
          "height": 163
        }
      },
      "cell_type": "code",
      "source": [
        "df_new.groupby('feature_3').count()"
      ],
      "execution_count": 28,
      "outputs": [
        {
          "output_type": "execute_result",
          "data": {
            "text/html": [
              "<div>\n",
              "<style scoped>\n",
              "    .dataframe tbody tr th:only-of-type {\n",
              "        vertical-align: middle;\n",
              "    }\n",
              "\n",
              "    .dataframe tbody tr th {\n",
              "        vertical-align: top;\n",
              "    }\n",
              "\n",
              "    .dataframe thead th {\n",
              "        text-align: right;\n",
              "    }\n",
              "</style>\n",
              "<table border=\"1\" class=\"dataframe\">\n",
              "  <thead>\n",
              "    <tr style=\"text-align: right;\">\n",
              "      <th></th>\n",
              "      <th>reviewerID</th>\n",
              "      <th>asin</th>\n",
              "      <th>reviewerName</th>\n",
              "      <th>helpful</th>\n",
              "      <th>reviewText</th>\n",
              "      <th>overall</th>\n",
              "      <th>summary</th>\n",
              "      <th>unixReviewTime</th>\n",
              "      <th>reviewTime</th>\n",
              "      <th>feature_7</th>\n",
              "      <th>feature_8</th>\n",
              "      <th>feature_9</th>\n",
              "      <th>feature_1</th>\n",
              "      <th>feature_2</th>\n",
              "    </tr>\n",
              "    <tr>\n",
              "      <th>feature_3</th>\n",
              "      <th></th>\n",
              "      <th></th>\n",
              "      <th></th>\n",
              "      <th></th>\n",
              "      <th></th>\n",
              "      <th></th>\n",
              "      <th></th>\n",
              "      <th></th>\n",
              "      <th></th>\n",
              "      <th></th>\n",
              "      <th></th>\n",
              "      <th></th>\n",
              "      <th></th>\n",
              "      <th></th>\n",
              "    </tr>\n",
              "  </thead>\n",
              "  <tbody>\n",
              "    <tr>\n",
              "      <th>0</th>\n",
              "      <td>8328</td>\n",
              "      <td>8328</td>\n",
              "      <td>8326</td>\n",
              "      <td>8328</td>\n",
              "      <td>8328</td>\n",
              "      <td>8328</td>\n",
              "      <td>8328</td>\n",
              "      <td>8328</td>\n",
              "      <td>8328</td>\n",
              "      <td>8328</td>\n",
              "      <td>8328</td>\n",
              "      <td>8328</td>\n",
              "      <td>8328</td>\n",
              "      <td>8328</td>\n",
              "    </tr>\n",
              "    <tr>\n",
              "      <th>1</th>\n",
              "      <td>22</td>\n",
              "      <td>22</td>\n",
              "      <td>22</td>\n",
              "      <td>22</td>\n",
              "      <td>22</td>\n",
              "      <td>22</td>\n",
              "      <td>22</td>\n",
              "      <td>22</td>\n",
              "      <td>22</td>\n",
              "      <td>22</td>\n",
              "      <td>22</td>\n",
              "      <td>22</td>\n",
              "      <td>22</td>\n",
              "      <td>22</td>\n",
              "    </tr>\n",
              "  </tbody>\n",
              "</table>\n",
              "</div>"
            ],
            "text/plain": [
              "           reviewerID  asin  reviewerName  helpful  reviewText  overall  \\\n",
              "feature_3                                                                 \n",
              "0                8328  8328          8326     8328        8328     8328   \n",
              "1                  22    22            22       22          22       22   \n",
              "\n",
              "           summary  unixReviewTime  reviewTime  feature_7  feature_8  \\\n",
              "feature_3                                                              \n",
              "0             8328            8328        8328       8328       8328   \n",
              "1               22              22          22         22         22   \n",
              "\n",
              "           feature_9  feature_1  feature_2  \n",
              "feature_3                                   \n",
              "0               8328       8328       8328  \n",
              "1                 22         22         22  "
            ]
          },
          "metadata": {
            "tags": []
          },
          "execution_count": 28
        }
      ]
    },
    {
      "metadata": {
        "id": "0z6WU4ir1m4P",
        "colab_type": "text"
      },
      "cell_type": "markdown",
      "source": [
        "### Features based on Sentiment Analysis of Reviews"
      ]
    },
    {
      "metadata": {
        "id": "3QFsFXXH1qJs",
        "colab_type": "code",
        "colab": {}
      },
      "cell_type": "code",
      "source": [
        "import nltk"
      ],
      "execution_count": 0,
      "outputs": []
    },
    {
      "metadata": {
        "id": "Bml9402s1wc7",
        "colab_type": "code",
        "outputId": "6e9ba749-2f3b-4a20-80e4-f2d1d17bf8f4",
        "colab": {
          "base_uri": "https://localhost:8080/",
          "height": 54
        }
      },
      "cell_type": "code",
      "source": [
        "nltk.download('vader_lexicon')"
      ],
      "execution_count": 30,
      "outputs": [
        {
          "output_type": "stream",
          "text": [
            "[nltk_data] Downloading package vader_lexicon to /root/nltk_data...\n"
          ],
          "name": "stdout"
        },
        {
          "output_type": "execute_result",
          "data": {
            "text/plain": [
              "True"
            ]
          },
          "metadata": {
            "tags": []
          },
          "execution_count": 30
        }
      ]
    },
    {
      "metadata": {
        "id": "uqcsfc9u15fh",
        "colab_type": "code",
        "colab": {}
      },
      "cell_type": "code",
      "source": [
        "def nltk_sentiment(sentence):\n",
        "    from nltk.sentiment.vader import SentimentIntensityAnalyzer\n",
        "    \n",
        "    nltk_sentiment = SentimentIntensityAnalyzer()\n",
        "    score = nltk_sentiment.polarity_scores(sentence)\n",
        "    return score"
      ],
      "execution_count": 0,
      "outputs": []
    },
    {
      "metadata": {
        "id": "WEjRgd7G2wuf",
        "colab_type": "code",
        "colab": {}
      },
      "cell_type": "code",
      "source": [
        "\n",
        "reviewText = list(df_new['reviewText'])\n",
        "reviewerID = list(df_new['reviewerID'])\n",
        "asin = list(df_new['asin'])\n",
        "\n",
        "\n",
        "\n",
        "dataset = pd.DataFrame(df_new['reviewText'])\n",
        "\n",
        "\n"
      ],
      "execution_count": 0,
      "outputs": []
    },
    {
      "metadata": {
        "id": "MC8sie1Z17ar",
        "colab_type": "code",
        "outputId": "5bbabfe5-1cec-442d-fd2b-1ee1401c3111",
        "colab": {
          "base_uri": "https://localhost:8080/",
          "height": 263
        }
      },
      "cell_type": "code",
      "source": [
        "nltk_results = [nltk_sentiment(col) for row,col in dataset.itertuples()]\n",
        "results_df = pd.DataFrame(nltk_results)\n",
        "\n",
        "results_df.head()\n"
      ],
      "execution_count": 33,
      "outputs": [
        {
          "output_type": "stream",
          "text": [
            "/usr/local/lib/python3.6/dist-packages/nltk/twitter/__init__.py:20: UserWarning: The twython library has not been installed. Some functionality from the twitter package will not be available.\n",
            "  warnings.warn(\"The twython library has not been installed. \"\n"
          ],
          "name": "stderr"
        },
        {
          "output_type": "execute_result",
          "data": {
            "text/html": [
              "<div>\n",
              "<style scoped>\n",
              "    .dataframe tbody tr th:only-of-type {\n",
              "        vertical-align: middle;\n",
              "    }\n",
              "\n",
              "    .dataframe tbody tr th {\n",
              "        vertical-align: top;\n",
              "    }\n",
              "\n",
              "    .dataframe thead th {\n",
              "        text-align: right;\n",
              "    }\n",
              "</style>\n",
              "<table border=\"1\" class=\"dataframe\">\n",
              "  <thead>\n",
              "    <tr style=\"text-align: right;\">\n",
              "      <th></th>\n",
              "      <th>compound</th>\n",
              "      <th>neg</th>\n",
              "      <th>neu</th>\n",
              "      <th>pos</th>\n",
              "    </tr>\n",
              "  </thead>\n",
              "  <tbody>\n",
              "    <tr>\n",
              "      <th>0</th>\n",
              "      <td>-0.2960</td>\n",
              "      <td>0.688</td>\n",
              "      <td>0.312</td>\n",
              "      <td>0.000</td>\n",
              "    </tr>\n",
              "    <tr>\n",
              "      <th>1</th>\n",
              "      <td>-0.2960</td>\n",
              "      <td>0.075</td>\n",
              "      <td>0.925</td>\n",
              "      <td>0.000</td>\n",
              "    </tr>\n",
              "    <tr>\n",
              "      <th>2</th>\n",
              "      <td>-0.3089</td>\n",
              "      <td>0.077</td>\n",
              "      <td>0.923</td>\n",
              "      <td>0.000</td>\n",
              "    </tr>\n",
              "    <tr>\n",
              "      <th>3</th>\n",
              "      <td>0.7081</td>\n",
              "      <td>0.000</td>\n",
              "      <td>0.909</td>\n",
              "      <td>0.091</td>\n",
              "    </tr>\n",
              "    <tr>\n",
              "      <th>4</th>\n",
              "      <td>0.7087</td>\n",
              "      <td>0.038</td>\n",
              "      <td>0.835</td>\n",
              "      <td>0.127</td>\n",
              "    </tr>\n",
              "  </tbody>\n",
              "</table>\n",
              "</div>"
            ],
            "text/plain": [
              "   compound    neg    neu    pos\n",
              "0   -0.2960  0.688  0.312  0.000\n",
              "1   -0.2960  0.075  0.925  0.000\n",
              "2   -0.3089  0.077  0.923  0.000\n",
              "3    0.7081  0.000  0.909  0.091\n",
              "4    0.7087  0.038  0.835  0.127"
            ]
          },
          "metadata": {
            "tags": []
          },
          "execution_count": 33
        }
      ]
    },
    {
      "metadata": {
        "id": "0nuZRSfQDfr9",
        "colab_type": "code",
        "outputId": "6ce0882e-2d5a-4196-cbce-8be84a0295f1",
        "colab": {
          "base_uri": "https://localhost:8080/",
          "height": 328
        }
      },
      "cell_type": "code",
      "source": [
        "\n",
        "results_df['reviewText'] = reviewText\n",
        "results_df['reviewerID'] = reviewerID\n",
        "results_df['asin'] = asin\n",
        "\n",
        "results_df.head()"
      ],
      "execution_count": 34,
      "outputs": [
        {
          "output_type": "execute_result",
          "data": {
            "text/html": [
              "<div>\n",
              "<style scoped>\n",
              "    .dataframe tbody tr th:only-of-type {\n",
              "        vertical-align: middle;\n",
              "    }\n",
              "\n",
              "    .dataframe tbody tr th {\n",
              "        vertical-align: top;\n",
              "    }\n",
              "\n",
              "    .dataframe thead th {\n",
              "        text-align: right;\n",
              "    }\n",
              "</style>\n",
              "<table border=\"1\" class=\"dataframe\">\n",
              "  <thead>\n",
              "    <tr style=\"text-align: right;\">\n",
              "      <th></th>\n",
              "      <th>compound</th>\n",
              "      <th>neg</th>\n",
              "      <th>neu</th>\n",
              "      <th>pos</th>\n",
              "      <th>reviewText</th>\n",
              "      <th>reviewerID</th>\n",
              "      <th>asin</th>\n",
              "    </tr>\n",
              "  </thead>\n",
              "  <tbody>\n",
              "    <tr>\n",
              "      <th>0</th>\n",
              "      <td>-0.2960</td>\n",
              "      <td>0.688</td>\n",
              "      <td>0.312</td>\n",
              "      <td>0.000</td>\n",
              "      <td>No issues.</td>\n",
              "      <td>A3SBTW3WS4IQSN</td>\n",
              "      <td>B007WTAJTO</td>\n",
              "    </tr>\n",
              "    <tr>\n",
              "      <th>1</th>\n",
              "      <td>-0.2960</td>\n",
              "      <td>0.075</td>\n",
              "      <td>0.925</td>\n",
              "      <td>0.000</td>\n",
              "      <td>Purchased this for my device, it worked as advertised. You can never have too much phone memory, since I download a lot of stuff this was a no brainer for me.</td>\n",
              "      <td>A18K1ODH1I2MVB</td>\n",
              "      <td>B007WTAJTO</td>\n",
              "    </tr>\n",
              "    <tr>\n",
              "      <th>2</th>\n",
              "      <td>-0.3089</td>\n",
              "      <td>0.077</td>\n",
              "      <td>0.923</td>\n",
              "      <td>0.000</td>\n",
              "      <td>it works as expected. I should have sprung for the higher capacity.  I think its made a bit cheesier than the earlier versions; the paint looks not as clean as before</td>\n",
              "      <td>A2FII3I2MBMUIA</td>\n",
              "      <td>B007WTAJTO</td>\n",
              "    </tr>\n",
              "    <tr>\n",
              "      <th>3</th>\n",
              "      <td>0.7081</td>\n",
              "      <td>0.000</td>\n",
              "      <td>0.909</td>\n",
              "      <td>0.091</td>\n",
              "      <td>This think has worked out great.Had a diff. bran 64gb card and if went south after 3 months.This one has held up pretty well since I had my S3, now on my Note3.*** update 3/21/14I've had this for a few months and have had ZERO issue's since it was transferred from my S3 to my Note3 and into a note2. This card is reliable and solid!Cheers!</td>\n",
              "      <td>A3H99DFEG68SR</td>\n",
              "      <td>B007WTAJTO</td>\n",
              "    </tr>\n",
              "    <tr>\n",
              "      <th>4</th>\n",
              "      <td>0.7087</td>\n",
              "      <td>0.038</td>\n",
              "      <td>0.835</td>\n",
              "      <td>0.127</td>\n",
              "      <td>Bought it with Retail Packaging, arrived legit, in a orange envelope, english version not asian like the picture shows. arrived quickly, bought a 32 and 16 both retail packaging for my htc one sv and Lg Optimus, both cards in working order, probably best price you'll get for a nice sd card</td>\n",
              "      <td>A375ZM4U047O79</td>\n",
              "      <td>B007WTAJTO</td>\n",
              "    </tr>\n",
              "  </tbody>\n",
              "</table>\n",
              "</div>"
            ],
            "text/plain": [
              "   compound    neg    neu    pos  \\\n",
              "0   -0.2960  0.688  0.312  0.000   \n",
              "1   -0.2960  0.075  0.925  0.000   \n",
              "2   -0.3089  0.077  0.923  0.000   \n",
              "3    0.7081  0.000  0.909  0.091   \n",
              "4    0.7087  0.038  0.835  0.127   \n",
              "\n",
              "                                                                                                                                                                                                                                                                                                                                             reviewText  \\\n",
              "0                                                                                                                                                                                                                                                                                                                                            No issues.   \n",
              "1                                                                                                                                                                                        Purchased this for my device, it worked as advertised. You can never have too much phone memory, since I download a lot of stuff this was a no brainer for me.   \n",
              "2                                                                                                                                                                                it works as expected. I should have sprung for the higher capacity.  I think its made a bit cheesier than the earlier versions; the paint looks not as clean as before   \n",
              "3  This think has worked out great.Had a diff. bran 64gb card and if went south after 3 months.This one has held up pretty well since I had my S3, now on my Note3.*** update 3/21/14I've had this for a few months and have had ZERO issue's since it was transferred from my S3 to my Note3 and into a note2. This card is reliable and solid!Cheers!   \n",
              "4                                                    Bought it with Retail Packaging, arrived legit, in a orange envelope, english version not asian like the picture shows. arrived quickly, bought a 32 and 16 both retail packaging for my htc one sv and Lg Optimus, both cards in working order, probably best price you'll get for a nice sd card   \n",
              "\n",
              "       reviewerID        asin  \n",
              "0  A3SBTW3WS4IQSN  B007WTAJTO  \n",
              "1  A18K1ODH1I2MVB  B007WTAJTO  \n",
              "2  A2FII3I2MBMUIA  B007WTAJTO  \n",
              "3   A3H99DFEG68SR  B007WTAJTO  \n",
              "4  A375ZM4U047O79  B007WTAJTO  "
            ]
          },
          "metadata": {
            "tags": []
          },
          "execution_count": 34
        }
      ]
    },
    {
      "metadata": {
        "id": "EuGaq4HoJC0b",
        "colab_type": "text"
      },
      "cell_type": "markdown",
      "source": [
        "###Feature -4: Neutral Reviews"
      ]
    },
    {
      "metadata": {
        "id": "RLzlFBsBXCDT",
        "colab_type": "code",
        "outputId": "ebad6689-99a3-4b45-c72a-533cd7800f81",
        "colab": {
          "base_uri": "https://localhost:8080/",
          "height": 35
        }
      },
      "cell_type": "code",
      "source": [
        "#neutral reviews feature\n",
        "feature_4 = []\n",
        "threshold = 0.98\n",
        "for val in results_df[\"neu\"]:\n",
        "  if val > threshold:\n",
        "    feature_4.append(1)\n",
        "  else:\n",
        "    feature_4.append(0)\n",
        "\n",
        "    \n",
        "print(sum(feature_4))\n"
      ],
      "execution_count": 35,
      "outputs": [
        {
          "output_type": "stream",
          "text": [
            "380\n"
          ],
          "name": "stdout"
        }
      ]
    },
    {
      "metadata": {
        "id": "S361xOEMa60S",
        "colab_type": "code",
        "outputId": "629dbbe4-d753-46c0-8e12-699e0b996086",
        "colab": {
          "base_uri": "https://localhost:8080/",
          "height": 35
        }
      },
      "cell_type": "code",
      "source": [
        "#positive reviews feature\n",
        "feature_5 = []\n",
        "threshold = 0.99\n",
        "for val in results_df[\"pos\"]:\n",
        "  if val > threshold:\n",
        "    feature_5.append(1)\n",
        "    #print(results_df.loc[results_df[\"pos\"] == val, \"reviewText\"])\n",
        "  else:\n",
        "    feature_5.append(0)\n",
        "\n",
        "    \n",
        "print(sum(feature_5))\n"
      ],
      "execution_count": 86,
      "outputs": [
        {
          "output_type": "stream",
          "text": [
            "6\n"
          ],
          "name": "stdout"
        }
      ]
    },
    {
      "metadata": {
        "id": "3RpG9C2fbIov",
        "colab_type": "code",
        "outputId": "9272a9cd-29d0-4c21-8ec0-bdc14ab37df0",
        "colab": {
          "base_uri": "https://localhost:8080/",
          "height": 35
        }
      },
      "cell_type": "code",
      "source": [
        "#negative reviews feature\n",
        "feature_6 = []\n",
        "threshold = 1\n",
        "for val in results_df[\"neg\"]:\n",
        "  if val > threshold:\n",
        "    feature_6.append(1)\n",
        "    print(results_df.loc[results_df[\"neg\"] == val, \"reviewText\"])\n",
        "  else:\n",
        "    feature_6.append(0)\n",
        "\n",
        "    \n",
        "print(sum(feature_6))\n",
        "\n",
        "#Due to small dataset, no significance"
      ],
      "execution_count": 37,
      "outputs": [
        {
          "output_type": "stream",
          "text": [
            "0\n"
          ],
          "name": "stdout"
        }
      ]
    },
    {
      "metadata": {
        "id": "i_RoAhJ5JtHj",
        "colab_type": "text"
      },
      "cell_type": "markdown",
      "source": [
        "### Feature 5 &6: Outlier Features"
      ]
    },
    {
      "metadata": {
        "id": "4KlFeESId7qs",
        "colab_type": "code",
        "colab": {}
      },
      "cell_type": "code",
      "source": [
        "# Outlier Features - Extreme Positive or Negative\n",
        "feature_outlier = []\n",
        "for val1, val2 in zip(feature_5, feature_6):\n",
        "  if val1 == 0 and val2 == 0:\n",
        "    feature_outlier.append(0)\n",
        "  else :\n",
        "    feature_outlier.append(1)\n",
        "    \n",
        "\n",
        "    \n"
      ],
      "execution_count": 0,
      "outputs": []
    },
    {
      "metadata": {
        "id": "1XSJyHiheoTd",
        "colab_type": "code",
        "outputId": "7c6159b8-6a79-4283-98d6-2f1cd83f8448",
        "colab": {
          "base_uri": "https://localhost:8080/",
          "height": 1737
        }
      },
      "cell_type": "code",
      "source": [
        "df_new['feature_4'] = feature_4\n",
        "df_new['feature_6'] = feature_outlier\n",
        "\n",
        "df_new.head()\n",
        "\n"
      ],
      "execution_count": 39,
      "outputs": [
        {
          "output_type": "execute_result",
          "data": {
            "text/html": [
              "<div>\n",
              "<style scoped>\n",
              "    .dataframe tbody tr th:only-of-type {\n",
              "        vertical-align: middle;\n",
              "    }\n",
              "\n",
              "    .dataframe tbody tr th {\n",
              "        vertical-align: top;\n",
              "    }\n",
              "\n",
              "    .dataframe thead th {\n",
              "        text-align: right;\n",
              "    }\n",
              "</style>\n",
              "<table border=\"1\" class=\"dataframe\">\n",
              "  <thead>\n",
              "    <tr style=\"text-align: right;\">\n",
              "      <th></th>\n",
              "      <th>reviewerID</th>\n",
              "      <th>asin</th>\n",
              "      <th>reviewerName</th>\n",
              "      <th>helpful</th>\n",
              "      <th>reviewText</th>\n",
              "      <th>overall</th>\n",
              "      <th>summary</th>\n",
              "      <th>unixReviewTime</th>\n",
              "      <th>reviewTime</th>\n",
              "      <th>feature_7</th>\n",
              "      <th>feature_8</th>\n",
              "      <th>feature_9</th>\n",
              "      <th>feature_1</th>\n",
              "      <th>feature_2</th>\n",
              "      <th>feature_3</th>\n",
              "      <th>feature_4</th>\n",
              "      <th>feature_6</th>\n",
              "    </tr>\n",
              "  </thead>\n",
              "  <tbody>\n",
              "    <tr>\n",
              "      <th>1336614</th>\n",
              "      <td>A3SBTW3WS4IQSN</td>\n",
              "      <td>B007WTAJTO</td>\n",
              "      <td>NaN</td>\n",
              "      <td>[0, 0]</td>\n",
              "      <td>No issues.</td>\n",
              "      <td>4.0</td>\n",
              "      <td>Four Stars</td>\n",
              "      <td>1406073600</td>\n",
              "      <td>07 23, 2014</td>\n",
              "      <td>1</td>\n",
              "      <td>0</td>\n",
              "      <td>0</td>\n",
              "      <td>0</td>\n",
              "      <td>0</td>\n",
              "      <td>0</td>\n",
              "      <td>0</td>\n",
              "      <td>0</td>\n",
              "    </tr>\n",
              "    <tr>\n",
              "      <th>1336615</th>\n",
              "      <td>A18K1ODH1I2MVB</td>\n",
              "      <td>B007WTAJTO</td>\n",
              "      <td>0mie</td>\n",
              "      <td>[0, 0]</td>\n",
              "      <td>Purchased this for my device, it worked as advertised. You can never have too much phone memory, since I download a lot of stuff this was a no brainer for me.</td>\n",
              "      <td>5.0</td>\n",
              "      <td>MOAR SPACE!!!</td>\n",
              "      <td>1382659200</td>\n",
              "      <td>10 25, 2013</td>\n",
              "      <td>0</td>\n",
              "      <td>0</td>\n",
              "      <td>0</td>\n",
              "      <td>0</td>\n",
              "      <td>0</td>\n",
              "      <td>0</td>\n",
              "      <td>0</td>\n",
              "      <td>0</td>\n",
              "    </tr>\n",
              "    <tr>\n",
              "      <th>1336616</th>\n",
              "      <td>A2FII3I2MBMUIA</td>\n",
              "      <td>B007WTAJTO</td>\n",
              "      <td>1K3</td>\n",
              "      <td>[0, 0]</td>\n",
              "      <td>it works as expected. I should have sprung for the higher capacity.  I think its made a bit cheesier than the earlier versions; the paint looks not as clean as before</td>\n",
              "      <td>4.0</td>\n",
              "      <td>nothing to really say....</td>\n",
              "      <td>1356220800</td>\n",
              "      <td>12 23, 2012</td>\n",
              "      <td>0</td>\n",
              "      <td>0</td>\n",
              "      <td>0</td>\n",
              "      <td>0</td>\n",
              "      <td>0</td>\n",
              "      <td>0</td>\n",
              "      <td>0</td>\n",
              "      <td>0</td>\n",
              "    </tr>\n",
              "    <tr>\n",
              "      <th>1336617</th>\n",
              "      <td>A3H99DFEG68SR</td>\n",
              "      <td>B007WTAJTO</td>\n",
              "      <td>1m2</td>\n",
              "      <td>[0, 0]</td>\n",
              "      <td>This think has worked out great.Had a diff. bran 64gb card and if went south after 3 months.This one has held up pretty well since I had my S3, now on my Note3.*** update 3/21/14I've had this for a few months and have had ZERO issue's since it was transferred from my S3 to my Note3 and into a note2. This card is reliable and solid!Cheers!</td>\n",
              "      <td>5.0</td>\n",
              "      <td>Great buy at this price!!!  *** UPDATE</td>\n",
              "      <td>1384992000</td>\n",
              "      <td>11 21, 2013</td>\n",
              "      <td>0</td>\n",
              "      <td>0</td>\n",
              "      <td>0</td>\n",
              "      <td>0</td>\n",
              "      <td>0</td>\n",
              "      <td>0</td>\n",
              "      <td>0</td>\n",
              "      <td>0</td>\n",
              "    </tr>\n",
              "    <tr>\n",
              "      <th>1336618</th>\n",
              "      <td>A375ZM4U047O79</td>\n",
              "      <td>B007WTAJTO</td>\n",
              "      <td>2&amp;amp;1/2Men</td>\n",
              "      <td>[0, 0]</td>\n",
              "      <td>Bought it with Retail Packaging, arrived legit, in a orange envelope, english version not asian like the picture shows. arrived quickly, bought a 32 and 16 both retail packaging for my htc one sv and Lg Optimus, both cards in working order, probably best price you'll get for a nice sd card</td>\n",
              "      <td>5.0</td>\n",
              "      <td>best deal around</td>\n",
              "      <td>1373673600</td>\n",
              "      <td>07 13, 2013</td>\n",
              "      <td>0</td>\n",
              "      <td>0</td>\n",
              "      <td>0</td>\n",
              "      <td>0</td>\n",
              "      <td>0</td>\n",
              "      <td>0</td>\n",
              "      <td>0</td>\n",
              "      <td>0</td>\n",
              "    </tr>\n",
              "  </tbody>\n",
              "</table>\n",
              "</div>"
            ],
            "text/plain": [
              "             reviewerID        asin  reviewerName helpful  \\\n",
              "1336614  A3SBTW3WS4IQSN  B007WTAJTO           NaN  [0, 0]   \n",
              "1336615  A18K1ODH1I2MVB  B007WTAJTO          0mie  [0, 0]   \n",
              "1336616  A2FII3I2MBMUIA  B007WTAJTO           1K3  [0, 0]   \n",
              "1336617   A3H99DFEG68SR  B007WTAJTO           1m2  [0, 0]   \n",
              "1336618  A375ZM4U047O79  B007WTAJTO  2&amp;1/2Men  [0, 0]   \n",
              "\n",
              "                                                                                                                                                                                                                                                                                                                                                   reviewText  \\\n",
              "1336614                                                                                                                                                                                                                                                                                                                                            No issues.   \n",
              "1336615                                                                                                                                                                                        Purchased this for my device, it worked as advertised. You can never have too much phone memory, since I download a lot of stuff this was a no brainer for me.   \n",
              "1336616                                                                                                                                                                                it works as expected. I should have sprung for the higher capacity.  I think its made a bit cheesier than the earlier versions; the paint looks not as clean as before   \n",
              "1336617  This think has worked out great.Had a diff. bran 64gb card and if went south after 3 months.This one has held up pretty well since I had my S3, now on my Note3.*** update 3/21/14I've had this for a few months and have had ZERO issue's since it was transferred from my S3 to my Note3 and into a note2. This card is reliable and solid!Cheers!   \n",
              "1336618                                                    Bought it with Retail Packaging, arrived legit, in a orange envelope, english version not asian like the picture shows. arrived quickly, bought a 32 and 16 both retail packaging for my htc one sv and Lg Optimus, both cards in working order, probably best price you'll get for a nice sd card   \n",
              "\n",
              "         overall                                 summary  unixReviewTime  \\\n",
              "1336614      4.0                              Four Stars      1406073600   \n",
              "1336615      5.0                           MOAR SPACE!!!      1382659200   \n",
              "1336616      4.0               nothing to really say....      1356220800   \n",
              "1336617      5.0  Great buy at this price!!!  *** UPDATE      1384992000   \n",
              "1336618      5.0                        best deal around      1373673600   \n",
              "\n",
              "          reviewTime  feature_7  feature_8  feature_9  feature_1  feature_2  \\\n",
              "1336614  07 23, 2014          1          0          0          0          0   \n",
              "1336615  10 25, 2013          0          0          0          0          0   \n",
              "1336616  12 23, 2012          0          0          0          0          0   \n",
              "1336617  11 21, 2013          0          0          0          0          0   \n",
              "1336618  07 13, 2013          0          0          0          0          0   \n",
              "\n",
              "         feature_3  feature_4  feature_6  \n",
              "1336614          0          0          0  \n",
              "1336615          0          0          0  \n",
              "1336616          0          0          0  \n",
              "1336617          0          0          0  \n",
              "1336618          0          0          0  "
            ]
          },
          "metadata": {
            "tags": []
          },
          "execution_count": 39
        }
      ]
    },
    {
      "metadata": {
        "id": "0i2jO12Z9UT7",
        "colab_type": "code",
        "outputId": "fff447ba-fbda-46fa-bd72-00150495b90e",
        "colab": {
          "base_uri": "https://localhost:8080/",
          "height": 72
        }
      },
      "cell_type": "code",
      "source": [
        "df_new['feature_6'].value_counts()"
      ],
      "execution_count": 40,
      "outputs": [
        {
          "output_type": "execute_result",
          "data": {
            "text/plain": [
              "0    8344\n",
              "1       6\n",
              "Name: feature_6, dtype: int64"
            ]
          },
          "metadata": {
            "tags": []
          },
          "execution_count": 40
        }
      ]
    },
    {
      "metadata": {
        "id": "2aM0stQZe2nr",
        "colab_type": "code",
        "outputId": "026d15e6-3145-4dc4-88ab-8776af65035c",
        "colab": {
          "base_uri": "https://localhost:8080/",
          "height": 1737
        }
      },
      "cell_type": "code",
      "source": [
        "df_new.head()"
      ],
      "execution_count": 41,
      "outputs": [
        {
          "output_type": "execute_result",
          "data": {
            "text/html": [
              "<div>\n",
              "<style scoped>\n",
              "    .dataframe tbody tr th:only-of-type {\n",
              "        vertical-align: middle;\n",
              "    }\n",
              "\n",
              "    .dataframe tbody tr th {\n",
              "        vertical-align: top;\n",
              "    }\n",
              "\n",
              "    .dataframe thead th {\n",
              "        text-align: right;\n",
              "    }\n",
              "</style>\n",
              "<table border=\"1\" class=\"dataframe\">\n",
              "  <thead>\n",
              "    <tr style=\"text-align: right;\">\n",
              "      <th></th>\n",
              "      <th>reviewerID</th>\n",
              "      <th>asin</th>\n",
              "      <th>reviewerName</th>\n",
              "      <th>helpful</th>\n",
              "      <th>reviewText</th>\n",
              "      <th>overall</th>\n",
              "      <th>summary</th>\n",
              "      <th>unixReviewTime</th>\n",
              "      <th>reviewTime</th>\n",
              "      <th>feature_7</th>\n",
              "      <th>feature_8</th>\n",
              "      <th>feature_9</th>\n",
              "      <th>feature_1</th>\n",
              "      <th>feature_2</th>\n",
              "      <th>feature_3</th>\n",
              "      <th>feature_4</th>\n",
              "      <th>feature_6</th>\n",
              "    </tr>\n",
              "  </thead>\n",
              "  <tbody>\n",
              "    <tr>\n",
              "      <th>1336614</th>\n",
              "      <td>A3SBTW3WS4IQSN</td>\n",
              "      <td>B007WTAJTO</td>\n",
              "      <td>NaN</td>\n",
              "      <td>[0, 0]</td>\n",
              "      <td>No issues.</td>\n",
              "      <td>4.0</td>\n",
              "      <td>Four Stars</td>\n",
              "      <td>1406073600</td>\n",
              "      <td>07 23, 2014</td>\n",
              "      <td>1</td>\n",
              "      <td>0</td>\n",
              "      <td>0</td>\n",
              "      <td>0</td>\n",
              "      <td>0</td>\n",
              "      <td>0</td>\n",
              "      <td>0</td>\n",
              "      <td>0</td>\n",
              "    </tr>\n",
              "    <tr>\n",
              "      <th>1336615</th>\n",
              "      <td>A18K1ODH1I2MVB</td>\n",
              "      <td>B007WTAJTO</td>\n",
              "      <td>0mie</td>\n",
              "      <td>[0, 0]</td>\n",
              "      <td>Purchased this for my device, it worked as advertised. You can never have too much phone memory, since I download a lot of stuff this was a no brainer for me.</td>\n",
              "      <td>5.0</td>\n",
              "      <td>MOAR SPACE!!!</td>\n",
              "      <td>1382659200</td>\n",
              "      <td>10 25, 2013</td>\n",
              "      <td>0</td>\n",
              "      <td>0</td>\n",
              "      <td>0</td>\n",
              "      <td>0</td>\n",
              "      <td>0</td>\n",
              "      <td>0</td>\n",
              "      <td>0</td>\n",
              "      <td>0</td>\n",
              "    </tr>\n",
              "    <tr>\n",
              "      <th>1336616</th>\n",
              "      <td>A2FII3I2MBMUIA</td>\n",
              "      <td>B007WTAJTO</td>\n",
              "      <td>1K3</td>\n",
              "      <td>[0, 0]</td>\n",
              "      <td>it works as expected. I should have sprung for the higher capacity.  I think its made a bit cheesier than the earlier versions; the paint looks not as clean as before</td>\n",
              "      <td>4.0</td>\n",
              "      <td>nothing to really say....</td>\n",
              "      <td>1356220800</td>\n",
              "      <td>12 23, 2012</td>\n",
              "      <td>0</td>\n",
              "      <td>0</td>\n",
              "      <td>0</td>\n",
              "      <td>0</td>\n",
              "      <td>0</td>\n",
              "      <td>0</td>\n",
              "      <td>0</td>\n",
              "      <td>0</td>\n",
              "    </tr>\n",
              "    <tr>\n",
              "      <th>1336617</th>\n",
              "      <td>A3H99DFEG68SR</td>\n",
              "      <td>B007WTAJTO</td>\n",
              "      <td>1m2</td>\n",
              "      <td>[0, 0]</td>\n",
              "      <td>This think has worked out great.Had a diff. bran 64gb card and if went south after 3 months.This one has held up pretty well since I had my S3, now on my Note3.*** update 3/21/14I've had this for a few months and have had ZERO issue's since it was transferred from my S3 to my Note3 and into a note2. This card is reliable and solid!Cheers!</td>\n",
              "      <td>5.0</td>\n",
              "      <td>Great buy at this price!!!  *** UPDATE</td>\n",
              "      <td>1384992000</td>\n",
              "      <td>11 21, 2013</td>\n",
              "      <td>0</td>\n",
              "      <td>0</td>\n",
              "      <td>0</td>\n",
              "      <td>0</td>\n",
              "      <td>0</td>\n",
              "      <td>0</td>\n",
              "      <td>0</td>\n",
              "      <td>0</td>\n",
              "    </tr>\n",
              "    <tr>\n",
              "      <th>1336618</th>\n",
              "      <td>A375ZM4U047O79</td>\n",
              "      <td>B007WTAJTO</td>\n",
              "      <td>2&amp;amp;1/2Men</td>\n",
              "      <td>[0, 0]</td>\n",
              "      <td>Bought it with Retail Packaging, arrived legit, in a orange envelope, english version not asian like the picture shows. arrived quickly, bought a 32 and 16 both retail packaging for my htc one sv and Lg Optimus, both cards in working order, probably best price you'll get for a nice sd card</td>\n",
              "      <td>5.0</td>\n",
              "      <td>best deal around</td>\n",
              "      <td>1373673600</td>\n",
              "      <td>07 13, 2013</td>\n",
              "      <td>0</td>\n",
              "      <td>0</td>\n",
              "      <td>0</td>\n",
              "      <td>0</td>\n",
              "      <td>0</td>\n",
              "      <td>0</td>\n",
              "      <td>0</td>\n",
              "      <td>0</td>\n",
              "    </tr>\n",
              "  </tbody>\n",
              "</table>\n",
              "</div>"
            ],
            "text/plain": [
              "             reviewerID        asin  reviewerName helpful  \\\n",
              "1336614  A3SBTW3WS4IQSN  B007WTAJTO           NaN  [0, 0]   \n",
              "1336615  A18K1ODH1I2MVB  B007WTAJTO          0mie  [0, 0]   \n",
              "1336616  A2FII3I2MBMUIA  B007WTAJTO           1K3  [0, 0]   \n",
              "1336617   A3H99DFEG68SR  B007WTAJTO           1m2  [0, 0]   \n",
              "1336618  A375ZM4U047O79  B007WTAJTO  2&amp;1/2Men  [0, 0]   \n",
              "\n",
              "                                                                                                                                                                                                                                                                                                                                                   reviewText  \\\n",
              "1336614                                                                                                                                                                                                                                                                                                                                            No issues.   \n",
              "1336615                                                                                                                                                                                        Purchased this for my device, it worked as advertised. You can never have too much phone memory, since I download a lot of stuff this was a no brainer for me.   \n",
              "1336616                                                                                                                                                                                it works as expected. I should have sprung for the higher capacity.  I think its made a bit cheesier than the earlier versions; the paint looks not as clean as before   \n",
              "1336617  This think has worked out great.Had a diff. bran 64gb card and if went south after 3 months.This one has held up pretty well since I had my S3, now on my Note3.*** update 3/21/14I've had this for a few months and have had ZERO issue's since it was transferred from my S3 to my Note3 and into a note2. This card is reliable and solid!Cheers!   \n",
              "1336618                                                    Bought it with Retail Packaging, arrived legit, in a orange envelope, english version not asian like the picture shows. arrived quickly, bought a 32 and 16 both retail packaging for my htc one sv and Lg Optimus, both cards in working order, probably best price you'll get for a nice sd card   \n",
              "\n",
              "         overall                                 summary  unixReviewTime  \\\n",
              "1336614      4.0                              Four Stars      1406073600   \n",
              "1336615      5.0                           MOAR SPACE!!!      1382659200   \n",
              "1336616      4.0               nothing to really say....      1356220800   \n",
              "1336617      5.0  Great buy at this price!!!  *** UPDATE      1384992000   \n",
              "1336618      5.0                        best deal around      1373673600   \n",
              "\n",
              "          reviewTime  feature_7  feature_8  feature_9  feature_1  feature_2  \\\n",
              "1336614  07 23, 2014          1          0          0          0          0   \n",
              "1336615  10 25, 2013          0          0          0          0          0   \n",
              "1336616  12 23, 2012          0          0          0          0          0   \n",
              "1336617  11 21, 2013          0          0          0          0          0   \n",
              "1336618  07 13, 2013          0          0          0          0          0   \n",
              "\n",
              "         feature_3  feature_4  feature_6  \n",
              "1336614          0          0          0  \n",
              "1336615          0          0          0  \n",
              "1336616          0          0          0  \n",
              "1336617          0          0          0  \n",
              "1336618          0          0          0  "
            ]
          },
          "metadata": {
            "tags": []
          },
          "execution_count": 41
        }
      ]
    },
    {
      "metadata": {
        "id": "bUZ1sY6aLBuz",
        "colab_type": "text"
      },
      "cell_type": "markdown",
      "source": [
        "#*Experiments and Results*\n",
        "\n",
        "---\n",
        "\n"
      ]
    },
    {
      "metadata": {
        "id": "lRdkFZdj6UX6",
        "colab_type": "text"
      },
      "cell_type": "markdown",
      "source": [
        "## Preprocessing Data"
      ]
    },
    {
      "metadata": {
        "id": "trRjQo3ag8Qy",
        "colab_type": "code",
        "colab": {}
      },
      "cell_type": "code",
      "source": [
        "#Concatenating labels\n",
        "labels = []\n",
        "for val1, val2,val3, val4, val6, val7,val8,val9 in zip(feature_1,feature_2,feature_3,feature_4,feature_6, feature_7,feature_8,feature_9):\n",
        "  if val1 == 0 and val2 == 0 and val3 ==0 and val4 ==0 and val6 ==0 and val7 ==0 and val8 ==0 and val9 ==0 :\n",
        "    labels.append(0)\n",
        "  else :\n",
        "    labels.append(1)"
      ],
      "execution_count": 0,
      "outputs": []
    },
    {
      "metadata": {
        "id": "v4IjZQx8pmNG",
        "colab_type": "code",
        "colab": {}
      },
      "cell_type": "code",
      "source": [
        "\n",
        "df_new['labels'] = labels\n"
      ],
      "execution_count": 0,
      "outputs": []
    },
    {
      "metadata": {
        "id": "DpGYRlqvqB1O",
        "colab_type": "code",
        "colab": {}
      },
      "cell_type": "code",
      "source": [
        "#Copy of DataFrame\n",
        "df_new_copy = df_new.copy()"
      ],
      "execution_count": 0,
      "outputs": []
    },
    {
      "metadata": {
        "id": "aevPLd78uJbt",
        "colab_type": "code",
        "colab": {}
      },
      "cell_type": "code",
      "source": [
        "# Converting each row in X as a list\n",
        "tfidf_list = []\n",
        "for row in X:\n",
        "  row = row.toarray()\n",
        "  row_sum = np.sum(row)\n",
        "  tfidf_list.append(row_sum)\n"
      ],
      "execution_count": 0,
      "outputs": []
    },
    {
      "metadata": {
        "id": "xIeN0-Rvwrjz",
        "colab_type": "code",
        "colab": {}
      },
      "cell_type": "code",
      "source": [
        "# Converting each row in S as a list\n",
        "tfidf_summarylist = []\n",
        "for row in S:\n",
        "  row = row.toarray()\n",
        "  row_sum = np.sum(row)\n",
        "  tfidf_summarylist.append(row_sum)"
      ],
      "execution_count": 0,
      "outputs": []
    },
    {
      "metadata": {
        "id": "1rMXDOoz4dKJ",
        "colab_type": "code",
        "colab": {}
      },
      "cell_type": "code",
      "source": [
        "#Dataframe with review Text column for Neural network model\n",
        "df_rnn = df_new_copy.drop(['feature_1','feature_2','feature_3','feature_4','feature_6', 'feature_7','feature_8','feature_9','reviewerName','summary','helpful'], axis = 1)"
      ],
      "execution_count": 0,
      "outputs": []
    },
    {
      "metadata": {
        "id": "uIcBGlhe4lXa",
        "colab_type": "code",
        "outputId": "46d91b69-69f6-447c-aff5-423a2eaaf76f",
        "colab": {
          "base_uri": "https://localhost:8080/",
          "height": 363
        }
      },
      "cell_type": "code",
      "source": [
        "df_rnn.head()"
      ],
      "execution_count": 48,
      "outputs": [
        {
          "output_type": "execute_result",
          "data": {
            "text/html": [
              "<div>\n",
              "<style scoped>\n",
              "    .dataframe tbody tr th:only-of-type {\n",
              "        vertical-align: middle;\n",
              "    }\n",
              "\n",
              "    .dataframe tbody tr th {\n",
              "        vertical-align: top;\n",
              "    }\n",
              "\n",
              "    .dataframe thead th {\n",
              "        text-align: right;\n",
              "    }\n",
              "</style>\n",
              "<table border=\"1\" class=\"dataframe\">\n",
              "  <thead>\n",
              "    <tr style=\"text-align: right;\">\n",
              "      <th></th>\n",
              "      <th>reviewerID</th>\n",
              "      <th>asin</th>\n",
              "      <th>reviewText</th>\n",
              "      <th>overall</th>\n",
              "      <th>unixReviewTime</th>\n",
              "      <th>reviewTime</th>\n",
              "      <th>labels</th>\n",
              "    </tr>\n",
              "  </thead>\n",
              "  <tbody>\n",
              "    <tr>\n",
              "      <th>1336614</th>\n",
              "      <td>A3SBTW3WS4IQSN</td>\n",
              "      <td>B007WTAJTO</td>\n",
              "      <td>No issues.</td>\n",
              "      <td>4.0</td>\n",
              "      <td>1406073600</td>\n",
              "      <td>07 23, 2014</td>\n",
              "      <td>0</td>\n",
              "    </tr>\n",
              "    <tr>\n",
              "      <th>1336615</th>\n",
              "      <td>A18K1ODH1I2MVB</td>\n",
              "      <td>B007WTAJTO</td>\n",
              "      <td>Purchased this for my device, it worked as advertised. You can never have too much phone memory, since I download a lot of stuff this was a no brainer for me.</td>\n",
              "      <td>5.0</td>\n",
              "      <td>1382659200</td>\n",
              "      <td>10 25, 2013</td>\n",
              "      <td>0</td>\n",
              "    </tr>\n",
              "    <tr>\n",
              "      <th>1336616</th>\n",
              "      <td>A2FII3I2MBMUIA</td>\n",
              "      <td>B007WTAJTO</td>\n",
              "      <td>it works as expected. I should have sprung for the higher capacity.  I think its made a bit cheesier than the earlier versions; the paint looks not as clean as before</td>\n",
              "      <td>4.0</td>\n",
              "      <td>1356220800</td>\n",
              "      <td>12 23, 2012</td>\n",
              "      <td>0</td>\n",
              "    </tr>\n",
              "    <tr>\n",
              "      <th>1336617</th>\n",
              "      <td>A3H99DFEG68SR</td>\n",
              "      <td>B007WTAJTO</td>\n",
              "      <td>This think has worked out great.Had a diff. bran 64gb card and if went south after 3 months.This one has held up pretty well since I had my S3, now on my Note3.*** update 3/21/14I've had this for a few months and have had ZERO issue's since it was transferred from my S3 to my Note3 and into a note2. This card is reliable and solid!Cheers!</td>\n",
              "      <td>5.0</td>\n",
              "      <td>1384992000</td>\n",
              "      <td>11 21, 2013</td>\n",
              "      <td>0</td>\n",
              "    </tr>\n",
              "    <tr>\n",
              "      <th>1336618</th>\n",
              "      <td>A375ZM4U047O79</td>\n",
              "      <td>B007WTAJTO</td>\n",
              "      <td>Bought it with Retail Packaging, arrived legit, in a orange envelope, english version not asian like the picture shows. arrived quickly, bought a 32 and 16 both retail packaging for my htc one sv and Lg Optimus, both cards in working order, probably best price you'll get for a nice sd card</td>\n",
              "      <td>5.0</td>\n",
              "      <td>1373673600</td>\n",
              "      <td>07 13, 2013</td>\n",
              "      <td>0</td>\n",
              "    </tr>\n",
              "  </tbody>\n",
              "</table>\n",
              "</div>"
            ],
            "text/plain": [
              "             reviewerID        asin  \\\n",
              "1336614  A3SBTW3WS4IQSN  B007WTAJTO   \n",
              "1336615  A18K1ODH1I2MVB  B007WTAJTO   \n",
              "1336616  A2FII3I2MBMUIA  B007WTAJTO   \n",
              "1336617   A3H99DFEG68SR  B007WTAJTO   \n",
              "1336618  A375ZM4U047O79  B007WTAJTO   \n",
              "\n",
              "                                                                                                                                                                                                                                                                                                                                                   reviewText  \\\n",
              "1336614                                                                                                                                                                                                                                                                                                                                            No issues.   \n",
              "1336615                                                                                                                                                                                        Purchased this for my device, it worked as advertised. You can never have too much phone memory, since I download a lot of stuff this was a no brainer for me.   \n",
              "1336616                                                                                                                                                                                it works as expected. I should have sprung for the higher capacity.  I think its made a bit cheesier than the earlier versions; the paint looks not as clean as before   \n",
              "1336617  This think has worked out great.Had a diff. bran 64gb card and if went south after 3 months.This one has held up pretty well since I had my S3, now on my Note3.*** update 3/21/14I've had this for a few months and have had ZERO issue's since it was transferred from my S3 to my Note3 and into a note2. This card is reliable and solid!Cheers!   \n",
              "1336618                                                    Bought it with Retail Packaging, arrived legit, in a orange envelope, english version not asian like the picture shows. arrived quickly, bought a 32 and 16 both retail packaging for my htc one sv and Lg Optimus, both cards in working order, probably best price you'll get for a nice sd card   \n",
              "\n",
              "         overall  unixReviewTime   reviewTime  labels  \n",
              "1336614      4.0      1406073600  07 23, 2014       0  \n",
              "1336615      5.0      1382659200  10 25, 2013       0  \n",
              "1336616      4.0      1356220800  12 23, 2012       0  \n",
              "1336617      5.0      1384992000  11 21, 2013       0  \n",
              "1336618      5.0      1373673600  07 13, 2013       0  "
            ]
          },
          "metadata": {
            "tags": []
          },
          "execution_count": 48
        }
      ]
    },
    {
      "metadata": {
        "id": "ryeEkQV94pZE",
        "colab_type": "code",
        "colab": {}
      },
      "cell_type": "code",
      "source": [
        "#writing Dataframe to csv format for future purposes\n",
        "file = path + '/data.csv'\n",
        "df_rnn.to_csv(path_or_buf = file, columns = ['reviewText','labels'])"
      ],
      "execution_count": 0,
      "outputs": []
    },
    {
      "metadata": {
        "id": "HHbPM6aiprBM",
        "colab_type": "code",
        "colab": {}
      },
      "cell_type": "code",
      "source": [
        "#Dataframe for classification with naive classifiers\n",
        "df_classifier = df_new_copy.drop(['feature_1','feature_2','feature_3','feature_4','feature_6', 'feature_7','feature_8','feature_9','reviewerName','reviewText','summary','helpful'], axis = 1)"
      ],
      "execution_count": 0,
      "outputs": []
    },
    {
      "metadata": {
        "id": "Tf0bp_U54Pzx",
        "colab_type": "code",
        "outputId": "80297221-2579-4254-d11c-131a692ef1de",
        "colab": {
          "base_uri": "https://localhost:8080/",
          "height": 206
        }
      },
      "cell_type": "code",
      "source": [
        "df_classifier.head()"
      ],
      "execution_count": 51,
      "outputs": [
        {
          "output_type": "execute_result",
          "data": {
            "text/html": [
              "<div>\n",
              "<style scoped>\n",
              "    .dataframe tbody tr th:only-of-type {\n",
              "        vertical-align: middle;\n",
              "    }\n",
              "\n",
              "    .dataframe tbody tr th {\n",
              "        vertical-align: top;\n",
              "    }\n",
              "\n",
              "    .dataframe thead th {\n",
              "        text-align: right;\n",
              "    }\n",
              "</style>\n",
              "<table border=\"1\" class=\"dataframe\">\n",
              "  <thead>\n",
              "    <tr style=\"text-align: right;\">\n",
              "      <th></th>\n",
              "      <th>reviewerID</th>\n",
              "      <th>asin</th>\n",
              "      <th>overall</th>\n",
              "      <th>unixReviewTime</th>\n",
              "      <th>reviewTime</th>\n",
              "      <th>labels</th>\n",
              "    </tr>\n",
              "  </thead>\n",
              "  <tbody>\n",
              "    <tr>\n",
              "      <th>1336614</th>\n",
              "      <td>A3SBTW3WS4IQSN</td>\n",
              "      <td>B007WTAJTO</td>\n",
              "      <td>4.0</td>\n",
              "      <td>1406073600</td>\n",
              "      <td>07 23, 2014</td>\n",
              "      <td>0</td>\n",
              "    </tr>\n",
              "    <tr>\n",
              "      <th>1336615</th>\n",
              "      <td>A18K1ODH1I2MVB</td>\n",
              "      <td>B007WTAJTO</td>\n",
              "      <td>5.0</td>\n",
              "      <td>1382659200</td>\n",
              "      <td>10 25, 2013</td>\n",
              "      <td>0</td>\n",
              "    </tr>\n",
              "    <tr>\n",
              "      <th>1336616</th>\n",
              "      <td>A2FII3I2MBMUIA</td>\n",
              "      <td>B007WTAJTO</td>\n",
              "      <td>4.0</td>\n",
              "      <td>1356220800</td>\n",
              "      <td>12 23, 2012</td>\n",
              "      <td>0</td>\n",
              "    </tr>\n",
              "    <tr>\n",
              "      <th>1336617</th>\n",
              "      <td>A3H99DFEG68SR</td>\n",
              "      <td>B007WTAJTO</td>\n",
              "      <td>5.0</td>\n",
              "      <td>1384992000</td>\n",
              "      <td>11 21, 2013</td>\n",
              "      <td>0</td>\n",
              "    </tr>\n",
              "    <tr>\n",
              "      <th>1336618</th>\n",
              "      <td>A375ZM4U047O79</td>\n",
              "      <td>B007WTAJTO</td>\n",
              "      <td>5.0</td>\n",
              "      <td>1373673600</td>\n",
              "      <td>07 13, 2013</td>\n",
              "      <td>0</td>\n",
              "    </tr>\n",
              "  </tbody>\n",
              "</table>\n",
              "</div>"
            ],
            "text/plain": [
              "             reviewerID        asin  overall  unixReviewTime   reviewTime  \\\n",
              "1336614  A3SBTW3WS4IQSN  B007WTAJTO      4.0      1406073600  07 23, 2014   \n",
              "1336615  A18K1ODH1I2MVB  B007WTAJTO      5.0      1382659200  10 25, 2013   \n",
              "1336616  A2FII3I2MBMUIA  B007WTAJTO      4.0      1356220800  12 23, 2012   \n",
              "1336617   A3H99DFEG68SR  B007WTAJTO      5.0      1384992000  11 21, 2013   \n",
              "1336618  A375ZM4U047O79  B007WTAJTO      5.0      1373673600  07 13, 2013   \n",
              "\n",
              "         labels  \n",
              "1336614       0  \n",
              "1336615       0  \n",
              "1336616       0  \n",
              "1336617       0  \n",
              "1336618       0  "
            ]
          },
          "metadata": {
            "tags": []
          },
          "execution_count": 51
        }
      ]
    },
    {
      "metadata": {
        "id": "ivtlc1sCwD24",
        "colab_type": "code",
        "colab": {}
      },
      "cell_type": "code",
      "source": [
        "#replacing said column with it's tfidf\n",
        "\n",
        "df_classifier['reviewText'] = tfidf_list\n",
        "\n",
        "df_classifier['summary'] = tfidf_summarylist"
      ],
      "execution_count": 0,
      "outputs": []
    },
    {
      "metadata": {
        "id": "JBYbxcfzqmUq",
        "colab_type": "code",
        "outputId": "39b09739-bc36-47fc-b0da-692ad988484d",
        "colab": {
          "base_uri": "https://localhost:8080/",
          "height": 72
        }
      },
      "cell_type": "code",
      "source": [
        "# Count of span and non-spam reviews\n",
        "# 1 is spam\n",
        "df_classifier['labels'].value_counts()"
      ],
      "execution_count": 53,
      "outputs": [
        {
          "output_type": "execute_result",
          "data": {
            "text/plain": [
              "0    7970\n",
              "1     380\n",
              "Name: labels, dtype: int64"
            ]
          },
          "metadata": {
            "tags": []
          },
          "execution_count": 53
        }
      ]
    },
    {
      "metadata": {
        "id": "oLI9qPSdrhWU",
        "colab_type": "code",
        "outputId": "3a211f07-8df9-4a62-ea04-94bd0323f61c",
        "colab": {
          "base_uri": "https://localhost:8080/",
          "height": 182
        }
      },
      "cell_type": "code",
      "source": [
        "#Data types\n",
        "df_classifier.dtypes"
      ],
      "execution_count": 54,
      "outputs": [
        {
          "output_type": "execute_result",
          "data": {
            "text/plain": [
              "reviewerID         object\n",
              "asin               object\n",
              "overall           float64\n",
              "unixReviewTime      int64\n",
              "reviewTime         object\n",
              "labels              int64\n",
              "reviewText        float64\n",
              "summary           float64\n",
              "dtype: object"
            ]
          },
          "metadata": {
            "tags": []
          },
          "execution_count": 54
        }
      ]
    },
    {
      "metadata": {
        "id": "PTDcOiLBsr1j",
        "colab_type": "code",
        "colab": {}
      },
      "cell_type": "code",
      "source": [
        "#convertign object type columns to categorical\n",
        "df_classifier['reviewerID'] = df_classifier['reviewerID'].astype('category')\n",
        "df_classifier['asin'] = df_classifier['asin'].astype('category')\n",
        "df_classifier['reviewTime'] = df_classifier['reviewTime'].astype('category')\n",
        "\n",
        "\n",
        "df_classifier['reviewerID'] = df_classifier['reviewerID'].cat.codes\n",
        "df_classifier['asin'] = df_classifier['asin'].cat.codes\n",
        "df_classifier['reviewTime'] = df_classifier['reviewTime'].cat.codes"
      ],
      "execution_count": 0,
      "outputs": []
    },
    {
      "metadata": {
        "id": "eDUjToi9PqlU",
        "colab_type": "code",
        "colab": {}
      },
      "cell_type": "code",
      "source": [
        "#Upsampling for data used for naive classifiers\n",
        "from sklearn.utils import resample\t\n",
        "# Separate majority and minority classes\n",
        "df_majority = df_classifier[df_classifier.labels==0]\n",
        "df_minority = df_classifier[df_classifier.labels==1]\n",
        "\n",
        "df_minority_upsampled = resample(df_minority, \n",
        "                                 replace=True,     # sample with replacement\n",
        "                                 n_samples=1594,    # to match majority class\n",
        "                                 random_state=123) # reproducible results\n",
        " \n",
        "# Combine majority class with upsampled minority class\n",
        "df_upsampled = pd.concat([df_majority, df_minority_upsampled])"
      ],
      "execution_count": 0,
      "outputs": []
    },
    {
      "metadata": {
        "id": "OxSpYPiX6Wqr",
        "colab_type": "code",
        "colab": {}
      },
      "cell_type": "code",
      "source": [
        "#Upsampling for data used for rnn\n",
        "from sklearn.utils import resample\t\n",
        "# Separate majority and minority classes\n",
        "df_maj = df_rnn[df_rnn.labels==0]\n",
        "df_min = df_rnn[df_rnn.labels==1]\n",
        "\n",
        "df_min_upsampled = resample(df_min, \n",
        "                                 replace=True,     # sample with replacement\n",
        "                                 n_samples=1594,    # to match majority class\n",
        "                                 random_state=123) # reproducible results\n",
        " \n",
        "# Combine majority class with upsampled minority class\n",
        "df_upsam = pd.concat([df_maj, df_min_upsampled])"
      ],
      "execution_count": 0,
      "outputs": []
    },
    {
      "metadata": {
        "id": "L_HKLDmMQLi3",
        "colab_type": "code",
        "outputId": "42bb9593-ac76-4314-bbae-9446f3557589",
        "colab": {
          "base_uri": "https://localhost:8080/",
          "height": 72
        }
      },
      "cell_type": "code",
      "source": [
        "#Number of classes after upsampling\n",
        "df_upsampled.labels.value_counts()"
      ],
      "execution_count": 58,
      "outputs": [
        {
          "output_type": "execute_result",
          "data": {
            "text/plain": [
              "0    7970\n",
              "1    1594\n",
              "Name: labels, dtype: int64"
            ]
          },
          "metadata": {
            "tags": []
          },
          "execution_count": 58
        }
      ]
    },
    {
      "metadata": {
        "id": "dwVmLE15QYtw",
        "colab_type": "code",
        "colab": {}
      },
      "cell_type": "code",
      "source": [
        "# Using df_classifier - cleaner notation\n",
        "df_classifier = df_upsampled.copy()"
      ],
      "execution_count": 0,
      "outputs": []
    },
    {
      "metadata": {
        "id": "VWDGj2pDx_DL",
        "colab_type": "code",
        "colab": {}
      },
      "cell_type": "code",
      "source": [
        "#Separating labels and data\n",
        "labels = df_classifier['labels']\n",
        "df_classifier = df_classifier.drop(['labels'], axis = 1)\n"
      ],
      "execution_count": 0,
      "outputs": []
    },
    {
      "metadata": {
        "id": "AsOIq4tsytFU",
        "colab_type": "code",
        "outputId": "4a68c4ba-c01c-4962-e891-4821cee93551",
        "colab": {
          "base_uri": "https://localhost:8080/",
          "height": 274
        }
      },
      "cell_type": "code",
      "source": [
        "labels = list(labels)\n",
        "print(len(labels))\n",
        "print(df_classifier.head())\n",
        "\n",
        "\n",
        "df_classifier = df_classifier.drop(['unixReviewTime','reviewTime'], axis = 1)\n"
      ],
      "execution_count": 61,
      "outputs": [
        {
          "output_type": "stream",
          "text": [
            "9564\n",
            "         reviewerID  asin  overall  unixReviewTime  reviewTime  reviewText  \\\n",
            "1336614        6037     1      4.0      1406073600         840    1.000000   \n",
            "1336615         494     1      5.0      1382659200        1173    3.041659   \n",
            "1336616        3105     1      4.0      1356220800        1387    3.182405   \n",
            "1336617        5363     1      5.0      1384992000        1265    4.358340   \n",
            "1336618        4759     1      5.0      1373673600         802    4.828571   \n",
            "\n",
            "          summary  \n",
            "1336614  1.000000  \n",
            "1336615  1.000000  \n",
            "1336616  1.414146  \n",
            "1336617  1.825390  \n",
            "1336618  1.407585  \n"
          ],
          "name": "stdout"
        }
      ]
    },
    {
      "metadata": {
        "id": "8qykEFFG6N5n",
        "colab_type": "text"
      },
      "cell_type": "markdown",
      "source": [
        "## Classifer stuff"
      ]
    },
    {
      "metadata": {
        "id": "OPSY2xpqy2iW",
        "colab_type": "code",
        "colab": {}
      },
      "cell_type": "code",
      "source": [
        "#Train test split\n",
        "import numpy as np\n",
        "from sklearn.model_selection import train_test_split\n",
        "\n",
        "X_train, X_test, y_train, y_test = train_test_split(df_classifier, labels, test_size=0.33, random_state=np.random.RandomState(), stratify = labels)"
      ],
      "execution_count": 0,
      "outputs": []
    },
    {
      "metadata": {
        "id": "7vHYIsg_zj23",
        "colab_type": "code",
        "outputId": "a3c300fb-18a4-4483-e9c8-e3362bb97a03",
        "colab": {
          "base_uri": "https://localhost:8080/",
          "height": 146
        }
      },
      "cell_type": "code",
      "source": [
        "#Random Forest Classifier\n",
        "from sklearn.ensemble import RandomForestClassifier\n",
        "clf = RandomForestClassifier(n_estimators=100, max_depth=5)\n",
        "clf.fit(X_train,y_train)"
      ],
      "execution_count": 63,
      "outputs": [
        {
          "output_type": "execute_result",
          "data": {
            "text/plain": [
              "RandomForestClassifier(bootstrap=True, class_weight=None, criterion='gini',\n",
              "            max_depth=5, max_features='auto', max_leaf_nodes=None,\n",
              "            min_impurity_decrease=0.0, min_impurity_split=None,\n",
              "            min_samples_leaf=1, min_samples_split=2,\n",
              "            min_weight_fraction_leaf=0.0, n_estimators=100, n_jobs=None,\n",
              "            oob_score=False, random_state=None, verbose=0,\n",
              "            warm_start=False)"
            ]
          },
          "metadata": {
            "tags": []
          },
          "execution_count": 63
        }
      ]
    },
    {
      "metadata": {
        "id": "kPlXS9o5DfKh",
        "colab_type": "code",
        "outputId": "d275d520-0bc4-4346-d3e8-b41a8e049161",
        "colab": {
          "base_uri": "https://localhost:8080/",
          "height": 3104
        }
      },
      "cell_type": "code",
      "source": [
        "# Bagging with different classifiers\n",
        "from sklearn.model_selection import cross_val_score\n",
        "from sklearn.ensemble import BaggingClassifier, AdaBoostClassifier, ExtraTreesClassifier, RandomForestClassifier\n",
        "from sklearn.neighbors import KNeighborsClassifier\n",
        "from sklearn.linear_model import RidgeClassifier, LogisticRegression\n",
        "from sklearn.svm import SVC\n",
        "from sklearn.metrics import accuracy_score\n",
        "from sklearn.metrics import precision_score, recall_score,f1_score\n",
        "from sklearn.metrics import classification_report\n",
        "\n",
        "\n",
        "seed = 1075\n",
        "np.random.seed(seed)\n",
        "\n",
        "# Create classifiers\n",
        "rf = RandomForestClassifier()\n",
        "et = ExtraTreesClassifier()\n",
        "knn = KNeighborsClassifier()\n",
        "svc = SVC()\n",
        "lrc = LogisticRegression()\n",
        "rg = RidgeClassifier()\n",
        "\n",
        "clf_array = [et, rf, knn, svc, lrc]\n",
        "\n",
        "for clf in clf_array:\n",
        "    vanilla_scores = cross_val_score(clf, X_train, y_train, cv=10, n_jobs=-1)\n",
        "    bagging_clf = BaggingClassifier(clf,max_samples=0.4, max_features=5, random_state=seed)\n",
        "    bagging_scores = cross_val_score(bagging_clf, X_train, y_train, cv=10,n_jobs=-1)\n",
        "    bagging_clf.fit(X_train,y_train)\n",
        "    y_pred_bagging = bagging_clf.predict(X_test)\n",
        "    print(clf.__class__.__name__)\n",
        "    print(classification_report(y_test, y_pred_bagging))\n",
        "    print(\"accuracy:\", accuracy_score(y_test, y_pred_bagging))\n",
        "    print(\"pecision:\", precision_score(y_test, y_pred_bagging))\n",
        "    print(\"recall:\", recall_score(y_test, y_pred_bagging)) \n",
        "    print(\"f1 score:\", f1_score(y_test, y_pred_bagging))    \n",
        "    print (\"Mean of: {1:.3f}, std: (+/-) {2:.3f} [{0}]\".format(clf.__class__.__name__,vanilla_scores.mean(), vanilla_scores.std()))\n",
        "    print (\"Mean of: {1:.3f}, std: (+/-) {2:.3f} [Bagging {0}]\\n\".format(clf.__class__.__name__,bagging_scores.mean(), bagging_scores.std()))"
      ],
      "execution_count": 64,
      "outputs": [
        {
          "output_type": "stream",
          "text": [
            "/usr/local/lib/python3.6/dist-packages/sklearn/ensemble/forest.py:246: FutureWarning: The default value of n_estimators will change from 10 in version 0.20 to 100 in 0.22.\n",
            "  \"10 in version 0.20 to 100 in 0.22.\", FutureWarning)\n",
            "/usr/local/lib/python3.6/dist-packages/sklearn/ensemble/forest.py:246: FutureWarning: The default value of n_estimators will change from 10 in version 0.20 to 100 in 0.22.\n",
            "  \"10 in version 0.20 to 100 in 0.22.\", FutureWarning)\n",
            "/usr/local/lib/python3.6/dist-packages/sklearn/ensemble/forest.py:246: FutureWarning: The default value of n_estimators will change from 10 in version 0.20 to 100 in 0.22.\n",
            "  \"10 in version 0.20 to 100 in 0.22.\", FutureWarning)\n",
            "/usr/local/lib/python3.6/dist-packages/sklearn/ensemble/forest.py:246: FutureWarning: The default value of n_estimators will change from 10 in version 0.20 to 100 in 0.22.\n",
            "  \"10 in version 0.20 to 100 in 0.22.\", FutureWarning)\n",
            "/usr/local/lib/python3.6/dist-packages/sklearn/ensemble/forest.py:246: FutureWarning: The default value of n_estimators will change from 10 in version 0.20 to 100 in 0.22.\n",
            "  \"10 in version 0.20 to 100 in 0.22.\", FutureWarning)\n",
            "/usr/local/lib/python3.6/dist-packages/sklearn/ensemble/forest.py:246: FutureWarning: The default value of n_estimators will change from 10 in version 0.20 to 100 in 0.22.\n",
            "  \"10 in version 0.20 to 100 in 0.22.\", FutureWarning)\n",
            "/usr/local/lib/python3.6/dist-packages/sklearn/ensemble/forest.py:246: FutureWarning: The default value of n_estimators will change from 10 in version 0.20 to 100 in 0.22.\n",
            "  \"10 in version 0.20 to 100 in 0.22.\", FutureWarning)\n",
            "/usr/local/lib/python3.6/dist-packages/sklearn/ensemble/forest.py:246: FutureWarning: The default value of n_estimators will change from 10 in version 0.20 to 100 in 0.22.\n",
            "  \"10 in version 0.20 to 100 in 0.22.\", FutureWarning)\n",
            "/usr/local/lib/python3.6/dist-packages/sklearn/ensemble/forest.py:246: FutureWarning: The default value of n_estimators will change from 10 in version 0.20 to 100 in 0.22.\n",
            "  \"10 in version 0.20 to 100 in 0.22.\", FutureWarning)\n",
            "/usr/local/lib/python3.6/dist-packages/sklearn/ensemble/forest.py:246: FutureWarning: The default value of n_estimators will change from 10 in version 0.20 to 100 in 0.22.\n",
            "  \"10 in version 0.20 to 100 in 0.22.\", FutureWarning)\n"
          ],
          "name": "stderr"
        },
        {
          "output_type": "stream",
          "text": [
            "ExtraTreesClassifier\n",
            "              precision    recall  f1-score   support\n",
            "\n",
            "           0       0.96      0.99      0.97      2631\n",
            "           1       0.92      0.81      0.86       526\n",
            "\n",
            "   micro avg       0.96      0.96      0.96      3157\n",
            "   macro avg       0.94      0.90      0.92      3157\n",
            "weighted avg       0.96      0.96      0.95      3157\n",
            "\n",
            "accuracy: 0.9559708584098828\n",
            "pecision: 0.9161290322580645\n",
            "recall: 0.8098859315589354\n",
            "f1 score: 0.8597376387487387\n",
            "Mean of: 0.975, std: (+/-) 0.004 [ExtraTreesClassifier]\n",
            "Mean of: 0.948, std: (+/-) 0.007 [Bagging ExtraTreesClassifier]\n",
            "\n"
          ],
          "name": "stdout"
        },
        {
          "output_type": "stream",
          "text": [
            "/usr/local/lib/python3.6/dist-packages/sklearn/ensemble/forest.py:246: FutureWarning: The default value of n_estimators will change from 10 in version 0.20 to 100 in 0.22.\n",
            "  \"10 in version 0.20 to 100 in 0.22.\", FutureWarning)\n",
            "/usr/local/lib/python3.6/dist-packages/sklearn/ensemble/forest.py:246: FutureWarning: The default value of n_estimators will change from 10 in version 0.20 to 100 in 0.22.\n",
            "  \"10 in version 0.20 to 100 in 0.22.\", FutureWarning)\n",
            "/usr/local/lib/python3.6/dist-packages/sklearn/ensemble/forest.py:246: FutureWarning: The default value of n_estimators will change from 10 in version 0.20 to 100 in 0.22.\n",
            "  \"10 in version 0.20 to 100 in 0.22.\", FutureWarning)\n",
            "/usr/local/lib/python3.6/dist-packages/sklearn/ensemble/forest.py:246: FutureWarning: The default value of n_estimators will change from 10 in version 0.20 to 100 in 0.22.\n",
            "  \"10 in version 0.20 to 100 in 0.22.\", FutureWarning)\n",
            "/usr/local/lib/python3.6/dist-packages/sklearn/ensemble/forest.py:246: FutureWarning: The default value of n_estimators will change from 10 in version 0.20 to 100 in 0.22.\n",
            "  \"10 in version 0.20 to 100 in 0.22.\", FutureWarning)\n",
            "/usr/local/lib/python3.6/dist-packages/sklearn/ensemble/forest.py:246: FutureWarning: The default value of n_estimators will change from 10 in version 0.20 to 100 in 0.22.\n",
            "  \"10 in version 0.20 to 100 in 0.22.\", FutureWarning)\n",
            "/usr/local/lib/python3.6/dist-packages/sklearn/ensemble/forest.py:246: FutureWarning: The default value of n_estimators will change from 10 in version 0.20 to 100 in 0.22.\n",
            "  \"10 in version 0.20 to 100 in 0.22.\", FutureWarning)\n",
            "/usr/local/lib/python3.6/dist-packages/sklearn/ensemble/forest.py:246: FutureWarning: The default value of n_estimators will change from 10 in version 0.20 to 100 in 0.22.\n",
            "  \"10 in version 0.20 to 100 in 0.22.\", FutureWarning)\n",
            "/usr/local/lib/python3.6/dist-packages/sklearn/ensemble/forest.py:246: FutureWarning: The default value of n_estimators will change from 10 in version 0.20 to 100 in 0.22.\n",
            "  \"10 in version 0.20 to 100 in 0.22.\", FutureWarning)\n",
            "/usr/local/lib/python3.6/dist-packages/sklearn/ensemble/forest.py:246: FutureWarning: The default value of n_estimators will change from 10 in version 0.20 to 100 in 0.22.\n",
            "  \"10 in version 0.20 to 100 in 0.22.\", FutureWarning)\n"
          ],
          "name": "stderr"
        },
        {
          "output_type": "stream",
          "text": [
            "RandomForestClassifier\n",
            "              precision    recall  f1-score   support\n",
            "\n",
            "           0       0.94      0.98      0.96      2631\n",
            "           1       0.87      0.67      0.76       526\n",
            "\n",
            "   micro avg       0.93      0.93      0.93      3157\n",
            "   macro avg       0.90      0.83      0.86      3157\n",
            "weighted avg       0.93      0.93      0.92      3157\n",
            "\n",
            "accuracy: 0.9280962939499525\n",
            "pecision: 0.8673218673218673\n",
            "recall: 0.6711026615969582\n",
            "f1 score: 0.7566988210075026\n",
            "Mean of: 0.967, std: (+/-) 0.007 [RandomForestClassifier]\n",
            "Mean of: 0.919, std: (+/-) 0.004 [Bagging RandomForestClassifier]\n",
            "\n",
            "KNeighborsClassifier\n",
            "              precision    recall  f1-score   support\n",
            "\n",
            "           0       0.86      0.97      0.91      2631\n",
            "           1       0.57      0.22      0.32       526\n",
            "\n",
            "   micro avg       0.84      0.84      0.84      3157\n",
            "   macro avg       0.71      0.59      0.61      3157\n",
            "weighted avg       0.81      0.84      0.81      3157\n",
            "\n",
            "accuracy: 0.8419385492556224\n",
            "pecision: 0.5652173913043478\n",
            "recall: 0.2224334600760456\n",
            "f1 score: 0.31923601637107774\n",
            "Mean of: 0.837, std: (+/-) 0.010 [KNeighborsClassifier]\n",
            "Mean of: 0.827, std: (+/-) 0.010 [Bagging KNeighborsClassifier]\n",
            "\n"
          ],
          "name": "stdout"
        },
        {
          "output_type": "stream",
          "text": [
            "/usr/local/lib/python3.6/dist-packages/sklearn/externals/joblib/externals/loky/process_executor.py:706: UserWarning: A worker stopped while some jobs were given to the executor. This can be caused by a too short worker timeout or by a memory leak.\n",
            "  \"timeout or by a memory leak.\", UserWarning\n",
            "/usr/local/lib/python3.6/dist-packages/sklearn/svm/base.py:196: FutureWarning: The default value of gamma will change from 'auto' to 'scale' in version 0.22 to account better for unscaled features. Set gamma explicitly to 'auto' or 'scale' to avoid this warning.\n",
            "  \"avoid this warning.\", FutureWarning)\n",
            "/usr/local/lib/python3.6/dist-packages/sklearn/svm/base.py:196: FutureWarning: The default value of gamma will change from 'auto' to 'scale' in version 0.22 to account better for unscaled features. Set gamma explicitly to 'auto' or 'scale' to avoid this warning.\n",
            "  \"avoid this warning.\", FutureWarning)\n",
            "/usr/local/lib/python3.6/dist-packages/sklearn/svm/base.py:196: FutureWarning: The default value of gamma will change from 'auto' to 'scale' in version 0.22 to account better for unscaled features. Set gamma explicitly to 'auto' or 'scale' to avoid this warning.\n",
            "  \"avoid this warning.\", FutureWarning)\n",
            "/usr/local/lib/python3.6/dist-packages/sklearn/svm/base.py:196: FutureWarning: The default value of gamma will change from 'auto' to 'scale' in version 0.22 to account better for unscaled features. Set gamma explicitly to 'auto' or 'scale' to avoid this warning.\n",
            "  \"avoid this warning.\", FutureWarning)\n",
            "/usr/local/lib/python3.6/dist-packages/sklearn/svm/base.py:196: FutureWarning: The default value of gamma will change from 'auto' to 'scale' in version 0.22 to account better for unscaled features. Set gamma explicitly to 'auto' or 'scale' to avoid this warning.\n",
            "  \"avoid this warning.\", FutureWarning)\n",
            "/usr/local/lib/python3.6/dist-packages/sklearn/svm/base.py:196: FutureWarning: The default value of gamma will change from 'auto' to 'scale' in version 0.22 to account better for unscaled features. Set gamma explicitly to 'auto' or 'scale' to avoid this warning.\n",
            "  \"avoid this warning.\", FutureWarning)\n",
            "/usr/local/lib/python3.6/dist-packages/sklearn/svm/base.py:196: FutureWarning: The default value of gamma will change from 'auto' to 'scale' in version 0.22 to account better for unscaled features. Set gamma explicitly to 'auto' or 'scale' to avoid this warning.\n",
            "  \"avoid this warning.\", FutureWarning)\n",
            "/usr/local/lib/python3.6/dist-packages/sklearn/svm/base.py:196: FutureWarning: The default value of gamma will change from 'auto' to 'scale' in version 0.22 to account better for unscaled features. Set gamma explicitly to 'auto' or 'scale' to avoid this warning.\n",
            "  \"avoid this warning.\", FutureWarning)\n",
            "/usr/local/lib/python3.6/dist-packages/sklearn/svm/base.py:196: FutureWarning: The default value of gamma will change from 'auto' to 'scale' in version 0.22 to account better for unscaled features. Set gamma explicitly to 'auto' or 'scale' to avoid this warning.\n",
            "  \"avoid this warning.\", FutureWarning)\n",
            "/usr/local/lib/python3.6/dist-packages/sklearn/svm/base.py:196: FutureWarning: The default value of gamma will change from 'auto' to 'scale' in version 0.22 to account better for unscaled features. Set gamma explicitly to 'auto' or 'scale' to avoid this warning.\n",
            "  \"avoid this warning.\", FutureWarning)\n"
          ],
          "name": "stderr"
        },
        {
          "output_type": "stream",
          "text": [
            "SVC\n",
            "              precision    recall  f1-score   support\n",
            "\n",
            "           0       0.92      0.99      0.95      2631\n",
            "           1       0.94      0.56      0.70       526\n",
            "\n",
            "   micro avg       0.92      0.92      0.92      3157\n",
            "   macro avg       0.93      0.77      0.83      3157\n",
            "weighted avg       0.92      0.92      0.91      3157\n",
            "\n",
            "accuracy: 0.9204941400063351\n",
            "pecision: 0.9449838187702265\n",
            "recall: 0.5551330798479087\n",
            "f1 score: 0.6994011976047904\n",
            "Mean of: 0.944, std: (+/-) 0.005 [SVC]\n",
            "Mean of: 0.903, std: (+/-) 0.011 [Bagging SVC]\n",
            "\n"
          ],
          "name": "stdout"
        },
        {
          "output_type": "stream",
          "text": [
            "/usr/local/lib/python3.6/dist-packages/sklearn/linear_model/logistic.py:433: FutureWarning: Default solver will be changed to 'lbfgs' in 0.22. Specify a solver to silence this warning.\n",
            "  FutureWarning)\n",
            "/usr/local/lib/python3.6/dist-packages/sklearn/linear_model/logistic.py:433: FutureWarning: Default solver will be changed to 'lbfgs' in 0.22. Specify a solver to silence this warning.\n",
            "  FutureWarning)\n",
            "/usr/local/lib/python3.6/dist-packages/sklearn/linear_model/logistic.py:433: FutureWarning: Default solver will be changed to 'lbfgs' in 0.22. Specify a solver to silence this warning.\n",
            "  FutureWarning)\n",
            "/usr/local/lib/python3.6/dist-packages/sklearn/linear_model/logistic.py:433: FutureWarning: Default solver will be changed to 'lbfgs' in 0.22. Specify a solver to silence this warning.\n",
            "  FutureWarning)\n",
            "/usr/local/lib/python3.6/dist-packages/sklearn/linear_model/logistic.py:433: FutureWarning: Default solver will be changed to 'lbfgs' in 0.22. Specify a solver to silence this warning.\n",
            "  FutureWarning)\n",
            "/usr/local/lib/python3.6/dist-packages/sklearn/linear_model/logistic.py:433: FutureWarning: Default solver will be changed to 'lbfgs' in 0.22. Specify a solver to silence this warning.\n",
            "  FutureWarning)\n",
            "/usr/local/lib/python3.6/dist-packages/sklearn/linear_model/logistic.py:433: FutureWarning: Default solver will be changed to 'lbfgs' in 0.22. Specify a solver to silence this warning.\n",
            "  FutureWarning)\n",
            "/usr/local/lib/python3.6/dist-packages/sklearn/linear_model/logistic.py:433: FutureWarning: Default solver will be changed to 'lbfgs' in 0.22. Specify a solver to silence this warning.\n",
            "  FutureWarning)\n"
          ],
          "name": "stderr"
        },
        {
          "output_type": "stream",
          "text": [
            "LogisticRegression\n",
            "              precision    recall  f1-score   support\n",
            "\n",
            "           0       0.84      1.00      0.91      2631\n",
            "           1       0.67      0.03      0.05       526\n",
            "\n",
            "   micro avg       0.84      0.84      0.84      3157\n",
            "   macro avg       0.75      0.51      0.48      3157\n",
            "weighted avg       0.81      0.84      0.77      3157\n",
            "\n",
            "accuracy: 0.8356034209692746\n",
            "pecision: 0.6666666666666666\n",
            "recall: 0.026615969581749048\n",
            "f1 score: 0.05118829981718464\n",
            "Mean of: 0.833, std: (+/-) 0.005 [LogisticRegression]\n",
            "Mean of: 0.834, std: (+/-) 0.005 [Bagging LogisticRegression]\n",
            "\n"
          ],
          "name": "stdout"
        },
        {
          "output_type": "stream",
          "text": [
            "/usr/local/lib/python3.6/dist-packages/sklearn/linear_model/logistic.py:433: FutureWarning: Default solver will be changed to 'lbfgs' in 0.22. Specify a solver to silence this warning.\n",
            "  FutureWarning)\n",
            "/usr/local/lib/python3.6/dist-packages/sklearn/linear_model/logistic.py:433: FutureWarning: Default solver will be changed to 'lbfgs' in 0.22. Specify a solver to silence this warning.\n",
            "  FutureWarning)\n"
          ],
          "name": "stderr"
        }
      ]
    },
    {
      "metadata": {
        "id": "w8sxF70jIZOs",
        "colab_type": "code",
        "outputId": "57a93cc3-b8ea-43fc-a57b-c3cdbf6d949b",
        "colab": {
          "base_uri": "https://localhost:8080/",
          "height": 2131
        }
      },
      "cell_type": "code",
      "source": [
        "#Boosting - base RandomForest classifier\n",
        "from sklearn.metrics import classification_report\n",
        "AdaBoost_clf = AdaBoostClassifier(base_estimator=rf, random_state=seed)\n",
        "AdaBoost_scores = cross_val_score(AdaBoost_clf, X_train, y_train, cv=10,n_jobs=-1)\n",
        "AdaBoost_clf.fit(X_train,y_train)\n",
        "y_pred_boosting = AdaBoost_clf.predict(X_test)\n",
        "print(\"Boosting - Random Forest scores\")\n",
        "print(classification_report(y_test,y_pred_boosting))\n",
        "print(\"accuracy:\", accuracy_score(y_test, y_pred_boosting))\n",
        "print(\"pecision:\", precision_score(y_test, y_pred_boosting))\n",
        "print(\"recall:\", recall_score(y_test, y_pred_boosting)) \n",
        "print(\"f1 score:\", f1_score(y_test, y_pred_boosting)) \n"
      ],
      "execution_count": 65,
      "outputs": [
        {
          "output_type": "stream",
          "text": [
            "/usr/local/lib/python3.6/dist-packages/sklearn/ensemble/forest.py:246: FutureWarning: The default value of n_estimators will change from 10 in version 0.20 to 100 in 0.22.\n",
            "  \"10 in version 0.20 to 100 in 0.22.\", FutureWarning)\n",
            "/usr/local/lib/python3.6/dist-packages/sklearn/ensemble/forest.py:246: FutureWarning: The default value of n_estimators will change from 10 in version 0.20 to 100 in 0.22.\n",
            "  \"10 in version 0.20 to 100 in 0.22.\", FutureWarning)\n",
            "/usr/local/lib/python3.6/dist-packages/sklearn/ensemble/forest.py:246: FutureWarning: The default value of n_estimators will change from 10 in version 0.20 to 100 in 0.22.\n",
            "  \"10 in version 0.20 to 100 in 0.22.\", FutureWarning)\n",
            "/usr/local/lib/python3.6/dist-packages/sklearn/ensemble/forest.py:246: FutureWarning: The default value of n_estimators will change from 10 in version 0.20 to 100 in 0.22.\n",
            "  \"10 in version 0.20 to 100 in 0.22.\", FutureWarning)\n",
            "/usr/local/lib/python3.6/dist-packages/sklearn/ensemble/forest.py:246: FutureWarning: The default value of n_estimators will change from 10 in version 0.20 to 100 in 0.22.\n",
            "  \"10 in version 0.20 to 100 in 0.22.\", FutureWarning)\n",
            "/usr/local/lib/python3.6/dist-packages/sklearn/ensemble/forest.py:246: FutureWarning: The default value of n_estimators will change from 10 in version 0.20 to 100 in 0.22.\n",
            "  \"10 in version 0.20 to 100 in 0.22.\", FutureWarning)\n",
            "/usr/local/lib/python3.6/dist-packages/sklearn/ensemble/forest.py:246: FutureWarning: The default value of n_estimators will change from 10 in version 0.20 to 100 in 0.22.\n",
            "  \"10 in version 0.20 to 100 in 0.22.\", FutureWarning)\n",
            "/usr/local/lib/python3.6/dist-packages/sklearn/ensemble/forest.py:246: FutureWarning: The default value of n_estimators will change from 10 in version 0.20 to 100 in 0.22.\n",
            "  \"10 in version 0.20 to 100 in 0.22.\", FutureWarning)\n",
            "/usr/local/lib/python3.6/dist-packages/sklearn/ensemble/forest.py:246: FutureWarning: The default value of n_estimators will change from 10 in version 0.20 to 100 in 0.22.\n",
            "  \"10 in version 0.20 to 100 in 0.22.\", FutureWarning)\n",
            "/usr/local/lib/python3.6/dist-packages/sklearn/ensemble/forest.py:246: FutureWarning: The default value of n_estimators will change from 10 in version 0.20 to 100 in 0.22.\n",
            "  \"10 in version 0.20 to 100 in 0.22.\", FutureWarning)\n",
            "/usr/local/lib/python3.6/dist-packages/sklearn/ensemble/forest.py:246: FutureWarning: The default value of n_estimators will change from 10 in version 0.20 to 100 in 0.22.\n",
            "  \"10 in version 0.20 to 100 in 0.22.\", FutureWarning)\n",
            "/usr/local/lib/python3.6/dist-packages/sklearn/ensemble/forest.py:246: FutureWarning: The default value of n_estimators will change from 10 in version 0.20 to 100 in 0.22.\n",
            "  \"10 in version 0.20 to 100 in 0.22.\", FutureWarning)\n",
            "/usr/local/lib/python3.6/dist-packages/sklearn/ensemble/forest.py:246: FutureWarning: The default value of n_estimators will change from 10 in version 0.20 to 100 in 0.22.\n",
            "  \"10 in version 0.20 to 100 in 0.22.\", FutureWarning)\n",
            "/usr/local/lib/python3.6/dist-packages/sklearn/ensemble/forest.py:246: FutureWarning: The default value of n_estimators will change from 10 in version 0.20 to 100 in 0.22.\n",
            "  \"10 in version 0.20 to 100 in 0.22.\", FutureWarning)\n",
            "/usr/local/lib/python3.6/dist-packages/sklearn/ensemble/forest.py:246: FutureWarning: The default value of n_estimators will change from 10 in version 0.20 to 100 in 0.22.\n",
            "  \"10 in version 0.20 to 100 in 0.22.\", FutureWarning)\n",
            "/usr/local/lib/python3.6/dist-packages/sklearn/ensemble/forest.py:246: FutureWarning: The default value of n_estimators will change from 10 in version 0.20 to 100 in 0.22.\n",
            "  \"10 in version 0.20 to 100 in 0.22.\", FutureWarning)\n",
            "/usr/local/lib/python3.6/dist-packages/sklearn/ensemble/forest.py:246: FutureWarning: The default value of n_estimators will change from 10 in version 0.20 to 100 in 0.22.\n",
            "  \"10 in version 0.20 to 100 in 0.22.\", FutureWarning)\n",
            "/usr/local/lib/python3.6/dist-packages/sklearn/ensemble/forest.py:246: FutureWarning: The default value of n_estimators will change from 10 in version 0.20 to 100 in 0.22.\n",
            "  \"10 in version 0.20 to 100 in 0.22.\", FutureWarning)\n",
            "/usr/local/lib/python3.6/dist-packages/sklearn/ensemble/forest.py:246: FutureWarning: The default value of n_estimators will change from 10 in version 0.20 to 100 in 0.22.\n",
            "  \"10 in version 0.20 to 100 in 0.22.\", FutureWarning)\n",
            "/usr/local/lib/python3.6/dist-packages/sklearn/ensemble/forest.py:246: FutureWarning: The default value of n_estimators will change from 10 in version 0.20 to 100 in 0.22.\n",
            "  \"10 in version 0.20 to 100 in 0.22.\", FutureWarning)\n",
            "/usr/local/lib/python3.6/dist-packages/sklearn/ensemble/forest.py:246: FutureWarning: The default value of n_estimators will change from 10 in version 0.20 to 100 in 0.22.\n",
            "  \"10 in version 0.20 to 100 in 0.22.\", FutureWarning)\n",
            "/usr/local/lib/python3.6/dist-packages/sklearn/ensemble/forest.py:246: FutureWarning: The default value of n_estimators will change from 10 in version 0.20 to 100 in 0.22.\n",
            "  \"10 in version 0.20 to 100 in 0.22.\", FutureWarning)\n",
            "/usr/local/lib/python3.6/dist-packages/sklearn/ensemble/forest.py:246: FutureWarning: The default value of n_estimators will change from 10 in version 0.20 to 100 in 0.22.\n",
            "  \"10 in version 0.20 to 100 in 0.22.\", FutureWarning)\n",
            "/usr/local/lib/python3.6/dist-packages/sklearn/ensemble/forest.py:246: FutureWarning: The default value of n_estimators will change from 10 in version 0.20 to 100 in 0.22.\n",
            "  \"10 in version 0.20 to 100 in 0.22.\", FutureWarning)\n",
            "/usr/local/lib/python3.6/dist-packages/sklearn/ensemble/forest.py:246: FutureWarning: The default value of n_estimators will change from 10 in version 0.20 to 100 in 0.22.\n",
            "  \"10 in version 0.20 to 100 in 0.22.\", FutureWarning)\n",
            "/usr/local/lib/python3.6/dist-packages/sklearn/ensemble/forest.py:246: FutureWarning: The default value of n_estimators will change from 10 in version 0.20 to 100 in 0.22.\n",
            "  \"10 in version 0.20 to 100 in 0.22.\", FutureWarning)\n",
            "/usr/local/lib/python3.6/dist-packages/sklearn/ensemble/forest.py:246: FutureWarning: The default value of n_estimators will change from 10 in version 0.20 to 100 in 0.22.\n",
            "  \"10 in version 0.20 to 100 in 0.22.\", FutureWarning)\n",
            "/usr/local/lib/python3.6/dist-packages/sklearn/ensemble/forest.py:246: FutureWarning: The default value of n_estimators will change from 10 in version 0.20 to 100 in 0.22.\n",
            "  \"10 in version 0.20 to 100 in 0.22.\", FutureWarning)\n",
            "/usr/local/lib/python3.6/dist-packages/sklearn/ensemble/forest.py:246: FutureWarning: The default value of n_estimators will change from 10 in version 0.20 to 100 in 0.22.\n",
            "  \"10 in version 0.20 to 100 in 0.22.\", FutureWarning)\n",
            "/usr/local/lib/python3.6/dist-packages/sklearn/ensemble/forest.py:246: FutureWarning: The default value of n_estimators will change from 10 in version 0.20 to 100 in 0.22.\n",
            "  \"10 in version 0.20 to 100 in 0.22.\", FutureWarning)\n",
            "/usr/local/lib/python3.6/dist-packages/sklearn/ensemble/forest.py:246: FutureWarning: The default value of n_estimators will change from 10 in version 0.20 to 100 in 0.22.\n",
            "  \"10 in version 0.20 to 100 in 0.22.\", FutureWarning)\n",
            "/usr/local/lib/python3.6/dist-packages/sklearn/ensemble/forest.py:246: FutureWarning: The default value of n_estimators will change from 10 in version 0.20 to 100 in 0.22.\n",
            "  \"10 in version 0.20 to 100 in 0.22.\", FutureWarning)\n",
            "/usr/local/lib/python3.6/dist-packages/sklearn/ensemble/forest.py:246: FutureWarning: The default value of n_estimators will change from 10 in version 0.20 to 100 in 0.22.\n",
            "  \"10 in version 0.20 to 100 in 0.22.\", FutureWarning)\n",
            "/usr/local/lib/python3.6/dist-packages/sklearn/ensemble/forest.py:246: FutureWarning: The default value of n_estimators will change from 10 in version 0.20 to 100 in 0.22.\n",
            "  \"10 in version 0.20 to 100 in 0.22.\", FutureWarning)\n",
            "/usr/local/lib/python3.6/dist-packages/sklearn/ensemble/forest.py:246: FutureWarning: The default value of n_estimators will change from 10 in version 0.20 to 100 in 0.22.\n",
            "  \"10 in version 0.20 to 100 in 0.22.\", FutureWarning)\n",
            "/usr/local/lib/python3.6/dist-packages/sklearn/ensemble/forest.py:246: FutureWarning: The default value of n_estimators will change from 10 in version 0.20 to 100 in 0.22.\n",
            "  \"10 in version 0.20 to 100 in 0.22.\", FutureWarning)\n",
            "/usr/local/lib/python3.6/dist-packages/sklearn/ensemble/forest.py:246: FutureWarning: The default value of n_estimators will change from 10 in version 0.20 to 100 in 0.22.\n",
            "  \"10 in version 0.20 to 100 in 0.22.\", FutureWarning)\n",
            "/usr/local/lib/python3.6/dist-packages/sklearn/ensemble/forest.py:246: FutureWarning: The default value of n_estimators will change from 10 in version 0.20 to 100 in 0.22.\n",
            "  \"10 in version 0.20 to 100 in 0.22.\", FutureWarning)\n",
            "/usr/local/lib/python3.6/dist-packages/sklearn/ensemble/forest.py:246: FutureWarning: The default value of n_estimators will change from 10 in version 0.20 to 100 in 0.22.\n",
            "  \"10 in version 0.20 to 100 in 0.22.\", FutureWarning)\n",
            "/usr/local/lib/python3.6/dist-packages/sklearn/ensemble/forest.py:246: FutureWarning: The default value of n_estimators will change from 10 in version 0.20 to 100 in 0.22.\n",
            "  \"10 in version 0.20 to 100 in 0.22.\", FutureWarning)\n",
            "/usr/local/lib/python3.6/dist-packages/sklearn/ensemble/forest.py:246: FutureWarning: The default value of n_estimators will change from 10 in version 0.20 to 100 in 0.22.\n",
            "  \"10 in version 0.20 to 100 in 0.22.\", FutureWarning)\n",
            "/usr/local/lib/python3.6/dist-packages/sklearn/ensemble/forest.py:246: FutureWarning: The default value of n_estimators will change from 10 in version 0.20 to 100 in 0.22.\n",
            "  \"10 in version 0.20 to 100 in 0.22.\", FutureWarning)\n",
            "/usr/local/lib/python3.6/dist-packages/sklearn/ensemble/forest.py:246: FutureWarning: The default value of n_estimators will change from 10 in version 0.20 to 100 in 0.22.\n",
            "  \"10 in version 0.20 to 100 in 0.22.\", FutureWarning)\n",
            "/usr/local/lib/python3.6/dist-packages/sklearn/ensemble/forest.py:246: FutureWarning: The default value of n_estimators will change from 10 in version 0.20 to 100 in 0.22.\n",
            "  \"10 in version 0.20 to 100 in 0.22.\", FutureWarning)\n",
            "/usr/local/lib/python3.6/dist-packages/sklearn/ensemble/forest.py:246: FutureWarning: The default value of n_estimators will change from 10 in version 0.20 to 100 in 0.22.\n",
            "  \"10 in version 0.20 to 100 in 0.22.\", FutureWarning)\n",
            "/usr/local/lib/python3.6/dist-packages/sklearn/ensemble/forest.py:246: FutureWarning: The default value of n_estimators will change from 10 in version 0.20 to 100 in 0.22.\n",
            "  \"10 in version 0.20 to 100 in 0.22.\", FutureWarning)\n",
            "/usr/local/lib/python3.6/dist-packages/sklearn/ensemble/forest.py:246: FutureWarning: The default value of n_estimators will change from 10 in version 0.20 to 100 in 0.22.\n",
            "  \"10 in version 0.20 to 100 in 0.22.\", FutureWarning)\n",
            "/usr/local/lib/python3.6/dist-packages/sklearn/ensemble/forest.py:246: FutureWarning: The default value of n_estimators will change from 10 in version 0.20 to 100 in 0.22.\n",
            "  \"10 in version 0.20 to 100 in 0.22.\", FutureWarning)\n",
            "/usr/local/lib/python3.6/dist-packages/sklearn/ensemble/forest.py:246: FutureWarning: The default value of n_estimators will change from 10 in version 0.20 to 100 in 0.22.\n",
            "  \"10 in version 0.20 to 100 in 0.22.\", FutureWarning)\n",
            "/usr/local/lib/python3.6/dist-packages/sklearn/ensemble/forest.py:246: FutureWarning: The default value of n_estimators will change from 10 in version 0.20 to 100 in 0.22.\n",
            "  \"10 in version 0.20 to 100 in 0.22.\", FutureWarning)\n"
          ],
          "name": "stderr"
        },
        {
          "output_type": "stream",
          "text": [
            "Boosting - Random Forest scores\n",
            "              precision    recall  f1-score   support\n",
            "\n",
            "           0       0.99      0.99      0.99      2631\n",
            "           1       0.97      0.93      0.95       526\n",
            "\n",
            "   micro avg       0.98      0.98      0.98      3157\n",
            "   macro avg       0.98      0.96      0.97      3157\n",
            "weighted avg       0.98      0.98      0.98      3157\n",
            "\n",
            "accuracy: 0.9822616407982262\n",
            "pecision: 0.9662698412698413\n",
            "recall: 0.9258555133079848\n",
            "f1 score: 0.945631067961165\n"
          ],
          "name": "stdout"
        }
      ]
    },
    {
      "metadata": {
        "id": "L5EcscTTKMUd",
        "colab_type": "code",
        "outputId": "5e7e35b7-17cf-45e9-a167-0ec298453637",
        "colab": {
          "base_uri": "https://localhost:8080/",
          "height": 295
        }
      },
      "cell_type": "code",
      "source": [
        "#ROC Curve usinf RandomForest Boosting\n",
        "from sklearn.metrics import roc_curve, auc\n",
        "from sklearn import metrics\n",
        "fpr, tpr, threshold = metrics.roc_curve(y_test, y_pred_boosting)\n",
        "roc_auc = metrics.auc(fpr, tpr)\n",
        "import matplotlib.pyplot as plt\n",
        "plt.title('Receiver Operating Characteristic')\n",
        "plt.plot(fpr, tpr, 'b', label = 'AUC = %0.2f' % roc_auc)\n",
        "plt.legend(loc = 'lower right')\n",
        "plt.plot([0, 1], [0, 1],'r--')\n",
        "plt.xlim([0, 1])\n",
        "plt.ylim([0, 1])\n",
        "plt.ylabel('True Positive Rate')\n",
        "plt.xlabel('False Positive Rate')\n",
        "plt.show()"
      ],
      "execution_count": 66,
      "outputs": [
        {
          "output_type": "display_data",
          "data": {
            "image/png": "[encoded data removed]",
            "text/plain": [
              "<Figure size 432x288 with 1 Axes>"
            ]
          },
          "metadata": {
            "tags": []
          }
        }
      ]
    },
    {
      "metadata": {
        "id": "LQ65xgbJ7_lm",
        "colab_type": "code",
        "outputId": "2f887c2e-24a0-432e-b261-98288ddd1673",
        "colab": {
          "base_uri": "https://localhost:8080/",
          "height": 147
        }
      },
      "cell_type": "code",
      "source": [
        "#Using SVM-RBF kernel\n",
        "from sklearn import svm\n",
        "clf_svm = svm.SVC(kernel = 'rbf')\n",
        "clf_svm.fit(X_train,y_train)"
      ],
      "execution_count": 67,
      "outputs": [
        {
          "output_type": "stream",
          "text": [
            "/usr/local/lib/python3.6/dist-packages/sklearn/svm/base.py:196: FutureWarning: The default value of gamma will change from 'auto' to 'scale' in version 0.22 to account better for unscaled features. Set gamma explicitly to 'auto' or 'scale' to avoid this warning.\n",
            "  \"avoid this warning.\", FutureWarning)\n"
          ],
          "name": "stderr"
        },
        {
          "output_type": "execute_result",
          "data": {
            "text/plain": [
              "SVC(C=1.0, cache_size=200, class_weight=None, coef0=0.0,\n",
              "  decision_function_shape='ovr', degree=3, gamma='auto_deprecated',\n",
              "  kernel='rbf', max_iter=-1, probability=False, random_state=None,\n",
              "  shrinking=True, tol=0.001, verbose=False)"
            ]
          },
          "metadata": {
            "tags": []
          },
          "execution_count": 67
        }
      ]
    },
    {
      "metadata": {
        "id": "xUt1ek7u8p43",
        "colab_type": "code",
        "outputId": "b4536858-d036-4fc3-a98e-910a30a7b681",
        "colab": {
          "base_uri": "https://localhost:8080/",
          "height": 256
        }
      },
      "cell_type": "code",
      "source": [
        "y_pred_svm = clf_svm.predict(X_test)\n",
        "from sklearn.metrics import accuracy_score, classification_report,recall_score, precision_score, f1_score\n",
        "print(classification_report(y_test, y_pred_svm))\n",
        "print(\"accuracy:\", accuracy_score(y_test, y_pred_svm))\n",
        "print(\"pecision:\", precision_score(y_test, y_pred_svm))\n",
        "print(\"recall:\", recall_score(y_test, y_pred_svm)) \n",
        "print(\"f1 score:\", f1_score(y_test, y_pred_svm)) "
      ],
      "execution_count": 68,
      "outputs": [
        {
          "output_type": "stream",
          "text": [
            "              precision    recall  f1-score   support\n",
            "\n",
            "           0       0.96      0.97      0.97      2631\n",
            "           1       0.86      0.80      0.83       526\n",
            "\n",
            "   micro avg       0.95      0.95      0.95      3157\n",
            "   macro avg       0.91      0.89      0.90      3157\n",
            "weighted avg       0.94      0.95      0.94      3157\n",
            "\n",
            "accuracy: 0.9455178967374089\n",
            "pecision: 0.8627049180327869\n",
            "recall: 0.8003802281368821\n",
            "f1 score: 0.8303747534516767\n"
          ],
          "name": "stdout"
        }
      ]
    },
    {
      "metadata": {
        "id": "tTwz6tp4nBrM",
        "colab_type": "code",
        "outputId": "4ffc74b8-9a37-4f0b-c4cb-8467d2963ae3",
        "colab": {
          "base_uri": "https://localhost:8080/",
          "height": 54
        }
      },
      "cell_type": "code",
      "source": [
        "#Quadratic Discriminant Analysis\n",
        "from sklearn.discriminant_analysis import QuadraticDiscriminantAnalysis\n",
        "\n",
        "clf_qda = QuadraticDiscriminantAnalysis()\n",
        "clf_qda.fit(X_train,y_train)"
      ],
      "execution_count": 69,
      "outputs": [
        {
          "output_type": "execute_result",
          "data": {
            "text/plain": [
              "QuadraticDiscriminantAnalysis(priors=None, reg_param=0.0,\n",
              "               store_covariance=False, store_covariances=None, tol=0.0001)"
            ]
          },
          "metadata": {
            "tags": []
          },
          "execution_count": 69
        }
      ]
    },
    {
      "metadata": {
        "id": "ug2q0cJbmyih",
        "colab_type": "code",
        "outputId": "8dbb3a11-142b-4e0f-aaf5-9ef26841a280",
        "colab": {
          "base_uri": "https://localhost:8080/",
          "height": 256
        }
      },
      "cell_type": "code",
      "source": [
        "y_pred_qda = clf_qda.predict(X_test)\n",
        "from sklearn.metrics import accuracy_score, classification_report,recall_score, precision_score, f1_score\n",
        "print(classification_report(y_test, y_pred_qda))\n",
        "print(\"accuracy:\", accuracy_score(y_test, y_pred_qda))\n",
        "print(\"pecision:\", precision_score(y_test, y_pred_qda))\n",
        "print(\"recall:\", recall_score(y_test, y_pred_qda)) \n",
        "print(\"f1 score:\", f1_score(y_test, y_pred_qda)) "
      ],
      "execution_count": 70,
      "outputs": [
        {
          "output_type": "stream",
          "text": [
            "              precision    recall  f1-score   support\n",
            "\n",
            "           0       0.84      0.98      0.91      2631\n",
            "           1       0.50      0.09      0.15       526\n",
            "\n",
            "   micro avg       0.83      0.83      0.83      3157\n",
            "   macro avg       0.67      0.54      0.53      3157\n",
            "weighted avg       0.79      0.83      0.78      3157\n",
            "\n",
            "accuracy: 0.8333861260690529\n",
            "pecision: 0.5\n",
            "recall: 0.08935361216730038\n",
            "f1 score: 0.15161290322580645\n"
          ],
          "name": "stdout"
        }
      ]
    },
    {
      "metadata": {
        "id": "66Mb2rA0oaGj",
        "colab_type": "text"
      },
      "cell_type": "markdown",
      "source": [
        "## RNN"
      ]
    },
    {
      "metadata": {
        "id": "Fxli8nsUoYoG",
        "colab_type": "code",
        "colab": {}
      },
      "cell_type": "code",
      "source": [
        "# Set RNN parameters\n",
        "epochs = 10\n",
        "batch_size = 60\n",
        "max_features = 15000\n",
        "maxlen = 500"
      ],
      "execution_count": 0,
      "outputs": []
    },
    {
      "metadata": {
        "id": "Y0DoYqgd4hqQ",
        "colab_type": "code",
        "colab": {}
      },
      "cell_type": "code",
      "source": [
        "text_data = list(df_upsam[\"reviewText\"])\n",
        "text_label =  list(df_upsam[\"labels\"])"
      ],
      "execution_count": 0,
      "outputs": []
    },
    {
      "metadata": {
        "id": "QyMagr497Xnb",
        "colab_type": "code",
        "outputId": "8dec2c61-7cf5-45b4-9e36-c4793237e9cc",
        "colab": {
          "base_uri": "https://localhost:8080/",
          "height": 54
        }
      },
      "cell_type": "code",
      "source": [
        "print(len(text_data))\n",
        "print(len(text_label))"
      ],
      "execution_count": 75,
      "outputs": [
        {
          "output_type": "stream",
          "text": [
            "9564\n",
            "9564\n"
          ],
          "name": "stdout"
        }
      ]
    },
    {
      "metadata": {
        "id": "VxJxusrM7wSF",
        "colab_type": "code",
        "colab": {}
      },
      "cell_type": "code",
      "source": [
        "import re\n",
        "\n",
        "def clean_text(text_string):\n",
        "    text_string = re.sub(r'([^\\s\\w]|_|[0-9])+', '', text_string)\n",
        "    text_string = \" \".join(text_string.split())\n",
        "    text_string = text_string.lower()\n",
        "    return text_string\n",
        "\n",
        "\n",
        "# Clean texts\n",
        "text_data = [clean_text(x) for x in text_data]\n",
        "\n"
      ],
      "execution_count": 0,
      "outputs": []
    },
    {
      "metadata": {
        "id": "8PzLMTRZ-hSp",
        "colab_type": "code",
        "outputId": "529c5416-f0d5-420b-d671-dcccf2650215",
        "colab": {
          "base_uri": "https://localhost:8080/",
          "height": 72
        }
      },
      "cell_type": "code",
      "source": [
        "from keras.layers import SimpleRNN, Embedding, Dense, LSTM\n",
        "from keras.models import Sequential\n",
        "\n",
        "from keras.preprocessing.text import Tokenizer\n",
        "from keras.preprocessing.sequence import pad_sequences\n",
        "\n",
        "# number of words used as features\n",
        "max_features = 15000\n",
        "# cut off the words after seeing 500 words in each review.\n",
        "maxlen = 500\n",
        "\n",
        "tokenizer = Tokenizer()\n",
        "tokenizer.fit_on_texts(text_data)\n",
        "sequences = tokenizer.texts_to_sequences(text_data)\n",
        "\n",
        "word_index = tokenizer.word_index\n",
        "print(\"Found {0} unique words: \".format(len(word_index)))\n",
        "\n",
        "data = pad_sequences(sequences, maxlen=maxlen)\n",
        "\n",
        "print(\"data shape: \", data.shape)\n",
        "\n",
        "#np.random.seed(42)"
      ],
      "execution_count": 78,
      "outputs": [
        {
          "output_type": "stream",
          "text": [
            "Using TensorFlow backend.\n"
          ],
          "name": "stderr"
        },
        {
          "output_type": "stream",
          "text": [
            "Found 14471 unique words: \n",
            "data shape:  (9564, 500)\n"
          ],
          "name": "stdout"
        }
      ]
    },
    {
      "metadata": {
        "id": "zTP70m2uBOyC",
        "colab_type": "code",
        "colab": {}
      },
      "cell_type": "code",
      "source": [
        "x_train_rnn, x_test_rnn, y_train_rnn, y_test_rnn = train_test_split(data, text_label, test_size=0.33, random_state=np.random.RandomState(), stratify = text_label)"
      ],
      "execution_count": 0,
      "outputs": []
    },
    {
      "metadata": {
        "id": "KBJ2S1gc96MI",
        "colab_type": "code",
        "outputId": "c2823bf3-c749-4ef9-c1cd-1636d7ca307e",
        "colab": {
          "base_uri": "https://localhost:8080/",
          "height": 533
        }
      },
      "cell_type": "code",
      "source": [
        "\n",
        "models = Sequential()\n",
        "models.add(Embedding(max_features, 32))\n",
        "models.add(SimpleRNN(32))\n",
        "models.add(Dense(1, activation='sigmoid'))\n",
        "\n",
        "models.compile(optimizer='rmsprop', loss='binary_crossentropy', metrics=['acc'])\n",
        "history_rnn_new = models.fit(x_train_rnn, y_train_rnn, epochs=10, batch_size=60, validation_split=0.2)"
      ],
      "execution_count": 80,
      "outputs": [
        {
          "output_type": "stream",
          "text": [
            "WARNING:tensorflow:From /usr/local/lib/python3.6/dist-packages/tensorflow/python/framework/op_def_library.py:263: colocate_with (from tensorflow.python.framework.ops) is deprecated and will be removed in a future version.\n",
            "Instructions for updating:\n",
            "Colocations handled automatically by placer.\n",
            "WARNING:tensorflow:From /usr/local/lib/python3.6/dist-packages/tensorflow/python/ops/math_ops.py:3066: to_int32 (from tensorflow.python.ops.math_ops) is deprecated and will be removed in a future version.\n",
            "Instructions for updating:\n",
            "Use tf.cast instead.\n",
            "Train on 5125 samples, validate on 1282 samples\n",
            "Epoch 1/10\n",
            "5125/5125 [==============================] - 8s 2ms/step - loss: 0.4928 - acc: 0.8070 - val_loss: 0.4260 - val_acc: 0.8331\n",
            "Epoch 2/10\n",
            "5125/5125 [==============================] - 7s 1ms/step - loss: 0.2909 - acc: 0.8878 - val_loss: 0.2331 - val_acc: 0.9275\n",
            "Epoch 3/10\n",
            "5125/5125 [==============================] - 7s 1ms/step - loss: 0.1246 - acc: 0.9618 - val_loss: 0.1427 - val_acc: 0.9509\n",
            "Epoch 4/10\n",
            "5125/5125 [==============================] - 8s 1ms/step - loss: 0.0618 - acc: 0.9832 - val_loss: 0.0968 - val_acc: 0.9719\n",
            "Epoch 5/10\n",
            "5125/5125 [==============================] - 7s 1ms/step - loss: 0.0407 - acc: 0.9887 - val_loss: 0.0930 - val_acc: 0.9704\n",
            "Epoch 6/10\n",
            "5125/5125 [==============================] - 7s 1ms/step - loss: 0.0228 - acc: 0.9943 - val_loss: 0.0754 - val_acc: 0.9766\n",
            "Epoch 7/10\n",
            "5125/5125 [==============================] - 7s 1ms/step - loss: 0.0120 - acc: 0.9977 - val_loss: 0.0735 - val_acc: 0.9782\n",
            "Epoch 8/10\n",
            "5125/5125 [==============================] - 7s 1ms/step - loss: 0.0608 - acc: 0.9776 - val_loss: 0.1018 - val_acc: 0.9618\n",
            "Epoch 9/10\n",
            "5125/5125 [==============================] - 7s 1ms/step - loss: 0.0122 - acc: 0.9955 - val_loss: 0.0701 - val_acc: 0.9828\n",
            "Epoch 10/10\n",
            "5125/5125 [==============================] - 7s 1ms/step - loss: 0.0031 - acc: 0.9992 - val_loss: 0.0718 - val_acc: 0.9821\n"
          ],
          "name": "stdout"
        }
      ]
    },
    {
      "metadata": {
        "id": "3JX-Mi5-CUpr",
        "colab_type": "code",
        "outputId": "80edcd10-cde5-44d3-a76e-9c0ea1aa94d6",
        "colab": {
          "base_uri": "https://localhost:8080/",
          "height": 90
        }
      },
      "cell_type": "code",
      "source": [
        "pred = models.predict_classes(x_test_rnn)\n",
        "acc = models.evaluate(x_test_rnn, y_test_rnn)\n",
        "proba_rnn = models.predict_proba(x_test_rnn)\n",
        "from sklearn.metrics import confusion_matrix\n",
        "print(\"Test loss is {0:.2f} accuracy is {1:.2f}  \".format(acc[0],acc[1]))\n",
        "print(confusion_matrix(pred, y_test_rnn))"
      ],
      "execution_count": 81,
      "outputs": [
        {
          "output_type": "stream",
          "text": [
            "3157/3157 [==============================] - 2s 505us/step\n",
            "Test loss is 0.07 accuracy is 0.98  \n",
            "[[2603   34]\n",
            " [  28  492]]\n"
          ],
          "name": "stdout"
        }
      ]
    },
    {
      "metadata": {
        "id": "lLzRP3U7SjA2",
        "colab_type": "code",
        "outputId": "17fe8636-7387-4d17-c237-35fdb420f293",
        "colab": {
          "base_uri": "https://localhost:8080/",
          "height": 256
        }
      },
      "cell_type": "code",
      "source": [
        "from sklearn.metrics import accuracy_score, classification_report,recall_score, precision_score\n",
        "print(classification_report(y_test_rnn, pred))\n",
        "print(\"accuracy:\", accuracy_score(y_test_rnn, pred))\n",
        "print(\"pecision:\", precision_score(y_test_rnn, pred))\n",
        "print(\"recall:\", recall_score(y_test_rnn, pred)) \n",
        "print(\"f1 score:\", f1_score(y_test_rnn, pred)) "
      ],
      "execution_count": 82,
      "outputs": [
        {
          "output_type": "stream",
          "text": [
            "              precision    recall  f1-score   support\n",
            "\n",
            "           0       0.99      0.99      0.99      2631\n",
            "           1       0.95      0.94      0.94       526\n",
            "\n",
            "   micro avg       0.98      0.98      0.98      3157\n",
            "   macro avg       0.97      0.96      0.96      3157\n",
            "weighted avg       0.98      0.98      0.98      3157\n",
            "\n",
            "accuracy: 0.9803611023123219\n",
            "pecision: 0.9461538461538461\n",
            "recall: 0.935361216730038\n",
            "f1 score: 0.9407265774378585\n"
          ],
          "name": "stdout"
        }
      ]
    }
  ]
}