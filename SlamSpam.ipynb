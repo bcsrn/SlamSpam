{
  "nbformat": 4,
  "nbformat_minor": 0,
  "metadata": {
    "colab": {
      "name": "SlamSpam.ipynb",
      "version": "0.3.2",
      "provenance": [],
      "collapsed_sections": [
        "b9qq32KY0Id2",
        "57bvUqxd0UXn",
        "Y-FfQvZ30hCs",
        "uY7capNR0paI",
        "bipAuvHk0_3n",
        "5s348T4L1HL-",
        "cStPE7Bm1K33",
        "SKl16vnt1PYv",
        "MXeisotQ1XHA",
        "0z6WU4ir1m4P",
        "lRdkFZdj6UX6",
        "8qykEFFG6N5n",
        "66Mb2rA0oaGj",
        "P-Z2CFbYsPqi",
        "1Vsp9Buh52rC"
      ],
      "include_colab_link": true
    },
    "kernelspec": {
      "name": "python3",
      "display_name": "Python 3"
    }
  },
  "cells": [
    {
      "cell_type": "markdown",
      "metadata": {
        "id": "view-in-github",
        "colab_type": "text"
      },
      "source": [
        "<a href=\"https://colab.research.google.com/github/bcsrn/SlamSpam/blob/master/SlamSpam.ipynb\" target=\"_parent\"><img src=\"https://colab.research.google.com/assets/colab-badge.svg\" alt=\"Open In Colab\"/></a>"
      ]
    },
    {
      "metadata": {
        "id": "b9qq32KY0Id2",
        "colab_type": "text"
      },
      "cell_type": "markdown",
      "source": [
        "#*Loading data*\n",
        "\n",
        "---\n",
        "\n"
      ]
    },
    {
      "metadata": {
        "id": "42TFhKdz9lCg",
        "colab_type": "code",
        "colab": {}
      },
      "cell_type": "code",
      "source": [
        "from google.colab import drive\n",
        "import numpy as np\n",
        "import os\n",
        "import pandas as pd\n"
      ],
      "execution_count": 0,
      "outputs": []
    },
    {
      "metadata": {
        "id": "SXD2NXdS9yci",
        "colab_type": "code",
        "outputId": "6b4b0046-ddfb-4ba9-baab-e9f5f88c2467",
        "colab": {
          "base_uri": "https://localhost:8080/",
          "height": 129
        }
      },
      "cell_type": "code",
      "source": [
        "#mounting the google drive\n",
        "drive.mount('/content/gdrive')"
      ],
      "execution_count": 2,
      "outputs": [
        {
          "output_type": "stream",
          "text": [
            "Go to this URL in a browser: https://accounts.google.com/o/oauth2/auth?client_id=947318989803-6bn6qk8qdgf4n4g3pfee6491hc0brc4i.apps.googleusercontent.com&redirect_uri=urn%3Aietf%3Awg%3Aoauth%3A2.0%3Aoob&scope=email%20https%3A%2F%2Fwww.googleapis.com%2Fauth%2Fdocs.test%20https%3A%2F%2Fwww.googleapis.com%2Fauth%2Fdrive%20https%3A%2F%2Fwww.googleapis.com%2Fauth%2Fdrive.photos.readonly%20https%3A%2F%2Fwww.googleapis.com%2Fauth%2Fpeopleapi.readonly&response_type=code\n",
            "\n",
            "Enter your authorization code:\n",
            "··········\n",
            "Mounted at /content/gdrive\n"
          ],
          "name": "stdout"
        }
      ]
    },
    {
      "metadata": {
        "id": "NtFRXq3L913n",
        "colab_type": "code",
        "colab": {}
      },
      "cell_type": "code",
      "source": [
        "path = '/content/gdrive/My Drive/IR/Project/Data'"
      ],
      "execution_count": 0,
      "outputs": []
    },
    {
      "metadata": {
        "id": "bAxWHIDV_0Y0",
        "colab_type": "code",
        "colab": {}
      },
      "cell_type": "code",
      "source": [
        "## reading the data\n",
        "import pandas as pd \n",
        "import gzip \n",
        "\n",
        "def parse(path):  \n",
        "  g = gzip.open(path, 'rb') \n",
        "  for l in g: \n",
        "    yield eval(l) \n",
        "    \n",
        "def getDF(path): \n",
        "  i = 0 \n",
        "  df = {} \n",
        "  for d in parse(path): \n",
        "    df[i] = d \n",
        "    i += 1 \n",
        "  return pd.DataFrame.from_dict(df, orient='index') \n",
        "    \n",
        "df = getDF(path + '/Reviews_Electronics.json.gz')\n"
      ],
      "execution_count": 0,
      "outputs": []
    },
    {
      "metadata": {
        "id": "zi4eKu0IENBe",
        "colab_type": "code",
        "outputId": "868e0cf8-fd44-4d9e-80cc-e6f6b635b7cf",
        "colab": {
          "base_uri": "https://localhost:8080/",
          "height": 72
        }
      },
      "cell_type": "code",
      "source": [
        "#getting subset of dataset - focussed on 2 products\n",
        "#asin - product number\n",
        "df_1 = df.loc[df['asin'] == 'B007WTAJTO']\n",
        "df_2 = df.loc[df['asin'] == 'B0019EHU8G']\n",
        "df_new = df_1.append(df_2)\n",
        "print(df_new.shape)\n",
        "uniq_users = np.unique(df_new['reviewerID'])\n",
        "print(len(uniq_users))\n",
        "uniq_asins = np.unique(df_new['asin'])\n",
        "print(len(uniq_asins))"
      ],
      "execution_count": 5,
      "outputs": [
        {
          "output_type": "stream",
          "text": [
            "(8350, 9)\n",
            "8240\n",
            "2\n"
          ],
          "name": "stdout"
        }
      ]
    },
    {
      "metadata": {
        "id": "42MV0NhyK1-Q",
        "colab_type": "text"
      },
      "cell_type": "markdown",
      "source": [
        "#* Labeling Data*\n",
        "\n",
        "---\n",
        "\n"
      ]
    },
    {
      "metadata": {
        "id": "57bvUqxd0UXn",
        "colab_type": "text"
      },
      "cell_type": "markdown",
      "source": [
        "## TF-IDF on reviewText and Summary "
      ]
    },
    {
      "metadata": {
        "id": "7zfprtk3ERr1",
        "colab_type": "code",
        "outputId": "72b297cd-77b8-458a-d440-de3340177aa6",
        "colab": {
          "base_uri": "https://localhost:8080/",
          "height": 35
        }
      },
      "cell_type": "code",
      "source": [
        "#Tfidf on reviewText column\n",
        "from sklearn.feature_extraction.text import TfidfVectorizer\n",
        "\n",
        "textvector = list(df_new[\"reviewText\"])\n",
        "\n",
        "print(\"Length of tectvector:\", len(textvector))\n",
        "\n",
        "vectorizer = TfidfVectorizer(stop_words = 'english', min_df = 3)\n",
        "X = vectorizer.fit_transform(textvector)\n",
        "  \n"
      ],
      "execution_count": 8,
      "outputs": [
        {
          "output_type": "stream",
          "text": [
            "Length of tectvector: 8350\n"
          ],
          "name": "stdout"
        }
      ]
    },
    {
      "metadata": {
        "id": "oiJWP96MwXvi",
        "colab_type": "code",
        "colab": {}
      },
      "cell_type": "code",
      "source": [
        "#tfidf on the summary column\n",
        "from sklearn.feature_extraction.text import TfidfVectorizer\n",
        "\n",
        "summary_vector = list(df_new[\"summary\"])\n",
        "\n",
        "vectorizer_s = TfidfVectorizer(stop_words = 'english', min_df = 3)\n",
        "S = vectorizer_s.fit_transform(summary_vector)\n",
        "  "
      ],
      "execution_count": 0,
      "outputs": []
    },
    {
      "metadata": {
        "id": "K-mq6_nnwl0A",
        "colab_type": "code",
        "outputId": "63688a4a-4024-4a44-90c5-3f411f1b7225",
        "colab": {
          "base_uri": "https://localhost:8080/",
          "height": 35
        }
      },
      "cell_type": "code",
      "source": [
        "S.shape"
      ],
      "execution_count": 10,
      "outputs": [
        {
          "output_type": "execute_result",
          "data": {
            "text/plain": [
              "(8350, 724)"
            ]
          },
          "metadata": {
            "tags": []
          },
          "execution_count": 10
        }
      ]
    },
    {
      "metadata": {
        "id": "kK7IVo5XHkox",
        "colab_type": "code",
        "colab": {}
      },
      "cell_type": "code",
      "source": [
        "from sklearn.metrics.pairwise import cosine_similarity\n",
        "\n",
        "cosine = cosine_similarity(X)\n"
      ],
      "execution_count": 0,
      "outputs": []
    },
    {
      "metadata": {
        "id": "-6wE15VEH-YM",
        "colab_type": "text"
      },
      "cell_type": "markdown",
      "source": [
        "## Review Centric Features"
      ]
    },
    {
      "metadata": {
        "id": "Y-FfQvZ30hCs",
        "colab_type": "text"
      },
      "cell_type": "markdown",
      "source": [
        "### Feature - 7 : Duplicate reviews from different users\n"
      ]
    },
    {
      "metadata": {
        "id": "KACi1E50Kbao",
        "colab_type": "code",
        "outputId": "8f57a740-f953-432a-d8af-12185be3e4c5",
        "colab": {
          "base_uri": "https://localhost:8080/",
          "height": 0
        }
      },
      "cell_type": "code",
      "source": [
        "### Feature - 7 : Duplicate reviews from different users\n",
        "threshold = 0.9\n",
        "list_sim = {}\n",
        "for i,row in enumerate(cosine):\n",
        "  for j, element in enumerate(row):\n",
        "    if element >= threshold and i!=j:\n",
        "      reviewerID_1 = df_new.iloc[i]['reviewerID']\n",
        "      asin_reviewer_1 = df_new.iloc[i]['asin']\n",
        "      reviewerID_2 = df_new.iloc[j]['reviewerID']\n",
        "      asin_reviewer_2 = df_new.iloc[j]['asin']\n",
        "      key1 = (reviewerID_1, asin_reviewer_1)\n",
        "      key2 = (reviewerID_2, asin_reviewer_2)\n",
        "      if key1 not in list_sim.keys():\n",
        "        list_sim[key1] = 1\n",
        "      if key2 not in list_sim.keys():\n",
        "        list_sim[key2] = 1\n",
        "\n",
        "print(len(list_sim))\n",
        "print(list_sim)\n"
      ],
      "execution_count": 12,
      "outputs": [
        {
          "output_type": "stream",
          "text": [
            "16\n",
            "{('A3SBTW3WS4IQSN', 'B007WTAJTO'): 1, ('A2J22M1W2FG6P4', 'B007WTAJTO'): 1, ('A32Z0YUCFNLLD4', 'B007WTAJTO'): 1, ('A27IGO4RPYZDZL', 'B007WTAJTO'): 1, ('A3LKJ0Y9WPTD49', 'B007WTAJTO'): 1, ('A3JJZXOOLQYDT5', 'B007WTAJTO'): 1, ('A1987KVD4EHEM5', 'B007WTAJTO'): 1, ('A5J913IU0UZOE', 'B007WTAJTO'): 1, ('A1LRDKHATAJTHV', 'B007WTAJTO'): 1, ('A1NRQMXLY5LZU2', 'B007WTAJTO'): 1, ('A1AREEVFZXVBHH', 'B007WTAJTO'): 1, ('AFV74RK4V98TX', 'B0019EHU8G'): 1, ('A2VGCA4A5201P', 'B007WTAJTO'): 1, ('AQXXPOAMKIXH2', 'B0019EHU8G'): 1, ('A2EDQED6Q3QPYE', 'B007WTAJTO'): 1, ('A28NZHIXAM7Z95', 'B0019EHU8G'): 1}\n"
          ],
          "name": "stdout"
        }
      ]
    },
    {
      "metadata": {
        "id": "75TiqMttOjyt",
        "colab_type": "code",
        "outputId": "05dab9f1-e05c-444e-d5f9-7aa49e894295",
        "colab": {
          "base_uri": "https://localhost:8080/",
          "height": 0
        }
      },
      "cell_type": "code",
      "source": [
        "\n",
        "feature_7 = [0 for _ in range(8350)]\n",
        "df_new['feature_7'] = feature_7\n",
        "for t in list_sim.keys():\n",
        "  print(t)\n",
        "  df_new.loc[(df_new.reviewerID == t[0]) & (df_new.asin == t[1]), 'feature_7' ] = 1\n",
        "\n"
      ],
      "execution_count": 13,
      "outputs": [
        {
          "output_type": "stream",
          "text": [
            "('A3SBTW3WS4IQSN', 'B007WTAJTO')\n",
            "('A2J22M1W2FG6P4', 'B007WTAJTO')\n",
            "('A32Z0YUCFNLLD4', 'B007WTAJTO')\n",
            "('A27IGO4RPYZDZL', 'B007WTAJTO')\n",
            "('A3LKJ0Y9WPTD49', 'B007WTAJTO')\n",
            "('A3JJZXOOLQYDT5', 'B007WTAJTO')\n",
            "('A1987KVD4EHEM5', 'B007WTAJTO')\n",
            "('A5J913IU0UZOE', 'B007WTAJTO')\n",
            "('A1LRDKHATAJTHV', 'B007WTAJTO')\n",
            "('A1NRQMXLY5LZU2', 'B007WTAJTO')\n",
            "('A1AREEVFZXVBHH', 'B007WTAJTO')\n",
            "('AFV74RK4V98TX', 'B0019EHU8G')\n",
            "('A2VGCA4A5201P', 'B007WTAJTO')\n",
            "('AQXXPOAMKIXH2', 'B0019EHU8G')\n",
            "('A2EDQED6Q3QPYE', 'B007WTAJTO')\n",
            "('A28NZHIXAM7Z95', 'B0019EHU8G')\n"
          ],
          "name": "stdout"
        }
      ]
    },
    {
      "metadata": {
        "id": "uY7capNR0paI",
        "colab_type": "text"
      },
      "cell_type": "markdown",
      "source": [
        "### Feature - 8 : Duplicate reviews from same users on different products\n"
      ]
    },
    {
      "metadata": {
        "id": "ty2Nv0FnWXdK",
        "colab_type": "code",
        "outputId": "9cfd9c90-fb6a-4b9b-808c-21fe01970743",
        "colab": {
          "base_uri": "https://localhost:8080/",
          "height": 0
        }
      },
      "cell_type": "code",
      "source": [
        "### Feature - 8 : Duplicate reviews from same users on different products\n",
        "threshold = 0.9\n",
        "list_sim = {}\n",
        "for i,row in enumerate(cosine):\n",
        "  for j, element in enumerate(row):\n",
        "    if element >= threshold and i!=j:\n",
        "      reviewerID_1 = df_new.iloc[i]['reviewerID']\n",
        "      asin_reviewer_1 = df_new.iloc[i]['asin']\n",
        "      reviewerID_2 = df_new.iloc[j]['reviewerID']\n",
        "      asin_reviewer_2 = df_new.iloc[j]['asin']\n",
        "      \n",
        "      if asin_reviewer_1 != asin_reviewer_2 and reviewerID_1 == reviewerID_2:\n",
        "        key1 = (reviewerID_1, asin_reviewer_1)\n",
        "        key2 = (reviewerID_2, asin_reviewer_2)\n",
        "        if key1 not in list_sim.keys():\n",
        "          list_sim[key1] = 1\n",
        "        if key2 not in list_sim.keys():\n",
        "          list_sim[key2] = 1\n",
        "\n",
        "print(len(list_sim))\n",
        "print(list_sim)"
      ],
      "execution_count": 14,
      "outputs": [
        {
          "output_type": "stream",
          "text": [
            "0\n",
            "{}\n"
          ],
          "name": "stdout"
        }
      ]
    },
    {
      "metadata": {
        "id": "JkEmQY26Yk4m",
        "colab_type": "code",
        "outputId": "fc99ac88-d20d-455f-d03d-2d17b8674552",
        "colab": {
          "base_uri": "https://localhost:8080/",
          "height": 0
        }
      },
      "cell_type": "code",
      "source": [
        "feature_8 = [0 for _ in range(8350)]\n",
        "df_new['feature_8'] = feature_8\n",
        "df_new.head()\n"
      ],
      "execution_count": 15,
      "outputs": [
        {
          "output_type": "execute_result",
          "data": {
            "text/html": [
              "<div>\n",
              "<style scoped>\n",
              "    .dataframe tbody tr th:only-of-type {\n",
              "        vertical-align: middle;\n",
              "    }\n",
              "\n",
              "    .dataframe tbody tr th {\n",
              "        vertical-align: top;\n",
              "    }\n",
              "\n",
              "    .dataframe thead th {\n",
              "        text-align: right;\n",
              "    }\n",
              "</style>\n",
              "<table border=\"1\" class=\"dataframe\">\n",
              "  <thead>\n",
              "    <tr style=\"text-align: right;\">\n",
              "      <th></th>\n",
              "      <th>reviewerID</th>\n",
              "      <th>asin</th>\n",
              "      <th>reviewerName</th>\n",
              "      <th>helpful</th>\n",
              "      <th>reviewText</th>\n",
              "      <th>overall</th>\n",
              "      <th>summary</th>\n",
              "      <th>unixReviewTime</th>\n",
              "      <th>reviewTime</th>\n",
              "      <th>feature_7</th>\n",
              "      <th>feature_8</th>\n",
              "    </tr>\n",
              "  </thead>\n",
              "  <tbody>\n",
              "    <tr>\n",
              "      <th>1336614</th>\n",
              "      <td>A3SBTW3WS4IQSN</td>\n",
              "      <td>B007WTAJTO</td>\n",
              "      <td>NaN</td>\n",
              "      <td>[0, 0]</td>\n",
              "      <td>No issues.</td>\n",
              "      <td>4.0</td>\n",
              "      <td>Four Stars</td>\n",
              "      <td>1406073600</td>\n",
              "      <td>07 23, 2014</td>\n",
              "      <td>1</td>\n",
              "      <td>0</td>\n",
              "    </tr>\n",
              "    <tr>\n",
              "      <th>1336615</th>\n",
              "      <td>A18K1ODH1I2MVB</td>\n",
              "      <td>B007WTAJTO</td>\n",
              "      <td>0mie</td>\n",
              "      <td>[0, 0]</td>\n",
              "      <td>Purchased this for my device, it worked as adv...</td>\n",
              "      <td>5.0</td>\n",
              "      <td>MOAR SPACE!!!</td>\n",
              "      <td>1382659200</td>\n",
              "      <td>10 25, 2013</td>\n",
              "      <td>0</td>\n",
              "      <td>0</td>\n",
              "    </tr>\n",
              "    <tr>\n",
              "      <th>1336616</th>\n",
              "      <td>A2FII3I2MBMUIA</td>\n",
              "      <td>B007WTAJTO</td>\n",
              "      <td>1K3</td>\n",
              "      <td>[0, 0]</td>\n",
              "      <td>it works as expected. I should have sprung for...</td>\n",
              "      <td>4.0</td>\n",
              "      <td>nothing to really say....</td>\n",
              "      <td>1356220800</td>\n",
              "      <td>12 23, 2012</td>\n",
              "      <td>0</td>\n",
              "      <td>0</td>\n",
              "    </tr>\n",
              "    <tr>\n",
              "      <th>1336617</th>\n",
              "      <td>A3H99DFEG68SR</td>\n",
              "      <td>B007WTAJTO</td>\n",
              "      <td>1m2</td>\n",
              "      <td>[0, 0]</td>\n",
              "      <td>This think has worked out great.Had a diff. br...</td>\n",
              "      <td>5.0</td>\n",
              "      <td>Great buy at this price!!!  *** UPDATE</td>\n",
              "      <td>1384992000</td>\n",
              "      <td>11 21, 2013</td>\n",
              "      <td>0</td>\n",
              "      <td>0</td>\n",
              "    </tr>\n",
              "    <tr>\n",
              "      <th>1336618</th>\n",
              "      <td>A375ZM4U047O79</td>\n",
              "      <td>B007WTAJTO</td>\n",
              "      <td>2&amp;amp;1/2Men</td>\n",
              "      <td>[0, 0]</td>\n",
              "      <td>Bought it with Retail Packaging, arrived legit...</td>\n",
              "      <td>5.0</td>\n",
              "      <td>best deal around</td>\n",
              "      <td>1373673600</td>\n",
              "      <td>07 13, 2013</td>\n",
              "      <td>0</td>\n",
              "      <td>0</td>\n",
              "    </tr>\n",
              "  </tbody>\n",
              "</table>\n",
              "</div>"
            ],
            "text/plain": [
              "             reviewerID        asin  reviewerName helpful  \\\n",
              "1336614  A3SBTW3WS4IQSN  B007WTAJTO           NaN  [0, 0]   \n",
              "1336615  A18K1ODH1I2MVB  B007WTAJTO          0mie  [0, 0]   \n",
              "1336616  A2FII3I2MBMUIA  B007WTAJTO           1K3  [0, 0]   \n",
              "1336617   A3H99DFEG68SR  B007WTAJTO           1m2  [0, 0]   \n",
              "1336618  A375ZM4U047O79  B007WTAJTO  2&amp;1/2Men  [0, 0]   \n",
              "\n",
              "                                                reviewText  overall  \\\n",
              "1336614                                         No issues.      4.0   \n",
              "1336615  Purchased this for my device, it worked as adv...      5.0   \n",
              "1336616  it works as expected. I should have sprung for...      4.0   \n",
              "1336617  This think has worked out great.Had a diff. br...      5.0   \n",
              "1336618  Bought it with Retail Packaging, arrived legit...      5.0   \n",
              "\n",
              "                                        summary  unixReviewTime   reviewTime  \\\n",
              "1336614                              Four Stars      1406073600  07 23, 2014   \n",
              "1336615                           MOAR SPACE!!!      1382659200  10 25, 2013   \n",
              "1336616               nothing to really say....      1356220800  12 23, 2012   \n",
              "1336617  Great buy at this price!!!  *** UPDATE      1384992000  11 21, 2013   \n",
              "1336618                        best deal around      1373673600  07 13, 2013   \n",
              "\n",
              "         feature_7  feature_8  \n",
              "1336614          1          0  \n",
              "1336615          0          0  \n",
              "1336616          0          0  \n",
              "1336617          0          0  \n",
              "1336618          0          0  "
            ]
          },
          "metadata": {
            "tags": []
          },
          "execution_count": 15
        }
      ]
    },
    {
      "metadata": {
        "id": "bipAuvHk0_3n",
        "colab_type": "text"
      },
      "cell_type": "markdown",
      "source": [
        "### Feature - 9 : Different Reviews from same user-ids for same product\n"
      ]
    },
    {
      "metadata": {
        "id": "72ay3oPwZs6o",
        "colab_type": "code",
        "outputId": "f91879e0-2bce-4cda-8f4d-88cc5a94a5f3",
        "colab": {
          "base_uri": "https://localhost:8080/",
          "height": 0
        }
      },
      "cell_type": "code",
      "source": [
        "### Feature - 9 : Different Reviews from same user-ids for same product\n",
        "threshold = 0.9\n",
        "list_sim = {}\n",
        "for i,row in enumerate(cosine):\n",
        "  for j, element in enumerate(row):\n",
        "    if element >= threshold and i!=j:\n",
        "      reviewerID_1 = df_new.iloc[i]['reviewerID']\n",
        "      asin_reviewer_1 = df_new.iloc[i]['asin']\n",
        "      reviewerID_2 = df_new.iloc[j]['reviewerID']\n",
        "      asin_reviewer_2 = df_new.iloc[j]['asin']\n",
        "      \n",
        "      if asin_reviewer_1 == asin_reviewer_2 and reviewerID_1 == reviewerID_2:\n",
        "        key1 = (reviewerID_1, asin_reviewer_1)\n",
        "        key2 = (reviewerID_2, asin_reviewer_2)\n",
        "        if key1 not in list_sim.keys():\n",
        "          list_sim[key1] = 1\n",
        "        if key2 not in list_sim.keys():\n",
        "          list_sim[key2] = 1\n",
        "\n",
        "print(len(list_sim))\n",
        "print(list_sim)"
      ],
      "execution_count": 16,
      "outputs": [
        {
          "output_type": "stream",
          "text": [
            "0\n",
            "{}\n"
          ],
          "name": "stdout"
        }
      ]
    },
    {
      "metadata": {
        "id": "EIt8tFYxaGXK",
        "colab_type": "code",
        "outputId": "fea7d620-2c88-4db7-c1dd-469cf3a757bd",
        "colab": {
          "base_uri": "https://localhost:8080/",
          "height": 0
        }
      },
      "cell_type": "code",
      "source": [
        "feature_9 = [0 for _ in range(8350)]\n",
        "df_new['feature_9'] = feature_9\n",
        "df_new.head()"
      ],
      "execution_count": 17,
      "outputs": [
        {
          "output_type": "execute_result",
          "data": {
            "text/html": [
              "<div>\n",
              "<style scoped>\n",
              "    .dataframe tbody tr th:only-of-type {\n",
              "        vertical-align: middle;\n",
              "    }\n",
              "\n",
              "    .dataframe tbody tr th {\n",
              "        vertical-align: top;\n",
              "    }\n",
              "\n",
              "    .dataframe thead th {\n",
              "        text-align: right;\n",
              "    }\n",
              "</style>\n",
              "<table border=\"1\" class=\"dataframe\">\n",
              "  <thead>\n",
              "    <tr style=\"text-align: right;\">\n",
              "      <th></th>\n",
              "      <th>reviewerID</th>\n",
              "      <th>asin</th>\n",
              "      <th>reviewerName</th>\n",
              "      <th>helpful</th>\n",
              "      <th>reviewText</th>\n",
              "      <th>overall</th>\n",
              "      <th>summary</th>\n",
              "      <th>unixReviewTime</th>\n",
              "      <th>reviewTime</th>\n",
              "      <th>feature_7</th>\n",
              "      <th>feature_8</th>\n",
              "      <th>feature_9</th>\n",
              "    </tr>\n",
              "  </thead>\n",
              "  <tbody>\n",
              "    <tr>\n",
              "      <th>1336614</th>\n",
              "      <td>A3SBTW3WS4IQSN</td>\n",
              "      <td>B007WTAJTO</td>\n",
              "      <td>NaN</td>\n",
              "      <td>[0, 0]</td>\n",
              "      <td>No issues.</td>\n",
              "      <td>4.0</td>\n",
              "      <td>Four Stars</td>\n",
              "      <td>1406073600</td>\n",
              "      <td>07 23, 2014</td>\n",
              "      <td>1</td>\n",
              "      <td>0</td>\n",
              "      <td>0</td>\n",
              "    </tr>\n",
              "    <tr>\n",
              "      <th>1336615</th>\n",
              "      <td>A18K1ODH1I2MVB</td>\n",
              "      <td>B007WTAJTO</td>\n",
              "      <td>0mie</td>\n",
              "      <td>[0, 0]</td>\n",
              "      <td>Purchased this for my device, it worked as adv...</td>\n",
              "      <td>5.0</td>\n",
              "      <td>MOAR SPACE!!!</td>\n",
              "      <td>1382659200</td>\n",
              "      <td>10 25, 2013</td>\n",
              "      <td>0</td>\n",
              "      <td>0</td>\n",
              "      <td>0</td>\n",
              "    </tr>\n",
              "    <tr>\n",
              "      <th>1336616</th>\n",
              "      <td>A2FII3I2MBMUIA</td>\n",
              "      <td>B007WTAJTO</td>\n",
              "      <td>1K3</td>\n",
              "      <td>[0, 0]</td>\n",
              "      <td>it works as expected. I should have sprung for...</td>\n",
              "      <td>4.0</td>\n",
              "      <td>nothing to really say....</td>\n",
              "      <td>1356220800</td>\n",
              "      <td>12 23, 2012</td>\n",
              "      <td>0</td>\n",
              "      <td>0</td>\n",
              "      <td>0</td>\n",
              "    </tr>\n",
              "    <tr>\n",
              "      <th>1336617</th>\n",
              "      <td>A3H99DFEG68SR</td>\n",
              "      <td>B007WTAJTO</td>\n",
              "      <td>1m2</td>\n",
              "      <td>[0, 0]</td>\n",
              "      <td>This think has worked out great.Had a diff. br...</td>\n",
              "      <td>5.0</td>\n",
              "      <td>Great buy at this price!!!  *** UPDATE</td>\n",
              "      <td>1384992000</td>\n",
              "      <td>11 21, 2013</td>\n",
              "      <td>0</td>\n",
              "      <td>0</td>\n",
              "      <td>0</td>\n",
              "    </tr>\n",
              "    <tr>\n",
              "      <th>1336618</th>\n",
              "      <td>A375ZM4U047O79</td>\n",
              "      <td>B007WTAJTO</td>\n",
              "      <td>2&amp;amp;1/2Men</td>\n",
              "      <td>[0, 0]</td>\n",
              "      <td>Bought it with Retail Packaging, arrived legit...</td>\n",
              "      <td>5.0</td>\n",
              "      <td>best deal around</td>\n",
              "      <td>1373673600</td>\n",
              "      <td>07 13, 2013</td>\n",
              "      <td>0</td>\n",
              "      <td>0</td>\n",
              "      <td>0</td>\n",
              "    </tr>\n",
              "  </tbody>\n",
              "</table>\n",
              "</div>"
            ],
            "text/plain": [
              "             reviewerID        asin  reviewerName helpful  \\\n",
              "1336614  A3SBTW3WS4IQSN  B007WTAJTO           NaN  [0, 0]   \n",
              "1336615  A18K1ODH1I2MVB  B007WTAJTO          0mie  [0, 0]   \n",
              "1336616  A2FII3I2MBMUIA  B007WTAJTO           1K3  [0, 0]   \n",
              "1336617   A3H99DFEG68SR  B007WTAJTO           1m2  [0, 0]   \n",
              "1336618  A375ZM4U047O79  B007WTAJTO  2&amp;1/2Men  [0, 0]   \n",
              "\n",
              "                                                reviewText  overall  \\\n",
              "1336614                                         No issues.      4.0   \n",
              "1336615  Purchased this for my device, it worked as adv...      5.0   \n",
              "1336616  it works as expected. I should have sprung for...      4.0   \n",
              "1336617  This think has worked out great.Had a diff. br...      5.0   \n",
              "1336618  Bought it with Retail Packaging, arrived legit...      5.0   \n",
              "\n",
              "                                        summary  unixReviewTime   reviewTime  \\\n",
              "1336614                              Four Stars      1406073600  07 23, 2014   \n",
              "1336615                           MOAR SPACE!!!      1382659200  10 25, 2013   \n",
              "1336616               nothing to really say....      1356220800  12 23, 2012   \n",
              "1336617  Great buy at this price!!!  *** UPDATE      1384992000  11 21, 2013   \n",
              "1336618                        best deal around      1373673600  07 13, 2013   \n",
              "\n",
              "         feature_7  feature_8  feature_9  \n",
              "1336614          1          0          0  \n",
              "1336615          0          0          0  \n",
              "1336616          0          0          0  \n",
              "1336617          0          0          0  \n",
              "1336618          0          0          0  "
            ]
          },
          "metadata": {
            "tags": []
          },
          "execution_count": 17
        }
      ]
    },
    {
      "metadata": {
        "id": "V5Wgi6dPU3YR",
        "colab_type": "code",
        "outputId": "8cbcf4b3-6d63-41ae-c641-0352bd2ce49a",
        "colab": {
          "base_uri": "https://localhost:8080/",
          "height": 0
        }
      },
      "cell_type": "code",
      "source": [
        "df_new.groupby('feature_7').count()"
      ],
      "execution_count": 18,
      "outputs": [
        {
          "output_type": "execute_result",
          "data": {
            "text/html": [
              "<div>\n",
              "<style scoped>\n",
              "    .dataframe tbody tr th:only-of-type {\n",
              "        vertical-align: middle;\n",
              "    }\n",
              "\n",
              "    .dataframe tbody tr th {\n",
              "        vertical-align: top;\n",
              "    }\n",
              "\n",
              "    .dataframe thead th {\n",
              "        text-align: right;\n",
              "    }\n",
              "</style>\n",
              "<table border=\"1\" class=\"dataframe\">\n",
              "  <thead>\n",
              "    <tr style=\"text-align: right;\">\n",
              "      <th></th>\n",
              "      <th>reviewerID</th>\n",
              "      <th>asin</th>\n",
              "      <th>reviewerName</th>\n",
              "      <th>helpful</th>\n",
              "      <th>reviewText</th>\n",
              "      <th>overall</th>\n",
              "      <th>summary</th>\n",
              "      <th>unixReviewTime</th>\n",
              "      <th>reviewTime</th>\n",
              "      <th>feature_8</th>\n",
              "      <th>feature_9</th>\n",
              "    </tr>\n",
              "    <tr>\n",
              "      <th>feature_7</th>\n",
              "      <th></th>\n",
              "      <th></th>\n",
              "      <th></th>\n",
              "      <th></th>\n",
              "      <th></th>\n",
              "      <th></th>\n",
              "      <th></th>\n",
              "      <th></th>\n",
              "      <th></th>\n",
              "      <th></th>\n",
              "      <th></th>\n",
              "    </tr>\n",
              "  </thead>\n",
              "  <tbody>\n",
              "    <tr>\n",
              "      <th>0</th>\n",
              "      <td>8334</td>\n",
              "      <td>8334</td>\n",
              "      <td>8333</td>\n",
              "      <td>8334</td>\n",
              "      <td>8334</td>\n",
              "      <td>8334</td>\n",
              "      <td>8334</td>\n",
              "      <td>8334</td>\n",
              "      <td>8334</td>\n",
              "      <td>8334</td>\n",
              "      <td>8334</td>\n",
              "    </tr>\n",
              "    <tr>\n",
              "      <th>1</th>\n",
              "      <td>16</td>\n",
              "      <td>16</td>\n",
              "      <td>15</td>\n",
              "      <td>16</td>\n",
              "      <td>16</td>\n",
              "      <td>16</td>\n",
              "      <td>16</td>\n",
              "      <td>16</td>\n",
              "      <td>16</td>\n",
              "      <td>16</td>\n",
              "      <td>16</td>\n",
              "    </tr>\n",
              "  </tbody>\n",
              "</table>\n",
              "</div>"
            ],
            "text/plain": [
              "           reviewerID  asin  reviewerName  helpful  reviewText  overall  \\\n",
              "feature_7                                                                 \n",
              "0                8334  8334          8333     8334        8334     8334   \n",
              "1                  16    16            15       16          16       16   \n",
              "\n",
              "           summary  unixReviewTime  reviewTime  feature_8  feature_9  \n",
              "feature_7                                                             \n",
              "0             8334            8334        8334       8334       8334  \n",
              "1               16              16          16         16         16  "
            ]
          },
          "metadata": {
            "tags": []
          },
          "execution_count": 18
        }
      ]
    },
    {
      "metadata": {
        "id": "5s348T4L1HL-",
        "colab_type": "text"
      },
      "cell_type": "markdown",
      "source": [
        "## Data Centric Features"
      ]
    },
    {
      "metadata": {
        "id": "NCrFl2TGMYuQ",
        "colab_type": "code",
        "colab": {}
      },
      "cell_type": "code",
      "source": [
        "### DATA CENTRIC FEATURES"
      ],
      "execution_count": 0,
      "outputs": []
    },
    {
      "metadata": {
        "id": "MMMK7wTwa4U0",
        "colab_type": "code",
        "outputId": "1194d396-1a24-47c7-c50e-d89483dc1ca1",
        "colab": {
          "base_uri": "https://localhost:8080/",
          "height": 35
        }
      },
      "cell_type": "code",
      "source": [
        "product_info = {}\n",
        "\n",
        "product_info['B007WTAJTO'] = {'brand': ['SanDisk', 'brand'] , 'competitors' : ['Micron', 'Seagate', 'SK Hynix', 'Lexar', 'PNY', 'Samsung', 'Toshiba', 'Spansion',\n",
        "                                                                    'Western Digital', 'NetApp'], 'website': ['Amazon']}\n",
        "product_info['B0019EHU8G'] = {'brand': ['Mediabridge', 'brand'] , 'competitors' : ['Menadool', 'Minisuit', 'Qualitycables', 'SpartanFive', 'BlueRigger', '4XEM', 'Aaratek', 'Cartooni',\n",
        "                                                                    'Cablesolutionsinc', 'Multi-Tech'], 'website': ['Amazon']}\n",
        "\n",
        "print(len(vectorizer.get_feature_names()))"
      ],
      "execution_count": 20,
      "outputs": [
        {
          "output_type": "stream",
          "text": [
            "4259\n"
          ],
          "name": "stdout"
        }
      ]
    },
    {
      "metadata": {
        "id": "Gs9bLIBM7GU0",
        "colab_type": "code",
        "colab": {}
      },
      "cell_type": "code",
      "source": [
        "\n",
        "feature_names = vectorizer.get_feature_names()\n",
        "feature_names = [f.lower() for f in feature_names]"
      ],
      "execution_count": 0,
      "outputs": []
    },
    {
      "metadata": {
        "id": "OPAgjzyUHx7O",
        "colab_type": "code",
        "colab": {}
      },
      "cell_type": "code",
      "source": [
        "#Converting Matrix X to a Dictionary\n",
        "user_review = {}\n",
        "\n",
        "for i,x in enumerate(X):\n",
        "  reviewerID = df_new.iloc[i]['reviewerID']\n",
        "  \n",
        "  asin = df_new.iloc[i]['asin']\n",
        "  if reviewerID not in user_review.keys():\n",
        "    user_review[reviewerID] = {}\n",
        "  user_review[reviewerID][asin] = x\n",
        "  \n"
      ],
      "execution_count": 0,
      "outputs": []
    },
    {
      "metadata": {
        "id": "cStPE7Bm1K33",
        "colab_type": "text"
      },
      "cell_type": "markdown",
      "source": [
        "### Feature - 1: Reviews about the brand only\n"
      ]
    },
    {
      "metadata": {
        "id": "iLghOIb1-n4Y",
        "colab_type": "code",
        "outputId": "a4c002de-b47d-4f07-9581-c8532e4aa5fb",
        "colab": {
          "base_uri": "https://localhost:8080/",
          "height": 0
        }
      },
      "cell_type": "code",
      "source": [
        "### Feature - 1: Reviews about the brand only\n",
        "\n",
        "feature_1 = [0 for _ in range(8350)]\n",
        "df_new['feature_1'] = feature_1\n",
        "pd.options.display.max_colwidth = 500\n",
        "threshold = 0.3\n",
        "  \n",
        "import scipy.sparse\n",
        "c = 1\n",
        "for user in user_review:\n",
        "  for product in user_review[user]:\n",
        "    brand = []\n",
        "    brands = product_info[product]['brand']\n",
        "    brands = [x.lower() for x in brands]\n",
        "    for brand in brands:\n",
        "      if brand in feature_names:\n",
        "        index = feature_names.index(brand)\n",
        "      tfidf_row = user_review[user][product]\n",
        "      rows,cols = tfidf_row.nonzero()\n",
        "      for row,col in zip(rows,cols):\n",
        "        #print(row,col)\n",
        "        if index == col:\n",
        "          if tfidf_row[row,index] >= threshold:\n",
        "            print(\"Hurray!\", c)\n",
        "\n",
        "            print(df_new[(df_new['reviewerID'] == user) & (df_new['asin'] == product)]['reviewText'])\n",
        "            df_new.loc[(df_new.reviewerID == user) & (df_new.asin == product), 'feature_1' ] = 1\n",
        "    #c += 1\n",
        "    \n",
        "    \n"
      ],
      "execution_count": 23,
      "outputs": [
        {
          "output_type": "stream",
          "text": [
            "Hurray! 1\n",
            "1336626    THE NAME OF ITSELF SPEAKS OUT. GO SANDISK GO!\n",
            "Name: reviewText, dtype: object\n",
            "Hurray! 1\n",
            "1336636    SanDisk never disappoints. As always SanDisk products are worth every penny. Nice product and quality and works great. I recommend this product to everyone.\n",
            "Name: reviewText, dtype: object\n",
            "Hurray! 1\n",
            "1336637    Good price, works flawless in my Samsung S4! Normal SanDisk quality! That is why I go with this brand and only this brand..\n",
            "Name: reviewText, dtype: object\n",
            "Hurray! 1\n",
            "1336702    THis memory helps me to keep all what I want to keep on my cell phone.It is a good brand and its on the right price.\n",
            "Name: reviewText, dtype: object\n",
            "Hurray! 1\n",
            "1336738    What else to say about this Sandisk Ultra 64 GB micro SD XC ? just perfect as all Sandisk cards\n",
            "Name: reviewText, dtype: object\n",
            "Hurray! 1\n",
            "1336830    I bought this card for my android based phone, soon I started getting messages that my card had been removed and or it was damaged, Tried it in my tablet same thing, and this was not the first card of this brand that I had bought that experienced this problem. Went to several online forums to see what the solution is; then someone hit upon it, it just might be a problem with this brand of cards.I bought a PNY brand micro SD card and had no problem whatsoever.\n",
            "Name: reviewText, dtype: object\n",
            "Hurray! 1\n",
            "1337062    Got for my phone and is awesome.  The card did short out but once contacting SanDisk they had one out to me in a week.  Super awesome customer service.  Will buy more SanDisk items when needed.\n",
            "Name: reviewText, dtype: object\n",
            "Hurray! 1\n",
            "1337124    It has worked fine, so I have no complaints.  I've purchased SanDisk products several times and have been happy with this brand.\n",
            "Name: reviewText, dtype: object\n",
            "Hurray! 1\n",
            "1337154    Perfect card for my Galaxy S3 - lots of capacity at a decent price, and not a no-name brand either.\n",
            "Name: reviewText, dtype: object\n",
            "Hurray! 1\n",
            "1337240    Losing pictures, video, and tunes after 9 months on a Samsung Galaxy Note 2 (stock android).  Looks like this is a common problem.  I will try my luck with Sandisk on Monday.  If I don't get a replacement, I will never buy a Sandisk product again.  I paid the premium for \"Sandisk Quality.\"  I am very disappointed.UPDATE:Sandisk will be providing a replacement SD CARD.  However, my data loss and downtime cannot be replaced.  SanDisk lost their \"premium rating\" in my eyes. It's going to take a...\n",
            "Name: reviewText, dtype: object\n",
            "Hurray! 1\n",
            "1337267    I could not get this brand of memory card to work in my Roku.  It would not format correctly.  I had to return this for another brand which worked ok.\n",
            "Name: reviewText, dtype: object\n",
            "Hurray! 1\n",
            "1337323    I always purchase SanDisk memory cards.  I've never had any issues with them. I will continue to buy SanDisk products in the future.\n",
            "Name: reviewText, dtype: object\n",
            "Hurray! 1\n",
            "1337405    Sandisk is the premier brand in flash memory and this card came at a good price. Speeds are fast enough to work inside of my 1080p dashcam and has been running consistently for a few weeks now. Good brand, speeds as advertised, and reliable so far. No complaints.\n",
            "Name: reviewText, dtype: object\n",
            "Hurray! 1\n",
            "1337488    I've tried other cards going back to when Compact Flash cards ruled and every single time I wind up coming back to SanDisk.  Why, because they won't certify a card at a certain speed unless it can sustain that speed and every single SanDisk product I've ever owned has lasted, and lasted, and lasted.  I have QUIT using SanDisk products because it just didn't make sense to keep using them (256mb and 512mb thumbdrives and flash cards... they still work... REALLY slowly... but they still work fi...\n",
            "Name: reviewText, dtype: object\n",
            "Hurray! 1\n",
            "1337543    it is a very good product, we like the brand and we keeping buying it for our camares, phones, tablets...\n",
            "Name: reviewText, dtype: object\n",
            "Hurray! 1\n",
            "1337816    SANDISK is a good brand for me and this just worked.  Cant really ask much more of it than that!\n",
            "Name: reviewText, dtype: object\n",
            "Hurray! 1\n",
            "1337816    SANDISK is a good brand for me and this just worked.  Cant really ask much more of it than that!\n",
            "Name: reviewText, dtype: object\n",
            "Hurray! 1\n",
            "1337967    The last card I got was bad, but at least this one is working properly.  SanDisk is the best brand.\n",
            "Name: reviewText, dtype: object\n",
            "Hurray! 1\n",
            "416215    Seems study. Last cable I bought from a different brand broke after a few months so we'll see how this one fares.\n",
            "Name: reviewText, dtype: object\n",
            "Hurray! 1\n",
            "416276    I've bought at least 10-20 cables made by Mediabridge, and have never had any issues with any of them. They are well-made and not flimsy, and they function as you'd expect.  I bought many of these Mediabridge HDMI 10ft cables for my entertainment systems throughout the house, and they all have not disappointed.\n",
            "Name: reviewText, dtype: object\n",
            "Hurray! 1\n",
            "1338143    I have alway bought this brand, for some reason about a month ago I got some other brand, bad move!!!!! I ended up getting my money back, then I bought me this one, works like a champ, this is way to go!!!!\n",
            "Name: reviewText, dtype: object\n",
            "Hurray! 1\n",
            "1338308    I have always been satisfied with sandisk products this memory card did not disappoint with it's fast reading and writing ability Sandisk has done it again.\n",
            "Name: reviewText, dtype: object\n",
            "Hurray! 1\n",
            "1338334    Can't go wrong with Sandisk! Always works. Never any issues. And this one is no different. More than enough storage space\n",
            "Name: reviewText, dtype: object\n",
            "Hurray! 1\n",
            "1338431    I am very happy with this SanDisk, if anyone is looking for a goodly amount of storage, get this one.\n",
            "Name: reviewText, dtype: object\n",
            "Hurray! 1\n",
            "1338437    16gb is a good amount for what I use it for and SanDisk is #1 fir sd cards, I'm satisfied.\n",
            "Name: reviewText, dtype: object\n",
            "Hurray! 1\n",
            "1338483    What else can I say? It is SanDisk memory card, which I use almost exclusively because I have never had a problem with any SanDisk product I have owned. Consistent high quality products that work as advertised.\n",
            "Name: reviewText, dtype: object\n",
            "Hurray! 1\n",
            "1338526    Comes with a lifetime warranty.  Had one fail once, sent it back to SanDisk, they sent me a new one!I have been using SanDisk for years.  That was the only time one ever failed!!!\n",
            "Name: reviewText, dtype: object\n",
            "Hurray! 1\n",
            "1338608    I already had a SanDisk 16GB Class 4 card in my Android phone. Here is how you know this is faster: I'd press the Play button for the music player with the Class 4 and there was always a small delay before the music played. With this 32GB SanDisk Ultra, the music plays immediately. This is a very useful way to tell how fast this is. This memory card gets my Approval and my Thanks to SanDisk!\n",
            "Name: reviewText, dtype: object\n",
            "Hurray! 1\n",
            "1338636    I always use SanDisk so they were my first (and only) option when I got my GoPro.  They are fast and they are good.Can't say too much, SanDisk makes the best cards, period.\n",
            "Name: reviewText, dtype: object\n",
            "Hurray! 1\n",
            "1338645    [[ UPDATE - 6/19/2014 ]]So my lovely wife bought me a Samsung Galaxy Tab 4 for Father's Day and I've been loving it ever since.  Just as other with Samsung products, the Galaxy Tab 4 has the ability to add a microSD card to expand the memory on the device.  Since it's been over a year, I decided to do some more research to see if SanDisk offered anything new.  As of 6/19/2014, their product lineup for microSD cards from worst to best (performance-wise) are the as follows:SanDiskSanDisk Ultra...\n",
            "Name: reviewText, dtype: object\n",
            "Hurray! 1\n",
            "1338729    The SanDisk memory card is awesome. I usually only buy SanDisk products because they are very reliable. Very good quality.\n",
            "Name: reviewText, dtype: object\n",
            "Hurray! 1\n",
            "1338798    There isn't much more to be said.. First, there is the Sandisk name, Sandisk quality and Sandisk speed. The packaging was done well and shipping was not an issue.  As a professional for both video and photography, I've never had a Sandisk product fail me.  This unit was purchased specifically for my GoPro Hero 3+ Black, but could just as easily work in my Canon 5D mk III (with an adapter) in one of its dual slots.\n",
            "Name: reviewText, dtype: object\n",
            "Hurray! 1\n",
            "1338813    SanDisk is a great brand.. never had a complaint. Is working fine in my Galaxy Tab 3 .. would recommend\n",
            "Name: reviewText, dtype: object\n",
            "Hurray! 1\n",
            "1338930    I use this in a D-Link web cam and it is fast read/write and reliable SanDisk are the best! I have tried other brands but always fall back on SanDIsk!\n",
            "Name: reviewText, dtype: object\n",
            "Hurray! 1\n",
            "1338957    SanDisk provides dependable storage for my new tablet. SanDisk is what I rely on for my phone and computers.  Has never let me down.\n",
            "Name: reviewText, dtype: object\n",
            "Hurray! 1\n",
            "1338967    SanDisk is the best brand to get for memory cards. I bought two of these little gems to go with my SanDisk Sansa Clip Zip and they work wonderfully.\n",
            "Name: reviewText, dtype: object\n",
            "Hurray! 1\n",
            "1339076    I needed  this for my new phone. It works great!SanDisk is a good brand so I didn't hesitate to purchase it.\n",
            "Name: reviewText, dtype: object\n",
            "Hurray! 1\n",
            "1339082    I've used Sandisk cards for as long as they have existed. These cards are fast and have the solid quality I expect from Sandisk. Recommend.\n",
            "Name: reviewText, dtype: object\n",
            "Hurray! 1\n",
            "1339237    Allows me to store quite a few movies in my razr.  Sandisk is THE brand for memory, all of my USB memory thumb drives are Sandisk..\n",
            "Name: reviewText, dtype: object\n",
            "Hurray! 1\n",
            "1339307    I bought this card for my Samsung Galaxy phone. I have mounted the card and my apps are using it but I can't seem to get my photos to store there. It works just fine and gives me the added storage capacity I want I now need to figure out how to use it. This brand is really the only brand I would consider buying.\n",
            "Name: reviewText, dtype: object\n",
            "Hurray! 1\n",
            "1339345    SanDisk  is consistently the best media out there.  It works ever time and is always compatible with all my devices.  I have never had an issue with SanDisk.  Quote simply, they just work.\n",
            "Name: reviewText, dtype: object\n",
            "Hurray! 1\n",
            "1339385    I bought a SanDisk SSD for my computer.  It's fast for the price.  I feel confident that anything I order made by SanDisk will be of the same quality.\n",
            "Name: reviewText, dtype: object\n",
            "Hurray! 1\n",
            "1339411    SanDisk is well know brand. The MSD Ultra 64 GB class 10 is the good one to buy.It transfers file faster than other brand card. I bought two of them when they are on sell.The price is very reasonable. I like it very much.\n",
            "Name: reviewText, dtype: object\n",
            "Hurray! 1\n",
            "1339496    I believe in generic. I tried generic. for somethings, you need SanDisk. you can trust SanDisk, it always works and if it doesn't, they will make it right.\n",
            "Name: reviewText, dtype: object\n",
            "Hurray! 1\n",
            "1339517    Sandisk is the best brand in my oppinion. 32GB is a great size to put music, video etc. Recommend it!\n",
            "Name: reviewText, dtype: object\n",
            "Hurray! 1\n",
            "1339579    I got this for my tablet & have used this brand before on other things. It's a reliable brand & I never worry about quality with it.\n",
            "Name: reviewText, dtype: object\n",
            "Hurray! 1\n",
            "1339703    I have always used SanDisk products but this was a disappointment. It totally failed in my Galaxy S3 after about 8 months. I will order another brand but no more SanDisk for me!\n",
            "Name: reviewText, dtype: object\n",
            "Hurray! 1\n",
            "1339842    This works much better than any sd card I had in the past (I have class 4 off brand cards) and it is perfect for the tablet that I bought it for.\n",
            "Name: reviewText, dtype: object\n",
            "Hurray! 1\n",
            "1339941    The SanDisk Ultra 32 GB MicroSDHC C10/UHS1 Memory Card with Adapter handles its job as you would expect from SanDisk.\n",
            "Name: reviewText, dtype: object\n",
            "Hurray! 1\n",
            "1339972    Writes and transfer data very fast SanDisk has always been a reliable product. SanDisk is one of the top of the line and proven electronic devices on the markets. Can't go wrong... I've never had a problem, not saying something can happen but so far so good. GO SanDisk!!!\n",
            "Name: reviewText, dtype: object\n",
            "Hurray! 1\n",
            "1340006    I have always purchased SanDisk products. This works alright it went bad in 2 months and sandisk replaced it. I have not had any issues with the replacement that Sandisk sent.\n",
            "Name: reviewText, dtype: object\n",
            "Hurray! 1\n",
            "1340091    I use this in my Midland Action Cam for hunting and fishing. I rely on Sandisk because of it's quality. I have over a dozen different memory cards and of all the brands, I like Sandisk the best. Never an issue\n",
            "Name: reviewText, dtype: object\n",
            "Hurray! 1\n",
            "1340179    Not much to say about the excellence of SanDisk products. Fits well, adapter very easy to use. I never been disappointed in SanDisk.\n",
            "Name: reviewText, dtype: object\n",
            "Hurray! 1\n",
            "1340280    maybe the speed is not fast to beat others, but sandisk is always reliable. I have several sandisk SD/TF card, and they are never damaged. the data security is always very important.\n",
            "Name: reviewText, dtype: object\n",
            "Hurray! 1\n",
            "1340322    It's a great brand, works perfectly, I use it for my android phone and now i got tons of extra storage.\n",
            "Name: reviewText, dtype: object\n",
            "Hurray! 1\n",
            "1340341    Trusted SanDisk for years.  No issues, works great.  Does exactly what is needed.  I use SanDisk in all my camera and phone gear.\n",
            "Name: reviewText, dtype: object\n",
            "Hurray! 1\n",
            "417985    I'm convinced that Mediabridge makes good quality cables.\n",
            "Name: reviewText, dtype: object\n",
            "Hurray! 1\n",
            "1340447    This SanDisk class 10 microSDHC is installed in my phone and works great. As always, SanDIsk lives up to its name.\n",
            "Name: reviewText, dtype: object\n",
            "Hurray! 1\n",
            "1340492    there are lots of cards out there. what me choose this one, was the name brand and that it is a class 10, the best you can get. not a four , a ten.\n",
            "Name: reviewText, dtype: object\n",
            "Hurray! 1\n",
            "1340509    Works well - no problems.  This is a very good price for a name brand SD card.  I will buy again\n",
            "Name: reviewText, dtype: object\n",
            "Hurray! 1\n",
            "1340566    I have used this brand for a while, and no complaints...  writing HD video to them quite often no issues.\n",
            "Name: reviewText, dtype: object\n",
            "Hurray! 1\n",
            "1340716    If you need a memory card, this one works as advertised... It is fast and reliable.  I have never had a problem with this brand.\n",
            "Name: reviewText, dtype: object\n",
            "Hurray! 1\n",
            "1340797    Love SanDisk and loved the price.\n",
            "Name: reviewText, dtype: object\n",
            "Hurray! 1\n",
            "1340852    April 2013.  I have had the card for about 4 months and seemed to work fine.  I use it to store additional files on my ultrabook as the solid state drive is small (only 128GB).  About a month ago, the card could not be recognized.  It only lasted about 2 hours, so I thought maybe just a momentary blip.  However, this weekened, it cannot be recognized at all and it has been 3 days.  Sandisk support is not available until the week, so I will update on tech support soon.  However, I did find th...\n",
            "Name: reviewText, dtype: object\n",
            "Hurray! 1\n",
            "1340926    Name brand, great price, great shipping\n",
            "Name: reviewText, dtype: object\n",
            "Hurray! 1\n",
            "1341135    Has anyone ever had a DOA? The only chips I have ever lost were after some use, but SanDisk is a good brand\n",
            "Name: reviewText, dtype: object\n",
            "Hurray! 1\n",
            "1341334    Great little micro sd card!  The 64 GB of storage is awesome.  Very dependable brand.  I have this brand  for other devices and always works like a charm!\n",
            "Name: reviewText, dtype: object\n",
            "Hurray! 1\n",
            "415444    I have purchase this same brand of HDMI cable four different times and it never disappoints. It is a great, sturdy cable.\n",
            "Name: reviewText, dtype: object\n",
            "Hurray! 1\n",
            "415468    Recently bought an HDMI cable from Mediabridge.  Way less expensive than other HDMI cables, especially the high priced monstercables.  Shipping was quick, and application fast.  Quality of the Mediabridge cable is excellent, and it is performingflawlessly.Would recommend this cable to anyone interested in channeling audio, vidio and 3D from source to monitor.  At this price,with quick shipping, and high quality, this is a terrific bargain.  Thanks, Amazon and Mediabridge.\n",
            "Name: reviewText, dtype: object\n",
            "Hurray! 1\n",
            "415548    Buy it from MediaBridge and you will not be disappointed.  I have used products from MediaBridge and they never fail me.  Highly recommended.\n",
            "Name: reviewText, dtype: object\n",
            "Hurray! 1\n",
            "415627    Mediabridge has delivered another great cable. I search exclusively for Mediabridge cables. It's like getting high end for bargain prices. Still a happy camper.\n",
            "Name: reviewText, dtype: object\n",
            "Hurray! 1\n",
            "415706    Mediabridge cables are just as good as Monster Cable and SO MUCH CHEAPER!!!  I have used both, but not anymore.  It's only Mediabridge from now on for me.\n",
            "Name: reviewText, dtype: object\n",
            "Hurray! 1\n",
            "415765    Bought several of the Mediabridge cables for alot of uses. These cable are made very good for the cost and work as good as the Monster Cables which are far more expensive.  Definitely would recommend buying these Mediabridge Cables.\n",
            "Name: reviewText, dtype: object\n",
            "Hurray! 1\n",
            "415766    I have bought and used many different HDMI cables. MediaBridge is one of the best. They are quite flexible, especially the Flex Series. Some HDMI cables are so stiff they are difficult to use. The Mediabridge may cost a little more, but you get what you pay for.\n",
            "Name: reviewText, dtype: object\n",
            "Hurray! 1\n",
            "415781    I own many Mediabridge products and have been impressed by them all. The cable is very high quality and at an amazing price.\n",
            "Name: reviewText, dtype: object\n",
            "Hurray! 1\n",
            "415786    As always, Mediabridge delivers another fantastic product at a wonderful price. You will not find a better products for your money guaranteed. I will continue to buy Mediabridge products for myself, and recommend them to my friends and family. Thank you Mediabridge!\n",
            "Name: reviewText, dtype: object\n",
            "Hurray! 1\n",
            "415898    I first bought a cable locally -- their cheapest (mid $20 range).  I also tried their super duper one ($57) to see if the picture was better or loading was faster, using both of those with a brand new borrowed Roku MX.  Upon deciding I wanted to buy a Roku at all, I bought the XS model from Amazon along with this Mediabridge cable that someone had recommended in a Roku review.  I compared the MediaBridge with the more expensive of the two cables I'd bought locally, and it is every bit as goo...\n",
            "Name: reviewText, dtype: object\n",
            "Hurray! 1\n",
            "415959    Nonsense review. Mafiabridge...sorry Mediabridge cables are no better than monoprice but they cost twice as much.Ikross HDMI cables are actually better than Mediabridge because they cost 1/3 as much.Mediabridge sells the same cables made in the same Chinese factories but charge 2-10 times as much as everyone else.\n",
            "Name: reviewText, dtype: object\n",
            "Hurray! 1\n",
            "416137    Please see my other comments about Mediabridge cables. I discovered Mediabridge here on Amazon. I have been very impressed with the quality of their products. I am an audiophile and have spent my share on overpriced cables and interconnects. I do appreciate good build quality and attention to detail. Mediabridge got my attention and has won me over. I bought this HDMI cable for use with a new 3D plasma setup. There is absolutely no need to spend more. Highly recommended.\n",
            "Name: reviewText, dtype: object\n",
            "Hurray! 1\n",
            "416138    The 15 foot Mediabridge HDMI cable works as expected with no issues.  I am using this to link from a laptop to a Sharp 1080P LED TV.  The price for the Mediabridge product was much lower than several competitors and the quality of the cable and connectors is excellent.\n",
            "Name: reviewText, dtype: object\n",
            "Hurray! 1\n",
            "416154    I bought these Mediabridge Ultra Series Cables because I had previously purchased Mediabridge HDMI cables and Cat 5 cables and was completely satisfied with them. I had in the past purchased Monster Cable HDMI cables and although they work quite well they are very expensive. You can buy at least 4 Mediabridge cables for the price of 1 Monster Cable. So last year when I was changing my home theater system around and I needed new HDMI cables and I really didn't want to spend a couple of hundre...\n",
            "Name: reviewText, dtype: object\n",
            "Hurray! 1\n",
            "416165    The cable has a good feel to it and is working well. You can find cheaper cables, but if you like this brand this is a good value.\n",
            "Name: reviewText, dtype: object\n",
            "Hurray! 1\n",
            "416182    Seems to be high quality.  The jacketing is unnecessarily thick which is a trademark of Mediabridge.  If you don't mind have a very thick cable then this cable is a good buy.\n",
            "Name: reviewText, dtype: object\n",
            "Hurray! 1\n",
            "416337    This is as good as any HDMI cable that I have used. Price is good also. I would be looking for this brand if I need any cable.\n",
            "Name: reviewText, dtype: object\n",
            "Hurray! 1\n",
            "416382    I've purchased this brand (ULTRA Series HDMI Cable) in lengths from 3 to 35 feet for various applications and each one has performed flawlessly.  I highly recommend this brand without reservation.\n",
            "Name: reviewText, dtype: object\n",
            "Hurray! 1\n",
            "416515    I recommend this products. This brand makes excellent products. Do not hesitate in buying product of this brand. They have a lot of measures and qualities.\n",
            "Name: reviewText, dtype: object\n",
            "Hurray! 1\n",
            "416530    I'm a PC nerd and now entered the amazing world of Home Theater Systems. I ALWAYS purchase mid to high end hardware, and refuse to use any low end cabling on any of my systems or gadgets! My PC's and hardware are an investment that I demand quality performance from. I have used RCA, Monster, Radio Shack, and Cables-To-Go in the past. When I became an Amazon shopper (Prime Member), I found the Mediabridge cable line. I first purchased only a couple of Mediabridge cables to test as a possible ...\n",
            "Name: reviewText, dtype: object\n",
            "Hurray! 1\n",
            "416615    This is my fifth Mediabridge cable purchase. Every one has been a winner. I very highly recommend Mediabridge for all of your cable needs. Inexpensive and well made. Very reliable. Not a single one has failed.\n",
            "Name: reviewText, dtype: object\n",
            "Hurray! 1\n",
            "416700    The Mediabridge HDMI cable is without doubt the best available for its exceptional quality. Its low price is also amazing. Other cables I used are not nearly as good. I just bought my second Mediabridge HDMI cable. I recommend it to anyone.\n",
            "Name: reviewText, dtype: object\n",
            "Hurray! 1\n",
            "416772    I own several Mediabridge cables and all of them perform flawlessly and have the highest quality of any \"reasonably priced\" cables I've owned.  I've given up on all other brands and always look for a Mediabridge version of whatever I need.\n",
            "Name: reviewText, dtype: object\n",
            "Hurray! 1\n",
            "416917    Mediabridge make a Full Metal Jacket connector,which is Very Protective from damage!I had just bought a 32\" monitor 1080P  and it came with an hdmi cale.  I had somethging heavy (actually my wife did) leaning against the PC.Well it fell over and landed on the conector (hdmi).Unfortunately, it was Not a full metal jacket like Mediabridge has.if it was a Mediabrodge, it would still be working!!!Mediabridge's cables are also 1.4. Ready  for the New 1440P format being released.  They'rr also com...\n",
            "Name: reviewText, dtype: object\n",
            "Hurray! 1\n",
            "416968    This is the 3rd Mediabridge Ultra HDMI cable I've bought through Amazon.  They are excellent cables. The build quality is excellent. They provide a great picture.  I have absolutely no complaints.  Shipping was extremely fast.  I am and will continue to be a repeat customer.I am not an A/V expert but I did conduct my own experiment when I purchased my first cable.  I bought the Mediabridge and a Monster cable.  Mediabridge was $10; Monster was $100.  I watched several channels using the Mons...\n",
            "Name: reviewText, dtype: object\n",
            "Hurray! 1\n",
            "417093    This cord is much cheaper than the bigger brand out there but it provides a quality picture just as the other brand does.  I wouldn't spend a ton of money on an HDMI cord this was just the right price and does the job well.\n",
            "Name: reviewText, dtype: object\n",
            "Hurray! 1\n",
            "417100    Hello, well, if you are looking for a HDMI media cable you better should buy Mediabridge, i have two mediabridge hdmi cable and for me this is the best !Durable, resistant, and support 3D.definitely i would recommend this cable to any friend !\n",
            "Name: reviewText, dtype: object\n",
            "Hurray! 1\n",
            "417119    I love all my Mediabridge cables. I primarily use Mediabridge HDMI but I've recently decided that if I have it and Mediabridge offers, then I will buy theirs. First the price is always great. Second they have always performed where others have not. I use my need for this cable as an example. I have another brand of HDMI cable connecting a device to my TV. If I swap that cable to another device (DirecTV to Blu-Ray) then for some reason I have to power stuff down or some other type of thing to...\n",
            "Name: reviewText, dtype: object\n",
            "Hurray! 1\n",
            "417223    I have bought these before.. I am returning for more.  I like this brand allot. very good quality product.  I will return for more as I need them.\n",
            "Name: reviewText, dtype: object\n",
            "Hurray! 1\n",
            "417388    Mediabridge make excellent cables. I have used several of their products and they have all been excellent. Thank you Mediabridge for manufacturing good quality cables. Manuel J. Vazquez Du Val\n",
            "Name: reviewText, dtype: object\n",
            "Hurray! 1\n",
            "417411    I have bought several Mediabridge products. For quality and value you cannot go wrong with them.\n",
            "Name: reviewText, dtype: object\n",
            "Hurray! 1\n",
            "417451    As expected from Mediabridge, these are thick, well made cables.  I have tried many other manufacturers and have always preferred Mediabridge.\n",
            "Name: reviewText, dtype: object\n",
            "Hurray! 1\n",
            "417457    Just got these cables for my 3D HDTV and BluRay player.  I had purchased one of the Monster Cables from BestBuy for $60 just to get teh TV up and running but quickly replaced it with a MediaBridge cable and returned the Monster Cable to Best Buy (I was able to get (2) MediaBridge HDMI cables, (1) MediaBridge optical cable and a surge protector for the less than the Monster Cable from Best Buy).  The cables are excellent quality and cheap!\n",
            "Name: reviewText, dtype: object\n",
            "Hurray! 1\n",
            "417646    These HDMI cables are just as good or even better than those expensive $20-$50+ cables you find at big box stores.I have 1 big name brand Monster HDMI cable I bought a my local BB store & I can't notice any difference on picture quality just price$$$$ at less than $10 why would you buy those name brand cables.My cable is 4+yrs old and still working and looking like new, I would bet name brand cable manufactures price fix cable prices just to rob us.\n",
            "Name: reviewText, dtype: object\n",
            "Hurray! 1\n",
            "417662    Always a great brand name. They have great products. I will keep buying mediabridge cables. Great hdmi cable that will last a long time.\n",
            "Name: reviewText, dtype: object\n",
            "Hurray! 1\n",
            "417818    I purchased the MediaBridge HDMI cable to connect a soundbar to my TV. It seems to be top quality (gold contacts, sturdy connectors), works fine and cost less than many comparable products. I was also pleased with MediaBridge's clear instructions. In the past, I purchased a MediaBridge ethernet cable that was also good quality at a good price, and a Medialink wifi adapter which unfortunately did not work with my Panasonic TV (but MediaBridge was good about responding to my email inquiry and ...\n",
            "Name: reviewText, dtype: object\n",
            "Hurray! 1\n",
            "417896    i have been using a couple of the mediabridge ultra cables for my UVERSE and DVD for quite some time. I recently had to purchase more and again bought the mediabridge ultra cables. I've been very satisfied with both the quality and price of these cables.\n",
            "Name: reviewText, dtype: object\n",
            "Hurray! 1\n",
            "418005    The Mediabridge cables are the best cables for the price. All of their cables are excellent. I only buy Mediabridge cables now. Amazon seems to always have them ready to ship.\n",
            "Name: reviewText, dtype: object\n",
            "Hurray! 1\n",
            "418014    Every Mediabridge product I have purchased has been very good quality\\construction.  It is to the point now that I look for Mediabridge products as my preferred vendor\\manufacturer when looking for an item that I think they may sell.\n",
            "Name: reviewText, dtype: object\n",
            "Hurray! 1\n",
            "418020    These cables are very reasonably priced and work great. I have other cables of this brand and all work great.\n",
            "Name: reviewText, dtype: object\n",
            "Hurray! 1\n",
            "418093    I've owned other brands, but none have been as reliable for the price as Mediabridge.  Before you go out and spend a fortune on what you think are top-of-the-line cables because of the well-known name, spend $10 and order some Mediabridge cables.  See if they work for you.  I've been changing over to Mediabridge over the last few months and haven't had a complaint, yet.\n",
            "Name: reviewText, dtype: object\n",
            "Hurray! 1\n",
            "418121    MediaBridge is the best brand out there for the money and your cable needs!  Always chooses MediaBridge for your audio needs!!\n",
            "Name: reviewText, dtype: object\n",
            "Hurray! 1\n",
            "418212    I bought this cable for my PS3, But now I am using it for my PS4. the Quality is very good for the price. the picture is great, the sound is great, and the build quality is great. its a better buy then the expensive monster brand and/or the PS brand.\n",
            "Name: reviewText, dtype: object\n",
            "Hurray! 1\n",
            "418224    Quality cable!  15 feet from my laptop to a 73\" DLP, and the picture quality is STUNNING! Absolutely perfect and as good as my \"name brand\" 6 foot cable that costs FIVE TIMES THE PRICE!  I will never buy THAT other \"name brand\" again, and I don't have the time to waste on \"overseas\" knock-offs that may (or may not) work properly.  Mediabridge is FIRST CLASS. This is my second Mediabridge cable purchase, and they offer name brand quality and service without the name brand price. They are loca...\n",
            "Name: reviewText, dtype: object\n",
            "Hurray! 1\n",
            "418238    I love mediabridge HDMIs.  In terms of picture quality they are the best I've ever owned, and durable as well.  They are also very affordable.  I highly recommend Mediabridge if you are thinking of trying them. You won't be disappointed.\n",
            "Name: reviewText, dtype: object\n",
            "Hurray! 1\n",
            "418239    can't get enough of my mediabridge! i have 10 million cables in here by mediabridge and they all work really great as usual! no complaints.\n",
            "Name: reviewText, dtype: object\n",
            "Hurray! 1\n",
            "418268    I've ordered many different cables from Mediabridge, and all have been of very high quality for a reasonable price.  I always search for Mediabridge when looking for A/V cables.\n",
            "Name: reviewText, dtype: object\n",
            "Hurray! 1\n",
            "418361    View of the average buyer I have both Monster cable and Mediabridge. My next pick will be mediabridge for price and quality. Using it on a 52in LN52a550 LCD Samsung TV\n",
            "Name: reviewText, dtype: object\n",
            "Hurray! 1\n",
            "418374    I now have a variety of Mediabridge cables for all my electronics.  Simply put: You do not need to pay a premium to get high quality cables.  And there is nice selection Mediabridge cables on Amazon.\n",
            "Name: reviewText, dtype: object\n",
            "Hurray! 1\n",
            "418381    I had purchased a 10-ft Mediabridge cat-2 HDMI 1.6 from Amazon.com a few years back. The cable performs well without a hitch or problem. This time, I found a few more choices that are a little cheaper, such as Amazon-brand cable, which I have have no doubt will also work well. But with great experience with Mediabridge, I decided to stay with the reliable brand. The 70&#34; Sony LED TV and bluray player produce great picture with the Mediabridge HDMI cables. Mediabridge is highly recommended.\n",
            "Name: reviewText, dtype: object\n",
            "Hurray! 1\n",
            "418402    Works great, well made.  Not much more you could ask for.  I own several Mediabridge cables and they all have been very reliable.\n",
            "Name: reviewText, dtype: object\n",
            "Hurray! 1\n",
            "418473    I have had great luck with MediaBridge cables.  I have also used Monster cables and I can't tell a difference in quality between the two.  Save yourself some money and go with the Mediabridge cables!BTW, Never get your cables from a store like BestBuy.  You can get 4 MediaBridge cables that are every bit as good for the cost of 1 cable at Best buy.\n",
            "Name: reviewText, dtype: object\n",
            "Hurray! 1\n",
            "418510    Needed 35ft HDMI.  Tried another brand, Aurum.  No picture, No sound.Changed to Mediabridge Ultra.  Worked perfectly.Recommend Mediabridge cable.\n",
            "Name: reviewText, dtype: object\n",
            "Hurray! 1\n",
            "418560    Mediabridge Ultra Series, Cat.2, HDMI, for 3D, ARC, with Ethernet.Mediabridge audio/video/computer cables are as good as it gets.Great products, great customer service, and great packaging.  SinceI purchased my first Mediabridge cable product from Amazon, I have had noreason to think about any other cable manufacturers. Mediabridge cables are without equal,in quality, and certainly in price.  All of my HDTV's, computers,printers, and a camcorder utilize cables manufactured byMediabridge....t...\n",
            "Name: reviewText, dtype: object\n",
            "Hurray! 1\n",
            "418744    I now own several Mediabridge cables and have not had any trouble with them.  Seems to be a very well made cable.  I will continue to buy from Mediabridge through Amazon.\n",
            "Name: reviewText, dtype: object\n"
          ],
          "name": "stdout"
        }
      ]
    },
    {
      "metadata": {
        "id": "Hhwbk71KSLZK",
        "colab_type": "code",
        "outputId": "7f5a931e-7e28-45e3-a46b-ed9d46ecc448",
        "colab": {
          "base_uri": "https://localhost:8080/",
          "height": 0
        }
      },
      "cell_type": "code",
      "source": [
        "df_new.groupby('feature_1').count()"
      ],
      "execution_count": 24,
      "outputs": [
        {
          "output_type": "execute_result",
          "data": {
            "text/html": [
              "<div>\n",
              "<style scoped>\n",
              "    .dataframe tbody tr th:only-of-type {\n",
              "        vertical-align: middle;\n",
              "    }\n",
              "\n",
              "    .dataframe tbody tr th {\n",
              "        vertical-align: top;\n",
              "    }\n",
              "\n",
              "    .dataframe thead th {\n",
              "        text-align: right;\n",
              "    }\n",
              "</style>\n",
              "<table border=\"1\" class=\"dataframe\">\n",
              "  <thead>\n",
              "    <tr style=\"text-align: right;\">\n",
              "      <th></th>\n",
              "      <th>reviewerID</th>\n",
              "      <th>asin</th>\n",
              "      <th>reviewerName</th>\n",
              "      <th>helpful</th>\n",
              "      <th>reviewText</th>\n",
              "      <th>overall</th>\n",
              "      <th>summary</th>\n",
              "      <th>unixReviewTime</th>\n",
              "      <th>reviewTime</th>\n",
              "      <th>feature_7</th>\n",
              "      <th>feature_8</th>\n",
              "      <th>feature_9</th>\n",
              "    </tr>\n",
              "    <tr>\n",
              "      <th>feature_1</th>\n",
              "      <th></th>\n",
              "      <th></th>\n",
              "      <th></th>\n",
              "      <th></th>\n",
              "      <th></th>\n",
              "      <th></th>\n",
              "      <th></th>\n",
              "      <th></th>\n",
              "      <th></th>\n",
              "      <th></th>\n",
              "      <th></th>\n",
              "      <th></th>\n",
              "    </tr>\n",
              "  </thead>\n",
              "  <tbody>\n",
              "    <tr>\n",
              "      <th>0</th>\n",
              "      <td>8229</td>\n",
              "      <td>8229</td>\n",
              "      <td>8227</td>\n",
              "      <td>8229</td>\n",
              "      <td>8229</td>\n",
              "      <td>8229</td>\n",
              "      <td>8229</td>\n",
              "      <td>8229</td>\n",
              "      <td>8229</td>\n",
              "      <td>8229</td>\n",
              "      <td>8229</td>\n",
              "      <td>8229</td>\n",
              "    </tr>\n",
              "    <tr>\n",
              "      <th>1</th>\n",
              "      <td>121</td>\n",
              "      <td>121</td>\n",
              "      <td>121</td>\n",
              "      <td>121</td>\n",
              "      <td>121</td>\n",
              "      <td>121</td>\n",
              "      <td>121</td>\n",
              "      <td>121</td>\n",
              "      <td>121</td>\n",
              "      <td>121</td>\n",
              "      <td>121</td>\n",
              "      <td>121</td>\n",
              "    </tr>\n",
              "  </tbody>\n",
              "</table>\n",
              "</div>"
            ],
            "text/plain": [
              "           reviewerID  asin  reviewerName  helpful  reviewText  overall  \\\n",
              "feature_1                                                                 \n",
              "0                8229  8229          8227     8229        8229     8229   \n",
              "1                 121   121           121      121         121      121   \n",
              "\n",
              "           summary  unixReviewTime  reviewTime  feature_7  feature_8  \\\n",
              "feature_1                                                              \n",
              "0             8229            8229        8229       8229       8229   \n",
              "1              121             121         121        121        121   \n",
              "\n",
              "           feature_9  \n",
              "feature_1             \n",
              "0               8229  \n",
              "1                121  "
            ]
          },
          "metadata": {
            "tags": []
          },
          "execution_count": 24
        }
      ]
    },
    {
      "metadata": {
        "id": "SKl16vnt1PYv",
        "colab_type": "text"
      },
      "cell_type": "markdown",
      "source": [
        "### Feature - 2: Reviews about the competitors only\n"
      ]
    },
    {
      "metadata": {
        "id": "YrYeaIhlV8Mf",
        "colab_type": "code",
        "outputId": "f9bbe3f8-b4ce-439b-a352-17ed96b516f5",
        "colab": {
          "base_uri": "https://localhost:8080/",
          "height": 0
        }
      },
      "cell_type": "code",
      "source": [
        "### Feature - 2: Reviews about the competitors only\n",
        "\n",
        "feature_2 = [0 for _ in range(8350)]\n",
        "df_new['feature_2'] = feature_1\n",
        "\n",
        "threshold = 0.25\n",
        "  \n",
        "import scipy.sparse\n",
        "c = 1\n",
        "for user in user_review:\n",
        "  for product in user_review[user]:\n",
        "    competitors = []\n",
        "    competitors = product_info[product]['competitors']\n",
        "    competitors = [x.lower() for x in competitors]\n",
        "    for com in competitors:\n",
        "      if com in feature_names:\n",
        "        index = feature_names.index(com)\n",
        "      tfidf_row = user_review[user][product]\n",
        "      rows,cols = tfidf_row.nonzero()\n",
        "      for row,col in zip(rows,cols):\n",
        "        #print(row,col)\n",
        "        if index == col:\n",
        "          if tfidf_row[row,index] >= threshold:\n",
        "            print(\"Hurray!\", c)\n",
        "\n",
        "            print(df_new[(df_new['reviewerID'] == user) & (df_new['asin'] == product)]['reviewText'])\n",
        "            df_new.loc[(df_new.reviewerID == user) & (df_new.asin == product), 'feature_2' ] = 1\n",
        "      #c += 1"
      ],
      "execution_count": 25,
      "outputs": [
        {
          "output_type": "stream",
          "text": [
            "Hurray! 1\n",
            "1336642    I purchased two of these one for my Samsung tablet and one for my samsung galaxy note. Great hardware that is truly speedy, responsive and meets my needs!\n",
            "Name: reviewText, dtype: object\n",
            "Hurray! 1\n",
            "1336891    This is the second one of these SanDisk 32 GB MicroSDHC cards I have bought.  One I installed in my Samsung Galaxy S3 and this one I installed in my Samsung Galaxy Tab 3 - 8.0.  These are excellent options for both devices to expand storage.  One of the reasons I went with Samsung products is because you can use MicroSD cards unlike Apple iPhone products where you can't.\n",
            "Name: reviewText, dtype: object\n",
            "Hurray! 1\n",
            "1336898    We use these for our Samsung Galaxy 4s phones and they are amazing because I can now take a gazillion pictures! I only wish that I could separate the pictures on the memory card into folders but that is a Samsung issue, not the memory card issue.\n",
            "Name: reviewText, dtype: object\n",
            "Hurray! 1\n",
            "1336957    It installed and is working without any problems in my Samsung Note 2.  Price was  very good for the price.\n",
            "Name: reviewText, dtype: object\n",
            "Hurray! 1\n",
            "1336973    I originally bought a Samsung equivalent and then my phone was stolen, so I made the switch.  I have done some research and realized the class 10 and the SDXC are very important as it is the quickest rate of transfer.  However when you read Samsung's description and this one, Samsung claims 80 mbps and SanDisk has 30 mbps, after using both they are identical.  The class and the sdxc are the most important, they are almost absolutely identical.  Samsung's equivalent is $65 and this was under ...\n",
            "Name: reviewText, dtype: object\n",
            "Hurray! 1\n",
            "1337071    I purchased this to use in my Samsung camera and it works great. I take picture and videos with the camera with no issues.\n",
            "Name: reviewText, dtype: object\n",
            "Hurray! 1\n",
            "1337096    Reliable and inexpensive. However, it's quite slow, far, far slower than the 64GB samsung pro microsdxc. The Samsung works well for interactive use while I would only use this Sandisk card for applications where speed isn't important.\n",
            "Name: reviewText, dtype: object\n",
            "Hurray! 1\n",
            "1337130    I bought this to upgrade the 32GB MicroSD that was in my Samsung Galaxy S5. This works great!I recommend this for everyone.\n",
            "Name: reviewText, dtype: object\n",
            "Hurray! 1\n",
            "1337207    I was better off with my 32gig card.  This thing was nothing but problems.  The phone does not see it half the time and it is SLOW.  The phone keeps asking to Re- format it.  I got it to see the card after a reboot.  It is still SLOW.I will be buying the Samsung 64gig card for my Samsung Galaxy Note 1.  I have seen good things from Samsung.\n",
            "Name: reviewText, dtype: object\n",
            "Hurray! 1\n",
            "1337441    looking for a good memory card then this is it. Its fast and it works flaw less with my Samsung tab 3\n",
            "Name: reviewText, dtype: object\n",
            "Hurray! 1\n",
            "1337443    Good product, no problems. I have this installed in my Samsung Galexy III. works well even in super HD video.\n",
            "Name: reviewText, dtype: object\n",
            "Hurray! 1\n",
            "1337467    Got for my Samsung Galaxy Tab2 7.0 . Plugged it in and it works.That is about all there is to it.\n",
            "Name: reviewText, dtype: object\n",
            "Hurray! 1\n",
            "1337469    Very quick and no problems what so ever. A great storage platform and works great in both my Lenovo tablet and my Samsung phone. I would recommend this to anyone =)\n",
            "Name: reviewText, dtype: object\n",
            "Hurray! 1\n",
            "1337541    Bought this for my Samsung Galaxy Legend phone so I can store all my pictures and videos, works like a charm.\n",
            "Name: reviewText, dtype: object\n",
            "Hurray! 1\n",
            "1337570    Using this on my Samsung Galaxy S4.  It works well and has good read/write speeds.  Very pleased with this card.\n",
            "Name: reviewText, dtype: object\n",
            "Hurray! 1\n",
            "1337640    I bought this memory for my Samsung Tab 2 8.0. So far it works quite well. I wish my Samsung would recognize the 64 GB.\n",
            "Name: reviewText, dtype: object\n",
            "Hurray! 1\n",
            "1337650    Works great, another awesome Amazon purchase! I use it in my Samsung Galaxy S 3.\n",
            "Name: reviewText, dtype: object\n",
            "Hurray! 1\n",
            "1337666    Git this for my daughters samsung Galaxy S3. It has been working great in her phone, fast with no problems\n",
            "Name: reviewText, dtype: object\n",
            "Hurray! 1\n",
            "1337872    Works as advertised for my Samsung GN2 Smartphone.  Got one for my dad's Samsung GS3 too.  Sandisk is simply the most reliable hi-cap micro SD flash memory out there.\n",
            "Name: reviewText, dtype: object\n",
            "Hurray! 1\n",
            "1337886    I am using this in my Samsung galaxy smart phone and I did not find any issue. easy to access\n",
            "Name: reviewText, dtype: object\n",
            "Hurray! 1\n",
            "1337897    We ordered two of these for our Samsung Galaxy S3 phones. They work perfectly!  Exactly what we wanted and needed:)\n",
            "Name: reviewText, dtype: object\n",
            "Hurray! 1\n",
            "1337911    This was what I needed for extra space and to store more music.  This works great on my Samsung S4\n",
            "Name: reviewText, dtype: object\n",
            "Hurray! 1\n",
            "1337915    So far it is working fine with the Samsung Galaxy Note 8.0. Access to videos and music on the card is very fast.\n",
            "Name: reviewText, dtype: object\n",
            "Hurray! 1\n",
            "1337954    It does what its suppose to do.  I use it in my Samsung laptop, I never remove it so its never a problem.\n",
            "Name: reviewText, dtype: object\n",
            "Hurray! 1\n",
            "1338023    Love it in my new Samsung Galaxy S5 phone.\n",
            "Name: reviewText, dtype: object\n",
            "Hurray! 1\n",
            "1338055    This worked great in my Samsung Galaxy S4 - plenty of storage for photos, video, and I'm not sure what else to use it for yet.\n",
            "Name: reviewText, dtype: object\n",
            "Hurray! 1\n",
            "1338137    The price for this 64GB micro SD card is excellent compare to retail. The card is reliable with no issues at all. I bought one for my Samsung Note 8 tablet and Samsung Galaxy S4!\n",
            "Name: reviewText, dtype: object\n",
            "Hurray! 1\n",
            "1338216    Bought This For My Samsung Galaxy S3Load It Up With Music And It Works FlawlesslyI'm Very Satisfied With This Card\n",
            "Name: reviewText, dtype: object\n",
            "Hurray! 1\n",
            "1338258    excellent product, very fast and lots of space.. I am using at Samsung galaxy S3, there are no issues, ..recommended..\n",
            "Name: reviewText, dtype: object\n",
            "Hurray! 1\n",
            "1338285    I use it on my SAMSUNG GALAXY S3, it works great... more space to save all my documents, pictures and more :)\n",
            "Name: reviewText, dtype: object\n",
            "Hurray! 1\n",
            "1338363    I use it in my Samsung Galaxy 3 cell phone and it works great.  Good value and quality. I highly recommend it.\n",
            "Name: reviewText, dtype: object\n",
            "Hurray! 1\n",
            "1338409    Sandisk has the name but in my experience the quality and speed is not there. My lexar lasted longer and outperformed this chip.\n",
            "Name: reviewText, dtype: object\n",
            "Hurray! 1\n",
            "1338469    Bought this for my Samsung Galaxy Note 2.  Has not blipped once. Movies, music, etc. Do not hesitate to buy this.\n",
            "Name: reviewText, dtype: object\n",
            "Hurray! 1\n",
            "1338484    This is a 32gb memory card. Works right out of the case, Does exactly what the description says. Very fast Read/Write speeds. I recommend this to anyone (I am currently using this on my Samsung Galaxy Note 2 and Samsung Galaxy Tab 2 7.0\n",
            "Name: reviewText, dtype: object\n",
            "Hurray! 1\n",
            "1338535    Bought two of these for me and my daughters Samsung Galaxy S3, and they store so much on them. I love my phone even more.\n",
            "Name: reviewText, dtype: object\n",
            "Hurray! 1\n",
            "1338690    So far I have not have any problems with this memory, the transfer speed is good and it works just great on my Samsung Note 8\n",
            "Name: reviewText, dtype: object\n",
            "Hurray! 1\n",
            "1338698    Great price on this product.  Half of what Samsung was charging for the same memory card. Works just fine in my Notewith no pproblems what so ever.\n",
            "Name: reviewText, dtype: object\n",
            "Hurray! 1\n",
            "1338737    This works great just like all SanDisk chips I have had. It's being used in My girlfriends Samsung Galaxy S3.\n",
            "Name: reviewText, dtype: object\n",
            "Hurray! 1\n",
            "1338749    This is the second one of these that I've purchased.  The first was inexpensive, quick, and easy to install in my wife's Samsung tablet.  I was so impressed that I bought another to install in my Samsung.\n",
            "Name: reviewText, dtype: object\n",
            "Hurray! 1\n",
            "1338759    I use this with my Samsung Note II.  Previously I had iPhones, but it is very expensive to get an iPhone with enough memory for all my songs.  For a fraction of the price with my Samsung, they're all there wherever a go.\n",
            "Name: reviewText, dtype: object\n",
            "Hurray! 1\n",
            "1338801    Does what is suppose to do.  I purchased it for my Samsung Galaxy Tablet 2 7.0.  No problems or complaints.\n",
            "Name: reviewText, dtype: object\n",
            "Hurray! 1\n",
            "1338842    Bought this micro sd card for my Samsung Galaxy Note 2 and it works flawlessly. Lots of space and fast!\n",
            "Name: reviewText, dtype: object\n",
            "Hurray! 1\n",
            "1338944    Bought this for my Samsung Tab3.  Works great, fast and have not had a problem.  This will also work with the Samsung Galaxy S4.\n",
            "Name: reviewText, dtype: object\n",
            "Hurray! 1\n",
            "1339011    So far so good. Fit right into the slot on my Samsung S5\n",
            "Name: reviewText, dtype: object\n",
            "Hurray! 1\n",
            "1339035    I use this in my Samsung Galaxy Work Pro 12.2 Tablet. It woks so what else can you say?\n",
            "Name: reviewText, dtype: object\n",
            "Hurray! 1\n",
            "1339139    Always can trust SanDisk for my memory card needs.  This purchase was because I was considering getting a Samsung Galaxy S3 phone, which only has 16gb memory, but has an internal slot for memory expansion.  However, just had several bad experiences with 3 Samsung Printers at work ~ all of them broke down within a couple of weeks of each other for various reasons, and to get repair and replacement parts is ridiculously expensive.... cheaper for me to go and buy a new printer!  Samsung website...\n",
            "Name: reviewText, dtype: object\n",
            "Hurray! 1\n",
            "1339158    works perfect with no issues on my phone Samsung Galaxy S 3, and Galaxy Note 10.1. . . . .\n",
            "Name: reviewText, dtype: object\n",
            "Hurray! 1\n",
            "1339253    Works perfect in Samsung Tab 2. It quadrupled my storage capability and seems to be very fast.  I would recommend to anyone\n",
            "Name: reviewText, dtype: object\n",
            "Hurray! 1\n",
            "1339357    This card only lasted two weeks before it began giving read errors. I used it in a dash cam and no matter how many times I formatted, it would only record for about a minute before failing again. I picked up a PNY card since and it has worked beautifully. Unfortunately, I've been swamped and forgot to return this card before my 30 days. Not happy about that!\n",
            "Name: reviewText, dtype: object\n",
            "Hurray! 1\n",
            "1339485    I have purchased two of these 64gb sd cards and used them in an Android phone, and in a video recorder.After about 3 months usage in my phone, the card would randomly unmount and it took many remounts or reboots to get the card to work again.  Eventually, it stopped accepting writes at all, and couldn't even be formatted... although I could see what was on there.I repurchased the card, and after a couple months, the same thing happened again: random unmounts.  I moved the card to a video rec...\n",
            "Name: reviewText, dtype: object\n",
            "Hurray! 1\n",
            "1339603    Nice 32gb micro sd card. Using one in a Samsung S3 and another one in a Samsung S3 mini. Both phones can use the full storage amount and read/write seems fast. Comes with a nice little micro sd to sd adapter for easy use on a laptop for transferring files.\n",
            "Name: reviewText, dtype: object\n",
            "Hurray! 1\n",
            "1339882    I bought this for my Samsung Galaxy 10.1. It works great! I have had no problems with it!I would definitely buy this again. Seller was also very fast in shipping!\n",
            "Name: reviewText, dtype: object\n",
            "Hurray! 1\n",
            "1339938    Samsung is my preferred memory brand but SanDisk runs a close 2nd. 64 GB should be great when I upgrade my Motorola RAZR to a new Samsung Galaxy Note 3 with it's 16 MP camera.\n",
            "Name: reviewText, dtype: object\n",
            "Hurray! 1\n",
            "1339984    Bought this to go with my Samsung Galaxy S III. It is class 10 which means it is fast. Works well.\n",
            "Name: reviewText, dtype: object\n",
            "Hurray! 1\n",
            "1340072    Pro:  &#9642;PriceCons:  &#9642;intially began to get card read errors on Samsung Note.  Right at 6 months it fails, lossing all my data.  Pictures, videos, documents, ect...  all gone.I shouldn't have cheaped out, I should have bought the samsung card.\n",
            "Name: reviewText, dtype: object\n",
            "Hurray! 1\n",
            "1340109    works great in a Samsung phone. Easy to use, get to, and can take some punishment...i'll be buying more soon\n",
            "Name: reviewText, dtype: object\n",
            "Hurray! 1\n",
            "1340129    Pros: Looks good, works fine until it starts acting up.Cons : Worked for 6-8 months in 2 Samsung S3 phones, and 3 months in a Samsung Galaxy Note 8. One by one they all died, became unreadable. Cannot format either. Just dead. Wasted.Sandisk did not post any disclaimers like don't bother to use this in a Samsung device.\n",
            "Name: reviewText, dtype: object\n",
            "Hurray! 1\n",
            "1340192    Bought this for my Samsung Galaxy S3 and it works perfectly.  Price was better than anything I could find in the stores locally.\n",
            "Name: reviewText, dtype: object\n",
            "Hurray! 1\n",
            "1340213    Using this in my Samsung Galaxy S3 and I haven't had any issues with it, and it is super fast.\n",
            "Name: reviewText, dtype: object\n",
            "Hurray! 1\n",
            "1340408    This works well and is speedy in both my Samsung Galaxy S3 and my Samsung Galaxy Tab 2 10.1.  The included adapter works great in my PC memory card slot as well.\n",
            "Name: reviewText, dtype: object\n",
            "Hurray! 1\n",
            "1340472    I bought this card for my Samsung Galaxy Note 10.1.  It is exactly what I wanted and it works great.\n",
            "Name: reviewText, dtype: object\n",
            "Hurray! 1\n",
            "1340513    I'm using the card in my new Samsung S4 phone. Work as it should. No Problem. This is the largest size I can use.\n",
            "Name: reviewText, dtype: object\n",
            "Hurray! 1\n",
            "1340534    Needed a memory card for my phone (Samsung Galaxy III) and this works fine for it.  No problems at all.\n",
            "Name: reviewText, dtype: object\n",
            "Hurray! 1\n",
            "1340562    Works perfectly in my Samsung tablet!\n",
            "Name: reviewText, dtype: object\n",
            "Hurray! 1\n",
            "1340587    works well in my Samsung S5 no issue\n",
            "Name: reviewText, dtype: object\n",
            "Hurray! 1\n",
            "1340618    I use this with my Samsung Galaxy 10.1 Tablet and it works Great. The SD card loads fast and I have had no issues.\n",
            "Name: reviewText, dtype: object\n",
            "Hurray! 1\n",
            "1340636    I got this to add some room on my Samsung Galaxy S3. It works great. I do not have any complaints.\n",
            "Name: reviewText, dtype: object\n",
            "Hurray! 1\n",
            "1340799    Works great in my Samsung Galaxy S4.  Well worth the money and the price is affordable. A great sd card.\n",
            "Name: reviewText, dtype: object\n",
            "Hurray! 1\n",
            "1340806    This card is great for the price it's exactly what I ordered. Works great with my Samsung S4. Plenty of memory.\n",
            "Name: reviewText, dtype: object\n",
            "Hurray! 1\n",
            "1340833    Since my Samsung S2 could not take the 64GB card, I bought this one. Like I expected it works great and no problems so far.\n",
            "Name: reviewText, dtype: object\n",
            "Hurray! 1\n",
            "1340932    Works on my Samsung Note 3, and for such a great price.  Fast, holds a lot of data, no need to go any where else.\n",
            "Name: reviewText, dtype: object\n",
            "Hurray! 1\n",
            "1340941    Good price on this big micro SD card. Works with my Samsung Galaxy S5 great.\n",
            "Name: reviewText, dtype: object\n",
            "Hurray! 1\n",
            "1341010    I have been using it for over a month now, works well with my Samsung Galaxy Note 10.1 tablet. Excellent speed, Do recommend it.\n",
            "Name: reviewText, dtype: object\n",
            "Hurray! 1\n",
            "1341113    I have not had many problems with what I have bought over the years, but when I do I will make sure to warn others. I loaded a handful of videos from my PC and then installed this in my Android tablet for a trip. Corrupted. Nothing worked and sometimes it can be seen, other times it doesn't even show up. The tablet wants to format it, which it has never been able to do successfully, and needless to say it is too small to even be a paperweight. The SD adapter that it came with was also junk a...\n",
            "Name: reviewText, dtype: object\n",
            "Hurray! 1\n",
            "1341209    Works great in my Samsung Galaxy S4.  Fast and reliable, what more could you want from a data storage device.\n",
            "Name: reviewText, dtype: object\n",
            "Hurray! 1\n",
            "1341227    I bought two of these. One for my Galaxy S3 and the other for my Samsung Tablet. Had no problems using it with either one. A definite must have.\n",
            "Name: reviewText, dtype: object\n",
            "Hurray! 1\n",
            "1341300    Works great with my Samsung Galaxy Note 3. Now I have 96GB total memory! Awesome! The price was quite good too\n",
            "Name: reviewText, dtype: object\n",
            "Hurray! 1\n",
            "1341335    Works great in my Samsung Note 2 and Samsung Ativ 500T. Just slide it in and nothing else to do!\n",
            "Name: reviewText, dtype: object\n",
            "Hurray! 1\n",
            "1341504    Super fast access to my Samsung Galaxy Note II. SanDisk Ultra Micro HC is blazing fast compared to the other microSD cards I have bought including PNY, Sony and more!\n",
            "Name: reviewText, dtype: object\n",
            "Hurray! 1\n",
            "415874    Ive had this product for about two weeks. I have it going from my LG DN898 upscaling dvd player to my Vizio HD TV. Its working flawlessly. The only reason it got 4 stars instead of 5 is because i bought a comparable HDMI cable from BlueRigger for a couple dollars cheaper and is working just as well.. I will update at a later date to let consumers know which one lasted longer. If this one outlasts my Bluerigger than i'll give it 5 stars for longevity.UPDATE: Its been a year and neither cable ...\n",
            "Name: reviewText, dtype: object\n",
            "Hurray! 1\n",
            "415874    Ive had this product for about two weeks. I have it going from my LG DN898 upscaling dvd player to my Vizio HD TV. Its working flawlessly. The only reason it got 4 stars instead of 5 is because i bought a comparable HDMI cable from BlueRigger for a couple dollars cheaper and is working just as well.. I will update at a later date to let consumers know which one lasted longer. If this one outlasts my Bluerigger than i'll give it 5 stars for longevity.UPDATE: Its been a year and neither cable ...\n",
            "Name: reviewText, dtype: object\n",
            "Hurray! 1\n",
            "415874    Ive had this product for about two weeks. I have it going from my LG DN898 upscaling dvd player to my Vizio HD TV. Its working flawlessly. The only reason it got 4 stars instead of 5 is because i bought a comparable HDMI cable from BlueRigger for a couple dollars cheaper and is working just as well.. I will update at a later date to let consumers know which one lasted longer. If this one outlasts my Bluerigger than i'll give it 5 stars for longevity.UPDATE: Its been a year and neither cable ...\n",
            "Name: reviewText, dtype: object\n",
            "Hurray! 1\n",
            "415874    Ive had this product for about two weeks. I have it going from my LG DN898 upscaling dvd player to my Vizio HD TV. Its working flawlessly. The only reason it got 4 stars instead of 5 is because i bought a comparable HDMI cable from BlueRigger for a couple dollars cheaper and is working just as well.. I will update at a later date to let consumers know which one lasted longer. If this one outlasts my Bluerigger than i'll give it 5 stars for longevity.UPDATE: Its been a year and neither cable ...\n",
            "Name: reviewText, dtype: object\n",
            "Hurray! 1\n",
            "415874    Ive had this product for about two weeks. I have it going from my LG DN898 upscaling dvd player to my Vizio HD TV. Its working flawlessly. The only reason it got 4 stars instead of 5 is because i bought a comparable HDMI cable from BlueRigger for a couple dollars cheaper and is working just as well.. I will update at a later date to let consumers know which one lasted longer. If this one outlasts my Bluerigger than i'll give it 5 stars for longevity.UPDATE: Its been a year and neither cable ...\n",
            "Name: reviewText, dtype: object\n",
            "Hurray! 1\n",
            "415874    Ive had this product for about two weeks. I have it going from my LG DN898 upscaling dvd player to my Vizio HD TV. Its working flawlessly. The only reason it got 4 stars instead of 5 is because i bought a comparable HDMI cable from BlueRigger for a couple dollars cheaper and is working just as well.. I will update at a later date to let consumers know which one lasted longer. If this one outlasts my Bluerigger than i'll give it 5 stars for longevity.UPDATE: Its been a year and neither cable ...\n",
            "Name: reviewText, dtype: object\n",
            "Hurray! 1\n",
            "415874    Ive had this product for about two weeks. I have it going from my LG DN898 upscaling dvd player to my Vizio HD TV. Its working flawlessly. The only reason it got 4 stars instead of 5 is because i bought a comparable HDMI cable from BlueRigger for a couple dollars cheaper and is working just as well.. I will update at a later date to let consumers know which one lasted longer. If this one outlasts my Bluerigger than i'll give it 5 stars for longevity.UPDATE: Its been a year and neither cable ...\n",
            "Name: reviewText, dtype: object\n",
            "Hurray! 1\n",
            "415874    Ive had this product for about two weeks. I have it going from my LG DN898 upscaling dvd player to my Vizio HD TV. Its working flawlessly. The only reason it got 4 stars instead of 5 is because i bought a comparable HDMI cable from BlueRigger for a couple dollars cheaper and is working just as well.. I will update at a later date to let consumers know which one lasted longer. If this one outlasts my Bluerigger than i'll give it 5 stars for longevity.UPDATE: Its been a year and neither cable ...\n",
            "Name: reviewText, dtype: object\n",
            "Hurray! 1\n",
            "415874    Ive had this product for about two weeks. I have it going from my LG DN898 upscaling dvd player to my Vizio HD TV. Its working flawlessly. The only reason it got 4 stars instead of 5 is because i bought a comparable HDMI cable from BlueRigger for a couple dollars cheaper and is working just as well.. I will update at a later date to let consumers know which one lasted longer. If this one outlasts my Bluerigger than i'll give it 5 stars for longevity.UPDATE: Its been a year and neither cable ...\n",
            "Name: reviewText, dtype: object\n",
            "Hurray! 1\n",
            "415874    Ive had this product for about two weeks. I have it going from my LG DN898 upscaling dvd player to my Vizio HD TV. Its working flawlessly. The only reason it got 4 stars instead of 5 is because i bought a comparable HDMI cable from BlueRigger for a couple dollars cheaper and is working just as well.. I will update at a later date to let consumers know which one lasted longer. If this one outlasts my Bluerigger than i'll give it 5 stars for longevity.UPDATE: Its been a year and neither cable ...\n",
            "Name: reviewText, dtype: object\n",
            "Hurray! 1\n",
            "416288    I purchased this product for my flat screen TV's. It performed well until I played a BluRay movie. The quality was just not there. It supports 3D but not that well. I thought that these cables would do the trick across the board but they didn't. Great price and sturdy construction, but just an ok product. Go with the Bluerigger cables. They work with HDMI.\n",
            "Name: reviewText, dtype: object\n",
            "Hurray! 1\n",
            "416288    I purchased this product for my flat screen TV's. It performed well until I played a BluRay movie. The quality was just not there. It supports 3D but not that well. I thought that these cables would do the trick across the board but they didn't. Great price and sturdy construction, but just an ok product. Go with the Bluerigger cables. They work with HDMI.\n",
            "Name: reviewText, dtype: object\n",
            "Hurray! 1\n",
            "416288    I purchased this product for my flat screen TV's. It performed well until I played a BluRay movie. The quality was just not there. It supports 3D but not that well. I thought that these cables would do the trick across the board but they didn't. Great price and sturdy construction, but just an ok product. Go with the Bluerigger cables. They work with HDMI.\n",
            "Name: reviewText, dtype: object\n",
            "Hurray! 1\n",
            "416288    I purchased this product for my flat screen TV's. It performed well until I played a BluRay movie. The quality was just not there. It supports 3D but not that well. I thought that these cables would do the trick across the board but they didn't. Great price and sturdy construction, but just an ok product. Go with the Bluerigger cables. They work with HDMI.\n",
            "Name: reviewText, dtype: object\n",
            "Hurray! 1\n",
            "416288    I purchased this product for my flat screen TV's. It performed well until I played a BluRay movie. The quality was just not there. It supports 3D but not that well. I thought that these cables would do the trick across the board but they didn't. Great price and sturdy construction, but just an ok product. Go with the Bluerigger cables. They work with HDMI.\n",
            "Name: reviewText, dtype: object\n",
            "Hurray! 1\n",
            "416288    I purchased this product for my flat screen TV's. It performed well until I played a BluRay movie. The quality was just not there. It supports 3D but not that well. I thought that these cables would do the trick across the board but they didn't. Great price and sturdy construction, but just an ok product. Go with the Bluerigger cables. They work with HDMI.\n",
            "Name: reviewText, dtype: object\n",
            "Hurray! 1\n",
            "416288    I purchased this product for my flat screen TV's. It performed well until I played a BluRay movie. The quality was just not there. It supports 3D but not that well. I thought that these cables would do the trick across the board but they didn't. Great price and sturdy construction, but just an ok product. Go with the Bluerigger cables. They work with HDMI.\n",
            "Name: reviewText, dtype: object\n",
            "Hurray! 1\n",
            "416288    I purchased this product for my flat screen TV's. It performed well until I played a BluRay movie. The quality was just not there. It supports 3D but not that well. I thought that these cables would do the trick across the board but they didn't. Great price and sturdy construction, but just an ok product. Go with the Bluerigger cables. They work with HDMI.\n",
            "Name: reviewText, dtype: object\n",
            "Hurray! 1\n",
            "416288    I purchased this product for my flat screen TV's. It performed well until I played a BluRay movie. The quality was just not there. It supports 3D but not that well. I thought that these cables would do the trick across the board but they didn't. Great price and sturdy construction, but just an ok product. Go with the Bluerigger cables. They work with HDMI.\n",
            "Name: reviewText, dtype: object\n",
            "Hurray! 1\n",
            "416288    I purchased this product for my flat screen TV's. It performed well until I played a BluRay movie. The quality was just not there. It supports 3D but not that well. I thought that these cables would do the trick across the board but they didn't. Great price and sturdy construction, but just an ok product. Go with the Bluerigger cables. They work with HDMI.\n",
            "Name: reviewText, dtype: object\n"
          ],
          "name": "stdout"
        }
      ]
    },
    {
      "metadata": {
        "id": "A4R74IanWwI7",
        "colab_type": "code",
        "outputId": "c85bd6da-41a1-4091-bcf3-7a797e338ee7",
        "colab": {
          "base_uri": "https://localhost:8080/",
          "height": 0
        }
      },
      "cell_type": "code",
      "source": [
        "df_new.groupby('feature_2').count()"
      ],
      "execution_count": 26,
      "outputs": [
        {
          "output_type": "execute_result",
          "data": {
            "text/html": [
              "<div>\n",
              "<style scoped>\n",
              "    .dataframe tbody tr th:only-of-type {\n",
              "        vertical-align: middle;\n",
              "    }\n",
              "\n",
              "    .dataframe tbody tr th {\n",
              "        vertical-align: top;\n",
              "    }\n",
              "\n",
              "    .dataframe thead th {\n",
              "        text-align: right;\n",
              "    }\n",
              "</style>\n",
              "<table border=\"1\" class=\"dataframe\">\n",
              "  <thead>\n",
              "    <tr style=\"text-align: right;\">\n",
              "      <th></th>\n",
              "      <th>reviewerID</th>\n",
              "      <th>asin</th>\n",
              "      <th>reviewerName</th>\n",
              "      <th>helpful</th>\n",
              "      <th>reviewText</th>\n",
              "      <th>overall</th>\n",
              "      <th>summary</th>\n",
              "      <th>unixReviewTime</th>\n",
              "      <th>reviewTime</th>\n",
              "      <th>feature_7</th>\n",
              "      <th>feature_8</th>\n",
              "      <th>feature_9</th>\n",
              "      <th>feature_1</th>\n",
              "    </tr>\n",
              "    <tr>\n",
              "      <th>feature_2</th>\n",
              "      <th></th>\n",
              "      <th></th>\n",
              "      <th></th>\n",
              "      <th></th>\n",
              "      <th></th>\n",
              "      <th></th>\n",
              "      <th></th>\n",
              "      <th></th>\n",
              "      <th></th>\n",
              "      <th></th>\n",
              "      <th></th>\n",
              "      <th></th>\n",
              "      <th></th>\n",
              "    </tr>\n",
              "  </thead>\n",
              "  <tbody>\n",
              "    <tr>\n",
              "      <th>0</th>\n",
              "      <td>8269</td>\n",
              "      <td>8269</td>\n",
              "      <td>8267</td>\n",
              "      <td>8269</td>\n",
              "      <td>8269</td>\n",
              "      <td>8269</td>\n",
              "      <td>8269</td>\n",
              "      <td>8269</td>\n",
              "      <td>8269</td>\n",
              "      <td>8269</td>\n",
              "      <td>8269</td>\n",
              "      <td>8269</td>\n",
              "      <td>8269</td>\n",
              "    </tr>\n",
              "    <tr>\n",
              "      <th>1</th>\n",
              "      <td>81</td>\n",
              "      <td>81</td>\n",
              "      <td>81</td>\n",
              "      <td>81</td>\n",
              "      <td>81</td>\n",
              "      <td>81</td>\n",
              "      <td>81</td>\n",
              "      <td>81</td>\n",
              "      <td>81</td>\n",
              "      <td>81</td>\n",
              "      <td>81</td>\n",
              "      <td>81</td>\n",
              "      <td>81</td>\n",
              "    </tr>\n",
              "  </tbody>\n",
              "</table>\n",
              "</div>"
            ],
            "text/plain": [
              "           reviewerID  asin  reviewerName  helpful  reviewText  overall  \\\n",
              "feature_2                                                                 \n",
              "0                8269  8269          8267     8269        8269     8269   \n",
              "1                  81    81            81       81          81       81   \n",
              "\n",
              "           summary  unixReviewTime  reviewTime  feature_7  feature_8  \\\n",
              "feature_2                                                              \n",
              "0             8269            8269        8269       8269       8269   \n",
              "1               81              81          81         81         81   \n",
              "\n",
              "           feature_9  feature_1  \n",
              "feature_2                        \n",
              "0               8269       8269  \n",
              "1                 81         81  "
            ]
          },
          "metadata": {
            "tags": []
          },
          "execution_count": 26
        }
      ]
    },
    {
      "metadata": {
        "id": "MXeisotQ1XHA",
        "colab_type": "text"
      },
      "cell_type": "markdown",
      "source": [
        "### Feature - 3: Reviews about the seller website only\n"
      ]
    },
    {
      "metadata": {
        "id": "4HW076OiZF8K",
        "colab_type": "code",
        "outputId": "2a696a88-005c-4376-8449-dd63305638cf",
        "colab": {
          "base_uri": "https://localhost:8080/",
          "height": 0
        }
      },
      "cell_type": "code",
      "source": [
        "### Feature - 3: Reviews about the seller website only\n",
        "\n",
        "feature_3 = [0 for _ in range(8350)]\n",
        "df_new['feature_3'] = feature_3\n",
        "pd.options.display.max_colwidth = 1000\n",
        "threshold = 0.3\n",
        "  \n",
        "import scipy.sparse\n",
        "c = 1\n",
        "for user in user_review:\n",
        "  for product in user_review[user]:\n",
        "    website = []\n",
        "    website = product_info[product]['website']\n",
        "    website = [x.lower() for x in website]\n",
        "    #print(website)\n",
        "    for web in website:\n",
        "      if web in feature_names:\n",
        "        index = feature_names.index(web)\n",
        "      tfidf_row = user_review[user][product]\n",
        "      rows,cols = tfidf_row.nonzero()\n",
        "      for row,col in zip(rows,cols):\n",
        "        #print(row,col)\n",
        "        if index == col:\n",
        "          if tfidf_row[row,index] >= threshold:\n",
        "            print(\"Hurray!\", c)\n",
        "\n",
        "            print(df_new[(df_new['reviewerID'] == user) & (df_new['asin'] == product)]['reviewText'])\n",
        "            df_new.loc[(df_new.reviewerID == user) & (df_new.asin == product), 'feature_3' ] = 1\n",
        "      c += 1\n"
      ],
      "execution_count": 27,
      "outputs": [
        {
          "output_type": "stream",
          "text": [
            "Hurray! 754\n",
            "1337352    Using this is my Surface Pro. Works great. &#128522; You have to Love Amazon\n",
            "Name: reviewText, dtype: object\n",
            "Hurray! 1059\n",
            "1337650    Works great, another awesome Amazon purchase! I use it in my Samsung Galaxy S 3.\n",
            "Name: reviewText, dtype: object\n",
            "Hurray! 1707\n",
            "1338278    I only buy thru Amazon I've tried eBay and you always come thru and I got messed over four times and no real recourse you just lose and PayPal is nobodies pal. And these no more rack are terrible and all these others take my advise stick with the one that has always came thru every time for me. Amazon and only Amazon . H.Rhodes\n",
            "Name: reviewText, dtype: object\n",
            "Hurray! 1765\n",
            "1338335    I have been looking for a 64GB memory card and I found one at our local electronics store but it was over $100.  I logged onto Amazon.com and found this at a great price.  Why pay more when you can come to Amazon and get it for less.\n",
            "Name: reviewText, dtype: object\n",
            "Hurray! 1842\n",
            "1338412    We bought 2 of these 1 from best buy and one from amazon and the amazon is still running the best buy craped out after 6 months\n",
            "Name: reviewText, dtype: object\n",
            "Hurray! 2268\n",
            "1338824    been using it for about a year now with no issues. come on amazon, how much more can i put on this review? it's a memory card.\n",
            "Name: reviewText, dtype: object\n",
            "Hurray! 2438\n",
            "1338990    Amazon ran a good deal on this 64GB microSDXC, so I jumped on the bandwagon.  When it arrived I snapped a few photographs to test it out and it worked well...until I tried to retrieve the files.  I don't know how, but it became corrupt and no longer would reformat or function in any of my devices.  I exchanged it for a replacement through Amazon and the new one works beyond my initial observations.  Browsing seems much faster than previous SDHC class 10 cards.  Thank you Amazon for your immediate exchange.  highly recommended for today's on the go data storage.  *(original review was 2 stars, but after Amazon's immediate replacement and great customer service I re-rated to 5 stars.)\n",
            "Name: reviewText, dtype: object\n",
            "Hurray! 2845\n",
            "1339387    Lot's of storage for little money. There is nothing not to like...except I have to keep writing words because there is a minimum required to rate products on Amazon (probably the only thing I don't like about Amazon). I don't like that, but this was a great deal.\n",
            "Name: reviewText, dtype: object\n",
            "Hurray! 4705\n",
            "1341215    I only ever use SanDisk and have never had a problem, This is for my Wife's new 1st smartphone, so needed a class 10 and Amazon always has the best price, either in the US or Amazon UK\n",
            "Name: reviewText, dtype: object\n",
            "Hurray! 5258\n",
            "415596    the picture quality is good but it looks the same as hdmi cables i bought for $2 on amazon already. not worth the pricetag\n",
            "Name: reviewText, dtype: object\n",
            "Hurray! 5332\n",
            "415672    I had been looking for a couple new HDMI cables for my Blu-Ray player, Big Screen TV, Computers, etc. I checked Amazon and found the Mediabridge HDMI cables, and bought two 10' cables. They work excellent! I hooked them up to my systems, and am very happy with the quality - Fast Speed, and 3D support. They are $12. for a 10 footer! That's a good buy - a lot better than spending $45. for a six foot Monster cable! I find so many great products, for great prices at Amazon,and shopping at Amazon saves me so Much time of having to search all over the net, Amazon Rocks!\n",
            "Name: reviewText, dtype: object\n",
            "Hurray! 5375\n",
            "415717    I HAVE BEEN SHOPING FROM AMAZON SINCE 1998 AND I LOVE THE SERVICE SELECTION AND PRICE THIS IS MY 7TH MEDIABRIDGE FROM AMAZON AND I BELIEVE THIS IS THE BEST HDMI CABLE IN THE MARKET AND THE BEST PRICE I WILL RECOMMEND THIS PRODUCT TO EVERYONE THANK YOU AGAIN AMAZON BIJAN.Mediabridge Ultra Series - High Speed HDMI Cable with Ethernet - Category 2 Certified - Supports 3D & Audio Return Channel [Latest HDMI Version Available] - (6 Feet)\n",
            "Name: reviewText, dtype: object\n",
            "Hurray! 5435\n",
            "415777    very pleased with Mediabridge and it's nice to have such a quality item available at Amazon. No need to spend big bucks, when you have a product like this backed up with excellent customer satisfaction guarantees, by both Amazon and Mediabridge.\n",
            "Name: reviewText, dtype: object\n",
            "Hurray! 6145\n",
            "416516    I dialed my television up with all theoptics and HDMI cables and plug-insfrom Amazon and this is exactly what Ineeded.\n",
            "Name: reviewText, dtype: object\n",
            "Hurray! 6595\n",
            "416984    Best HDMI cable on Amazon. I have purchased 5 or 6 of these cables and have been using them for over 3 years and they are flawless.\n",
            "Name: reviewText, dtype: object\n",
            "Hurray! 6852\n",
            "417248    I ordered 2 Amazon cables and a Mediabridge brand at the same time for my PS3's. I like the mediabridge cable better, worth the extra couple of bucks, IMO. It feels much more substantial than the Amazon cables. Although I have to give props to the Amazon cable for better flexibility, cause its so thin. Have not tried it with 3D content yet, but wanted to be prepared. No specific complaint, just that the Amazon cable construction feels cheaper. Only time will tell, but I'll probably stick with MediaBridge in the future since they have the best warranty.\n",
            "Name: reviewText, dtype: object\n",
            "Hurray! 7190\n",
            "417594    not to much you can say about an HDMI cable ... but it works.  amazon needs six six more words.\n",
            "Name: reviewText, dtype: object\n",
            "Hurray! 7386\n",
            "417796    I cannot tell the difference between Mediabridge and Amazon Basic.  ARC worked.  3D worked.  It seemed this cable has higher build quality than Amazon's own.  But they are just cables.\n",
            "Name: reviewText, dtype: object\n",
            "Hurray! 7725\n",
            "418145    Needed a HDMI cable for 40 inch LED TV, searched and found on Amazon. Placed the order and within 5daysarrived. No hassle easy to use, order and results were excellent!! Recommend Amazon andMediabridge.\n",
            "Name: reviewText, dtype: object\n",
            "Hurray! 7978\n",
            "418403    Good picture and good price.  THis is my second one of these I have bought from them on amazon in a couple of months.\n",
            "Name: reviewText, dtype: object\n",
            "Hurray! 8077\n",
            "418506    Not much to say about this. Bought it at Amazon. Works great. It's heave duty. Probably the thickest HDMI cable I own .\n",
            "Name: reviewText, dtype: object\n",
            "Hurray! 8120\n",
            "418550    Seems to be a well made cable. I've had no problems with it so far, so I see no reason not to recommend it. Amazon price was also great.\n",
            "Name: reviewText, dtype: object\n"
          ],
          "name": "stdout"
        }
      ]
    },
    {
      "metadata": {
        "id": "EP-VbBIbxiBQ",
        "colab_type": "code",
        "outputId": "3a26b7a8-0049-41e2-c828-8a86b946e4ee",
        "colab": {
          "base_uri": "https://localhost:8080/",
          "height": 0
        }
      },
      "cell_type": "code",
      "source": [
        "df_new.groupby('feature_3').count()"
      ],
      "execution_count": 28,
      "outputs": [
        {
          "output_type": "execute_result",
          "data": {
            "text/html": [
              "<div>\n",
              "<style scoped>\n",
              "    .dataframe tbody tr th:only-of-type {\n",
              "        vertical-align: middle;\n",
              "    }\n",
              "\n",
              "    .dataframe tbody tr th {\n",
              "        vertical-align: top;\n",
              "    }\n",
              "\n",
              "    .dataframe thead th {\n",
              "        text-align: right;\n",
              "    }\n",
              "</style>\n",
              "<table border=\"1\" class=\"dataframe\">\n",
              "  <thead>\n",
              "    <tr style=\"text-align: right;\">\n",
              "      <th></th>\n",
              "      <th>reviewerID</th>\n",
              "      <th>asin</th>\n",
              "      <th>reviewerName</th>\n",
              "      <th>helpful</th>\n",
              "      <th>reviewText</th>\n",
              "      <th>overall</th>\n",
              "      <th>summary</th>\n",
              "      <th>unixReviewTime</th>\n",
              "      <th>reviewTime</th>\n",
              "      <th>feature_7</th>\n",
              "      <th>feature_8</th>\n",
              "      <th>feature_9</th>\n",
              "      <th>feature_1</th>\n",
              "      <th>feature_2</th>\n",
              "    </tr>\n",
              "    <tr>\n",
              "      <th>feature_3</th>\n",
              "      <th></th>\n",
              "      <th></th>\n",
              "      <th></th>\n",
              "      <th></th>\n",
              "      <th></th>\n",
              "      <th></th>\n",
              "      <th></th>\n",
              "      <th></th>\n",
              "      <th></th>\n",
              "      <th></th>\n",
              "      <th></th>\n",
              "      <th></th>\n",
              "      <th></th>\n",
              "      <th></th>\n",
              "    </tr>\n",
              "  </thead>\n",
              "  <tbody>\n",
              "    <tr>\n",
              "      <th>0</th>\n",
              "      <td>8328</td>\n",
              "      <td>8328</td>\n",
              "      <td>8326</td>\n",
              "      <td>8328</td>\n",
              "      <td>8328</td>\n",
              "      <td>8328</td>\n",
              "      <td>8328</td>\n",
              "      <td>8328</td>\n",
              "      <td>8328</td>\n",
              "      <td>8328</td>\n",
              "      <td>8328</td>\n",
              "      <td>8328</td>\n",
              "      <td>8328</td>\n",
              "      <td>8328</td>\n",
              "    </tr>\n",
              "    <tr>\n",
              "      <th>1</th>\n",
              "      <td>22</td>\n",
              "      <td>22</td>\n",
              "      <td>22</td>\n",
              "      <td>22</td>\n",
              "      <td>22</td>\n",
              "      <td>22</td>\n",
              "      <td>22</td>\n",
              "      <td>22</td>\n",
              "      <td>22</td>\n",
              "      <td>22</td>\n",
              "      <td>22</td>\n",
              "      <td>22</td>\n",
              "      <td>22</td>\n",
              "      <td>22</td>\n",
              "    </tr>\n",
              "  </tbody>\n",
              "</table>\n",
              "</div>"
            ],
            "text/plain": [
              "           reviewerID  asin  reviewerName  helpful  reviewText  overall  \\\n",
              "feature_3                                                                 \n",
              "0                8328  8328          8326     8328        8328     8328   \n",
              "1                  22    22            22       22          22       22   \n",
              "\n",
              "           summary  unixReviewTime  reviewTime  feature_7  feature_8  \\\n",
              "feature_3                                                              \n",
              "0             8328            8328        8328       8328       8328   \n",
              "1               22              22          22         22         22   \n",
              "\n",
              "           feature_9  feature_1  feature_2  \n",
              "feature_3                                   \n",
              "0               8328       8328       8328  \n",
              "1                 22         22         22  "
            ]
          },
          "metadata": {
            "tags": []
          },
          "execution_count": 28
        }
      ]
    },
    {
      "metadata": {
        "id": "bu-L_TqWzXja",
        "colab_type": "code",
        "colab": {}
      },
      "cell_type": "code",
      "source": [
        ""
      ],
      "execution_count": 0,
      "outputs": []
    },
    {
      "metadata": {
        "id": "0z6WU4ir1m4P",
        "colab_type": "text"
      },
      "cell_type": "markdown",
      "source": [
        "### Features based on Sentiment Analysis of Reviews"
      ]
    },
    {
      "metadata": {
        "id": "3QFsFXXH1qJs",
        "colab_type": "code",
        "colab": {}
      },
      "cell_type": "code",
      "source": [
        "import nltk"
      ],
      "execution_count": 0,
      "outputs": []
    },
    {
      "metadata": {
        "id": "Bml9402s1wc7",
        "colab_type": "code",
        "outputId": "6e9ba749-2f3b-4a20-80e4-f2d1d17bf8f4",
        "colab": {
          "base_uri": "https://localhost:8080/",
          "height": 0
        }
      },
      "cell_type": "code",
      "source": [
        "nltk.download('vader_lexicon')"
      ],
      "execution_count": 30,
      "outputs": [
        {
          "output_type": "stream",
          "text": [
            "[nltk_data] Downloading package vader_lexicon to /root/nltk_data...\n"
          ],
          "name": "stdout"
        },
        {
          "output_type": "execute_result",
          "data": {
            "text/plain": [
              "True"
            ]
          },
          "metadata": {
            "tags": []
          },
          "execution_count": 30
        }
      ]
    },
    {
      "metadata": {
        "id": "uqcsfc9u15fh",
        "colab_type": "code",
        "colab": {}
      },
      "cell_type": "code",
      "source": [
        "def nltk_sentiment(sentence):\n",
        "    from nltk.sentiment.vader import SentimentIntensityAnalyzer\n",
        "    \n",
        "    nltk_sentiment = SentimentIntensityAnalyzer()\n",
        "    score = nltk_sentiment.polarity_scores(sentence)\n",
        "    return score"
      ],
      "execution_count": 0,
      "outputs": []
    },
    {
      "metadata": {
        "id": "WEjRgd7G2wuf",
        "colab_type": "code",
        "colab": {}
      },
      "cell_type": "code",
      "source": [
        "\n",
        "reviewText = list(df_new['reviewText'])\n",
        "reviewerID = list(df_new['reviewerID'])\n",
        "asin = list(df_new['asin'])\n",
        "\n",
        "\n",
        "\n",
        "dataset = pd.DataFrame(df_new['reviewText'])\n",
        "\n",
        "\n"
      ],
      "execution_count": 0,
      "outputs": []
    },
    {
      "metadata": {
        "id": "MC8sie1Z17ar",
        "colab_type": "code",
        "outputId": "5bbabfe5-1cec-442d-fd2b-1ee1401c3111",
        "colab": {
          "base_uri": "https://localhost:8080/",
          "height": 0
        }
      },
      "cell_type": "code",
      "source": [
        "nltk_results = [nltk_sentiment(col) for row,col in dataset.itertuples()]\n",
        "results_df = pd.DataFrame(nltk_results)\n",
        "\n",
        "results_df.head()\n"
      ],
      "execution_count": 33,
      "outputs": [
        {
          "output_type": "stream",
          "text": [
            "/usr/local/lib/python3.6/dist-packages/nltk/twitter/__init__.py:20: UserWarning: The twython library has not been installed. Some functionality from the twitter package will not be available.\n",
            "  warnings.warn(\"The twython library has not been installed. \"\n"
          ],
          "name": "stderr"
        },
        {
          "output_type": "execute_result",
          "data": {
            "text/html": [
              "<div>\n",
              "<style scoped>\n",
              "    .dataframe tbody tr th:only-of-type {\n",
              "        vertical-align: middle;\n",
              "    }\n",
              "\n",
              "    .dataframe tbody tr th {\n",
              "        vertical-align: top;\n",
              "    }\n",
              "\n",
              "    .dataframe thead th {\n",
              "        text-align: right;\n",
              "    }\n",
              "</style>\n",
              "<table border=\"1\" class=\"dataframe\">\n",
              "  <thead>\n",
              "    <tr style=\"text-align: right;\">\n",
              "      <th></th>\n",
              "      <th>compound</th>\n",
              "      <th>neg</th>\n",
              "      <th>neu</th>\n",
              "      <th>pos</th>\n",
              "    </tr>\n",
              "  </thead>\n",
              "  <tbody>\n",
              "    <tr>\n",
              "      <th>0</th>\n",
              "      <td>-0.2960</td>\n",
              "      <td>0.688</td>\n",
              "      <td>0.312</td>\n",
              "      <td>0.000</td>\n",
              "    </tr>\n",
              "    <tr>\n",
              "      <th>1</th>\n",
              "      <td>-0.2960</td>\n",
              "      <td>0.075</td>\n",
              "      <td>0.925</td>\n",
              "      <td>0.000</td>\n",
              "    </tr>\n",
              "    <tr>\n",
              "      <th>2</th>\n",
              "      <td>-0.3089</td>\n",
              "      <td>0.077</td>\n",
              "      <td>0.923</td>\n",
              "      <td>0.000</td>\n",
              "    </tr>\n",
              "    <tr>\n",
              "      <th>3</th>\n",
              "      <td>0.7081</td>\n",
              "      <td>0.000</td>\n",
              "      <td>0.909</td>\n",
              "      <td>0.091</td>\n",
              "    </tr>\n",
              "    <tr>\n",
              "      <th>4</th>\n",
              "      <td>0.7087</td>\n",
              "      <td>0.038</td>\n",
              "      <td>0.835</td>\n",
              "      <td>0.127</td>\n",
              "    </tr>\n",
              "  </tbody>\n",
              "</table>\n",
              "</div>"
            ],
            "text/plain": [
              "   compound    neg    neu    pos\n",
              "0   -0.2960  0.688  0.312  0.000\n",
              "1   -0.2960  0.075  0.925  0.000\n",
              "2   -0.3089  0.077  0.923  0.000\n",
              "3    0.7081  0.000  0.909  0.091\n",
              "4    0.7087  0.038  0.835  0.127"
            ]
          },
          "metadata": {
            "tags": []
          },
          "execution_count": 33
        }
      ]
    },
    {
      "metadata": {
        "id": "0nuZRSfQDfr9",
        "colab_type": "code",
        "outputId": "6ce0882e-2d5a-4196-cbce-8be84a0295f1",
        "colab": {
          "base_uri": "https://localhost:8080/",
          "height": 0
        }
      },
      "cell_type": "code",
      "source": [
        "\n",
        "results_df['reviewText'] = reviewText\n",
        "results_df['reviewerID'] = reviewerID\n",
        "results_df['asin'] = asin\n",
        "\n",
        "results_df.head()"
      ],
      "execution_count": 34,
      "outputs": [
        {
          "output_type": "execute_result",
          "data": {
            "text/html": [
              "<div>\n",
              "<style scoped>\n",
              "    .dataframe tbody tr th:only-of-type {\n",
              "        vertical-align: middle;\n",
              "    }\n",
              "\n",
              "    .dataframe tbody tr th {\n",
              "        vertical-align: top;\n",
              "    }\n",
              "\n",
              "    .dataframe thead th {\n",
              "        text-align: right;\n",
              "    }\n",
              "</style>\n",
              "<table border=\"1\" class=\"dataframe\">\n",
              "  <thead>\n",
              "    <tr style=\"text-align: right;\">\n",
              "      <th></th>\n",
              "      <th>compound</th>\n",
              "      <th>neg</th>\n",
              "      <th>neu</th>\n",
              "      <th>pos</th>\n",
              "      <th>reviewText</th>\n",
              "      <th>reviewerID</th>\n",
              "      <th>asin</th>\n",
              "    </tr>\n",
              "  </thead>\n",
              "  <tbody>\n",
              "    <tr>\n",
              "      <th>0</th>\n",
              "      <td>-0.2960</td>\n",
              "      <td>0.688</td>\n",
              "      <td>0.312</td>\n",
              "      <td>0.000</td>\n",
              "      <td>No issues.</td>\n",
              "      <td>A3SBTW3WS4IQSN</td>\n",
              "      <td>B007WTAJTO</td>\n",
              "    </tr>\n",
              "    <tr>\n",
              "      <th>1</th>\n",
              "      <td>-0.2960</td>\n",
              "      <td>0.075</td>\n",
              "      <td>0.925</td>\n",
              "      <td>0.000</td>\n",
              "      <td>Purchased this for my device, it worked as advertised. You can never have too much phone memory, since I download a lot of stuff this was a no brainer for me.</td>\n",
              "      <td>A18K1ODH1I2MVB</td>\n",
              "      <td>B007WTAJTO</td>\n",
              "    </tr>\n",
              "    <tr>\n",
              "      <th>2</th>\n",
              "      <td>-0.3089</td>\n",
              "      <td>0.077</td>\n",
              "      <td>0.923</td>\n",
              "      <td>0.000</td>\n",
              "      <td>it works as expected. I should have sprung for the higher capacity.  I think its made a bit cheesier than the earlier versions; the paint looks not as clean as before</td>\n",
              "      <td>A2FII3I2MBMUIA</td>\n",
              "      <td>B007WTAJTO</td>\n",
              "    </tr>\n",
              "    <tr>\n",
              "      <th>3</th>\n",
              "      <td>0.7081</td>\n",
              "      <td>0.000</td>\n",
              "      <td>0.909</td>\n",
              "      <td>0.091</td>\n",
              "      <td>This think has worked out great.Had a diff. bran 64gb card and if went south after 3 months.This one has held up pretty well since I had my S3, now on my Note3.*** update 3/21/14I've had this for a few months and have had ZERO issue's since it was transferred from my S3 to my Note3 and into a note2. This card is reliable and solid!Cheers!</td>\n",
              "      <td>A3H99DFEG68SR</td>\n",
              "      <td>B007WTAJTO</td>\n",
              "    </tr>\n",
              "    <tr>\n",
              "      <th>4</th>\n",
              "      <td>0.7087</td>\n",
              "      <td>0.038</td>\n",
              "      <td>0.835</td>\n",
              "      <td>0.127</td>\n",
              "      <td>Bought it with Retail Packaging, arrived legit, in a orange envelope, english version not asian like the picture shows. arrived quickly, bought a 32 and 16 both retail packaging for my htc one sv and Lg Optimus, both cards in working order, probably best price you'll get for a nice sd card</td>\n",
              "      <td>A375ZM4U047O79</td>\n",
              "      <td>B007WTAJTO</td>\n",
              "    </tr>\n",
              "  </tbody>\n",
              "</table>\n",
              "</div>"
            ],
            "text/plain": [
              "   compound    neg    neu    pos  \\\n",
              "0   -0.2960  0.688  0.312  0.000   \n",
              "1   -0.2960  0.075  0.925  0.000   \n",
              "2   -0.3089  0.077  0.923  0.000   \n",
              "3    0.7081  0.000  0.909  0.091   \n",
              "4    0.7087  0.038  0.835  0.127   \n",
              "\n",
              "                                                                                                                                                                                                                                                                                                                                             reviewText  \\\n",
              "0                                                                                                                                                                                                                                                                                                                                            No issues.   \n",
              "1                                                                                                                                                                                        Purchased this for my device, it worked as advertised. You can never have too much phone memory, since I download a lot of stuff this was a no brainer for me.   \n",
              "2                                                                                                                                                                                it works as expected. I should have sprung for the higher capacity.  I think its made a bit cheesier than the earlier versions; the paint looks not as clean as before   \n",
              "3  This think has worked out great.Had a diff. bran 64gb card and if went south after 3 months.This one has held up pretty well since I had my S3, now on my Note3.*** update 3/21/14I've had this for a few months and have had ZERO issue's since it was transferred from my S3 to my Note3 and into a note2. This card is reliable and solid!Cheers!   \n",
              "4                                                    Bought it with Retail Packaging, arrived legit, in a orange envelope, english version not asian like the picture shows. arrived quickly, bought a 32 and 16 both retail packaging for my htc one sv and Lg Optimus, both cards in working order, probably best price you'll get for a nice sd card   \n",
              "\n",
              "       reviewerID        asin  \n",
              "0  A3SBTW3WS4IQSN  B007WTAJTO  \n",
              "1  A18K1ODH1I2MVB  B007WTAJTO  \n",
              "2  A2FII3I2MBMUIA  B007WTAJTO  \n",
              "3   A3H99DFEG68SR  B007WTAJTO  \n",
              "4  A375ZM4U047O79  B007WTAJTO  "
            ]
          },
          "metadata": {
            "tags": []
          },
          "execution_count": 34
        }
      ]
    },
    {
      "metadata": {
        "id": "EuGaq4HoJC0b",
        "colab_type": "text"
      },
      "cell_type": "markdown",
      "source": [
        "###Feature -4: Neutral Reviews"
      ]
    },
    {
      "metadata": {
        "id": "RLzlFBsBXCDT",
        "colab_type": "code",
        "outputId": "ebad6689-99a3-4b45-c72a-533cd7800f81",
        "colab": {
          "base_uri": "https://localhost:8080/",
          "height": 0
        }
      },
      "cell_type": "code",
      "source": [
        "#neutral reviews feature\n",
        "feature_4 = []\n",
        "threshold = 0.98\n",
        "for val in results_df[\"neu\"]:\n",
        "  if val > threshold:\n",
        "    feature_4.append(1)\n",
        "  else:\n",
        "    feature_4.append(0)\n",
        "\n",
        "    \n",
        "print(sum(feature_4))\n"
      ],
      "execution_count": 35,
      "outputs": [
        {
          "output_type": "stream",
          "text": [
            "380\n"
          ],
          "name": "stdout"
        }
      ]
    },
    {
      "metadata": {
        "id": "S361xOEMa60S",
        "colab_type": "code",
        "outputId": "8663911f-7fc1-4b07-dd91-d684874c4abb",
        "colab": {
          "base_uri": "https://localhost:8080/",
          "height": 0
        }
      },
      "cell_type": "code",
      "source": [
        "#positive reviews feature\n",
        "feature_5 = []\n",
        "threshold = 0.99\n",
        "for val in results_df[\"pos\"]:\n",
        "  if val > threshold:\n",
        "    feature_5.append(1)\n",
        "    print(results_df.loc[results_df[\"pos\"] == val, \"reviewText\"])\n",
        "  else:\n",
        "    feature_5.append(0)\n",
        "\n",
        "    \n",
        "print(sum(feature_5))\n"
      ],
      "execution_count": 36,
      "outputs": [
        {
          "output_type": "stream",
          "text": [
            "705         YES\n",
            "2496       Yes!\n",
            "3234       good\n",
            "3605    perfect\n",
            "3741      Great\n",
            "4308      Super\n",
            "Name: reviewText, dtype: object\n",
            "705         YES\n",
            "2496       Yes!\n",
            "3234       good\n",
            "3605    perfect\n",
            "3741      Great\n",
            "4308      Super\n",
            "Name: reviewText, dtype: object\n",
            "705         YES\n",
            "2496       Yes!\n",
            "3234       good\n",
            "3605    perfect\n",
            "3741      Great\n",
            "4308      Super\n",
            "Name: reviewText, dtype: object\n",
            "705         YES\n",
            "2496       Yes!\n",
            "3234       good\n",
            "3605    perfect\n",
            "3741      Great\n",
            "4308      Super\n",
            "Name: reviewText, dtype: object\n",
            "705         YES\n",
            "2496       Yes!\n",
            "3234       good\n",
            "3605    perfect\n",
            "3741      Great\n",
            "4308      Super\n",
            "Name: reviewText, dtype: object\n",
            "705         YES\n",
            "2496       Yes!\n",
            "3234       good\n",
            "3605    perfect\n",
            "3741      Great\n",
            "4308      Super\n",
            "Name: reviewText, dtype: object\n",
            "6\n"
          ],
          "name": "stdout"
        }
      ]
    },
    {
      "metadata": {
        "id": "3RpG9C2fbIov",
        "colab_type": "code",
        "outputId": "9272a9cd-29d0-4c21-8ec0-bdc14ab37df0",
        "colab": {
          "base_uri": "https://localhost:8080/",
          "height": 0
        }
      },
      "cell_type": "code",
      "source": [
        "#negative reviews feature\n",
        "feature_6 = []\n",
        "threshold = 1\n",
        "for val in results_df[\"neg\"]:\n",
        "  if val > threshold:\n",
        "    feature_6.append(1)\n",
        "    print(results_df.loc[results_df[\"neg\"] == val, \"reviewText\"])\n",
        "  else:\n",
        "    feature_6.append(0)\n",
        "\n",
        "    \n",
        "print(sum(feature_6))\n",
        "\n",
        "#Due to small dataset, no significance"
      ],
      "execution_count": 37,
      "outputs": [
        {
          "output_type": "stream",
          "text": [
            "0\n"
          ],
          "name": "stdout"
        }
      ]
    },
    {
      "metadata": {
        "id": "i_RoAhJ5JtHj",
        "colab_type": "text"
      },
      "cell_type": "markdown",
      "source": [
        "### Feature 5 &6: Outlier Features"
      ]
    },
    {
      "metadata": {
        "id": "4KlFeESId7qs",
        "colab_type": "code",
        "colab": {}
      },
      "cell_type": "code",
      "source": [
        "# Outlier Features - Extreme Positive or Negative\n",
        "feature_outlier = []\n",
        "for val1, val2 in zip(feature_5, feature_6):\n",
        "  if val1 == 0 and val2 == 0:\n",
        "    feature_outlier.append(0)\n",
        "  else :\n",
        "    feature_outlier.append(1)\n",
        "    \n",
        "\n",
        "    \n"
      ],
      "execution_count": 0,
      "outputs": []
    },
    {
      "metadata": {
        "id": "1XSJyHiheoTd",
        "colab_type": "code",
        "outputId": "7c6159b8-6a79-4283-98d6-2f1cd83f8448",
        "colab": {
          "base_uri": "https://localhost:8080/",
          "height": 1737
        }
      },
      "cell_type": "code",
      "source": [
        "df_new['feature_4'] = feature_4\n",
        "df_new['feature_6'] = feature_outlier\n",
        "\n",
        "df_new.head()\n",
        "\n"
      ],
      "execution_count": 39,
      "outputs": [
        {
          "output_type": "execute_result",
          "data": {
            "text/html": [
              "<div>\n",
              "<style scoped>\n",
              "    .dataframe tbody tr th:only-of-type {\n",
              "        vertical-align: middle;\n",
              "    }\n",
              "\n",
              "    .dataframe tbody tr th {\n",
              "        vertical-align: top;\n",
              "    }\n",
              "\n",
              "    .dataframe thead th {\n",
              "        text-align: right;\n",
              "    }\n",
              "</style>\n",
              "<table border=\"1\" class=\"dataframe\">\n",
              "  <thead>\n",
              "    <tr style=\"text-align: right;\">\n",
              "      <th></th>\n",
              "      <th>reviewerID</th>\n",
              "      <th>asin</th>\n",
              "      <th>reviewerName</th>\n",
              "      <th>helpful</th>\n",
              "      <th>reviewText</th>\n",
              "      <th>overall</th>\n",
              "      <th>summary</th>\n",
              "      <th>unixReviewTime</th>\n",
              "      <th>reviewTime</th>\n",
              "      <th>feature_7</th>\n",
              "      <th>feature_8</th>\n",
              "      <th>feature_9</th>\n",
              "      <th>feature_1</th>\n",
              "      <th>feature_2</th>\n",
              "      <th>feature_3</th>\n",
              "      <th>feature_4</th>\n",
              "      <th>feature_6</th>\n",
              "    </tr>\n",
              "  </thead>\n",
              "  <tbody>\n",
              "    <tr>\n",
              "      <th>1336614</th>\n",
              "      <td>A3SBTW3WS4IQSN</td>\n",
              "      <td>B007WTAJTO</td>\n",
              "      <td>NaN</td>\n",
              "      <td>[0, 0]</td>\n",
              "      <td>No issues.</td>\n",
              "      <td>4.0</td>\n",
              "      <td>Four Stars</td>\n",
              "      <td>1406073600</td>\n",
              "      <td>07 23, 2014</td>\n",
              "      <td>1</td>\n",
              "      <td>0</td>\n",
              "      <td>0</td>\n",
              "      <td>0</td>\n",
              "      <td>0</td>\n",
              "      <td>0</td>\n",
              "      <td>0</td>\n",
              "      <td>0</td>\n",
              "    </tr>\n",
              "    <tr>\n",
              "      <th>1336615</th>\n",
              "      <td>A18K1ODH1I2MVB</td>\n",
              "      <td>B007WTAJTO</td>\n",
              "      <td>0mie</td>\n",
              "      <td>[0, 0]</td>\n",
              "      <td>Purchased this for my device, it worked as advertised. You can never have too much phone memory, since I download a lot of stuff this was a no brainer for me.</td>\n",
              "      <td>5.0</td>\n",
              "      <td>MOAR SPACE!!!</td>\n",
              "      <td>1382659200</td>\n",
              "      <td>10 25, 2013</td>\n",
              "      <td>0</td>\n",
              "      <td>0</td>\n",
              "      <td>0</td>\n",
              "      <td>0</td>\n",
              "      <td>0</td>\n",
              "      <td>0</td>\n",
              "      <td>0</td>\n",
              "      <td>0</td>\n",
              "    </tr>\n",
              "    <tr>\n",
              "      <th>1336616</th>\n",
              "      <td>A2FII3I2MBMUIA</td>\n",
              "      <td>B007WTAJTO</td>\n",
              "      <td>1K3</td>\n",
              "      <td>[0, 0]</td>\n",
              "      <td>it works as expected. I should have sprung for the higher capacity.  I think its made a bit cheesier than the earlier versions; the paint looks not as clean as before</td>\n",
              "      <td>4.0</td>\n",
              "      <td>nothing to really say....</td>\n",
              "      <td>1356220800</td>\n",
              "      <td>12 23, 2012</td>\n",
              "      <td>0</td>\n",
              "      <td>0</td>\n",
              "      <td>0</td>\n",
              "      <td>0</td>\n",
              "      <td>0</td>\n",
              "      <td>0</td>\n",
              "      <td>0</td>\n",
              "      <td>0</td>\n",
              "    </tr>\n",
              "    <tr>\n",
              "      <th>1336617</th>\n",
              "      <td>A3H99DFEG68SR</td>\n",
              "      <td>B007WTAJTO</td>\n",
              "      <td>1m2</td>\n",
              "      <td>[0, 0]</td>\n",
              "      <td>This think has worked out great.Had a diff. bran 64gb card and if went south after 3 months.This one has held up pretty well since I had my S3, now on my Note3.*** update 3/21/14I've had this for a few months and have had ZERO issue's since it was transferred from my S3 to my Note3 and into a note2. This card is reliable and solid!Cheers!</td>\n",
              "      <td>5.0</td>\n",
              "      <td>Great buy at this price!!!  *** UPDATE</td>\n",
              "      <td>1384992000</td>\n",
              "      <td>11 21, 2013</td>\n",
              "      <td>0</td>\n",
              "      <td>0</td>\n",
              "      <td>0</td>\n",
              "      <td>0</td>\n",
              "      <td>0</td>\n",
              "      <td>0</td>\n",
              "      <td>0</td>\n",
              "      <td>0</td>\n",
              "    </tr>\n",
              "    <tr>\n",
              "      <th>1336618</th>\n",
              "      <td>A375ZM4U047O79</td>\n",
              "      <td>B007WTAJTO</td>\n",
              "      <td>2&amp;amp;1/2Men</td>\n",
              "      <td>[0, 0]</td>\n",
              "      <td>Bought it with Retail Packaging, arrived legit, in a orange envelope, english version not asian like the picture shows. arrived quickly, bought a 32 and 16 both retail packaging for my htc one sv and Lg Optimus, both cards in working order, probably best price you'll get for a nice sd card</td>\n",
              "      <td>5.0</td>\n",
              "      <td>best deal around</td>\n",
              "      <td>1373673600</td>\n",
              "      <td>07 13, 2013</td>\n",
              "      <td>0</td>\n",
              "      <td>0</td>\n",
              "      <td>0</td>\n",
              "      <td>0</td>\n",
              "      <td>0</td>\n",
              "      <td>0</td>\n",
              "      <td>0</td>\n",
              "      <td>0</td>\n",
              "    </tr>\n",
              "  </tbody>\n",
              "</table>\n",
              "</div>"
            ],
            "text/plain": [
              "             reviewerID        asin  reviewerName helpful  \\\n",
              "1336614  A3SBTW3WS4IQSN  B007WTAJTO           NaN  [0, 0]   \n",
              "1336615  A18K1ODH1I2MVB  B007WTAJTO          0mie  [0, 0]   \n",
              "1336616  A2FII3I2MBMUIA  B007WTAJTO           1K3  [0, 0]   \n",
              "1336617   A3H99DFEG68SR  B007WTAJTO           1m2  [0, 0]   \n",
              "1336618  A375ZM4U047O79  B007WTAJTO  2&amp;1/2Men  [0, 0]   \n",
              "\n",
              "                                                                                                                                                                                                                                                                                                                                                   reviewText  \\\n",
              "1336614                                                                                                                                                                                                                                                                                                                                            No issues.   \n",
              "1336615                                                                                                                                                                                        Purchased this for my device, it worked as advertised. You can never have too much phone memory, since I download a lot of stuff this was a no brainer for me.   \n",
              "1336616                                                                                                                                                                                it works as expected. I should have sprung for the higher capacity.  I think its made a bit cheesier than the earlier versions; the paint looks not as clean as before   \n",
              "1336617  This think has worked out great.Had a diff. bran 64gb card and if went south after 3 months.This one has held up pretty well since I had my S3, now on my Note3.*** update 3/21/14I've had this for a few months and have had ZERO issue's since it was transferred from my S3 to my Note3 and into a note2. This card is reliable and solid!Cheers!   \n",
              "1336618                                                    Bought it with Retail Packaging, arrived legit, in a orange envelope, english version not asian like the picture shows. arrived quickly, bought a 32 and 16 both retail packaging for my htc one sv and Lg Optimus, both cards in working order, probably best price you'll get for a nice sd card   \n",
              "\n",
              "         overall                                 summary  unixReviewTime  \\\n",
              "1336614      4.0                              Four Stars      1406073600   \n",
              "1336615      5.0                           MOAR SPACE!!!      1382659200   \n",
              "1336616      4.0               nothing to really say....      1356220800   \n",
              "1336617      5.0  Great buy at this price!!!  *** UPDATE      1384992000   \n",
              "1336618      5.0                        best deal around      1373673600   \n",
              "\n",
              "          reviewTime  feature_7  feature_8  feature_9  feature_1  feature_2  \\\n",
              "1336614  07 23, 2014          1          0          0          0          0   \n",
              "1336615  10 25, 2013          0          0          0          0          0   \n",
              "1336616  12 23, 2012          0          0          0          0          0   \n",
              "1336617  11 21, 2013          0          0          0          0          0   \n",
              "1336618  07 13, 2013          0          0          0          0          0   \n",
              "\n",
              "         feature_3  feature_4  feature_6  \n",
              "1336614          0          0          0  \n",
              "1336615          0          0          0  \n",
              "1336616          0          0          0  \n",
              "1336617          0          0          0  \n",
              "1336618          0          0          0  "
            ]
          },
          "metadata": {
            "tags": []
          },
          "execution_count": 39
        }
      ]
    },
    {
      "metadata": {
        "id": "0i2jO12Z9UT7",
        "colab_type": "code",
        "outputId": "fff447ba-fbda-46fa-bd72-00150495b90e",
        "colab": {
          "base_uri": "https://localhost:8080/",
          "height": 72
        }
      },
      "cell_type": "code",
      "source": [
        "df_new['feature_6'].value_counts()"
      ],
      "execution_count": 40,
      "outputs": [
        {
          "output_type": "execute_result",
          "data": {
            "text/plain": [
              "0    8344\n",
              "1       6\n",
              "Name: feature_6, dtype: int64"
            ]
          },
          "metadata": {
            "tags": []
          },
          "execution_count": 40
        }
      ]
    },
    {
      "metadata": {
        "id": "2aM0stQZe2nr",
        "colab_type": "code",
        "outputId": "026d15e6-3145-4dc4-88ab-8776af65035c",
        "colab": {
          "base_uri": "https://localhost:8080/",
          "height": 1737
        }
      },
      "cell_type": "code",
      "source": [
        "df_new.head()"
      ],
      "execution_count": 41,
      "outputs": [
        {
          "output_type": "execute_result",
          "data": {
            "text/html": [
              "<div>\n",
              "<style scoped>\n",
              "    .dataframe tbody tr th:only-of-type {\n",
              "        vertical-align: middle;\n",
              "    }\n",
              "\n",
              "    .dataframe tbody tr th {\n",
              "        vertical-align: top;\n",
              "    }\n",
              "\n",
              "    .dataframe thead th {\n",
              "        text-align: right;\n",
              "    }\n",
              "</style>\n",
              "<table border=\"1\" class=\"dataframe\">\n",
              "  <thead>\n",
              "    <tr style=\"text-align: right;\">\n",
              "      <th></th>\n",
              "      <th>reviewerID</th>\n",
              "      <th>asin</th>\n",
              "      <th>reviewerName</th>\n",
              "      <th>helpful</th>\n",
              "      <th>reviewText</th>\n",
              "      <th>overall</th>\n",
              "      <th>summary</th>\n",
              "      <th>unixReviewTime</th>\n",
              "      <th>reviewTime</th>\n",
              "      <th>feature_7</th>\n",
              "      <th>feature_8</th>\n",
              "      <th>feature_9</th>\n",
              "      <th>feature_1</th>\n",
              "      <th>feature_2</th>\n",
              "      <th>feature_3</th>\n",
              "      <th>feature_4</th>\n",
              "      <th>feature_6</th>\n",
              "    </tr>\n",
              "  </thead>\n",
              "  <tbody>\n",
              "    <tr>\n",
              "      <th>1336614</th>\n",
              "      <td>A3SBTW3WS4IQSN</td>\n",
              "      <td>B007WTAJTO</td>\n",
              "      <td>NaN</td>\n",
              "      <td>[0, 0]</td>\n",
              "      <td>No issues.</td>\n",
              "      <td>4.0</td>\n",
              "      <td>Four Stars</td>\n",
              "      <td>1406073600</td>\n",
              "      <td>07 23, 2014</td>\n",
              "      <td>1</td>\n",
              "      <td>0</td>\n",
              "      <td>0</td>\n",
              "      <td>0</td>\n",
              "      <td>0</td>\n",
              "      <td>0</td>\n",
              "      <td>0</td>\n",
              "      <td>0</td>\n",
              "    </tr>\n",
              "    <tr>\n",
              "      <th>1336615</th>\n",
              "      <td>A18K1ODH1I2MVB</td>\n",
              "      <td>B007WTAJTO</td>\n",
              "      <td>0mie</td>\n",
              "      <td>[0, 0]</td>\n",
              "      <td>Purchased this for my device, it worked as advertised. You can never have too much phone memory, since I download a lot of stuff this was a no brainer for me.</td>\n",
              "      <td>5.0</td>\n",
              "      <td>MOAR SPACE!!!</td>\n",
              "      <td>1382659200</td>\n",
              "      <td>10 25, 2013</td>\n",
              "      <td>0</td>\n",
              "      <td>0</td>\n",
              "      <td>0</td>\n",
              "      <td>0</td>\n",
              "      <td>0</td>\n",
              "      <td>0</td>\n",
              "      <td>0</td>\n",
              "      <td>0</td>\n",
              "    </tr>\n",
              "    <tr>\n",
              "      <th>1336616</th>\n",
              "      <td>A2FII3I2MBMUIA</td>\n",
              "      <td>B007WTAJTO</td>\n",
              "      <td>1K3</td>\n",
              "      <td>[0, 0]</td>\n",
              "      <td>it works as expected. I should have sprung for the higher capacity.  I think its made a bit cheesier than the earlier versions; the paint looks not as clean as before</td>\n",
              "      <td>4.0</td>\n",
              "      <td>nothing to really say....</td>\n",
              "      <td>1356220800</td>\n",
              "      <td>12 23, 2012</td>\n",
              "      <td>0</td>\n",
              "      <td>0</td>\n",
              "      <td>0</td>\n",
              "      <td>0</td>\n",
              "      <td>0</td>\n",
              "      <td>0</td>\n",
              "      <td>0</td>\n",
              "      <td>0</td>\n",
              "    </tr>\n",
              "    <tr>\n",
              "      <th>1336617</th>\n",
              "      <td>A3H99DFEG68SR</td>\n",
              "      <td>B007WTAJTO</td>\n",
              "      <td>1m2</td>\n",
              "      <td>[0, 0]</td>\n",
              "      <td>This think has worked out great.Had a diff. bran 64gb card and if went south after 3 months.This one has held up pretty well since I had my S3, now on my Note3.*** update 3/21/14I've had this for a few months and have had ZERO issue's since it was transferred from my S3 to my Note3 and into a note2. This card is reliable and solid!Cheers!</td>\n",
              "      <td>5.0</td>\n",
              "      <td>Great buy at this price!!!  *** UPDATE</td>\n",
              "      <td>1384992000</td>\n",
              "      <td>11 21, 2013</td>\n",
              "      <td>0</td>\n",
              "      <td>0</td>\n",
              "      <td>0</td>\n",
              "      <td>0</td>\n",
              "      <td>0</td>\n",
              "      <td>0</td>\n",
              "      <td>0</td>\n",
              "      <td>0</td>\n",
              "    </tr>\n",
              "    <tr>\n",
              "      <th>1336618</th>\n",
              "      <td>A375ZM4U047O79</td>\n",
              "      <td>B007WTAJTO</td>\n",
              "      <td>2&amp;amp;1/2Men</td>\n",
              "      <td>[0, 0]</td>\n",
              "      <td>Bought it with Retail Packaging, arrived legit, in a orange envelope, english version not asian like the picture shows. arrived quickly, bought a 32 and 16 both retail packaging for my htc one sv and Lg Optimus, both cards in working order, probably best price you'll get for a nice sd card</td>\n",
              "      <td>5.0</td>\n",
              "      <td>best deal around</td>\n",
              "      <td>1373673600</td>\n",
              "      <td>07 13, 2013</td>\n",
              "      <td>0</td>\n",
              "      <td>0</td>\n",
              "      <td>0</td>\n",
              "      <td>0</td>\n",
              "      <td>0</td>\n",
              "      <td>0</td>\n",
              "      <td>0</td>\n",
              "      <td>0</td>\n",
              "    </tr>\n",
              "  </tbody>\n",
              "</table>\n",
              "</div>"
            ],
            "text/plain": [
              "             reviewerID        asin  reviewerName helpful  \\\n",
              "1336614  A3SBTW3WS4IQSN  B007WTAJTO           NaN  [0, 0]   \n",
              "1336615  A18K1ODH1I2MVB  B007WTAJTO          0mie  [0, 0]   \n",
              "1336616  A2FII3I2MBMUIA  B007WTAJTO           1K3  [0, 0]   \n",
              "1336617   A3H99DFEG68SR  B007WTAJTO           1m2  [0, 0]   \n",
              "1336618  A375ZM4U047O79  B007WTAJTO  2&amp;1/2Men  [0, 0]   \n",
              "\n",
              "                                                                                                                                                                                                                                                                                                                                                   reviewText  \\\n",
              "1336614                                                                                                                                                                                                                                                                                                                                            No issues.   \n",
              "1336615                                                                                                                                                                                        Purchased this for my device, it worked as advertised. You can never have too much phone memory, since I download a lot of stuff this was a no brainer for me.   \n",
              "1336616                                                                                                                                                                                it works as expected. I should have sprung for the higher capacity.  I think its made a bit cheesier than the earlier versions; the paint looks not as clean as before   \n",
              "1336617  This think has worked out great.Had a diff. bran 64gb card and if went south after 3 months.This one has held up pretty well since I had my S3, now on my Note3.*** update 3/21/14I've had this for a few months and have had ZERO issue's since it was transferred from my S3 to my Note3 and into a note2. This card is reliable and solid!Cheers!   \n",
              "1336618                                                    Bought it with Retail Packaging, arrived legit, in a orange envelope, english version not asian like the picture shows. arrived quickly, bought a 32 and 16 both retail packaging for my htc one sv and Lg Optimus, both cards in working order, probably best price you'll get for a nice sd card   \n",
              "\n",
              "         overall                                 summary  unixReviewTime  \\\n",
              "1336614      4.0                              Four Stars      1406073600   \n",
              "1336615      5.0                           MOAR SPACE!!!      1382659200   \n",
              "1336616      4.0               nothing to really say....      1356220800   \n",
              "1336617      5.0  Great buy at this price!!!  *** UPDATE      1384992000   \n",
              "1336618      5.0                        best deal around      1373673600   \n",
              "\n",
              "          reviewTime  feature_7  feature_8  feature_9  feature_1  feature_2  \\\n",
              "1336614  07 23, 2014          1          0          0          0          0   \n",
              "1336615  10 25, 2013          0          0          0          0          0   \n",
              "1336616  12 23, 2012          0          0          0          0          0   \n",
              "1336617  11 21, 2013          0          0          0          0          0   \n",
              "1336618  07 13, 2013          0          0          0          0          0   \n",
              "\n",
              "         feature_3  feature_4  feature_6  \n",
              "1336614          0          0          0  \n",
              "1336615          0          0          0  \n",
              "1336616          0          0          0  \n",
              "1336617          0          0          0  \n",
              "1336618          0          0          0  "
            ]
          },
          "metadata": {
            "tags": []
          },
          "execution_count": 41
        }
      ]
    },
    {
      "metadata": {
        "id": "bUZ1sY6aLBuz",
        "colab_type": "text"
      },
      "cell_type": "markdown",
      "source": [
        "#*Experiments and Results*\n",
        "\n",
        "---\n",
        "\n"
      ]
    },
    {
      "metadata": {
        "id": "lRdkFZdj6UX6",
        "colab_type": "text"
      },
      "cell_type": "markdown",
      "source": [
        "## Preprocessing Data"
      ]
    },
    {
      "metadata": {
        "id": "trRjQo3ag8Qy",
        "colab_type": "code",
        "colab": {}
      },
      "cell_type": "code",
      "source": [
        "#Concatenating labels\n",
        "labels = []\n",
        "for val1, val2,val3, val4, val6, val7,val8,val9 in zip(feature_1,feature_2,feature_3,feature_4,feature_6, feature_7,feature_8,feature_9):\n",
        "  if val1 == 0 and val2 == 0 and val3 ==0 and val4 ==0 and val6 ==0 and val7 ==0 and val8 ==0 and val9 ==0 :\n",
        "    labels.append(0)\n",
        "  else :\n",
        "    labels.append(1)"
      ],
      "execution_count": 0,
      "outputs": []
    },
    {
      "metadata": {
        "id": "v4IjZQx8pmNG",
        "colab_type": "code",
        "colab": {}
      },
      "cell_type": "code",
      "source": [
        "\n",
        "df_new['labels'] = labels\n"
      ],
      "execution_count": 0,
      "outputs": []
    },
    {
      "metadata": {
        "id": "DpGYRlqvqB1O",
        "colab_type": "code",
        "colab": {}
      },
      "cell_type": "code",
      "source": [
        "#Copy of DataFrame\n",
        "df_new_copy = df_new.copy()"
      ],
      "execution_count": 0,
      "outputs": []
    },
    {
      "metadata": {
        "id": "aevPLd78uJbt",
        "colab_type": "code",
        "colab": {}
      },
      "cell_type": "code",
      "source": [
        "# Converting each row in X as a list\n",
        "tfidf_list = []\n",
        "for row in X:\n",
        "  row = row.toarray()\n",
        "  row_sum = np.sum(row)\n",
        "  tfidf_list.append(row_sum)\n"
      ],
      "execution_count": 0,
      "outputs": []
    },
    {
      "metadata": {
        "id": "xIeN0-Rvwrjz",
        "colab_type": "code",
        "colab": {}
      },
      "cell_type": "code",
      "source": [
        "# Converting each row in S as a list\n",
        "tfidf_summarylist = []\n",
        "for row in S:\n",
        "  row = row.toarray()\n",
        "  row_sum = np.sum(row)\n",
        "  tfidf_summarylist.append(row_sum)"
      ],
      "execution_count": 0,
      "outputs": []
    },
    {
      "metadata": {
        "id": "1rMXDOoz4dKJ",
        "colab_type": "code",
        "colab": {}
      },
      "cell_type": "code",
      "source": [
        "#Dataframe with review Text column for Neural network model\n",
        "df_rnn = df_new_copy.drop(['feature_1','feature_2','feature_3','feature_4','feature_6', 'feature_7','feature_8','feature_9','reviewerName','summary','helpful'], axis = 1)"
      ],
      "execution_count": 0,
      "outputs": []
    },
    {
      "metadata": {
        "id": "uIcBGlhe4lXa",
        "colab_type": "code",
        "outputId": "46d91b69-69f6-447c-aff5-423a2eaaf76f",
        "colab": {
          "base_uri": "https://localhost:8080/",
          "height": 363
        }
      },
      "cell_type": "code",
      "source": [
        "df_rnn.head()"
      ],
      "execution_count": 48,
      "outputs": [
        {
          "output_type": "execute_result",
          "data": {
            "text/html": [
              "<div>\n",
              "<style scoped>\n",
              "    .dataframe tbody tr th:only-of-type {\n",
              "        vertical-align: middle;\n",
              "    }\n",
              "\n",
              "    .dataframe tbody tr th {\n",
              "        vertical-align: top;\n",
              "    }\n",
              "\n",
              "    .dataframe thead th {\n",
              "        text-align: right;\n",
              "    }\n",
              "</style>\n",
              "<table border=\"1\" class=\"dataframe\">\n",
              "  <thead>\n",
              "    <tr style=\"text-align: right;\">\n",
              "      <th></th>\n",
              "      <th>reviewerID</th>\n",
              "      <th>asin</th>\n",
              "      <th>reviewText</th>\n",
              "      <th>overall</th>\n",
              "      <th>unixReviewTime</th>\n",
              "      <th>reviewTime</th>\n",
              "      <th>labels</th>\n",
              "    </tr>\n",
              "  </thead>\n",
              "  <tbody>\n",
              "    <tr>\n",
              "      <th>1336614</th>\n",
              "      <td>A3SBTW3WS4IQSN</td>\n",
              "      <td>B007WTAJTO</td>\n",
              "      <td>No issues.</td>\n",
              "      <td>4.0</td>\n",
              "      <td>1406073600</td>\n",
              "      <td>07 23, 2014</td>\n",
              "      <td>0</td>\n",
              "    </tr>\n",
              "    <tr>\n",
              "      <th>1336615</th>\n",
              "      <td>A18K1ODH1I2MVB</td>\n",
              "      <td>B007WTAJTO</td>\n",
              "      <td>Purchased this for my device, it worked as advertised. You can never have too much phone memory, since I download a lot of stuff this was a no brainer for me.</td>\n",
              "      <td>5.0</td>\n",
              "      <td>1382659200</td>\n",
              "      <td>10 25, 2013</td>\n",
              "      <td>0</td>\n",
              "    </tr>\n",
              "    <tr>\n",
              "      <th>1336616</th>\n",
              "      <td>A2FII3I2MBMUIA</td>\n",
              "      <td>B007WTAJTO</td>\n",
              "      <td>it works as expected. I should have sprung for the higher capacity.  I think its made a bit cheesier than the earlier versions; the paint looks not as clean as before</td>\n",
              "      <td>4.0</td>\n",
              "      <td>1356220800</td>\n",
              "      <td>12 23, 2012</td>\n",
              "      <td>0</td>\n",
              "    </tr>\n",
              "    <tr>\n",
              "      <th>1336617</th>\n",
              "      <td>A3H99DFEG68SR</td>\n",
              "      <td>B007WTAJTO</td>\n",
              "      <td>This think has worked out great.Had a diff. bran 64gb card and if went south after 3 months.This one has held up pretty well since I had my S3, now on my Note3.*** update 3/21/14I've had this for a few months and have had ZERO issue's since it was transferred from my S3 to my Note3 and into a note2. This card is reliable and solid!Cheers!</td>\n",
              "      <td>5.0</td>\n",
              "      <td>1384992000</td>\n",
              "      <td>11 21, 2013</td>\n",
              "      <td>0</td>\n",
              "    </tr>\n",
              "    <tr>\n",
              "      <th>1336618</th>\n",
              "      <td>A375ZM4U047O79</td>\n",
              "      <td>B007WTAJTO</td>\n",
              "      <td>Bought it with Retail Packaging, arrived legit, in a orange envelope, english version not asian like the picture shows. arrived quickly, bought a 32 and 16 both retail packaging for my htc one sv and Lg Optimus, both cards in working order, probably best price you'll get for a nice sd card</td>\n",
              "      <td>5.0</td>\n",
              "      <td>1373673600</td>\n",
              "      <td>07 13, 2013</td>\n",
              "      <td>0</td>\n",
              "    </tr>\n",
              "  </tbody>\n",
              "</table>\n",
              "</div>"
            ],
            "text/plain": [
              "             reviewerID        asin  \\\n",
              "1336614  A3SBTW3WS4IQSN  B007WTAJTO   \n",
              "1336615  A18K1ODH1I2MVB  B007WTAJTO   \n",
              "1336616  A2FII3I2MBMUIA  B007WTAJTO   \n",
              "1336617   A3H99DFEG68SR  B007WTAJTO   \n",
              "1336618  A375ZM4U047O79  B007WTAJTO   \n",
              "\n",
              "                                                                                                                                                                                                                                                                                                                                                   reviewText  \\\n",
              "1336614                                                                                                                                                                                                                                                                                                                                            No issues.   \n",
              "1336615                                                                                                                                                                                        Purchased this for my device, it worked as advertised. You can never have too much phone memory, since I download a lot of stuff this was a no brainer for me.   \n",
              "1336616                                                                                                                                                                                it works as expected. I should have sprung for the higher capacity.  I think its made a bit cheesier than the earlier versions; the paint looks not as clean as before   \n",
              "1336617  This think has worked out great.Had a diff. bran 64gb card and if went south after 3 months.This one has held up pretty well since I had my S3, now on my Note3.*** update 3/21/14I've had this for a few months and have had ZERO issue's since it was transferred from my S3 to my Note3 and into a note2. This card is reliable and solid!Cheers!   \n",
              "1336618                                                    Bought it with Retail Packaging, arrived legit, in a orange envelope, english version not asian like the picture shows. arrived quickly, bought a 32 and 16 both retail packaging for my htc one sv and Lg Optimus, both cards in working order, probably best price you'll get for a nice sd card   \n",
              "\n",
              "         overall  unixReviewTime   reviewTime  labels  \n",
              "1336614      4.0      1406073600  07 23, 2014       0  \n",
              "1336615      5.0      1382659200  10 25, 2013       0  \n",
              "1336616      4.0      1356220800  12 23, 2012       0  \n",
              "1336617      5.0      1384992000  11 21, 2013       0  \n",
              "1336618      5.0      1373673600  07 13, 2013       0  "
            ]
          },
          "metadata": {
            "tags": []
          },
          "execution_count": 48
        }
      ]
    },
    {
      "metadata": {
        "id": "ryeEkQV94pZE",
        "colab_type": "code",
        "colab": {}
      },
      "cell_type": "code",
      "source": [
        "#writing Dataframe to csv format for future purposes\n",
        "file = path + '/data.csv'\n",
        "df_rnn.to_csv(path_or_buf = file, columns = ['reviewText','labels'])"
      ],
      "execution_count": 0,
      "outputs": []
    },
    {
      "metadata": {
        "id": "HHbPM6aiprBM",
        "colab_type": "code",
        "colab": {}
      },
      "cell_type": "code",
      "source": [
        "#Dataframe for classification with naive classifiers\n",
        "df_classifier = df_new_copy.drop(['feature_1','feature_2','feature_3','feature_4','feature_6', 'feature_7','feature_8','feature_9','reviewerName','reviewText','summary','helpful'], axis = 1)"
      ],
      "execution_count": 0,
      "outputs": []
    },
    {
      "metadata": {
        "id": "Tf0bp_U54Pzx",
        "colab_type": "code",
        "outputId": "80297221-2579-4254-d11c-131a692ef1de",
        "colab": {
          "base_uri": "https://localhost:8080/",
          "height": 206
        }
      },
      "cell_type": "code",
      "source": [
        "df_classifier.head()"
      ],
      "execution_count": 51,
      "outputs": [
        {
          "output_type": "execute_result",
          "data": {
            "text/html": [
              "<div>\n",
              "<style scoped>\n",
              "    .dataframe tbody tr th:only-of-type {\n",
              "        vertical-align: middle;\n",
              "    }\n",
              "\n",
              "    .dataframe tbody tr th {\n",
              "        vertical-align: top;\n",
              "    }\n",
              "\n",
              "    .dataframe thead th {\n",
              "        text-align: right;\n",
              "    }\n",
              "</style>\n",
              "<table border=\"1\" class=\"dataframe\">\n",
              "  <thead>\n",
              "    <tr style=\"text-align: right;\">\n",
              "      <th></th>\n",
              "      <th>reviewerID</th>\n",
              "      <th>asin</th>\n",
              "      <th>overall</th>\n",
              "      <th>unixReviewTime</th>\n",
              "      <th>reviewTime</th>\n",
              "      <th>labels</th>\n",
              "    </tr>\n",
              "  </thead>\n",
              "  <tbody>\n",
              "    <tr>\n",
              "      <th>1336614</th>\n",
              "      <td>A3SBTW3WS4IQSN</td>\n",
              "      <td>B007WTAJTO</td>\n",
              "      <td>4.0</td>\n",
              "      <td>1406073600</td>\n",
              "      <td>07 23, 2014</td>\n",
              "      <td>0</td>\n",
              "    </tr>\n",
              "    <tr>\n",
              "      <th>1336615</th>\n",
              "      <td>A18K1ODH1I2MVB</td>\n",
              "      <td>B007WTAJTO</td>\n",
              "      <td>5.0</td>\n",
              "      <td>1382659200</td>\n",
              "      <td>10 25, 2013</td>\n",
              "      <td>0</td>\n",
              "    </tr>\n",
              "    <tr>\n",
              "      <th>1336616</th>\n",
              "      <td>A2FII3I2MBMUIA</td>\n",
              "      <td>B007WTAJTO</td>\n",
              "      <td>4.0</td>\n",
              "      <td>1356220800</td>\n",
              "      <td>12 23, 2012</td>\n",
              "      <td>0</td>\n",
              "    </tr>\n",
              "    <tr>\n",
              "      <th>1336617</th>\n",
              "      <td>A3H99DFEG68SR</td>\n",
              "      <td>B007WTAJTO</td>\n",
              "      <td>5.0</td>\n",
              "      <td>1384992000</td>\n",
              "      <td>11 21, 2013</td>\n",
              "      <td>0</td>\n",
              "    </tr>\n",
              "    <tr>\n",
              "      <th>1336618</th>\n",
              "      <td>A375ZM4U047O79</td>\n",
              "      <td>B007WTAJTO</td>\n",
              "      <td>5.0</td>\n",
              "      <td>1373673600</td>\n",
              "      <td>07 13, 2013</td>\n",
              "      <td>0</td>\n",
              "    </tr>\n",
              "  </tbody>\n",
              "</table>\n",
              "</div>"
            ],
            "text/plain": [
              "             reviewerID        asin  overall  unixReviewTime   reviewTime  \\\n",
              "1336614  A3SBTW3WS4IQSN  B007WTAJTO      4.0      1406073600  07 23, 2014   \n",
              "1336615  A18K1ODH1I2MVB  B007WTAJTO      5.0      1382659200  10 25, 2013   \n",
              "1336616  A2FII3I2MBMUIA  B007WTAJTO      4.0      1356220800  12 23, 2012   \n",
              "1336617   A3H99DFEG68SR  B007WTAJTO      5.0      1384992000  11 21, 2013   \n",
              "1336618  A375ZM4U047O79  B007WTAJTO      5.0      1373673600  07 13, 2013   \n",
              "\n",
              "         labels  \n",
              "1336614       0  \n",
              "1336615       0  \n",
              "1336616       0  \n",
              "1336617       0  \n",
              "1336618       0  "
            ]
          },
          "metadata": {
            "tags": []
          },
          "execution_count": 51
        }
      ]
    },
    {
      "metadata": {
        "id": "ivtlc1sCwD24",
        "colab_type": "code",
        "colab": {}
      },
      "cell_type": "code",
      "source": [
        "#replacing said column with it's tfidf\n",
        "\n",
        "df_classifier['reviewText'] = tfidf_list\n",
        "\n",
        "df_classifier['summary'] = tfidf_summarylist"
      ],
      "execution_count": 0,
      "outputs": []
    },
    {
      "metadata": {
        "id": "JBYbxcfzqmUq",
        "colab_type": "code",
        "outputId": "39b09739-bc36-47fc-b0da-692ad988484d",
        "colab": {
          "base_uri": "https://localhost:8080/",
          "height": 72
        }
      },
      "cell_type": "code",
      "source": [
        "# Count of span and non-spam reviews\n",
        "# 1 is spam\n",
        "df_classifier['labels'].value_counts()"
      ],
      "execution_count": 53,
      "outputs": [
        {
          "output_type": "execute_result",
          "data": {
            "text/plain": [
              "0    7970\n",
              "1     380\n",
              "Name: labels, dtype: int64"
            ]
          },
          "metadata": {
            "tags": []
          },
          "execution_count": 53
        }
      ]
    },
    {
      "metadata": {
        "id": "oLI9qPSdrhWU",
        "colab_type": "code",
        "outputId": "3a211f07-8df9-4a62-ea04-94bd0323f61c",
        "colab": {
          "base_uri": "https://localhost:8080/",
          "height": 182
        }
      },
      "cell_type": "code",
      "source": [
        "#Data types\n",
        "df_classifier.dtypes"
      ],
      "execution_count": 54,
      "outputs": [
        {
          "output_type": "execute_result",
          "data": {
            "text/plain": [
              "reviewerID         object\n",
              "asin               object\n",
              "overall           float64\n",
              "unixReviewTime      int64\n",
              "reviewTime         object\n",
              "labels              int64\n",
              "reviewText        float64\n",
              "summary           float64\n",
              "dtype: object"
            ]
          },
          "metadata": {
            "tags": []
          },
          "execution_count": 54
        }
      ]
    },
    {
      "metadata": {
        "id": "PTDcOiLBsr1j",
        "colab_type": "code",
        "colab": {}
      },
      "cell_type": "code",
      "source": [
        "#convertign object type columns to categorical\n",
        "df_classifier['reviewerID'] = df_classifier['reviewerID'].astype('category')\n",
        "df_classifier['asin'] = df_classifier['asin'].astype('category')\n",
        "df_classifier['reviewTime'] = df_classifier['reviewTime'].astype('category')\n",
        "\n",
        "\n",
        "df_classifier['reviewerID'] = df_classifier['reviewerID'].cat.codes\n",
        "df_classifier['asin'] = df_classifier['asin'].cat.codes\n",
        "df_classifier['reviewTime'] = df_classifier['reviewTime'].cat.codes"
      ],
      "execution_count": 0,
      "outputs": []
    },
    {
      "metadata": {
        "id": "eDUjToi9PqlU",
        "colab_type": "code",
        "colab": {}
      },
      "cell_type": "code",
      "source": [
        "#Upsampling for data used for naive classifiers\n",
        "from sklearn.utils import resample\t\n",
        "# Separate majority and minority classes\n",
        "df_majority = df_classifier[df_classifier.labels==0]\n",
        "df_minority = df_classifier[df_classifier.labels==1]\n",
        "\n",
        "df_minority_upsampled = resample(df_minority, \n",
        "                                 replace=True,     # sample with replacement\n",
        "                                 n_samples=1594,    # to match majority class\n",
        "                                 random_state=123) # reproducible results\n",
        " \n",
        "# Combine majority class with upsampled minority class\n",
        "df_upsampled = pd.concat([df_majority, df_minority_upsampled])"
      ],
      "execution_count": 0,
      "outputs": []
    },
    {
      "metadata": {
        "id": "OxSpYPiX6Wqr",
        "colab_type": "code",
        "colab": {}
      },
      "cell_type": "code",
      "source": [
        "#Upsampling for data used for rnn\n",
        "from sklearn.utils import resample\t\n",
        "# Separate majority and minority classes\n",
        "df_maj = df_rnn[df_rnn.labels==0]\n",
        "df_min = df_rnn[df_rnn.labels==1]\n",
        "\n",
        "df_min_upsampled = resample(df_min, \n",
        "                                 replace=True,     # sample with replacement\n",
        "                                 n_samples=1594,    # to match majority class\n",
        "                                 random_state=123) # reproducible results\n",
        " \n",
        "# Combine majority class with upsampled minority class\n",
        "df_upsam = pd.concat([df_maj, df_min_upsampled])"
      ],
      "execution_count": 0,
      "outputs": []
    },
    {
      "metadata": {
        "id": "L_HKLDmMQLi3",
        "colab_type": "code",
        "outputId": "42bb9593-ac76-4314-bbae-9446f3557589",
        "colab": {
          "base_uri": "https://localhost:8080/",
          "height": 72
        }
      },
      "cell_type": "code",
      "source": [
        "#Number of classes after upsampling\n",
        "df_upsampled.labels.value_counts()"
      ],
      "execution_count": 58,
      "outputs": [
        {
          "output_type": "execute_result",
          "data": {
            "text/plain": [
              "0    7970\n",
              "1    1594\n",
              "Name: labels, dtype: int64"
            ]
          },
          "metadata": {
            "tags": []
          },
          "execution_count": 58
        }
      ]
    },
    {
      "metadata": {
        "id": "dwVmLE15QYtw",
        "colab_type": "code",
        "colab": {}
      },
      "cell_type": "code",
      "source": [
        "# Using df_classifier - cleaner notation\n",
        "df_classifier = df_upsampled.copy()"
      ],
      "execution_count": 0,
      "outputs": []
    },
    {
      "metadata": {
        "id": "VWDGj2pDx_DL",
        "colab_type": "code",
        "colab": {}
      },
      "cell_type": "code",
      "source": [
        "#Separating labels and data\n",
        "labels = df_classifier['labels']\n",
        "df_classifier = df_classifier.drop(['labels'], axis = 1)\n"
      ],
      "execution_count": 0,
      "outputs": []
    },
    {
      "metadata": {
        "id": "AsOIq4tsytFU",
        "colab_type": "code",
        "outputId": "4a68c4ba-c01c-4962-e891-4821cee93551",
        "colab": {
          "base_uri": "https://localhost:8080/",
          "height": 274
        }
      },
      "cell_type": "code",
      "source": [
        "labels = list(labels)\n",
        "print(len(labels))\n",
        "print(df_classifier.head())\n",
        "\n",
        "\n",
        "df_classifier = df_classifier.drop(['unixReviewTime','reviewTime'], axis = 1)\n"
      ],
      "execution_count": 61,
      "outputs": [
        {
          "output_type": "stream",
          "text": [
            "9564\n",
            "         reviewerID  asin  overall  unixReviewTime  reviewTime  reviewText  \\\n",
            "1336614        6037     1      4.0      1406073600         840    1.000000   \n",
            "1336615         494     1      5.0      1382659200        1173    3.041659   \n",
            "1336616        3105     1      4.0      1356220800        1387    3.182405   \n",
            "1336617        5363     1      5.0      1384992000        1265    4.358340   \n",
            "1336618        4759     1      5.0      1373673600         802    4.828571   \n",
            "\n",
            "          summary  \n",
            "1336614  1.000000  \n",
            "1336615  1.000000  \n",
            "1336616  1.414146  \n",
            "1336617  1.825390  \n",
            "1336618  1.407585  \n"
          ],
          "name": "stdout"
        }
      ]
    },
    {
      "metadata": {
        "id": "8qykEFFG6N5n",
        "colab_type": "text"
      },
      "cell_type": "markdown",
      "source": [
        "## Classifer stuff"
      ]
    },
    {
      "metadata": {
        "id": "OPSY2xpqy2iW",
        "colab_type": "code",
        "colab": {}
      },
      "cell_type": "code",
      "source": [
        "#Train test split\n",
        "import numpy as np\n",
        "from sklearn.model_selection import train_test_split\n",
        "\n",
        "X_train, X_test, y_train, y_test = train_test_split(df_classifier, labels, test_size=0.33, random_state=np.random.RandomState(), stratify = labels)"
      ],
      "execution_count": 0,
      "outputs": []
    },
    {
      "metadata": {
        "id": "7vHYIsg_zj23",
        "colab_type": "code",
        "outputId": "a3c300fb-18a4-4483-e9c8-e3362bb97a03",
        "colab": {
          "base_uri": "https://localhost:8080/",
          "height": 146
        }
      },
      "cell_type": "code",
      "source": [
        "#Random Forest Classifier\n",
        "from sklearn.ensemble import RandomForestClassifier\n",
        "clf = RandomForestClassifier(n_estimators=100, max_depth=5)\n",
        "clf.fit(X_train,y_train)"
      ],
      "execution_count": 63,
      "outputs": [
        {
          "output_type": "execute_result",
          "data": {
            "text/plain": [
              "RandomForestClassifier(bootstrap=True, class_weight=None, criterion='gini',\n",
              "            max_depth=5, max_features='auto', max_leaf_nodes=None,\n",
              "            min_impurity_decrease=0.0, min_impurity_split=None,\n",
              "            min_samples_leaf=1, min_samples_split=2,\n",
              "            min_weight_fraction_leaf=0.0, n_estimators=100, n_jobs=None,\n",
              "            oob_score=False, random_state=None, verbose=0,\n",
              "            warm_start=False)"
            ]
          },
          "metadata": {
            "tags": []
          },
          "execution_count": 63
        }
      ]
    },
    {
      "metadata": {
        "id": "kPlXS9o5DfKh",
        "colab_type": "code",
        "outputId": "d275d520-0bc4-4346-d3e8-b41a8e049161",
        "colab": {
          "base_uri": "https://localhost:8080/",
          "height": 3104
        }
      },
      "cell_type": "code",
      "source": [
        "# Bagging with different classifiers\n",
        "from sklearn.model_selection import cross_val_score\n",
        "from sklearn.ensemble import BaggingClassifier, AdaBoostClassifier, ExtraTreesClassifier, RandomForestClassifier\n",
        "from sklearn.neighbors import KNeighborsClassifier\n",
        "from sklearn.linear_model import RidgeClassifier, LogisticRegression\n",
        "from sklearn.svm import SVC\n",
        "from sklearn.metrics import accuracy_score\n",
        "from sklearn.metrics import precision_score, recall_score,f1_score\n",
        "from sklearn.metrics import classification_report\n",
        "\n",
        "\n",
        "seed = 1075\n",
        "np.random.seed(seed)\n",
        "\n",
        "# Create classifiers\n",
        "rf = RandomForestClassifier()\n",
        "et = ExtraTreesClassifier()\n",
        "knn = KNeighborsClassifier()\n",
        "svc = SVC()\n",
        "lrc = LogisticRegression()\n",
        "rg = RidgeClassifier()\n",
        "\n",
        "clf_array = [et, rf, knn, svc, lrc]\n",
        "\n",
        "for clf in clf_array:\n",
        "    vanilla_scores = cross_val_score(clf, X_train, y_train, cv=10, n_jobs=-1)\n",
        "    bagging_clf = BaggingClassifier(clf,max_samples=0.4, max_features=5, random_state=seed)\n",
        "    bagging_scores = cross_val_score(bagging_clf, X_train, y_train, cv=10,n_jobs=-1)\n",
        "    bagging_clf.fit(X_train,y_train)\n",
        "    y_pred_bagging = bagging_clf.predict(X_test)\n",
        "    print(clf.__class__.__name__)\n",
        "    print(classification_report(y_test, y_pred_bagging))\n",
        "    print(\"accuracy:\", accuracy_score(y_test, y_pred_bagging))\n",
        "    print(\"pecision:\", precision_score(y_test, y_pred_bagging))\n",
        "    print(\"recall:\", recall_score(y_test, y_pred_bagging)) \n",
        "    print(\"f1 score:\", f1_score(y_test, y_pred_bagging))    \n",
        "    print (\"Mean of: {1:.3f}, std: (+/-) {2:.3f} [{0}]\".format(clf.__class__.__name__,vanilla_scores.mean(), vanilla_scores.std()))\n",
        "    print (\"Mean of: {1:.3f}, std: (+/-) {2:.3f} [Bagging {0}]\\n\".format(clf.__class__.__name__,bagging_scores.mean(), bagging_scores.std()))"
      ],
      "execution_count": 64,
      "outputs": [
        {
          "output_type": "stream",
          "text": [
            "/usr/local/lib/python3.6/dist-packages/sklearn/ensemble/forest.py:246: FutureWarning: The default value of n_estimators will change from 10 in version 0.20 to 100 in 0.22.\n",
            "  \"10 in version 0.20 to 100 in 0.22.\", FutureWarning)\n",
            "/usr/local/lib/python3.6/dist-packages/sklearn/ensemble/forest.py:246: FutureWarning: The default value of n_estimators will change from 10 in version 0.20 to 100 in 0.22.\n",
            "  \"10 in version 0.20 to 100 in 0.22.\", FutureWarning)\n",
            "/usr/local/lib/python3.6/dist-packages/sklearn/ensemble/forest.py:246: FutureWarning: The default value of n_estimators will change from 10 in version 0.20 to 100 in 0.22.\n",
            "  \"10 in version 0.20 to 100 in 0.22.\", FutureWarning)\n",
            "/usr/local/lib/python3.6/dist-packages/sklearn/ensemble/forest.py:246: FutureWarning: The default value of n_estimators will change from 10 in version 0.20 to 100 in 0.22.\n",
            "  \"10 in version 0.20 to 100 in 0.22.\", FutureWarning)\n",
            "/usr/local/lib/python3.6/dist-packages/sklearn/ensemble/forest.py:246: FutureWarning: The default value of n_estimators will change from 10 in version 0.20 to 100 in 0.22.\n",
            "  \"10 in version 0.20 to 100 in 0.22.\", FutureWarning)\n",
            "/usr/local/lib/python3.6/dist-packages/sklearn/ensemble/forest.py:246: FutureWarning: The default value of n_estimators will change from 10 in version 0.20 to 100 in 0.22.\n",
            "  \"10 in version 0.20 to 100 in 0.22.\", FutureWarning)\n",
            "/usr/local/lib/python3.6/dist-packages/sklearn/ensemble/forest.py:246: FutureWarning: The default value of n_estimators will change from 10 in version 0.20 to 100 in 0.22.\n",
            "  \"10 in version 0.20 to 100 in 0.22.\", FutureWarning)\n",
            "/usr/local/lib/python3.6/dist-packages/sklearn/ensemble/forest.py:246: FutureWarning: The default value of n_estimators will change from 10 in version 0.20 to 100 in 0.22.\n",
            "  \"10 in version 0.20 to 100 in 0.22.\", FutureWarning)\n",
            "/usr/local/lib/python3.6/dist-packages/sklearn/ensemble/forest.py:246: FutureWarning: The default value of n_estimators will change from 10 in version 0.20 to 100 in 0.22.\n",
            "  \"10 in version 0.20 to 100 in 0.22.\", FutureWarning)\n",
            "/usr/local/lib/python3.6/dist-packages/sklearn/ensemble/forest.py:246: FutureWarning: The default value of n_estimators will change from 10 in version 0.20 to 100 in 0.22.\n",
            "  \"10 in version 0.20 to 100 in 0.22.\", FutureWarning)\n"
          ],
          "name": "stderr"
        },
        {
          "output_type": "stream",
          "text": [
            "ExtraTreesClassifier\n",
            "              precision    recall  f1-score   support\n",
            "\n",
            "           0       0.96      0.99      0.97      2631\n",
            "           1       0.92      0.81      0.86       526\n",
            "\n",
            "   micro avg       0.96      0.96      0.96      3157\n",
            "   macro avg       0.94      0.90      0.92      3157\n",
            "weighted avg       0.96      0.96      0.95      3157\n",
            "\n",
            "accuracy: 0.9559708584098828\n",
            "pecision: 0.9161290322580645\n",
            "recall: 0.8098859315589354\n",
            "f1 score: 0.8597376387487387\n",
            "Mean of: 0.975, std: (+/-) 0.004 [ExtraTreesClassifier]\n",
            "Mean of: 0.948, std: (+/-) 0.007 [Bagging ExtraTreesClassifier]\n",
            "\n"
          ],
          "name": "stdout"
        },
        {
          "output_type": "stream",
          "text": [
            "/usr/local/lib/python3.6/dist-packages/sklearn/ensemble/forest.py:246: FutureWarning: The default value of n_estimators will change from 10 in version 0.20 to 100 in 0.22.\n",
            "  \"10 in version 0.20 to 100 in 0.22.\", FutureWarning)\n",
            "/usr/local/lib/python3.6/dist-packages/sklearn/ensemble/forest.py:246: FutureWarning: The default value of n_estimators will change from 10 in version 0.20 to 100 in 0.22.\n",
            "  \"10 in version 0.20 to 100 in 0.22.\", FutureWarning)\n",
            "/usr/local/lib/python3.6/dist-packages/sklearn/ensemble/forest.py:246: FutureWarning: The default value of n_estimators will change from 10 in version 0.20 to 100 in 0.22.\n",
            "  \"10 in version 0.20 to 100 in 0.22.\", FutureWarning)\n",
            "/usr/local/lib/python3.6/dist-packages/sklearn/ensemble/forest.py:246: FutureWarning: The default value of n_estimators will change from 10 in version 0.20 to 100 in 0.22.\n",
            "  \"10 in version 0.20 to 100 in 0.22.\", FutureWarning)\n",
            "/usr/local/lib/python3.6/dist-packages/sklearn/ensemble/forest.py:246: FutureWarning: The default value of n_estimators will change from 10 in version 0.20 to 100 in 0.22.\n",
            "  \"10 in version 0.20 to 100 in 0.22.\", FutureWarning)\n",
            "/usr/local/lib/python3.6/dist-packages/sklearn/ensemble/forest.py:246: FutureWarning: The default value of n_estimators will change from 10 in version 0.20 to 100 in 0.22.\n",
            "  \"10 in version 0.20 to 100 in 0.22.\", FutureWarning)\n",
            "/usr/local/lib/python3.6/dist-packages/sklearn/ensemble/forest.py:246: FutureWarning: The default value of n_estimators will change from 10 in version 0.20 to 100 in 0.22.\n",
            "  \"10 in version 0.20 to 100 in 0.22.\", FutureWarning)\n",
            "/usr/local/lib/python3.6/dist-packages/sklearn/ensemble/forest.py:246: FutureWarning: The default value of n_estimators will change from 10 in version 0.20 to 100 in 0.22.\n",
            "  \"10 in version 0.20 to 100 in 0.22.\", FutureWarning)\n",
            "/usr/local/lib/python3.6/dist-packages/sklearn/ensemble/forest.py:246: FutureWarning: The default value of n_estimators will change from 10 in version 0.20 to 100 in 0.22.\n",
            "  \"10 in version 0.20 to 100 in 0.22.\", FutureWarning)\n",
            "/usr/local/lib/python3.6/dist-packages/sklearn/ensemble/forest.py:246: FutureWarning: The default value of n_estimators will change from 10 in version 0.20 to 100 in 0.22.\n",
            "  \"10 in version 0.20 to 100 in 0.22.\", FutureWarning)\n"
          ],
          "name": "stderr"
        },
        {
          "output_type": "stream",
          "text": [
            "RandomForestClassifier\n",
            "              precision    recall  f1-score   support\n",
            "\n",
            "           0       0.94      0.98      0.96      2631\n",
            "           1       0.87      0.67      0.76       526\n",
            "\n",
            "   micro avg       0.93      0.93      0.93      3157\n",
            "   macro avg       0.90      0.83      0.86      3157\n",
            "weighted avg       0.93      0.93      0.92      3157\n",
            "\n",
            "accuracy: 0.9280962939499525\n",
            "pecision: 0.8673218673218673\n",
            "recall: 0.6711026615969582\n",
            "f1 score: 0.7566988210075026\n",
            "Mean of: 0.967, std: (+/-) 0.007 [RandomForestClassifier]\n",
            "Mean of: 0.919, std: (+/-) 0.004 [Bagging RandomForestClassifier]\n",
            "\n",
            "KNeighborsClassifier\n",
            "              precision    recall  f1-score   support\n",
            "\n",
            "           0       0.86      0.97      0.91      2631\n",
            "           1       0.57      0.22      0.32       526\n",
            "\n",
            "   micro avg       0.84      0.84      0.84      3157\n",
            "   macro avg       0.71      0.59      0.61      3157\n",
            "weighted avg       0.81      0.84      0.81      3157\n",
            "\n",
            "accuracy: 0.8419385492556224\n",
            "pecision: 0.5652173913043478\n",
            "recall: 0.2224334600760456\n",
            "f1 score: 0.31923601637107774\n",
            "Mean of: 0.837, std: (+/-) 0.010 [KNeighborsClassifier]\n",
            "Mean of: 0.827, std: (+/-) 0.010 [Bagging KNeighborsClassifier]\n",
            "\n"
          ],
          "name": "stdout"
        },
        {
          "output_type": "stream",
          "text": [
            "/usr/local/lib/python3.6/dist-packages/sklearn/externals/joblib/externals/loky/process_executor.py:706: UserWarning: A worker stopped while some jobs were given to the executor. This can be caused by a too short worker timeout or by a memory leak.\n",
            "  \"timeout or by a memory leak.\", UserWarning\n",
            "/usr/local/lib/python3.6/dist-packages/sklearn/svm/base.py:196: FutureWarning: The default value of gamma will change from 'auto' to 'scale' in version 0.22 to account better for unscaled features. Set gamma explicitly to 'auto' or 'scale' to avoid this warning.\n",
            "  \"avoid this warning.\", FutureWarning)\n",
            "/usr/local/lib/python3.6/dist-packages/sklearn/svm/base.py:196: FutureWarning: The default value of gamma will change from 'auto' to 'scale' in version 0.22 to account better for unscaled features. Set gamma explicitly to 'auto' or 'scale' to avoid this warning.\n",
            "  \"avoid this warning.\", FutureWarning)\n",
            "/usr/local/lib/python3.6/dist-packages/sklearn/svm/base.py:196: FutureWarning: The default value of gamma will change from 'auto' to 'scale' in version 0.22 to account better for unscaled features. Set gamma explicitly to 'auto' or 'scale' to avoid this warning.\n",
            "  \"avoid this warning.\", FutureWarning)\n",
            "/usr/local/lib/python3.6/dist-packages/sklearn/svm/base.py:196: FutureWarning: The default value of gamma will change from 'auto' to 'scale' in version 0.22 to account better for unscaled features. Set gamma explicitly to 'auto' or 'scale' to avoid this warning.\n",
            "  \"avoid this warning.\", FutureWarning)\n",
            "/usr/local/lib/python3.6/dist-packages/sklearn/svm/base.py:196: FutureWarning: The default value of gamma will change from 'auto' to 'scale' in version 0.22 to account better for unscaled features. Set gamma explicitly to 'auto' or 'scale' to avoid this warning.\n",
            "  \"avoid this warning.\", FutureWarning)\n",
            "/usr/local/lib/python3.6/dist-packages/sklearn/svm/base.py:196: FutureWarning: The default value of gamma will change from 'auto' to 'scale' in version 0.22 to account better for unscaled features. Set gamma explicitly to 'auto' or 'scale' to avoid this warning.\n",
            "  \"avoid this warning.\", FutureWarning)\n",
            "/usr/local/lib/python3.6/dist-packages/sklearn/svm/base.py:196: FutureWarning: The default value of gamma will change from 'auto' to 'scale' in version 0.22 to account better for unscaled features. Set gamma explicitly to 'auto' or 'scale' to avoid this warning.\n",
            "  \"avoid this warning.\", FutureWarning)\n",
            "/usr/local/lib/python3.6/dist-packages/sklearn/svm/base.py:196: FutureWarning: The default value of gamma will change from 'auto' to 'scale' in version 0.22 to account better for unscaled features. Set gamma explicitly to 'auto' or 'scale' to avoid this warning.\n",
            "  \"avoid this warning.\", FutureWarning)\n",
            "/usr/local/lib/python3.6/dist-packages/sklearn/svm/base.py:196: FutureWarning: The default value of gamma will change from 'auto' to 'scale' in version 0.22 to account better for unscaled features. Set gamma explicitly to 'auto' or 'scale' to avoid this warning.\n",
            "  \"avoid this warning.\", FutureWarning)\n",
            "/usr/local/lib/python3.6/dist-packages/sklearn/svm/base.py:196: FutureWarning: The default value of gamma will change from 'auto' to 'scale' in version 0.22 to account better for unscaled features. Set gamma explicitly to 'auto' or 'scale' to avoid this warning.\n",
            "  \"avoid this warning.\", FutureWarning)\n"
          ],
          "name": "stderr"
        },
        {
          "output_type": "stream",
          "text": [
            "SVC\n",
            "              precision    recall  f1-score   support\n",
            "\n",
            "           0       0.92      0.99      0.95      2631\n",
            "           1       0.94      0.56      0.70       526\n",
            "\n",
            "   micro avg       0.92      0.92      0.92      3157\n",
            "   macro avg       0.93      0.77      0.83      3157\n",
            "weighted avg       0.92      0.92      0.91      3157\n",
            "\n",
            "accuracy: 0.9204941400063351\n",
            "pecision: 0.9449838187702265\n",
            "recall: 0.5551330798479087\n",
            "f1 score: 0.6994011976047904\n",
            "Mean of: 0.944, std: (+/-) 0.005 [SVC]\n",
            "Mean of: 0.903, std: (+/-) 0.011 [Bagging SVC]\n",
            "\n"
          ],
          "name": "stdout"
        },
        {
          "output_type": "stream",
          "text": [
            "/usr/local/lib/python3.6/dist-packages/sklearn/linear_model/logistic.py:433: FutureWarning: Default solver will be changed to 'lbfgs' in 0.22. Specify a solver to silence this warning.\n",
            "  FutureWarning)\n",
            "/usr/local/lib/python3.6/dist-packages/sklearn/linear_model/logistic.py:433: FutureWarning: Default solver will be changed to 'lbfgs' in 0.22. Specify a solver to silence this warning.\n",
            "  FutureWarning)\n",
            "/usr/local/lib/python3.6/dist-packages/sklearn/linear_model/logistic.py:433: FutureWarning: Default solver will be changed to 'lbfgs' in 0.22. Specify a solver to silence this warning.\n",
            "  FutureWarning)\n",
            "/usr/local/lib/python3.6/dist-packages/sklearn/linear_model/logistic.py:433: FutureWarning: Default solver will be changed to 'lbfgs' in 0.22. Specify a solver to silence this warning.\n",
            "  FutureWarning)\n",
            "/usr/local/lib/python3.6/dist-packages/sklearn/linear_model/logistic.py:433: FutureWarning: Default solver will be changed to 'lbfgs' in 0.22. Specify a solver to silence this warning.\n",
            "  FutureWarning)\n",
            "/usr/local/lib/python3.6/dist-packages/sklearn/linear_model/logistic.py:433: FutureWarning: Default solver will be changed to 'lbfgs' in 0.22. Specify a solver to silence this warning.\n",
            "  FutureWarning)\n",
            "/usr/local/lib/python3.6/dist-packages/sklearn/linear_model/logistic.py:433: FutureWarning: Default solver will be changed to 'lbfgs' in 0.22. Specify a solver to silence this warning.\n",
            "  FutureWarning)\n",
            "/usr/local/lib/python3.6/dist-packages/sklearn/linear_model/logistic.py:433: FutureWarning: Default solver will be changed to 'lbfgs' in 0.22. Specify a solver to silence this warning.\n",
            "  FutureWarning)\n"
          ],
          "name": "stderr"
        },
        {
          "output_type": "stream",
          "text": [
            "LogisticRegression\n",
            "              precision    recall  f1-score   support\n",
            "\n",
            "           0       0.84      1.00      0.91      2631\n",
            "           1       0.67      0.03      0.05       526\n",
            "\n",
            "   micro avg       0.84      0.84      0.84      3157\n",
            "   macro avg       0.75      0.51      0.48      3157\n",
            "weighted avg       0.81      0.84      0.77      3157\n",
            "\n",
            "accuracy: 0.8356034209692746\n",
            "pecision: 0.6666666666666666\n",
            "recall: 0.026615969581749048\n",
            "f1 score: 0.05118829981718464\n",
            "Mean of: 0.833, std: (+/-) 0.005 [LogisticRegression]\n",
            "Mean of: 0.834, std: (+/-) 0.005 [Bagging LogisticRegression]\n",
            "\n"
          ],
          "name": "stdout"
        },
        {
          "output_type": "stream",
          "text": [
            "/usr/local/lib/python3.6/dist-packages/sklearn/linear_model/logistic.py:433: FutureWarning: Default solver will be changed to 'lbfgs' in 0.22. Specify a solver to silence this warning.\n",
            "  FutureWarning)\n",
            "/usr/local/lib/python3.6/dist-packages/sklearn/linear_model/logistic.py:433: FutureWarning: Default solver will be changed to 'lbfgs' in 0.22. Specify a solver to silence this warning.\n",
            "  FutureWarning)\n"
          ],
          "name": "stderr"
        }
      ]
    },
    {
      "metadata": {
        "id": "w8sxF70jIZOs",
        "colab_type": "code",
        "outputId": "57a93cc3-b8ea-43fc-a57b-c3cdbf6d949b",
        "colab": {
          "base_uri": "https://localhost:8080/",
          "height": 2131
        }
      },
      "cell_type": "code",
      "source": [
        "#Boosting - base RandomForest classifier\n",
        "from sklearn.metrics import classification_report\n",
        "AdaBoost_clf = AdaBoostClassifier(base_estimator=rf, random_state=seed)\n",
        "AdaBoost_scores = cross_val_score(AdaBoost_clf, X_train, y_train, cv=10,n_jobs=-1)\n",
        "AdaBoost_clf.fit(X_train,y_train)\n",
        "y_pred_boosting = AdaBoost_clf.predict(X_test)\n",
        "print(\"Boosting - Random Forest scores\")\n",
        "print(classification_report(y_test,y_pred_boosting))\n",
        "print(\"accuracy:\", accuracy_score(y_test, y_pred_boosting))\n",
        "print(\"pecision:\", precision_score(y_test, y_pred_boosting))\n",
        "print(\"recall:\", recall_score(y_test, y_pred_boosting)) \n",
        "print(\"f1 score:\", f1_score(y_test, y_pred_boosting)) \n"
      ],
      "execution_count": 65,
      "outputs": [
        {
          "output_type": "stream",
          "text": [
            "/usr/local/lib/python3.6/dist-packages/sklearn/ensemble/forest.py:246: FutureWarning: The default value of n_estimators will change from 10 in version 0.20 to 100 in 0.22.\n",
            "  \"10 in version 0.20 to 100 in 0.22.\", FutureWarning)\n",
            "/usr/local/lib/python3.6/dist-packages/sklearn/ensemble/forest.py:246: FutureWarning: The default value of n_estimators will change from 10 in version 0.20 to 100 in 0.22.\n",
            "  \"10 in version 0.20 to 100 in 0.22.\", FutureWarning)\n",
            "/usr/local/lib/python3.6/dist-packages/sklearn/ensemble/forest.py:246: FutureWarning: The default value of n_estimators will change from 10 in version 0.20 to 100 in 0.22.\n",
            "  \"10 in version 0.20 to 100 in 0.22.\", FutureWarning)\n",
            "/usr/local/lib/python3.6/dist-packages/sklearn/ensemble/forest.py:246: FutureWarning: The default value of n_estimators will change from 10 in version 0.20 to 100 in 0.22.\n",
            "  \"10 in version 0.20 to 100 in 0.22.\", FutureWarning)\n",
            "/usr/local/lib/python3.6/dist-packages/sklearn/ensemble/forest.py:246: FutureWarning: The default value of n_estimators will change from 10 in version 0.20 to 100 in 0.22.\n",
            "  \"10 in version 0.20 to 100 in 0.22.\", FutureWarning)\n",
            "/usr/local/lib/python3.6/dist-packages/sklearn/ensemble/forest.py:246: FutureWarning: The default value of n_estimators will change from 10 in version 0.20 to 100 in 0.22.\n",
            "  \"10 in version 0.20 to 100 in 0.22.\", FutureWarning)\n",
            "/usr/local/lib/python3.6/dist-packages/sklearn/ensemble/forest.py:246: FutureWarning: The default value of n_estimators will change from 10 in version 0.20 to 100 in 0.22.\n",
            "  \"10 in version 0.20 to 100 in 0.22.\", FutureWarning)\n",
            "/usr/local/lib/python3.6/dist-packages/sklearn/ensemble/forest.py:246: FutureWarning: The default value of n_estimators will change from 10 in version 0.20 to 100 in 0.22.\n",
            "  \"10 in version 0.20 to 100 in 0.22.\", FutureWarning)\n",
            "/usr/local/lib/python3.6/dist-packages/sklearn/ensemble/forest.py:246: FutureWarning: The default value of n_estimators will change from 10 in version 0.20 to 100 in 0.22.\n",
            "  \"10 in version 0.20 to 100 in 0.22.\", FutureWarning)\n",
            "/usr/local/lib/python3.6/dist-packages/sklearn/ensemble/forest.py:246: FutureWarning: The default value of n_estimators will change from 10 in version 0.20 to 100 in 0.22.\n",
            "  \"10 in version 0.20 to 100 in 0.22.\", FutureWarning)\n",
            "/usr/local/lib/python3.6/dist-packages/sklearn/ensemble/forest.py:246: FutureWarning: The default value of n_estimators will change from 10 in version 0.20 to 100 in 0.22.\n",
            "  \"10 in version 0.20 to 100 in 0.22.\", FutureWarning)\n",
            "/usr/local/lib/python3.6/dist-packages/sklearn/ensemble/forest.py:246: FutureWarning: The default value of n_estimators will change from 10 in version 0.20 to 100 in 0.22.\n",
            "  \"10 in version 0.20 to 100 in 0.22.\", FutureWarning)\n",
            "/usr/local/lib/python3.6/dist-packages/sklearn/ensemble/forest.py:246: FutureWarning: The default value of n_estimators will change from 10 in version 0.20 to 100 in 0.22.\n",
            "  \"10 in version 0.20 to 100 in 0.22.\", FutureWarning)\n",
            "/usr/local/lib/python3.6/dist-packages/sklearn/ensemble/forest.py:246: FutureWarning: The default value of n_estimators will change from 10 in version 0.20 to 100 in 0.22.\n",
            "  \"10 in version 0.20 to 100 in 0.22.\", FutureWarning)\n",
            "/usr/local/lib/python3.6/dist-packages/sklearn/ensemble/forest.py:246: FutureWarning: The default value of n_estimators will change from 10 in version 0.20 to 100 in 0.22.\n",
            "  \"10 in version 0.20 to 100 in 0.22.\", FutureWarning)\n",
            "/usr/local/lib/python3.6/dist-packages/sklearn/ensemble/forest.py:246: FutureWarning: The default value of n_estimators will change from 10 in version 0.20 to 100 in 0.22.\n",
            "  \"10 in version 0.20 to 100 in 0.22.\", FutureWarning)\n",
            "/usr/local/lib/python3.6/dist-packages/sklearn/ensemble/forest.py:246: FutureWarning: The default value of n_estimators will change from 10 in version 0.20 to 100 in 0.22.\n",
            "  \"10 in version 0.20 to 100 in 0.22.\", FutureWarning)\n",
            "/usr/local/lib/python3.6/dist-packages/sklearn/ensemble/forest.py:246: FutureWarning: The default value of n_estimators will change from 10 in version 0.20 to 100 in 0.22.\n",
            "  \"10 in version 0.20 to 100 in 0.22.\", FutureWarning)\n",
            "/usr/local/lib/python3.6/dist-packages/sklearn/ensemble/forest.py:246: FutureWarning: The default value of n_estimators will change from 10 in version 0.20 to 100 in 0.22.\n",
            "  \"10 in version 0.20 to 100 in 0.22.\", FutureWarning)\n",
            "/usr/local/lib/python3.6/dist-packages/sklearn/ensemble/forest.py:246: FutureWarning: The default value of n_estimators will change from 10 in version 0.20 to 100 in 0.22.\n",
            "  \"10 in version 0.20 to 100 in 0.22.\", FutureWarning)\n",
            "/usr/local/lib/python3.6/dist-packages/sklearn/ensemble/forest.py:246: FutureWarning: The default value of n_estimators will change from 10 in version 0.20 to 100 in 0.22.\n",
            "  \"10 in version 0.20 to 100 in 0.22.\", FutureWarning)\n",
            "/usr/local/lib/python3.6/dist-packages/sklearn/ensemble/forest.py:246: FutureWarning: The default value of n_estimators will change from 10 in version 0.20 to 100 in 0.22.\n",
            "  \"10 in version 0.20 to 100 in 0.22.\", FutureWarning)\n",
            "/usr/local/lib/python3.6/dist-packages/sklearn/ensemble/forest.py:246: FutureWarning: The default value of n_estimators will change from 10 in version 0.20 to 100 in 0.22.\n",
            "  \"10 in version 0.20 to 100 in 0.22.\", FutureWarning)\n",
            "/usr/local/lib/python3.6/dist-packages/sklearn/ensemble/forest.py:246: FutureWarning: The default value of n_estimators will change from 10 in version 0.20 to 100 in 0.22.\n",
            "  \"10 in version 0.20 to 100 in 0.22.\", FutureWarning)\n",
            "/usr/local/lib/python3.6/dist-packages/sklearn/ensemble/forest.py:246: FutureWarning: The default value of n_estimators will change from 10 in version 0.20 to 100 in 0.22.\n",
            "  \"10 in version 0.20 to 100 in 0.22.\", FutureWarning)\n",
            "/usr/local/lib/python3.6/dist-packages/sklearn/ensemble/forest.py:246: FutureWarning: The default value of n_estimators will change from 10 in version 0.20 to 100 in 0.22.\n",
            "  \"10 in version 0.20 to 100 in 0.22.\", FutureWarning)\n",
            "/usr/local/lib/python3.6/dist-packages/sklearn/ensemble/forest.py:246: FutureWarning: The default value of n_estimators will change from 10 in version 0.20 to 100 in 0.22.\n",
            "  \"10 in version 0.20 to 100 in 0.22.\", FutureWarning)\n",
            "/usr/local/lib/python3.6/dist-packages/sklearn/ensemble/forest.py:246: FutureWarning: The default value of n_estimators will change from 10 in version 0.20 to 100 in 0.22.\n",
            "  \"10 in version 0.20 to 100 in 0.22.\", FutureWarning)\n",
            "/usr/local/lib/python3.6/dist-packages/sklearn/ensemble/forest.py:246: FutureWarning: The default value of n_estimators will change from 10 in version 0.20 to 100 in 0.22.\n",
            "  \"10 in version 0.20 to 100 in 0.22.\", FutureWarning)\n",
            "/usr/local/lib/python3.6/dist-packages/sklearn/ensemble/forest.py:246: FutureWarning: The default value of n_estimators will change from 10 in version 0.20 to 100 in 0.22.\n",
            "  \"10 in version 0.20 to 100 in 0.22.\", FutureWarning)\n",
            "/usr/local/lib/python3.6/dist-packages/sklearn/ensemble/forest.py:246: FutureWarning: The default value of n_estimators will change from 10 in version 0.20 to 100 in 0.22.\n",
            "  \"10 in version 0.20 to 100 in 0.22.\", FutureWarning)\n",
            "/usr/local/lib/python3.6/dist-packages/sklearn/ensemble/forest.py:246: FutureWarning: The default value of n_estimators will change from 10 in version 0.20 to 100 in 0.22.\n",
            "  \"10 in version 0.20 to 100 in 0.22.\", FutureWarning)\n",
            "/usr/local/lib/python3.6/dist-packages/sklearn/ensemble/forest.py:246: FutureWarning: The default value of n_estimators will change from 10 in version 0.20 to 100 in 0.22.\n",
            "  \"10 in version 0.20 to 100 in 0.22.\", FutureWarning)\n",
            "/usr/local/lib/python3.6/dist-packages/sklearn/ensemble/forest.py:246: FutureWarning: The default value of n_estimators will change from 10 in version 0.20 to 100 in 0.22.\n",
            "  \"10 in version 0.20 to 100 in 0.22.\", FutureWarning)\n",
            "/usr/local/lib/python3.6/dist-packages/sklearn/ensemble/forest.py:246: FutureWarning: The default value of n_estimators will change from 10 in version 0.20 to 100 in 0.22.\n",
            "  \"10 in version 0.20 to 100 in 0.22.\", FutureWarning)\n",
            "/usr/local/lib/python3.6/dist-packages/sklearn/ensemble/forest.py:246: FutureWarning: The default value of n_estimators will change from 10 in version 0.20 to 100 in 0.22.\n",
            "  \"10 in version 0.20 to 100 in 0.22.\", FutureWarning)\n",
            "/usr/local/lib/python3.6/dist-packages/sklearn/ensemble/forest.py:246: FutureWarning: The default value of n_estimators will change from 10 in version 0.20 to 100 in 0.22.\n",
            "  \"10 in version 0.20 to 100 in 0.22.\", FutureWarning)\n",
            "/usr/local/lib/python3.6/dist-packages/sklearn/ensemble/forest.py:246: FutureWarning: The default value of n_estimators will change from 10 in version 0.20 to 100 in 0.22.\n",
            "  \"10 in version 0.20 to 100 in 0.22.\", FutureWarning)\n",
            "/usr/local/lib/python3.6/dist-packages/sklearn/ensemble/forest.py:246: FutureWarning: The default value of n_estimators will change from 10 in version 0.20 to 100 in 0.22.\n",
            "  \"10 in version 0.20 to 100 in 0.22.\", FutureWarning)\n",
            "/usr/local/lib/python3.6/dist-packages/sklearn/ensemble/forest.py:246: FutureWarning: The default value of n_estimators will change from 10 in version 0.20 to 100 in 0.22.\n",
            "  \"10 in version 0.20 to 100 in 0.22.\", FutureWarning)\n",
            "/usr/local/lib/python3.6/dist-packages/sklearn/ensemble/forest.py:246: FutureWarning: The default value of n_estimators will change from 10 in version 0.20 to 100 in 0.22.\n",
            "  \"10 in version 0.20 to 100 in 0.22.\", FutureWarning)\n",
            "/usr/local/lib/python3.6/dist-packages/sklearn/ensemble/forest.py:246: FutureWarning: The default value of n_estimators will change from 10 in version 0.20 to 100 in 0.22.\n",
            "  \"10 in version 0.20 to 100 in 0.22.\", FutureWarning)\n",
            "/usr/local/lib/python3.6/dist-packages/sklearn/ensemble/forest.py:246: FutureWarning: The default value of n_estimators will change from 10 in version 0.20 to 100 in 0.22.\n",
            "  \"10 in version 0.20 to 100 in 0.22.\", FutureWarning)\n",
            "/usr/local/lib/python3.6/dist-packages/sklearn/ensemble/forest.py:246: FutureWarning: The default value of n_estimators will change from 10 in version 0.20 to 100 in 0.22.\n",
            "  \"10 in version 0.20 to 100 in 0.22.\", FutureWarning)\n",
            "/usr/local/lib/python3.6/dist-packages/sklearn/ensemble/forest.py:246: FutureWarning: The default value of n_estimators will change from 10 in version 0.20 to 100 in 0.22.\n",
            "  \"10 in version 0.20 to 100 in 0.22.\", FutureWarning)\n",
            "/usr/local/lib/python3.6/dist-packages/sklearn/ensemble/forest.py:246: FutureWarning: The default value of n_estimators will change from 10 in version 0.20 to 100 in 0.22.\n",
            "  \"10 in version 0.20 to 100 in 0.22.\", FutureWarning)\n",
            "/usr/local/lib/python3.6/dist-packages/sklearn/ensemble/forest.py:246: FutureWarning: The default value of n_estimators will change from 10 in version 0.20 to 100 in 0.22.\n",
            "  \"10 in version 0.20 to 100 in 0.22.\", FutureWarning)\n",
            "/usr/local/lib/python3.6/dist-packages/sklearn/ensemble/forest.py:246: FutureWarning: The default value of n_estimators will change from 10 in version 0.20 to 100 in 0.22.\n",
            "  \"10 in version 0.20 to 100 in 0.22.\", FutureWarning)\n",
            "/usr/local/lib/python3.6/dist-packages/sklearn/ensemble/forest.py:246: FutureWarning: The default value of n_estimators will change from 10 in version 0.20 to 100 in 0.22.\n",
            "  \"10 in version 0.20 to 100 in 0.22.\", FutureWarning)\n",
            "/usr/local/lib/python3.6/dist-packages/sklearn/ensemble/forest.py:246: FutureWarning: The default value of n_estimators will change from 10 in version 0.20 to 100 in 0.22.\n",
            "  \"10 in version 0.20 to 100 in 0.22.\", FutureWarning)\n"
          ],
          "name": "stderr"
        },
        {
          "output_type": "stream",
          "text": [
            "Boosting - Random Forest scores\n",
            "              precision    recall  f1-score   support\n",
            "\n",
            "           0       0.99      0.99      0.99      2631\n",
            "           1       0.97      0.93      0.95       526\n",
            "\n",
            "   micro avg       0.98      0.98      0.98      3157\n",
            "   macro avg       0.98      0.96      0.97      3157\n",
            "weighted avg       0.98      0.98      0.98      3157\n",
            "\n",
            "accuracy: 0.9822616407982262\n",
            "pecision: 0.9662698412698413\n",
            "recall: 0.9258555133079848\n",
            "f1 score: 0.945631067961165\n"
          ],
          "name": "stdout"
        }
      ]
    },
    {
      "metadata": {
        "id": "L5EcscTTKMUd",
        "colab_type": "code",
        "outputId": "5e7e35b7-17cf-45e9-a167-0ec298453637",
        "colab": {
          "base_uri": "https://localhost:8080/",
          "height": 295
        }
      },
      "cell_type": "code",
      "source": [
        "#ROC Curve usinf RandomForest Boosting\n",
        "from sklearn.metrics import roc_curve, auc\n",
        "from sklearn import metrics\n",
        "fpr, tpr, threshold = metrics.roc_curve(y_test, y_pred_boosting)\n",
        "roc_auc = metrics.auc(fpr, tpr)\n",
        "import matplotlib.pyplot as plt\n",
        "plt.title('Receiver Operating Characteristic')\n",
        "plt.plot(fpr, tpr, 'b', label = 'AUC = %0.2f' % roc_auc)\n",
        "plt.legend(loc = 'lower right')\n",
        "plt.plot([0, 1], [0, 1],'r--')\n",
        "plt.xlim([0, 1])\n",
        "plt.ylim([0, 1])\n",
        "plt.ylabel('True Positive Rate')\n",
        "plt.xlabel('False Positive Rate')\n",
        "plt.show()"
      ],
      "execution_count": 66,
      "outputs": [
        {
          "output_type": "display_data",
          "data": {
            "image/png": "[encoded data removed]",
            "text/plain": [
              "<Figure size 432x288 with 1 Axes>"
            ]
          },
          "metadata": {
            "tags": []
          }
        }
      ]
    },
    {
      "metadata": {
        "id": "LQ65xgbJ7_lm",
        "colab_type": "code",
        "outputId": "2f887c2e-24a0-432e-b261-98288ddd1673",
        "colab": {
          "base_uri": "https://localhost:8080/",
          "height": 147
        }
      },
      "cell_type": "code",
      "source": [
        "#Using SVM-RBF kernel\n",
        "from sklearn import svm\n",
        "clf_svm = svm.SVC(kernel = 'rbf')\n",
        "clf_svm.fit(X_train,y_train)"
      ],
      "execution_count": 67,
      "outputs": [
        {
          "output_type": "stream",
          "text": [
            "/usr/local/lib/python3.6/dist-packages/sklearn/svm/base.py:196: FutureWarning: The default value of gamma will change from 'auto' to 'scale' in version 0.22 to account better for unscaled features. Set gamma explicitly to 'auto' or 'scale' to avoid this warning.\n",
            "  \"avoid this warning.\", FutureWarning)\n"
          ],
          "name": "stderr"
        },
        {
          "output_type": "execute_result",
          "data": {
            "text/plain": [
              "SVC(C=1.0, cache_size=200, class_weight=None, coef0=0.0,\n",
              "  decision_function_shape='ovr', degree=3, gamma='auto_deprecated',\n",
              "  kernel='rbf', max_iter=-1, probability=False, random_state=None,\n",
              "  shrinking=True, tol=0.001, verbose=False)"
            ]
          },
          "metadata": {
            "tags": []
          },
          "execution_count": 67
        }
      ]
    },
    {
      "metadata": {
        "id": "xUt1ek7u8p43",
        "colab_type": "code",
        "outputId": "b4536858-d036-4fc3-a98e-910a30a7b681",
        "colab": {
          "base_uri": "https://localhost:8080/",
          "height": 256
        }
      },
      "cell_type": "code",
      "source": [
        "y_pred_svm = clf_svm.predict(X_test)\n",
        "from sklearn.metrics import accuracy_score, classification_report,recall_score, precision_score, f1_score\n",
        "print(classification_report(y_test, y_pred_svm))\n",
        "print(\"accuracy:\", accuracy_score(y_test, y_pred_svm))\n",
        "print(\"pecision:\", precision_score(y_test, y_pred_svm))\n",
        "print(\"recall:\", recall_score(y_test, y_pred_svm)) \n",
        "print(\"f1 score:\", f1_score(y_test, y_pred_svm)) "
      ],
      "execution_count": 68,
      "outputs": [
        {
          "output_type": "stream",
          "text": [
            "              precision    recall  f1-score   support\n",
            "\n",
            "           0       0.96      0.97      0.97      2631\n",
            "           1       0.86      0.80      0.83       526\n",
            "\n",
            "   micro avg       0.95      0.95      0.95      3157\n",
            "   macro avg       0.91      0.89      0.90      3157\n",
            "weighted avg       0.94      0.95      0.94      3157\n",
            "\n",
            "accuracy: 0.9455178967374089\n",
            "pecision: 0.8627049180327869\n",
            "recall: 0.8003802281368821\n",
            "f1 score: 0.8303747534516767\n"
          ],
          "name": "stdout"
        }
      ]
    },
    {
      "metadata": {
        "id": "tTwz6tp4nBrM",
        "colab_type": "code",
        "outputId": "4ffc74b8-9a37-4f0b-c4cb-8467d2963ae3",
        "colab": {
          "base_uri": "https://localhost:8080/",
          "height": 54
        }
      },
      "cell_type": "code",
      "source": [
        "#Quadratic Discriminant Analysis\n",
        "from sklearn.discriminant_analysis import QuadraticDiscriminantAnalysis\n",
        "\n",
        "clf_qda = QuadraticDiscriminantAnalysis()\n",
        "clf_qda.fit(X_train,y_train)"
      ],
      "execution_count": 69,
      "outputs": [
        {
          "output_type": "execute_result",
          "data": {
            "text/plain": [
              "QuadraticDiscriminantAnalysis(priors=None, reg_param=0.0,\n",
              "               store_covariance=False, store_covariances=None, tol=0.0001)"
            ]
          },
          "metadata": {
            "tags": []
          },
          "execution_count": 69
        }
      ]
    },
    {
      "metadata": {
        "id": "ug2q0cJbmyih",
        "colab_type": "code",
        "outputId": "8dbb3a11-142b-4e0f-aaf5-9ef26841a280",
        "colab": {
          "base_uri": "https://localhost:8080/",
          "height": 256
        }
      },
      "cell_type": "code",
      "source": [
        "y_pred_qda = clf_qda.predict(X_test)\n",
        "from sklearn.metrics import accuracy_score, classification_report,recall_score, precision_score, f1_score\n",
        "print(classification_report(y_test, y_pred_qda))\n",
        "print(\"accuracy:\", accuracy_score(y_test, y_pred_qda))\n",
        "print(\"pecision:\", precision_score(y_test, y_pred_qda))\n",
        "print(\"recall:\", recall_score(y_test, y_pred_qda)) \n",
        "print(\"f1 score:\", f1_score(y_test, y_pred_qda)) "
      ],
      "execution_count": 70,
      "outputs": [
        {
          "output_type": "stream",
          "text": [
            "              precision    recall  f1-score   support\n",
            "\n",
            "           0       0.84      0.98      0.91      2631\n",
            "           1       0.50      0.09      0.15       526\n",
            "\n",
            "   micro avg       0.83      0.83      0.83      3157\n",
            "   macro avg       0.67      0.54      0.53      3157\n",
            "weighted avg       0.79      0.83      0.78      3157\n",
            "\n",
            "accuracy: 0.8333861260690529\n",
            "pecision: 0.5\n",
            "recall: 0.08935361216730038\n",
            "f1 score: 0.15161290322580645\n"
          ],
          "name": "stdout"
        }
      ]
    },
    {
      "metadata": {
        "id": "66Mb2rA0oaGj",
        "colab_type": "text"
      },
      "cell_type": "markdown",
      "source": [
        "## RNN"
      ]
    },
    {
      "metadata": {
        "id": "Fxli8nsUoYoG",
        "colab_type": "code",
        "colab": {}
      },
      "cell_type": "code",
      "source": [
        "# Set RNN parameters\n",
        "epochs = 10\n",
        "batch_size = 60\n",
        "max_features = 15000\n",
        "maxlen = 500"
      ],
      "execution_count": 0,
      "outputs": []
    },
    {
      "metadata": {
        "id": "Y0DoYqgd4hqQ",
        "colab_type": "code",
        "colab": {}
      },
      "cell_type": "code",
      "source": [
        "text_data = list(df_upsam[\"reviewText\"])\n",
        "text_label =  list(df_upsam[\"labels\"])"
      ],
      "execution_count": 0,
      "outputs": []
    },
    {
      "metadata": {
        "id": "QyMagr497Xnb",
        "colab_type": "code",
        "outputId": "8dec2c61-7cf5-45b4-9e36-c4793237e9cc",
        "colab": {
          "base_uri": "https://localhost:8080/",
          "height": 54
        }
      },
      "cell_type": "code",
      "source": [
        "print(len(text_data))\n",
        "print(len(text_label))"
      ],
      "execution_count": 75,
      "outputs": [
        {
          "output_type": "stream",
          "text": [
            "9564\n",
            "9564\n"
          ],
          "name": "stdout"
        }
      ]
    },
    {
      "metadata": {
        "id": "VxJxusrM7wSF",
        "colab_type": "code",
        "colab": {}
      },
      "cell_type": "code",
      "source": [
        "import re\n",
        "\n",
        "def clean_text(text_string):\n",
        "    text_string = re.sub(r'([^\\s\\w]|_|[0-9])+', '', text_string)\n",
        "    text_string = \" \".join(text_string.split())\n",
        "    text_string = text_string.lower()\n",
        "    return text_string\n",
        "\n",
        "\n",
        "# Clean texts\n",
        "text_data = [clean_text(x) for x in text_data]\n",
        "\n"
      ],
      "execution_count": 0,
      "outputs": []
    },
    {
      "metadata": {
        "id": "8PzLMTRZ-hSp",
        "colab_type": "code",
        "outputId": "529c5416-f0d5-420b-d671-dcccf2650215",
        "colab": {
          "base_uri": "https://localhost:8080/",
          "height": 72
        }
      },
      "cell_type": "code",
      "source": [
        "from keras.layers import SimpleRNN, Embedding, Dense, LSTM\n",
        "from keras.models import Sequential\n",
        "\n",
        "from keras.preprocessing.text import Tokenizer\n",
        "from keras.preprocessing.sequence import pad_sequences\n",
        "\n",
        "# number of words used as features\n",
        "max_features = 15000\n",
        "# cut off the words after seeing 500 words in each review.\n",
        "maxlen = 500\n",
        "\n",
        "tokenizer = Tokenizer()\n",
        "tokenizer.fit_on_texts(text_data)\n",
        "sequences = tokenizer.texts_to_sequences(text_data)\n",
        "\n",
        "word_index = tokenizer.word_index\n",
        "print(\"Found {0} unique words: \".format(len(word_index)))\n",
        "\n",
        "data = pad_sequences(sequences, maxlen=maxlen)\n",
        "\n",
        "print(\"data shape: \", data.shape)\n",
        "\n",
        "#np.random.seed(42)"
      ],
      "execution_count": 78,
      "outputs": [
        {
          "output_type": "stream",
          "text": [
            "Using TensorFlow backend.\n"
          ],
          "name": "stderr"
        },
        {
          "output_type": "stream",
          "text": [
            "Found 14471 unique words: \n",
            "data shape:  (9564, 500)\n"
          ],
          "name": "stdout"
        }
      ]
    },
    {
      "metadata": {
        "id": "zTP70m2uBOyC",
        "colab_type": "code",
        "colab": {}
      },
      "cell_type": "code",
      "source": [
        "x_train_rnn, x_test_rnn, y_train_rnn, y_test_rnn = train_test_split(data, text_label, test_size=0.33, random_state=np.random.RandomState(), stratify = text_label)"
      ],
      "execution_count": 0,
      "outputs": []
    },
    {
      "metadata": {
        "id": "KBJ2S1gc96MI",
        "colab_type": "code",
        "outputId": "c2823bf3-c749-4ef9-c1cd-1636d7ca307e",
        "colab": {
          "base_uri": "https://localhost:8080/",
          "height": 533
        }
      },
      "cell_type": "code",
      "source": [
        "\n",
        "models = Sequential()\n",
        "models.add(Embedding(max_features, 32))\n",
        "models.add(SimpleRNN(32))\n",
        "models.add(Dense(1, activation='sigmoid'))\n",
        "\n",
        "models.compile(optimizer='rmsprop', loss='binary_crossentropy', metrics=['acc'])\n",
        "history_rnn_new = models.fit(x_train_rnn, y_train_rnn, epochs=10, batch_size=60, validation_split=0.2)"
      ],
      "execution_count": 80,
      "outputs": [
        {
          "output_type": "stream",
          "text": [
            "WARNING:tensorflow:From /usr/local/lib/python3.6/dist-packages/tensorflow/python/framework/op_def_library.py:263: colocate_with (from tensorflow.python.framework.ops) is deprecated and will be removed in a future version.\n",
            "Instructions for updating:\n",
            "Colocations handled automatically by placer.\n",
            "WARNING:tensorflow:From /usr/local/lib/python3.6/dist-packages/tensorflow/python/ops/math_ops.py:3066: to_int32 (from tensorflow.python.ops.math_ops) is deprecated and will be removed in a future version.\n",
            "Instructions for updating:\n",
            "Use tf.cast instead.\n",
            "Train on 5125 samples, validate on 1282 samples\n",
            "Epoch 1/10\n",
            "5125/5125 [==============================] - 8s 2ms/step - loss: 0.4928 - acc: 0.8070 - val_loss: 0.4260 - val_acc: 0.8331\n",
            "Epoch 2/10\n",
            "5125/5125 [==============================] - 7s 1ms/step - loss: 0.2909 - acc: 0.8878 - val_loss: 0.2331 - val_acc: 0.9275\n",
            "Epoch 3/10\n",
            "5125/5125 [==============================] - 7s 1ms/step - loss: 0.1246 - acc: 0.9618 - val_loss: 0.1427 - val_acc: 0.9509\n",
            "Epoch 4/10\n",
            "5125/5125 [==============================] - 8s 1ms/step - loss: 0.0618 - acc: 0.9832 - val_loss: 0.0968 - val_acc: 0.9719\n",
            "Epoch 5/10\n",
            "5125/5125 [==============================] - 7s 1ms/step - loss: 0.0407 - acc: 0.9887 - val_loss: 0.0930 - val_acc: 0.9704\n",
            "Epoch 6/10\n",
            "5125/5125 [==============================] - 7s 1ms/step - loss: 0.0228 - acc: 0.9943 - val_loss: 0.0754 - val_acc: 0.9766\n",
            "Epoch 7/10\n",
            "5125/5125 [==============================] - 7s 1ms/step - loss: 0.0120 - acc: 0.9977 - val_loss: 0.0735 - val_acc: 0.9782\n",
            "Epoch 8/10\n",
            "5125/5125 [==============================] - 7s 1ms/step - loss: 0.0608 - acc: 0.9776 - val_loss: 0.1018 - val_acc: 0.9618\n",
            "Epoch 9/10\n",
            "5125/5125 [==============================] - 7s 1ms/step - loss: 0.0122 - acc: 0.9955 - val_loss: 0.0701 - val_acc: 0.9828\n",
            "Epoch 10/10\n",
            "5125/5125 [==============================] - 7s 1ms/step - loss: 0.0031 - acc: 0.9992 - val_loss: 0.0718 - val_acc: 0.9821\n"
          ],
          "name": "stdout"
        }
      ]
    },
    {
      "metadata": {
        "id": "3JX-Mi5-CUpr",
        "colab_type": "code",
        "outputId": "80edcd10-cde5-44d3-a76e-9c0ea1aa94d6",
        "colab": {
          "base_uri": "https://localhost:8080/",
          "height": 90
        }
      },
      "cell_type": "code",
      "source": [
        "pred = models.predict_classes(x_test_rnn)\n",
        "acc = models.evaluate(x_test_rnn, y_test_rnn)\n",
        "proba_rnn = models.predict_proba(x_test_rnn)\n",
        "from sklearn.metrics import confusion_matrix\n",
        "print(\"Test loss is {0:.2f} accuracy is {1:.2f}  \".format(acc[0],acc[1]))\n",
        "print(confusion_matrix(pred, y_test_rnn))"
      ],
      "execution_count": 81,
      "outputs": [
        {
          "output_type": "stream",
          "text": [
            "3157/3157 [==============================] - 2s 505us/step\n",
            "Test loss is 0.07 accuracy is 0.98  \n",
            "[[2603   34]\n",
            " [  28  492]]\n"
          ],
          "name": "stdout"
        }
      ]
    },
    {
      "metadata": {
        "id": "lLzRP3U7SjA2",
        "colab_type": "code",
        "outputId": "17fe8636-7387-4d17-c237-35fdb420f293",
        "colab": {
          "base_uri": "https://localhost:8080/",
          "height": 256
        }
      },
      "cell_type": "code",
      "source": [
        "from sklearn.metrics import accuracy_score, classification_report,recall_score, precision_score\n",
        "print(classification_report(y_test_rnn, pred))\n",
        "print(\"accuracy:\", accuracy_score(y_test_rnn, pred))\n",
        "print(\"pecision:\", precision_score(y_test_rnn, pred))\n",
        "print(\"recall:\", recall_score(y_test_rnn, pred)) \n",
        "print(\"f1 score:\", f1_score(y_test_rnn, pred)) "
      ],
      "execution_count": 82,
      "outputs": [
        {
          "output_type": "stream",
          "text": [
            "              precision    recall  f1-score   support\n",
            "\n",
            "           0       0.99      0.99      0.99      2631\n",
            "           1       0.95      0.94      0.94       526\n",
            "\n",
            "   micro avg       0.98      0.98      0.98      3157\n",
            "   macro avg       0.97      0.96      0.96      3157\n",
            "weighted avg       0.98      0.98      0.98      3157\n",
            "\n",
            "accuracy: 0.9803611023123219\n",
            "pecision: 0.9461538461538461\n",
            "recall: 0.935361216730038\n",
            "f1 score: 0.9407265774378585\n"
          ],
          "name": "stdout"
        }
      ]
    }
  ]
}